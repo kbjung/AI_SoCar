{
  "nbformat": 4,
  "nbformat_minor": 0,
  "metadata": {
    "celltoolbar": "Raw Cell Format",
    "kernelspec": {
      "display_name": "Python 3",
      "language": "python",
      "name": "python3"
    },
    "language_info": {
      "codemirror_mode": {
        "name": "ipython",
        "version": 3
      },
      "file_extension": ".py",
      "mimetype": "text/x-python",
      "name": "python",
      "nbconvert_exporter": "python",
      "pygments_lexer": "ipython3",
      "version": "3.6.8"
    },
    "colab": {
      "name": "Assignment01.ipynb",
      "provenance": [],
      "collapsed_sections": [],
      "toc_visible": true
    }
  },
  "cells": [
    {
      "cell_type": "markdown",
      "metadata": {
        "id": "y5Zlc0A0wimF"
      },
      "source": [
        "# Assignment01"
      ]
    },
    {
      "cell_type": "markdown",
      "source": [
        "## 라이브러리"
      ],
      "metadata": {
        "id": "sXh3Ycj2wwMQ"
      }
    },
    {
      "cell_type": "code",
      "source": [
        "import pandas as pd\n",
        "from sklearn.ensemble import RandomForestRegressor\n",
        "from lightgbm import LGBMRegressor\n",
        "from sklearn.linear_model import LinearRegression, Ridge\n",
        "from sklearn.metrics import mean_squared_error\n",
        "from sklearn.metrics import mean_absolute_error"
      ],
      "metadata": {
        "id": "8bQ4JV1Rwv0d"
      },
      "execution_count": 70,
      "outputs": []
    },
    {
      "cell_type": "code",
      "source": [
        "import matplotlib.pyplot as plt"
      ],
      "metadata": {
        "id": "_cxvCgzX3JTD"
      },
      "execution_count": 55,
      "outputs": []
    },
    {
      "cell_type": "code",
      "source": [
        "from google.colab import drive\n",
        "drive.mount('/content/drive')"
      ],
      "metadata": {
        "colab": {
          "base_uri": "https://localhost:8080/"
        },
        "id": "7NUuNS7vwjSl",
        "outputId": "57ca44fc-fb95-4603-9bed-4cf8a6eb7fc1"
      },
      "execution_count": 4,
      "outputs": [
        {
          "output_type": "stream",
          "name": "stdout",
          "text": [
            "Drive already mounted at /content/drive; to attempt to forcibly remount, call drive.mount(\"/content/drive\", force_remount=True).\n"
          ]
        }
      ]
    },
    {
      "cell_type": "code",
      "metadata": {
        "id": "THzp4Jbj2_WJ",
        "colab": {
          "base_uri": "https://localhost:8080/"
        },
        "outputId": "83a0cb72-0328-41a6-a9d1-de5a7fe91028"
      },
      "source": [
        "tada_eta = pd.read_excel('/content/drive/MyDrive/프로그래밍_교육/쏘카 ai 엔지니어 육성 부트캠프 2기/강의/assignment01/tada_eta.xlsx')\n",
        "tada_eta.info()"
      ],
      "execution_count": 112,
      "outputs": [
        {
          "output_type": "stream",
          "name": "stdout",
          "text": [
            "<class 'pandas.core.frame.DataFrame'>\n",
            "RangeIndex: 13916 entries, 0 to 13915\n",
            "Data columns (total 12 columns):\n",
            " #   Column          Non-Null Count  Dtype  \n",
            "---  ------          --------------  -----  \n",
            " 0   ATA             13916 non-null  float64\n",
            " 1   id              13916 non-null  object \n",
            " 2   api_eta         13916 non-null  float64\n",
            " 3   created_at_kst  13916 non-null  object \n",
            " 4   month           13916 non-null  int64  \n",
            " 5   pickup_lng      13916 non-null  float64\n",
            " 6   pickup_lat      13916 non-null  float64\n",
            " 7   pickup_gu       13916 non-null  object \n",
            " 8   driver_id       13916 non-null  object \n",
            " 9   driver_lng      13916 non-null  float64\n",
            " 10  driver_lat      13916 non-null  float64\n",
            " 11  hour            13916 non-null  int64  \n",
            "dtypes: float64(6), int64(2), object(4)\n",
            "memory usage: 1.3+ MB\n"
          ]
        }
      ]
    },
    {
      "cell_type": "markdown",
      "source": [
        "## EDA"
      ],
      "metadata": {
        "id": "bEMNY623GKze"
      }
    },
    {
      "cell_type": "code",
      "source": [
        "tada_eta.describe()"
      ],
      "metadata": {
        "colab": {
          "base_uri": "https://localhost:8080/",
          "height": 300
        },
        "id": "Brnzja7D92LQ",
        "outputId": "120e52bf-962c-4511-fc64-7135e33d26e6"
      },
      "execution_count": 106,
      "outputs": [
        {
          "output_type": "execute_result",
          "data": {
            "text/plain": [
              "                ATA       api_eta         month    pickup_lng    pickup_lat  \\\n",
              "count  13916.000000  13916.000000  13916.000000  13916.000000  13916.000000   \n",
              "mean       8.386438      6.172346     10.146019    127.002390     37.527512   \n",
              "std        4.094109      3.151074      2.415177      0.057423      0.031143   \n",
              "min        0.430000      0.000000      7.000000    126.798391     37.439779   \n",
              "25%        5.470000      3.800000      7.000000    126.969020     37.503890   \n",
              "50%        7.780000      5.950000     12.000000    127.013602     37.523343   \n",
              "75%       10.520000      8.180000     12.000000    127.040485     37.551443   \n",
              "max       44.780000     25.280000     12.000000    127.174993     37.686526   \n",
              "\n",
              "         driver_lng    driver_lat          hour  \n",
              "count  13916.000000  13916.000000  13916.000000  \n",
              "mean     126.956952     37.514084     13.278672  \n",
              "std        2.407714      0.711941      6.971578  \n",
              "min        0.000000      0.000000      0.000000  \n",
              "25%      126.967620     37.503930      8.000000  \n",
              "50%      127.013432     37.522791     14.000000  \n",
              "75%      127.041342     37.551953     19.000000  \n",
              "max      127.174070     37.683888     23.000000  "
            ],
            "text/html": [
              "\n",
              "  <div id=\"df-7889c5c0-1312-436f-b21a-a8ca021a108c\">\n",
              "    <div class=\"colab-df-container\">\n",
              "      <div>\n",
              "<style scoped>\n",
              "    .dataframe tbody tr th:only-of-type {\n",
              "        vertical-align: middle;\n",
              "    }\n",
              "\n",
              "    .dataframe tbody tr th {\n",
              "        vertical-align: top;\n",
              "    }\n",
              "\n",
              "    .dataframe thead th {\n",
              "        text-align: right;\n",
              "    }\n",
              "</style>\n",
              "<table border=\"1\" class=\"dataframe\">\n",
              "  <thead>\n",
              "    <tr style=\"text-align: right;\">\n",
              "      <th></th>\n",
              "      <th>ATA</th>\n",
              "      <th>api_eta</th>\n",
              "      <th>month</th>\n",
              "      <th>pickup_lng</th>\n",
              "      <th>pickup_lat</th>\n",
              "      <th>driver_lng</th>\n",
              "      <th>driver_lat</th>\n",
              "      <th>hour</th>\n",
              "    </tr>\n",
              "  </thead>\n",
              "  <tbody>\n",
              "    <tr>\n",
              "      <th>count</th>\n",
              "      <td>13916.000000</td>\n",
              "      <td>13916.000000</td>\n",
              "      <td>13916.000000</td>\n",
              "      <td>13916.000000</td>\n",
              "      <td>13916.000000</td>\n",
              "      <td>13916.000000</td>\n",
              "      <td>13916.000000</td>\n",
              "      <td>13916.000000</td>\n",
              "    </tr>\n",
              "    <tr>\n",
              "      <th>mean</th>\n",
              "      <td>8.386438</td>\n",
              "      <td>6.172346</td>\n",
              "      <td>10.146019</td>\n",
              "      <td>127.002390</td>\n",
              "      <td>37.527512</td>\n",
              "      <td>126.956952</td>\n",
              "      <td>37.514084</td>\n",
              "      <td>13.278672</td>\n",
              "    </tr>\n",
              "    <tr>\n",
              "      <th>std</th>\n",
              "      <td>4.094109</td>\n",
              "      <td>3.151074</td>\n",
              "      <td>2.415177</td>\n",
              "      <td>0.057423</td>\n",
              "      <td>0.031143</td>\n",
              "      <td>2.407714</td>\n",
              "      <td>0.711941</td>\n",
              "      <td>6.971578</td>\n",
              "    </tr>\n",
              "    <tr>\n",
              "      <th>min</th>\n",
              "      <td>0.430000</td>\n",
              "      <td>0.000000</td>\n",
              "      <td>7.000000</td>\n",
              "      <td>126.798391</td>\n",
              "      <td>37.439779</td>\n",
              "      <td>0.000000</td>\n",
              "      <td>0.000000</td>\n",
              "      <td>0.000000</td>\n",
              "    </tr>\n",
              "    <tr>\n",
              "      <th>25%</th>\n",
              "      <td>5.470000</td>\n",
              "      <td>3.800000</td>\n",
              "      <td>7.000000</td>\n",
              "      <td>126.969020</td>\n",
              "      <td>37.503890</td>\n",
              "      <td>126.967620</td>\n",
              "      <td>37.503930</td>\n",
              "      <td>8.000000</td>\n",
              "    </tr>\n",
              "    <tr>\n",
              "      <th>50%</th>\n",
              "      <td>7.780000</td>\n",
              "      <td>5.950000</td>\n",
              "      <td>12.000000</td>\n",
              "      <td>127.013602</td>\n",
              "      <td>37.523343</td>\n",
              "      <td>127.013432</td>\n",
              "      <td>37.522791</td>\n",
              "      <td>14.000000</td>\n",
              "    </tr>\n",
              "    <tr>\n",
              "      <th>75%</th>\n",
              "      <td>10.520000</td>\n",
              "      <td>8.180000</td>\n",
              "      <td>12.000000</td>\n",
              "      <td>127.040485</td>\n",
              "      <td>37.551443</td>\n",
              "      <td>127.041342</td>\n",
              "      <td>37.551953</td>\n",
              "      <td>19.000000</td>\n",
              "    </tr>\n",
              "    <tr>\n",
              "      <th>max</th>\n",
              "      <td>44.780000</td>\n",
              "      <td>25.280000</td>\n",
              "      <td>12.000000</td>\n",
              "      <td>127.174993</td>\n",
              "      <td>37.686526</td>\n",
              "      <td>127.174070</td>\n",
              "      <td>37.683888</td>\n",
              "      <td>23.000000</td>\n",
              "    </tr>\n",
              "  </tbody>\n",
              "</table>\n",
              "</div>\n",
              "      <button class=\"colab-df-convert\" onclick=\"convertToInteractive('df-7889c5c0-1312-436f-b21a-a8ca021a108c')\"\n",
              "              title=\"Convert this dataframe to an interactive table.\"\n",
              "              style=\"display:none;\">\n",
              "        \n",
              "  <svg xmlns=\"http://www.w3.org/2000/svg\" height=\"24px\"viewBox=\"0 0 24 24\"\n",
              "       width=\"24px\">\n",
              "    <path d=\"M0 0h24v24H0V0z\" fill=\"none\"/>\n",
              "    <path d=\"M18.56 5.44l.94 2.06.94-2.06 2.06-.94-2.06-.94-.94-2.06-.94 2.06-2.06.94zm-11 1L8.5 8.5l.94-2.06 2.06-.94-2.06-.94L8.5 2.5l-.94 2.06-2.06.94zm10 10l.94 2.06.94-2.06 2.06-.94-2.06-.94-.94-2.06-.94 2.06-2.06.94z\"/><path d=\"M17.41 7.96l-1.37-1.37c-.4-.4-.92-.59-1.43-.59-.52 0-1.04.2-1.43.59L10.3 9.45l-7.72 7.72c-.78.78-.78 2.05 0 2.83L4 21.41c.39.39.9.59 1.41.59.51 0 1.02-.2 1.41-.59l7.78-7.78 2.81-2.81c.8-.78.8-2.07 0-2.86zM5.41 20L4 18.59l7.72-7.72 1.47 1.35L5.41 20z\"/>\n",
              "  </svg>\n",
              "      </button>\n",
              "      \n",
              "  <style>\n",
              "    .colab-df-container {\n",
              "      display:flex;\n",
              "      flex-wrap:wrap;\n",
              "      gap: 12px;\n",
              "    }\n",
              "\n",
              "    .colab-df-convert {\n",
              "      background-color: #E8F0FE;\n",
              "      border: none;\n",
              "      border-radius: 50%;\n",
              "      cursor: pointer;\n",
              "      display: none;\n",
              "      fill: #1967D2;\n",
              "      height: 32px;\n",
              "      padding: 0 0 0 0;\n",
              "      width: 32px;\n",
              "    }\n",
              "\n",
              "    .colab-df-convert:hover {\n",
              "      background-color: #E2EBFA;\n",
              "      box-shadow: 0px 1px 2px rgba(60, 64, 67, 0.3), 0px 1px 3px 1px rgba(60, 64, 67, 0.15);\n",
              "      fill: #174EA6;\n",
              "    }\n",
              "\n",
              "    [theme=dark] .colab-df-convert {\n",
              "      background-color: #3B4455;\n",
              "      fill: #D2E3FC;\n",
              "    }\n",
              "\n",
              "    [theme=dark] .colab-df-convert:hover {\n",
              "      background-color: #434B5C;\n",
              "      box-shadow: 0px 1px 3px 1px rgba(0, 0, 0, 0.15);\n",
              "      filter: drop-shadow(0px 1px 2px rgba(0, 0, 0, 0.3));\n",
              "      fill: #FFFFFF;\n",
              "    }\n",
              "  </style>\n",
              "\n",
              "      <script>\n",
              "        const buttonEl =\n",
              "          document.querySelector('#df-7889c5c0-1312-436f-b21a-a8ca021a108c button.colab-df-convert');\n",
              "        buttonEl.style.display =\n",
              "          google.colab.kernel.accessAllowed ? 'block' : 'none';\n",
              "\n",
              "        async function convertToInteractive(key) {\n",
              "          const element = document.querySelector('#df-7889c5c0-1312-436f-b21a-a8ca021a108c');\n",
              "          const dataTable =\n",
              "            await google.colab.kernel.invokeFunction('convertToInteractive',\n",
              "                                                     [key], {});\n",
              "          if (!dataTable) return;\n",
              "\n",
              "          const docLinkHtml = 'Like what you see? Visit the ' +\n",
              "            '<a target=\"_blank\" href=https://colab.research.google.com/notebooks/data_table.ipynb>data table notebook</a>'\n",
              "            + ' to learn more about interactive tables.';\n",
              "          element.innerHTML = '';\n",
              "          dataTable['output_type'] = 'display_data';\n",
              "          await google.colab.output.renderOutput(dataTable, element);\n",
              "          const docLink = document.createElement('div');\n",
              "          docLink.innerHTML = docLinkHtml;\n",
              "          element.appendChild(docLink);\n",
              "        }\n",
              "      </script>\n",
              "    </div>\n",
              "  </div>\n",
              "  "
            ]
          },
          "metadata": {},
          "execution_count": 106
        }
      ]
    },
    {
      "cell_type": "code",
      "source": [
        "tada_eta.head()"
      ],
      "metadata": {
        "colab": {
          "base_uri": "https://localhost:8080/",
          "height": 206
        },
        "id": "L-EFXTLqxCOO",
        "outputId": "3d6256ef-6f6b-4ade-9a8c-70c07b4ad470"
      },
      "execution_count": 108,
      "outputs": [
        {
          "output_type": "execute_result",
          "data": {
            "text/plain": [
              "     ATA              id  api_eta       created_at_kst  month  pickup_lng  \\\n",
              "0  10.60  R4L9FL6NVEL4D0     5.65  2019-12-01T00:55:09     12  127.091399   \n",
              "1   9.20  R3A7JBY7CS6TPD     8.60  2019-12-01T00:09:39     12  127.023351   \n",
              "2  10.85  R2BIUY1TDK14XE    10.53  2019-12-15T00:18:42     12  126.881154   \n",
              "3   5.52  R31PU5GNHSGU6C     1.92  2019-07-31T00:24:11      7  126.988375   \n",
              "4   8.60  R41WR6N1VT42DJ     7.10  2019-07-05T00:40:34      7  126.988684   \n",
              "\n",
              "   pickup_lat pickup_gu driver_id  driver_lng  driver_lat  hour  \n",
              "0   37.624545       노원구  DST52944  127.069978   37.616472     0  \n",
              "1   37.625564       강북구  DPC72995  127.026479   37.604711     0  \n",
              "2   37.481641       금천구  DPP94923  126.906225   37.452167     0  \n",
              "3   37.567897        중구  DCT73585  126.991170   37.566416     0  \n",
              "4   37.566716        중구  DPJ86237  127.006860   37.571164     0  "
            ],
            "text/html": [
              "\n",
              "  <div id=\"df-640306b4-a19e-4cfd-b026-8813d405fc82\">\n",
              "    <div class=\"colab-df-container\">\n",
              "      <div>\n",
              "<style scoped>\n",
              "    .dataframe tbody tr th:only-of-type {\n",
              "        vertical-align: middle;\n",
              "    }\n",
              "\n",
              "    .dataframe tbody tr th {\n",
              "        vertical-align: top;\n",
              "    }\n",
              "\n",
              "    .dataframe thead th {\n",
              "        text-align: right;\n",
              "    }\n",
              "</style>\n",
              "<table border=\"1\" class=\"dataframe\">\n",
              "  <thead>\n",
              "    <tr style=\"text-align: right;\">\n",
              "      <th></th>\n",
              "      <th>ATA</th>\n",
              "      <th>id</th>\n",
              "      <th>api_eta</th>\n",
              "      <th>created_at_kst</th>\n",
              "      <th>month</th>\n",
              "      <th>pickup_lng</th>\n",
              "      <th>pickup_lat</th>\n",
              "      <th>pickup_gu</th>\n",
              "      <th>driver_id</th>\n",
              "      <th>driver_lng</th>\n",
              "      <th>driver_lat</th>\n",
              "      <th>hour</th>\n",
              "    </tr>\n",
              "  </thead>\n",
              "  <tbody>\n",
              "    <tr>\n",
              "      <th>0</th>\n",
              "      <td>10.60</td>\n",
              "      <td>R4L9FL6NVEL4D0</td>\n",
              "      <td>5.65</td>\n",
              "      <td>2019-12-01T00:55:09</td>\n",
              "      <td>12</td>\n",
              "      <td>127.091399</td>\n",
              "      <td>37.624545</td>\n",
              "      <td>노원구</td>\n",
              "      <td>DST52944</td>\n",
              "      <td>127.069978</td>\n",
              "      <td>37.616472</td>\n",
              "      <td>0</td>\n",
              "    </tr>\n",
              "    <tr>\n",
              "      <th>1</th>\n",
              "      <td>9.20</td>\n",
              "      <td>R3A7JBY7CS6TPD</td>\n",
              "      <td>8.60</td>\n",
              "      <td>2019-12-01T00:09:39</td>\n",
              "      <td>12</td>\n",
              "      <td>127.023351</td>\n",
              "      <td>37.625564</td>\n",
              "      <td>강북구</td>\n",
              "      <td>DPC72995</td>\n",
              "      <td>127.026479</td>\n",
              "      <td>37.604711</td>\n",
              "      <td>0</td>\n",
              "    </tr>\n",
              "    <tr>\n",
              "      <th>2</th>\n",
              "      <td>10.85</td>\n",
              "      <td>R2BIUY1TDK14XE</td>\n",
              "      <td>10.53</td>\n",
              "      <td>2019-12-15T00:18:42</td>\n",
              "      <td>12</td>\n",
              "      <td>126.881154</td>\n",
              "      <td>37.481641</td>\n",
              "      <td>금천구</td>\n",
              "      <td>DPP94923</td>\n",
              "      <td>126.906225</td>\n",
              "      <td>37.452167</td>\n",
              "      <td>0</td>\n",
              "    </tr>\n",
              "    <tr>\n",
              "      <th>3</th>\n",
              "      <td>5.52</td>\n",
              "      <td>R31PU5GNHSGU6C</td>\n",
              "      <td>1.92</td>\n",
              "      <td>2019-07-31T00:24:11</td>\n",
              "      <td>7</td>\n",
              "      <td>126.988375</td>\n",
              "      <td>37.567897</td>\n",
              "      <td>중구</td>\n",
              "      <td>DCT73585</td>\n",
              "      <td>126.991170</td>\n",
              "      <td>37.566416</td>\n",
              "      <td>0</td>\n",
              "    </tr>\n",
              "    <tr>\n",
              "      <th>4</th>\n",
              "      <td>8.60</td>\n",
              "      <td>R41WR6N1VT42DJ</td>\n",
              "      <td>7.10</td>\n",
              "      <td>2019-07-05T00:40:34</td>\n",
              "      <td>7</td>\n",
              "      <td>126.988684</td>\n",
              "      <td>37.566716</td>\n",
              "      <td>중구</td>\n",
              "      <td>DPJ86237</td>\n",
              "      <td>127.006860</td>\n",
              "      <td>37.571164</td>\n",
              "      <td>0</td>\n",
              "    </tr>\n",
              "  </tbody>\n",
              "</table>\n",
              "</div>\n",
              "      <button class=\"colab-df-convert\" onclick=\"convertToInteractive('df-640306b4-a19e-4cfd-b026-8813d405fc82')\"\n",
              "              title=\"Convert this dataframe to an interactive table.\"\n",
              "              style=\"display:none;\">\n",
              "        \n",
              "  <svg xmlns=\"http://www.w3.org/2000/svg\" height=\"24px\"viewBox=\"0 0 24 24\"\n",
              "       width=\"24px\">\n",
              "    <path d=\"M0 0h24v24H0V0z\" fill=\"none\"/>\n",
              "    <path d=\"M18.56 5.44l.94 2.06.94-2.06 2.06-.94-2.06-.94-.94-2.06-.94 2.06-2.06.94zm-11 1L8.5 8.5l.94-2.06 2.06-.94-2.06-.94L8.5 2.5l-.94 2.06-2.06.94zm10 10l.94 2.06.94-2.06 2.06-.94-2.06-.94-.94-2.06-.94 2.06-2.06.94z\"/><path d=\"M17.41 7.96l-1.37-1.37c-.4-.4-.92-.59-1.43-.59-.52 0-1.04.2-1.43.59L10.3 9.45l-7.72 7.72c-.78.78-.78 2.05 0 2.83L4 21.41c.39.39.9.59 1.41.59.51 0 1.02-.2 1.41-.59l7.78-7.78 2.81-2.81c.8-.78.8-2.07 0-2.86zM5.41 20L4 18.59l7.72-7.72 1.47 1.35L5.41 20z\"/>\n",
              "  </svg>\n",
              "      </button>\n",
              "      \n",
              "  <style>\n",
              "    .colab-df-container {\n",
              "      display:flex;\n",
              "      flex-wrap:wrap;\n",
              "      gap: 12px;\n",
              "    }\n",
              "\n",
              "    .colab-df-convert {\n",
              "      background-color: #E8F0FE;\n",
              "      border: none;\n",
              "      border-radius: 50%;\n",
              "      cursor: pointer;\n",
              "      display: none;\n",
              "      fill: #1967D2;\n",
              "      height: 32px;\n",
              "      padding: 0 0 0 0;\n",
              "      width: 32px;\n",
              "    }\n",
              "\n",
              "    .colab-df-convert:hover {\n",
              "      background-color: #E2EBFA;\n",
              "      box-shadow: 0px 1px 2px rgba(60, 64, 67, 0.3), 0px 1px 3px 1px rgba(60, 64, 67, 0.15);\n",
              "      fill: #174EA6;\n",
              "    }\n",
              "\n",
              "    [theme=dark] .colab-df-convert {\n",
              "      background-color: #3B4455;\n",
              "      fill: #D2E3FC;\n",
              "    }\n",
              "\n",
              "    [theme=dark] .colab-df-convert:hover {\n",
              "      background-color: #434B5C;\n",
              "      box-shadow: 0px 1px 3px 1px rgba(0, 0, 0, 0.15);\n",
              "      filter: drop-shadow(0px 1px 2px rgba(0, 0, 0, 0.3));\n",
              "      fill: #FFFFFF;\n",
              "    }\n",
              "  </style>\n",
              "\n",
              "      <script>\n",
              "        const buttonEl =\n",
              "          document.querySelector('#df-640306b4-a19e-4cfd-b026-8813d405fc82 button.colab-df-convert');\n",
              "        buttonEl.style.display =\n",
              "          google.colab.kernel.accessAllowed ? 'block' : 'none';\n",
              "\n",
              "        async function convertToInteractive(key) {\n",
              "          const element = document.querySelector('#df-640306b4-a19e-4cfd-b026-8813d405fc82');\n",
              "          const dataTable =\n",
              "            await google.colab.kernel.invokeFunction('convertToInteractive',\n",
              "                                                     [key], {});\n",
              "          if (!dataTable) return;\n",
              "\n",
              "          const docLinkHtml = 'Like what you see? Visit the ' +\n",
              "            '<a target=\"_blank\" href=https://colab.research.google.com/notebooks/data_table.ipynb>data table notebook</a>'\n",
              "            + ' to learn more about interactive tables.';\n",
              "          element.innerHTML = '';\n",
              "          dataTable['output_type'] = 'display_data';\n",
              "          await google.colab.output.renderOutput(dataTable, element);\n",
              "          const docLink = document.createElement('div');\n",
              "          docLink.innerHTML = docLinkHtml;\n",
              "          element.appendChild(docLink);\n",
              "        }\n",
              "      </script>\n",
              "    </div>\n",
              "  </div>\n",
              "  "
            ]
          },
          "metadata": {},
          "execution_count": 108
        }
      ]
    },
    {
      "cell_type": "code",
      "source": [
        "tada_eta['distance'] = ( (tada_eta['pickup_lat']-tada_eta['driver_lat'])**2 + (tada_eta['pickup_lng']-tada_eta['driver_lng'])**2 )*100000\n",
        "tada_eta = tada_eta.drop(['id', 'created_at_kst', 'driver_id', 'pickup_lng', 'pickup_lat', 'driver_lng','driver_lat','pickup_gu'],1)\n",
        "tada_eta.head()"
      ],
      "metadata": {
        "colab": {
          "base_uri": "https://localhost:8080/",
          "height": 264
        },
        "id": "9xThoNkx_2bT",
        "outputId": "416cd0b2-273f-4cb3-e2d6-ee7f5bb2e8e7"
      },
      "execution_count": 113,
      "outputs": [
        {
          "output_type": "stream",
          "name": "stderr",
          "text": [
            "/usr/local/lib/python3.7/dist-packages/ipykernel_launcher.py:2: FutureWarning: In a future version of pandas all arguments of DataFrame.drop except for the argument 'labels' will be keyword-only\n",
            "  \n"
          ]
        },
        {
          "output_type": "execute_result",
          "data": {
            "text/plain": [
              "     ATA  api_eta  month  hour    distance\n",
              "0  10.60     5.65     12     0   52.400202\n",
              "1   9.20     8.60     12     0   44.465889\n",
              "2  10.85    10.53     12     0  149.731535\n",
              "3   5.52     1.92      7     0    1.000535\n",
              "4   8.60     7.10      7     0   35.014797"
            ],
            "text/html": [
              "\n",
              "  <div id=\"df-aed22e9a-9cfa-42f4-9a79-30da69d60988\">\n",
              "    <div class=\"colab-df-container\">\n",
              "      <div>\n",
              "<style scoped>\n",
              "    .dataframe tbody tr th:only-of-type {\n",
              "        vertical-align: middle;\n",
              "    }\n",
              "\n",
              "    .dataframe tbody tr th {\n",
              "        vertical-align: top;\n",
              "    }\n",
              "\n",
              "    .dataframe thead th {\n",
              "        text-align: right;\n",
              "    }\n",
              "</style>\n",
              "<table border=\"1\" class=\"dataframe\">\n",
              "  <thead>\n",
              "    <tr style=\"text-align: right;\">\n",
              "      <th></th>\n",
              "      <th>ATA</th>\n",
              "      <th>api_eta</th>\n",
              "      <th>month</th>\n",
              "      <th>hour</th>\n",
              "      <th>distance</th>\n",
              "    </tr>\n",
              "  </thead>\n",
              "  <tbody>\n",
              "    <tr>\n",
              "      <th>0</th>\n",
              "      <td>10.60</td>\n",
              "      <td>5.65</td>\n",
              "      <td>12</td>\n",
              "      <td>0</td>\n",
              "      <td>52.400202</td>\n",
              "    </tr>\n",
              "    <tr>\n",
              "      <th>1</th>\n",
              "      <td>9.20</td>\n",
              "      <td>8.60</td>\n",
              "      <td>12</td>\n",
              "      <td>0</td>\n",
              "      <td>44.465889</td>\n",
              "    </tr>\n",
              "    <tr>\n",
              "      <th>2</th>\n",
              "      <td>10.85</td>\n",
              "      <td>10.53</td>\n",
              "      <td>12</td>\n",
              "      <td>0</td>\n",
              "      <td>149.731535</td>\n",
              "    </tr>\n",
              "    <tr>\n",
              "      <th>3</th>\n",
              "      <td>5.52</td>\n",
              "      <td>1.92</td>\n",
              "      <td>7</td>\n",
              "      <td>0</td>\n",
              "      <td>1.000535</td>\n",
              "    </tr>\n",
              "    <tr>\n",
              "      <th>4</th>\n",
              "      <td>8.60</td>\n",
              "      <td>7.10</td>\n",
              "      <td>7</td>\n",
              "      <td>0</td>\n",
              "      <td>35.014797</td>\n",
              "    </tr>\n",
              "  </tbody>\n",
              "</table>\n",
              "</div>\n",
              "      <button class=\"colab-df-convert\" onclick=\"convertToInteractive('df-aed22e9a-9cfa-42f4-9a79-30da69d60988')\"\n",
              "              title=\"Convert this dataframe to an interactive table.\"\n",
              "              style=\"display:none;\">\n",
              "        \n",
              "  <svg xmlns=\"http://www.w3.org/2000/svg\" height=\"24px\"viewBox=\"0 0 24 24\"\n",
              "       width=\"24px\">\n",
              "    <path d=\"M0 0h24v24H0V0z\" fill=\"none\"/>\n",
              "    <path d=\"M18.56 5.44l.94 2.06.94-2.06 2.06-.94-2.06-.94-.94-2.06-.94 2.06-2.06.94zm-11 1L8.5 8.5l.94-2.06 2.06-.94-2.06-.94L8.5 2.5l-.94 2.06-2.06.94zm10 10l.94 2.06.94-2.06 2.06-.94-2.06-.94-.94-2.06-.94 2.06-2.06.94z\"/><path d=\"M17.41 7.96l-1.37-1.37c-.4-.4-.92-.59-1.43-.59-.52 0-1.04.2-1.43.59L10.3 9.45l-7.72 7.72c-.78.78-.78 2.05 0 2.83L4 21.41c.39.39.9.59 1.41.59.51 0 1.02-.2 1.41-.59l7.78-7.78 2.81-2.81c.8-.78.8-2.07 0-2.86zM5.41 20L4 18.59l7.72-7.72 1.47 1.35L5.41 20z\"/>\n",
              "  </svg>\n",
              "      </button>\n",
              "      \n",
              "  <style>\n",
              "    .colab-df-container {\n",
              "      display:flex;\n",
              "      flex-wrap:wrap;\n",
              "      gap: 12px;\n",
              "    }\n",
              "\n",
              "    .colab-df-convert {\n",
              "      background-color: #E8F0FE;\n",
              "      border: none;\n",
              "      border-radius: 50%;\n",
              "      cursor: pointer;\n",
              "      display: none;\n",
              "      fill: #1967D2;\n",
              "      height: 32px;\n",
              "      padding: 0 0 0 0;\n",
              "      width: 32px;\n",
              "    }\n",
              "\n",
              "    .colab-df-convert:hover {\n",
              "      background-color: #E2EBFA;\n",
              "      box-shadow: 0px 1px 2px rgba(60, 64, 67, 0.3), 0px 1px 3px 1px rgba(60, 64, 67, 0.15);\n",
              "      fill: #174EA6;\n",
              "    }\n",
              "\n",
              "    [theme=dark] .colab-df-convert {\n",
              "      background-color: #3B4455;\n",
              "      fill: #D2E3FC;\n",
              "    }\n",
              "\n",
              "    [theme=dark] .colab-df-convert:hover {\n",
              "      background-color: #434B5C;\n",
              "      box-shadow: 0px 1px 3px 1px rgba(0, 0, 0, 0.15);\n",
              "      filter: drop-shadow(0px 1px 2px rgba(0, 0, 0, 0.3));\n",
              "      fill: #FFFFFF;\n",
              "    }\n",
              "  </style>\n",
              "\n",
              "      <script>\n",
              "        const buttonEl =\n",
              "          document.querySelector('#df-aed22e9a-9cfa-42f4-9a79-30da69d60988 button.colab-df-convert');\n",
              "        buttonEl.style.display =\n",
              "          google.colab.kernel.accessAllowed ? 'block' : 'none';\n",
              "\n",
              "        async function convertToInteractive(key) {\n",
              "          const element = document.querySelector('#df-aed22e9a-9cfa-42f4-9a79-30da69d60988');\n",
              "          const dataTable =\n",
              "            await google.colab.kernel.invokeFunction('convertToInteractive',\n",
              "                                                     [key], {});\n",
              "          if (!dataTable) return;\n",
              "\n",
              "          const docLinkHtml = 'Like what you see? Visit the ' +\n",
              "            '<a target=\"_blank\" href=https://colab.research.google.com/notebooks/data_table.ipynb>data table notebook</a>'\n",
              "            + ' to learn more about interactive tables.';\n",
              "          element.innerHTML = '';\n",
              "          dataTable['output_type'] = 'display_data';\n",
              "          await google.colab.output.renderOutput(dataTable, element);\n",
              "          const docLink = document.createElement('div');\n",
              "          docLink.innerHTML = docLinkHtml;\n",
              "          element.appendChild(docLink);\n",
              "        }\n",
              "      </script>\n",
              "    </div>\n",
              "  </div>\n",
              "  "
            ]
          },
          "metadata": {},
          "execution_count": 113
        }
      ]
    },
    {
      "cell_type": "code",
      "source": [
        "tada_eta.info()"
      ],
      "metadata": {
        "colab": {
          "base_uri": "https://localhost:8080/"
        },
        "id": "BSS0yapTxHiB",
        "outputId": "8eff815f-5c44-446d-cf9b-5a5e413afe5a"
      },
      "execution_count": 132,
      "outputs": [
        {
          "output_type": "stream",
          "name": "stdout",
          "text": [
            "<class 'pandas.core.frame.DataFrame'>\n",
            "RangeIndex: 13916 entries, 0 to 13915\n",
            "Data columns (total 5 columns):\n",
            " #   Column    Non-Null Count  Dtype  \n",
            "---  ------    --------------  -----  \n",
            " 0   ATA       13916 non-null  float64\n",
            " 1   api_eta   13916 non-null  float64\n",
            " 2   month     13916 non-null  int64  \n",
            " 3   hour      13916 non-null  int64  \n",
            " 4   distance  13916 non-null  float64\n",
            "dtypes: float64(3), int64(2)\n",
            "memory usage: 543.7 KB\n"
          ]
        }
      ]
    },
    {
      "cell_type": "markdown",
      "source": [
        "### 상관계수"
      ],
      "metadata": {
        "id": "921F3PSGGNBr"
      }
    },
    {
      "cell_type": "code",
      "source": [
        "tada_eta.corr()"
      ],
      "metadata": {
        "colab": {
          "base_uri": "https://localhost:8080/",
          "height": 206
        },
        "id": "d3IVRSz8AHyc",
        "outputId": "88e632fa-0332-4e9b-a13b-75fe92288d8f"
      },
      "execution_count": 133,
      "outputs": [
        {
          "output_type": "execute_result",
          "data": {
            "text/plain": [
              "               ATA   api_eta     month      hour  distance\n",
              "ATA       1.000000  0.699267 -0.084542  0.038504 -0.029074\n",
              "api_eta   0.699267  1.000000 -0.129561  0.050434 -0.023683\n",
              "month    -0.084542 -0.129561  1.000000  0.017370  0.006704\n",
              "hour      0.038504  0.050434  0.017370  1.000000 -0.005650\n",
              "distance -0.029074 -0.023683  0.006704 -0.005650  1.000000"
            ],
            "text/html": [
              "\n",
              "  <div id=\"df-254825b5-0a49-440d-aca7-3045f4a2d25b\">\n",
              "    <div class=\"colab-df-container\">\n",
              "      <div>\n",
              "<style scoped>\n",
              "    .dataframe tbody tr th:only-of-type {\n",
              "        vertical-align: middle;\n",
              "    }\n",
              "\n",
              "    .dataframe tbody tr th {\n",
              "        vertical-align: top;\n",
              "    }\n",
              "\n",
              "    .dataframe thead th {\n",
              "        text-align: right;\n",
              "    }\n",
              "</style>\n",
              "<table border=\"1\" class=\"dataframe\">\n",
              "  <thead>\n",
              "    <tr style=\"text-align: right;\">\n",
              "      <th></th>\n",
              "      <th>ATA</th>\n",
              "      <th>api_eta</th>\n",
              "      <th>month</th>\n",
              "      <th>hour</th>\n",
              "      <th>distance</th>\n",
              "    </tr>\n",
              "  </thead>\n",
              "  <tbody>\n",
              "    <tr>\n",
              "      <th>ATA</th>\n",
              "      <td>1.000000</td>\n",
              "      <td>0.699267</td>\n",
              "      <td>-0.084542</td>\n",
              "      <td>0.038504</td>\n",
              "      <td>-0.029074</td>\n",
              "    </tr>\n",
              "    <tr>\n",
              "      <th>api_eta</th>\n",
              "      <td>0.699267</td>\n",
              "      <td>1.000000</td>\n",
              "      <td>-0.129561</td>\n",
              "      <td>0.050434</td>\n",
              "      <td>-0.023683</td>\n",
              "    </tr>\n",
              "    <tr>\n",
              "      <th>month</th>\n",
              "      <td>-0.084542</td>\n",
              "      <td>-0.129561</td>\n",
              "      <td>1.000000</td>\n",
              "      <td>0.017370</td>\n",
              "      <td>0.006704</td>\n",
              "    </tr>\n",
              "    <tr>\n",
              "      <th>hour</th>\n",
              "      <td>0.038504</td>\n",
              "      <td>0.050434</td>\n",
              "      <td>0.017370</td>\n",
              "      <td>1.000000</td>\n",
              "      <td>-0.005650</td>\n",
              "    </tr>\n",
              "    <tr>\n",
              "      <th>distance</th>\n",
              "      <td>-0.029074</td>\n",
              "      <td>-0.023683</td>\n",
              "      <td>0.006704</td>\n",
              "      <td>-0.005650</td>\n",
              "      <td>1.000000</td>\n",
              "    </tr>\n",
              "  </tbody>\n",
              "</table>\n",
              "</div>\n",
              "      <button class=\"colab-df-convert\" onclick=\"convertToInteractive('df-254825b5-0a49-440d-aca7-3045f4a2d25b')\"\n",
              "              title=\"Convert this dataframe to an interactive table.\"\n",
              "              style=\"display:none;\">\n",
              "        \n",
              "  <svg xmlns=\"http://www.w3.org/2000/svg\" height=\"24px\"viewBox=\"0 0 24 24\"\n",
              "       width=\"24px\">\n",
              "    <path d=\"M0 0h24v24H0V0z\" fill=\"none\"/>\n",
              "    <path d=\"M18.56 5.44l.94 2.06.94-2.06 2.06-.94-2.06-.94-.94-2.06-.94 2.06-2.06.94zm-11 1L8.5 8.5l.94-2.06 2.06-.94-2.06-.94L8.5 2.5l-.94 2.06-2.06.94zm10 10l.94 2.06.94-2.06 2.06-.94-2.06-.94-.94-2.06-.94 2.06-2.06.94z\"/><path d=\"M17.41 7.96l-1.37-1.37c-.4-.4-.92-.59-1.43-.59-.52 0-1.04.2-1.43.59L10.3 9.45l-7.72 7.72c-.78.78-.78 2.05 0 2.83L4 21.41c.39.39.9.59 1.41.59.51 0 1.02-.2 1.41-.59l7.78-7.78 2.81-2.81c.8-.78.8-2.07 0-2.86zM5.41 20L4 18.59l7.72-7.72 1.47 1.35L5.41 20z\"/>\n",
              "  </svg>\n",
              "      </button>\n",
              "      \n",
              "  <style>\n",
              "    .colab-df-container {\n",
              "      display:flex;\n",
              "      flex-wrap:wrap;\n",
              "      gap: 12px;\n",
              "    }\n",
              "\n",
              "    .colab-df-convert {\n",
              "      background-color: #E8F0FE;\n",
              "      border: none;\n",
              "      border-radius: 50%;\n",
              "      cursor: pointer;\n",
              "      display: none;\n",
              "      fill: #1967D2;\n",
              "      height: 32px;\n",
              "      padding: 0 0 0 0;\n",
              "      width: 32px;\n",
              "    }\n",
              "\n",
              "    .colab-df-convert:hover {\n",
              "      background-color: #E2EBFA;\n",
              "      box-shadow: 0px 1px 2px rgba(60, 64, 67, 0.3), 0px 1px 3px 1px rgba(60, 64, 67, 0.15);\n",
              "      fill: #174EA6;\n",
              "    }\n",
              "\n",
              "    [theme=dark] .colab-df-convert {\n",
              "      background-color: #3B4455;\n",
              "      fill: #D2E3FC;\n",
              "    }\n",
              "\n",
              "    [theme=dark] .colab-df-convert:hover {\n",
              "      background-color: #434B5C;\n",
              "      box-shadow: 0px 1px 3px 1px rgba(0, 0, 0, 0.15);\n",
              "      filter: drop-shadow(0px 1px 2px rgba(0, 0, 0, 0.3));\n",
              "      fill: #FFFFFF;\n",
              "    }\n",
              "  </style>\n",
              "\n",
              "      <script>\n",
              "        const buttonEl =\n",
              "          document.querySelector('#df-254825b5-0a49-440d-aca7-3045f4a2d25b button.colab-df-convert');\n",
              "        buttonEl.style.display =\n",
              "          google.colab.kernel.accessAllowed ? 'block' : 'none';\n",
              "\n",
              "        async function convertToInteractive(key) {\n",
              "          const element = document.querySelector('#df-254825b5-0a49-440d-aca7-3045f4a2d25b');\n",
              "          const dataTable =\n",
              "            await google.colab.kernel.invokeFunction('convertToInteractive',\n",
              "                                                     [key], {});\n",
              "          if (!dataTable) return;\n",
              "\n",
              "          const docLinkHtml = 'Like what you see? Visit the ' +\n",
              "            '<a target=\"_blank\" href=https://colab.research.google.com/notebooks/data_table.ipynb>data table notebook</a>'\n",
              "            + ' to learn more about interactive tables.';\n",
              "          element.innerHTML = '';\n",
              "          dataTable['output_type'] = 'display_data';\n",
              "          await google.colab.output.renderOutput(dataTable, element);\n",
              "          const docLink = document.createElement('div');\n",
              "          docLink.innerHTML = docLinkHtml;\n",
              "          element.appendChild(docLink);\n",
              "        }\n",
              "      </script>\n",
              "    </div>\n",
              "  </div>\n",
              "  "
            ]
          },
          "metadata": {},
          "execution_count": 133
        }
      ]
    },
    {
      "cell_type": "markdown",
      "source": [
        "### 이상치 확인"
      ],
      "metadata": {
        "id": "gC5U2-dUGPWf"
      }
    },
    {
      "cell_type": "code",
      "source": [
        "tada_eta.describe()"
      ],
      "metadata": {
        "colab": {
          "base_uri": "https://localhost:8080/",
          "height": 300
        },
        "id": "gGy7JYKkAgVM",
        "outputId": "ad983fcb-b49f-467f-9c5d-55899dc1e31f"
      },
      "execution_count": 134,
      "outputs": [
        {
          "output_type": "execute_result",
          "data": {
            "text/plain": [
              "                ATA       api_eta         month          hour      distance\n",
              "count  13916.000000  13916.000000  13916.000000  13916.000000  1.391600e+04\n",
              "mean       8.386438      6.172346     10.146019     13.278672  6.300930e+05\n",
              "std        4.094109      3.151074      2.415177      6.971578  3.323532e+07\n",
              "min        0.430000      0.000000      7.000000      0.000000  0.000000e+00\n",
              "25%        5.470000      3.800000      7.000000      8.000000  3.122371e+00\n",
              "50%        7.780000      5.950000     12.000000     14.000000  1.112458e+01\n",
              "75%       10.520000      8.180000     12.000000     19.000000  3.069393e+01\n",
              "max       44.780000     25.280000     12.000000     23.000000  1.754298e+09"
            ],
            "text/html": [
              "\n",
              "  <div id=\"df-1b8e36fa-574c-4b95-99b3-c85961d22151\">\n",
              "    <div class=\"colab-df-container\">\n",
              "      <div>\n",
              "<style scoped>\n",
              "    .dataframe tbody tr th:only-of-type {\n",
              "        vertical-align: middle;\n",
              "    }\n",
              "\n",
              "    .dataframe tbody tr th {\n",
              "        vertical-align: top;\n",
              "    }\n",
              "\n",
              "    .dataframe thead th {\n",
              "        text-align: right;\n",
              "    }\n",
              "</style>\n",
              "<table border=\"1\" class=\"dataframe\">\n",
              "  <thead>\n",
              "    <tr style=\"text-align: right;\">\n",
              "      <th></th>\n",
              "      <th>ATA</th>\n",
              "      <th>api_eta</th>\n",
              "      <th>month</th>\n",
              "      <th>hour</th>\n",
              "      <th>distance</th>\n",
              "    </tr>\n",
              "  </thead>\n",
              "  <tbody>\n",
              "    <tr>\n",
              "      <th>count</th>\n",
              "      <td>13916.000000</td>\n",
              "      <td>13916.000000</td>\n",
              "      <td>13916.000000</td>\n",
              "      <td>13916.000000</td>\n",
              "      <td>1.391600e+04</td>\n",
              "    </tr>\n",
              "    <tr>\n",
              "      <th>mean</th>\n",
              "      <td>8.386438</td>\n",
              "      <td>6.172346</td>\n",
              "      <td>10.146019</td>\n",
              "      <td>13.278672</td>\n",
              "      <td>6.300930e+05</td>\n",
              "    </tr>\n",
              "    <tr>\n",
              "      <th>std</th>\n",
              "      <td>4.094109</td>\n",
              "      <td>3.151074</td>\n",
              "      <td>2.415177</td>\n",
              "      <td>6.971578</td>\n",
              "      <td>3.323532e+07</td>\n",
              "    </tr>\n",
              "    <tr>\n",
              "      <th>min</th>\n",
              "      <td>0.430000</td>\n",
              "      <td>0.000000</td>\n",
              "      <td>7.000000</td>\n",
              "      <td>0.000000</td>\n",
              "      <td>0.000000e+00</td>\n",
              "    </tr>\n",
              "    <tr>\n",
              "      <th>25%</th>\n",
              "      <td>5.470000</td>\n",
              "      <td>3.800000</td>\n",
              "      <td>7.000000</td>\n",
              "      <td>8.000000</td>\n",
              "      <td>3.122371e+00</td>\n",
              "    </tr>\n",
              "    <tr>\n",
              "      <th>50%</th>\n",
              "      <td>7.780000</td>\n",
              "      <td>5.950000</td>\n",
              "      <td>12.000000</td>\n",
              "      <td>14.000000</td>\n",
              "      <td>1.112458e+01</td>\n",
              "    </tr>\n",
              "    <tr>\n",
              "      <th>75%</th>\n",
              "      <td>10.520000</td>\n",
              "      <td>8.180000</td>\n",
              "      <td>12.000000</td>\n",
              "      <td>19.000000</td>\n",
              "      <td>3.069393e+01</td>\n",
              "    </tr>\n",
              "    <tr>\n",
              "      <th>max</th>\n",
              "      <td>44.780000</td>\n",
              "      <td>25.280000</td>\n",
              "      <td>12.000000</td>\n",
              "      <td>23.000000</td>\n",
              "      <td>1.754298e+09</td>\n",
              "    </tr>\n",
              "  </tbody>\n",
              "</table>\n",
              "</div>\n",
              "      <button class=\"colab-df-convert\" onclick=\"convertToInteractive('df-1b8e36fa-574c-4b95-99b3-c85961d22151')\"\n",
              "              title=\"Convert this dataframe to an interactive table.\"\n",
              "              style=\"display:none;\">\n",
              "        \n",
              "  <svg xmlns=\"http://www.w3.org/2000/svg\" height=\"24px\"viewBox=\"0 0 24 24\"\n",
              "       width=\"24px\">\n",
              "    <path d=\"M0 0h24v24H0V0z\" fill=\"none\"/>\n",
              "    <path d=\"M18.56 5.44l.94 2.06.94-2.06 2.06-.94-2.06-.94-.94-2.06-.94 2.06-2.06.94zm-11 1L8.5 8.5l.94-2.06 2.06-.94-2.06-.94L8.5 2.5l-.94 2.06-2.06.94zm10 10l.94 2.06.94-2.06 2.06-.94-2.06-.94-.94-2.06-.94 2.06-2.06.94z\"/><path d=\"M17.41 7.96l-1.37-1.37c-.4-.4-.92-.59-1.43-.59-.52 0-1.04.2-1.43.59L10.3 9.45l-7.72 7.72c-.78.78-.78 2.05 0 2.83L4 21.41c.39.39.9.59 1.41.59.51 0 1.02-.2 1.41-.59l7.78-7.78 2.81-2.81c.8-.78.8-2.07 0-2.86zM5.41 20L4 18.59l7.72-7.72 1.47 1.35L5.41 20z\"/>\n",
              "  </svg>\n",
              "      </button>\n",
              "      \n",
              "  <style>\n",
              "    .colab-df-container {\n",
              "      display:flex;\n",
              "      flex-wrap:wrap;\n",
              "      gap: 12px;\n",
              "    }\n",
              "\n",
              "    .colab-df-convert {\n",
              "      background-color: #E8F0FE;\n",
              "      border: none;\n",
              "      border-radius: 50%;\n",
              "      cursor: pointer;\n",
              "      display: none;\n",
              "      fill: #1967D2;\n",
              "      height: 32px;\n",
              "      padding: 0 0 0 0;\n",
              "      width: 32px;\n",
              "    }\n",
              "\n",
              "    .colab-df-convert:hover {\n",
              "      background-color: #E2EBFA;\n",
              "      box-shadow: 0px 1px 2px rgba(60, 64, 67, 0.3), 0px 1px 3px 1px rgba(60, 64, 67, 0.15);\n",
              "      fill: #174EA6;\n",
              "    }\n",
              "\n",
              "    [theme=dark] .colab-df-convert {\n",
              "      background-color: #3B4455;\n",
              "      fill: #D2E3FC;\n",
              "    }\n",
              "\n",
              "    [theme=dark] .colab-df-convert:hover {\n",
              "      background-color: #434B5C;\n",
              "      box-shadow: 0px 1px 3px 1px rgba(0, 0, 0, 0.15);\n",
              "      filter: drop-shadow(0px 1px 2px rgba(0, 0, 0, 0.3));\n",
              "      fill: #FFFFFF;\n",
              "    }\n",
              "  </style>\n",
              "\n",
              "      <script>\n",
              "        const buttonEl =\n",
              "          document.querySelector('#df-1b8e36fa-574c-4b95-99b3-c85961d22151 button.colab-df-convert');\n",
              "        buttonEl.style.display =\n",
              "          google.colab.kernel.accessAllowed ? 'block' : 'none';\n",
              "\n",
              "        async function convertToInteractive(key) {\n",
              "          const element = document.querySelector('#df-1b8e36fa-574c-4b95-99b3-c85961d22151');\n",
              "          const dataTable =\n",
              "            await google.colab.kernel.invokeFunction('convertToInteractive',\n",
              "                                                     [key], {});\n",
              "          if (!dataTable) return;\n",
              "\n",
              "          const docLinkHtml = 'Like what you see? Visit the ' +\n",
              "            '<a target=\"_blank\" href=https://colab.research.google.com/notebooks/data_table.ipynb>data table notebook</a>'\n",
              "            + ' to learn more about interactive tables.';\n",
              "          element.innerHTML = '';\n",
              "          dataTable['output_type'] = 'display_data';\n",
              "          await google.colab.output.renderOutput(dataTable, element);\n",
              "          const docLink = document.createElement('div');\n",
              "          docLink.innerHTML = docLinkHtml;\n",
              "          element.appendChild(docLink);\n",
              "        }\n",
              "      </script>\n",
              "    </div>\n",
              "  </div>\n",
              "  "
            ]
          },
          "metadata": {},
          "execution_count": 134
        }
      ]
    },
    {
      "cell_type": "code",
      "source": [
        "tada_eta['distance'].max()"
      ],
      "metadata": {
        "colab": {
          "base_uri": "https://localhost:8080/"
        },
        "id": "TSLKu3vZA3LP",
        "outputId": "0419a6c8-8cbd-4cf2-d9a5-821008e3fae2"
      },
      "execution_count": 135,
      "outputs": [
        {
          "output_type": "execute_result",
          "data": {
            "text/plain": [
              "1754297836.8400323"
            ]
          },
          "metadata": {},
          "execution_count": 135
        }
      ]
    },
    {
      "cell_type": "code",
      "source": [
        "tada_eta['distance'].min()"
      ],
      "metadata": {
        "colab": {
          "base_uri": "https://localhost:8080/"
        },
        "id": "5sbwhX6-BBDZ",
        "outputId": "69febc73-927b-4638-beca-a34d5f48df7f"
      },
      "execution_count": 136,
      "outputs": [
        {
          "output_type": "execute_result",
          "data": {
            "text/plain": [
              "0.0"
            ]
          },
          "metadata": {},
          "execution_count": 136
        }
      ]
    },
    {
      "cell_type": "code",
      "source": [
        "tada_eta[tada_eta['distance'] > 400].count()"
      ],
      "metadata": {
        "colab": {
          "base_uri": "https://localhost:8080/"
        },
        "id": "slNEokoYBFvz",
        "outputId": "bd9e5e2f-d0bc-450c-c300-2d41589ffe62"
      },
      "execution_count": 164,
      "outputs": [
        {
          "output_type": "execute_result",
          "data": {
            "text/plain": [
              "ATA         8\n",
              "api_eta     8\n",
              "month       8\n",
              "hour        8\n",
              "distance    8\n",
              "dtype: int64"
            ]
          },
          "metadata": {},
          "execution_count": 164
        }
      ]
    },
    {
      "cell_type": "code",
      "source": [
        "plt.hist(tada_eta['distance']);"
      ],
      "metadata": {
        "colab": {
          "base_uri": "https://localhost:8080/",
          "height": 278
        },
        "id": "ZQOeVz0kARin",
        "outputId": "b101d38b-ddfe-41e5-ed37-481eec3a682d"
      },
      "execution_count": 139,
      "outputs": [
        {
          "output_type": "display_data",
          "data": {
            "text/plain": [
              "<Figure size 432x288 with 1 Axes>"
            ],
            "image/png": "[encoded data removed]"
          },
          "metadata": {
            "needs_background": "light"
          }
        }
      ]
    },
    {
      "cell_type": "code",
      "source": [
        "plt.hist(tada_eta['hour']);"
      ],
      "metadata": {
        "colab": {
          "base_uri": "https://localhost:8080/",
          "height": 265
        },
        "id": "Zko6Ame9IMHb",
        "outputId": "5d5e323f-eefc-4e0d-899d-7177bf71b4fc"
      },
      "execution_count": 194,
      "outputs": [
        {
          "output_type": "display_data",
          "data": {
            "text/plain": [
              "<Figure size 432x288 with 1 Axes>"
            ],
            "image/png": "[encoded data removed]"
          },
          "metadata": {
            "needs_background": "light"
          }
        }
      ]
    },
    {
      "cell_type": "code",
      "source": [
        "plt.hist(tada_eta['month']);"
      ],
      "metadata": {
        "colab": {
          "base_uri": "https://localhost:8080/",
          "height": 265
        },
        "id": "e3my4svnIOj8",
        "outputId": "8631550b-9c94-4c9a-a032-204cda0cb25f"
      },
      "execution_count": 195,
      "outputs": [
        {
          "output_type": "display_data",
          "data": {
            "text/plain": [
              "<Figure size 432x288 with 1 Axes>"
            ],
            "image/png": "[encoded data removed]"
          },
          "metadata": {
            "needs_background": "light"
          }
        }
      ]
    },
    {
      "cell_type": "code",
      "source": [
        "tada_eta = tada_eta[tada_eta['distance'] <= 400]\n",
        "tada_eta.info()"
      ],
      "metadata": {
        "colab": {
          "base_uri": "https://localhost:8080/"
        },
        "id": "JoOdHRKvFj96",
        "outputId": "9be7b961-9cd7-4465-af12-d2b6da0a4598"
      },
      "execution_count": 165,
      "outputs": [
        {
          "output_type": "stream",
          "name": "stdout",
          "text": [
            "<class 'pandas.core.frame.DataFrame'>\n",
            "Int64Index: 13908 entries, 0 to 13915\n",
            "Data columns (total 5 columns):\n",
            " #   Column    Non-Null Count  Dtype  \n",
            "---  ------    --------------  -----  \n",
            " 0   ATA       13908 non-null  float64\n",
            " 1   api_eta   13908 non-null  float64\n",
            " 2   month     13908 non-null  int64  \n",
            " 3   hour      13908 non-null  int64  \n",
            " 4   distance  13908 non-null  float64\n",
            "dtypes: float64(3), int64(2)\n",
            "memory usage: 651.9 KB\n"
          ]
        }
      ]
    },
    {
      "cell_type": "markdown",
      "source": [
        "## train test split"
      ],
      "metadata": {
        "id": "-3mEUrP8GVdR"
      }
    },
    {
      "cell_type": "code",
      "source": [
        "tada_eta = tada_eta.sample(frac=1, random_state=0).reset_index(drop=True)\n",
        "train = tada_eta[:12000]\n",
        "test = tada_eta[12000:]"
      ],
      "metadata": {
        "id": "2voNSMDGDRy0"
      },
      "execution_count": 166,
      "outputs": []
    },
    {
      "cell_type": "code",
      "source": [
        "x_train = train.drop('ATA', 1)\n",
        "y_train = train['ATA']\n",
        "x_test = test.drop('ATA', 1)\n",
        "y_test = test['ATA']\n",
        "x_train.shape, y_train.shape, x_test.shape, y_test.shape"
      ],
      "metadata": {
        "colab": {
          "base_uri": "https://localhost:8080/"
        },
        "id": "S9vhI-n0DZwC",
        "outputId": "1f8d0aa7-54d1-4373-9e1b-e2d4a6fbfb40"
      },
      "execution_count": 167,
      "outputs": [
        {
          "output_type": "stream",
          "name": "stderr",
          "text": [
            "/usr/local/lib/python3.7/dist-packages/ipykernel_launcher.py:1: FutureWarning: In a future version of pandas all arguments of DataFrame.drop except for the argument 'labels' will be keyword-only\n",
            "  \"\"\"Entry point for launching an IPython kernel.\n",
            "/usr/local/lib/python3.7/dist-packages/ipykernel_launcher.py:3: FutureWarning: In a future version of pandas all arguments of DataFrame.drop except for the argument 'labels' will be keyword-only\n",
            "  This is separate from the ipykernel package so we can avoid doing imports until\n"
          ]
        },
        {
          "output_type": "execute_result",
          "data": {
            "text/plain": [
              "((12000, 4), (12000,), (1908, 4), (1908,))"
            ]
          },
          "metadata": {},
          "execution_count": 167
        }
      ]
    },
    {
      "cell_type": "markdown",
      "source": [
        "## Random Forest"
      ],
      "metadata": {
        "id": "u7dd6SHC1qqE"
      }
    },
    {
      "cell_type": "markdown",
      "source": [
        "### 최적 max depth 찾기"
      ],
      "metadata": {
        "id": "1RtehDgZaNOR"
      }
    },
    {
      "cell_type": "code",
      "source": [
        "mse_list = []\n",
        "mse_api_list = []\n",
        "mae_list = []\n",
        "mae_api_list = []\n",
        "for depth in range(1, 10):\n",
        "  rf = RandomForestRegressor(max_depth=depth, random_state=0)\n",
        "  rf.fit(x_train, y_train)\n",
        "  pred = rf.predict(x_test)\n",
        "  api_eta = x_test.iloc[:, 0]\n",
        "  mse = mean_squared_error(y_test, pred)\n",
        "  mse_api = mean_squared_error(y_test, api_eta)\n",
        "  mse_list.append(mse)\n",
        "  mse_api_list.append(mse_api)\n",
        "  print(f'RandomForest depth : {depth}')\n",
        "  print( \"The mean squared error (MSE) on test set: {:.4f}\".format(mse) )\n",
        "  print( \"The initial error of API ETA on test set: {:.4f}\".format(mse_api) )\n",
        "  mae = mean_absolute_error(y_test, pred)\n",
        "  mae_api = mean_absolute_error(y_test, api_eta)\n",
        "  mae_list.append(mae)\n",
        "  mae_api_list.append(mae_api)\n",
        "  print( \"The mean absolute error (MAE) on test set: {:.4f}\".format(mae) )\n",
        "  print( \"The initial error of API ETA on test set: {:.4f}\".format(mae_api) )"
      ],
      "metadata": {
        "colab": {
          "base_uri": "https://localhost:8080/"
        },
        "id": "W0Pckr8KTEDD",
        "outputId": "68c94ad5-f4a9-4865-d284-6fa363e0cb60"
      },
      "execution_count": 168,
      "outputs": [
        {
          "output_type": "stream",
          "name": "stdout",
          "text": [
            "RandomForest depth : 1\n",
            "The mean squared error (MSE) on test set: 9.9984\n",
            "The initial error of API ETA on test set: 12.0901\n",
            "The mean absolute error (MAE) on test set: 2.4213\n",
            "The initial error of API ETA on test set: 2.5780\n",
            "RandomForest depth : 2\n",
            "The mean squared error (MSE) on test set: 8.0469\n",
            "The initial error of API ETA on test set: 12.0901\n",
            "The mean absolute error (MAE) on test set: 2.1525\n",
            "The initial error of API ETA on test set: 2.5780\n",
            "RandomForest depth : 3\n",
            "The mean squared error (MSE) on test set: 7.4851\n",
            "The initial error of API ETA on test set: 12.0901\n",
            "The mean absolute error (MAE) on test set: 2.0737\n",
            "The initial error of API ETA on test set: 2.5780\n",
            "RandomForest depth : 4\n",
            "The mean squared error (MSE) on test set: 7.3510\n",
            "The initial error of API ETA on test set: 12.0901\n",
            "The mean absolute error (MAE) on test set: 2.0494\n",
            "The initial error of API ETA on test set: 2.5780\n",
            "RandomForest depth : 5\n",
            "The mean squared error (MSE) on test set: 7.2345\n",
            "The initial error of API ETA on test set: 12.0901\n",
            "The mean absolute error (MAE) on test set: 2.0292\n",
            "The initial error of API ETA on test set: 2.5780\n",
            "RandomForest depth : 6\n",
            "The mean squared error (MSE) on test set: 7.1562\n",
            "The initial error of API ETA on test set: 12.0901\n",
            "The mean absolute error (MAE) on test set: 2.0161\n",
            "The initial error of API ETA on test set: 2.5780\n",
            "RandomForest depth : 7\n",
            "The mean squared error (MSE) on test set: 7.1033\n",
            "The initial error of API ETA on test set: 12.0901\n",
            "The mean absolute error (MAE) on test set: 2.0066\n",
            "The initial error of API ETA on test set: 2.5780\n",
            "RandomForest depth : 8\n",
            "The mean squared error (MSE) on test set: 7.1380\n",
            "The initial error of API ETA on test set: 12.0901\n",
            "The mean absolute error (MAE) on test set: 2.0103\n",
            "The initial error of API ETA on test set: 2.5780\n",
            "RandomForest depth : 9\n",
            "The mean squared error (MSE) on test set: 7.1700\n",
            "The initial error of API ETA on test set: 12.0901\n",
            "The mean absolute error (MAE) on test set: 2.0174\n",
            "The initial error of API ETA on test set: 2.5780\n"
          ]
        }
      ]
    },
    {
      "cell_type": "markdown",
      "source": [
        "### 결과 df"
      ],
      "metadata": {
        "id": "odPQ62T-3San"
      }
    },
    {
      "cell_type": "code",
      "source": [
        "dict = {'depth':list(range(1,10)), 'mse':mse_list, 'mse_api':mse_api_list, 'mae':mae_list, 'mae_api':mae_api_list}\n",
        "rf_df = pd.DataFrame(dict)"
      ],
      "metadata": {
        "id": "fOJ23DLcVKvd"
      },
      "execution_count": 169,
      "outputs": []
    },
    {
      "cell_type": "code",
      "source": [
        "rf_df.head()"
      ],
      "metadata": {
        "colab": {
          "base_uri": "https://localhost:8080/",
          "height": 206
        },
        "id": "oj2jFT12Vk3L",
        "outputId": "c8732070-166e-4caf-bcaf-462f2534977e"
      },
      "execution_count": 170,
      "outputs": [
        {
          "output_type": "execute_result",
          "data": {
            "text/plain": [
              "   depth       mse    mse_api       mae   mae_api\n",
              "0      1  9.998411  12.090071  2.421265  2.578003\n",
              "1      2  8.046907  12.090071  2.152505  2.578003\n",
              "2      3  7.485105  12.090071  2.073740  2.578003\n",
              "3      4  7.350962  12.090071  2.049435  2.578003\n",
              "4      5  7.234485  12.090071  2.029160  2.578003"
            ],
            "text/html": [
              "\n",
              "  <div id=\"df-d3264ba2-1da4-434f-94d7-d55bd17d2a62\">\n",
              "    <div class=\"colab-df-container\">\n",
              "      <div>\n",
              "<style scoped>\n",
              "    .dataframe tbody tr th:only-of-type {\n",
              "        vertical-align: middle;\n",
              "    }\n",
              "\n",
              "    .dataframe tbody tr th {\n",
              "        vertical-align: top;\n",
              "    }\n",
              "\n",
              "    .dataframe thead th {\n",
              "        text-align: right;\n",
              "    }\n",
              "</style>\n",
              "<table border=\"1\" class=\"dataframe\">\n",
              "  <thead>\n",
              "    <tr style=\"text-align: right;\">\n",
              "      <th></th>\n",
              "      <th>depth</th>\n",
              "      <th>mse</th>\n",
              "      <th>mse_api</th>\n",
              "      <th>mae</th>\n",
              "      <th>mae_api</th>\n",
              "    </tr>\n",
              "  </thead>\n",
              "  <tbody>\n",
              "    <tr>\n",
              "      <th>0</th>\n",
              "      <td>1</td>\n",
              "      <td>9.998411</td>\n",
              "      <td>12.090071</td>\n",
              "      <td>2.421265</td>\n",
              "      <td>2.578003</td>\n",
              "    </tr>\n",
              "    <tr>\n",
              "      <th>1</th>\n",
              "      <td>2</td>\n",
              "      <td>8.046907</td>\n",
              "      <td>12.090071</td>\n",
              "      <td>2.152505</td>\n",
              "      <td>2.578003</td>\n",
              "    </tr>\n",
              "    <tr>\n",
              "      <th>2</th>\n",
              "      <td>3</td>\n",
              "      <td>7.485105</td>\n",
              "      <td>12.090071</td>\n",
              "      <td>2.073740</td>\n",
              "      <td>2.578003</td>\n",
              "    </tr>\n",
              "    <tr>\n",
              "      <th>3</th>\n",
              "      <td>4</td>\n",
              "      <td>7.350962</td>\n",
              "      <td>12.090071</td>\n",
              "      <td>2.049435</td>\n",
              "      <td>2.578003</td>\n",
              "    </tr>\n",
              "    <tr>\n",
              "      <th>4</th>\n",
              "      <td>5</td>\n",
              "      <td>7.234485</td>\n",
              "      <td>12.090071</td>\n",
              "      <td>2.029160</td>\n",
              "      <td>2.578003</td>\n",
              "    </tr>\n",
              "  </tbody>\n",
              "</table>\n",
              "</div>\n",
              "      <button class=\"colab-df-convert\" onclick=\"convertToInteractive('df-d3264ba2-1da4-434f-94d7-d55bd17d2a62')\"\n",
              "              title=\"Convert this dataframe to an interactive table.\"\n",
              "              style=\"display:none;\">\n",
              "        \n",
              "  <svg xmlns=\"http://www.w3.org/2000/svg\" height=\"24px\"viewBox=\"0 0 24 24\"\n",
              "       width=\"24px\">\n",
              "    <path d=\"M0 0h24v24H0V0z\" fill=\"none\"/>\n",
              "    <path d=\"M18.56 5.44l.94 2.06.94-2.06 2.06-.94-2.06-.94-.94-2.06-.94 2.06-2.06.94zm-11 1L8.5 8.5l.94-2.06 2.06-.94-2.06-.94L8.5 2.5l-.94 2.06-2.06.94zm10 10l.94 2.06.94-2.06 2.06-.94-2.06-.94-.94-2.06-.94 2.06-2.06.94z\"/><path d=\"M17.41 7.96l-1.37-1.37c-.4-.4-.92-.59-1.43-.59-.52 0-1.04.2-1.43.59L10.3 9.45l-7.72 7.72c-.78.78-.78 2.05 0 2.83L4 21.41c.39.39.9.59 1.41.59.51 0 1.02-.2 1.41-.59l7.78-7.78 2.81-2.81c.8-.78.8-2.07 0-2.86zM5.41 20L4 18.59l7.72-7.72 1.47 1.35L5.41 20z\"/>\n",
              "  </svg>\n",
              "      </button>\n",
              "      \n",
              "  <style>\n",
              "    .colab-df-container {\n",
              "      display:flex;\n",
              "      flex-wrap:wrap;\n",
              "      gap: 12px;\n",
              "    }\n",
              "\n",
              "    .colab-df-convert {\n",
              "      background-color: #E8F0FE;\n",
              "      border: none;\n",
              "      border-radius: 50%;\n",
              "      cursor: pointer;\n",
              "      display: none;\n",
              "      fill: #1967D2;\n",
              "      height: 32px;\n",
              "      padding: 0 0 0 0;\n",
              "      width: 32px;\n",
              "    }\n",
              "\n",
              "    .colab-df-convert:hover {\n",
              "      background-color: #E2EBFA;\n",
              "      box-shadow: 0px 1px 2px rgba(60, 64, 67, 0.3), 0px 1px 3px 1px rgba(60, 64, 67, 0.15);\n",
              "      fill: #174EA6;\n",
              "    }\n",
              "\n",
              "    [theme=dark] .colab-df-convert {\n",
              "      background-color: #3B4455;\n",
              "      fill: #D2E3FC;\n",
              "    }\n",
              "\n",
              "    [theme=dark] .colab-df-convert:hover {\n",
              "      background-color: #434B5C;\n",
              "      box-shadow: 0px 1px 3px 1px rgba(0, 0, 0, 0.15);\n",
              "      filter: drop-shadow(0px 1px 2px rgba(0, 0, 0, 0.3));\n",
              "      fill: #FFFFFF;\n",
              "    }\n",
              "  </style>\n",
              "\n",
              "      <script>\n",
              "        const buttonEl =\n",
              "          document.querySelector('#df-d3264ba2-1da4-434f-94d7-d55bd17d2a62 button.colab-df-convert');\n",
              "        buttonEl.style.display =\n",
              "          google.colab.kernel.accessAllowed ? 'block' : 'none';\n",
              "\n",
              "        async function convertToInteractive(key) {\n",
              "          const element = document.querySelector('#df-d3264ba2-1da4-434f-94d7-d55bd17d2a62');\n",
              "          const dataTable =\n",
              "            await google.colab.kernel.invokeFunction('convertToInteractive',\n",
              "                                                     [key], {});\n",
              "          if (!dataTable) return;\n",
              "\n",
              "          const docLinkHtml = 'Like what you see? Visit the ' +\n",
              "            '<a target=\"_blank\" href=https://colab.research.google.com/notebooks/data_table.ipynb>data table notebook</a>'\n",
              "            + ' to learn more about interactive tables.';\n",
              "          element.innerHTML = '';\n",
              "          dataTable['output_type'] = 'display_data';\n",
              "          await google.colab.output.renderOutput(dataTable, element);\n",
              "          const docLink = document.createElement('div');\n",
              "          docLink.innerHTML = docLinkHtml;\n",
              "          element.appendChild(docLink);\n",
              "        }\n",
              "      </script>\n",
              "    </div>\n",
              "  </div>\n",
              "  "
            ]
          },
          "metadata": {},
          "execution_count": 170
        }
      ]
    },
    {
      "cell_type": "markdown",
      "source": [
        "#### 최소 MSE 값"
      ],
      "metadata": {
        "id": "A1Neejuj3hhN"
      }
    },
    {
      "cell_type": "code",
      "source": [
        "rf_df[ rf_df['mse'] == rf_df['mse'].min() ]"
      ],
      "metadata": {
        "colab": {
          "base_uri": "https://localhost:8080/",
          "height": 81
        },
        "id": "819tL_Na4WJ3",
        "outputId": "608b879a-9089-4be6-8628-b92ca3e4c8c7"
      },
      "execution_count": 171,
      "outputs": [
        {
          "output_type": "execute_result",
          "data": {
            "text/plain": [
              "   depth       mse    mse_api       mae   mae_api\n",
              "6      7  7.103294  12.090071  2.006553  2.578003"
            ],
            "text/html": [
              "\n",
              "  <div id=\"df-bfca0b44-ca73-4c9b-8c9e-cf9b03210c11\">\n",
              "    <div class=\"colab-df-container\">\n",
              "      <div>\n",
              "<style scoped>\n",
              "    .dataframe tbody tr th:only-of-type {\n",
              "        vertical-align: middle;\n",
              "    }\n",
              "\n",
              "    .dataframe tbody tr th {\n",
              "        vertical-align: top;\n",
              "    }\n",
              "\n",
              "    .dataframe thead th {\n",
              "        text-align: right;\n",
              "    }\n",
              "</style>\n",
              "<table border=\"1\" class=\"dataframe\">\n",
              "  <thead>\n",
              "    <tr style=\"text-align: right;\">\n",
              "      <th></th>\n",
              "      <th>depth</th>\n",
              "      <th>mse</th>\n",
              "      <th>mse_api</th>\n",
              "      <th>mae</th>\n",
              "      <th>mae_api</th>\n",
              "    </tr>\n",
              "  </thead>\n",
              "  <tbody>\n",
              "    <tr>\n",
              "      <th>6</th>\n",
              "      <td>7</td>\n",
              "      <td>7.103294</td>\n",
              "      <td>12.090071</td>\n",
              "      <td>2.006553</td>\n",
              "      <td>2.578003</td>\n",
              "    </tr>\n",
              "  </tbody>\n",
              "</table>\n",
              "</div>\n",
              "      <button class=\"colab-df-convert\" onclick=\"convertToInteractive('df-bfca0b44-ca73-4c9b-8c9e-cf9b03210c11')\"\n",
              "              title=\"Convert this dataframe to an interactive table.\"\n",
              "              style=\"display:none;\">\n",
              "        \n",
              "  <svg xmlns=\"http://www.w3.org/2000/svg\" height=\"24px\"viewBox=\"0 0 24 24\"\n",
              "       width=\"24px\">\n",
              "    <path d=\"M0 0h24v24H0V0z\" fill=\"none\"/>\n",
              "    <path d=\"M18.56 5.44l.94 2.06.94-2.06 2.06-.94-2.06-.94-.94-2.06-.94 2.06-2.06.94zm-11 1L8.5 8.5l.94-2.06 2.06-.94-2.06-.94L8.5 2.5l-.94 2.06-2.06.94zm10 10l.94 2.06.94-2.06 2.06-.94-2.06-.94-.94-2.06-.94 2.06-2.06.94z\"/><path d=\"M17.41 7.96l-1.37-1.37c-.4-.4-.92-.59-1.43-.59-.52 0-1.04.2-1.43.59L10.3 9.45l-7.72 7.72c-.78.78-.78 2.05 0 2.83L4 21.41c.39.39.9.59 1.41.59.51 0 1.02-.2 1.41-.59l7.78-7.78 2.81-2.81c.8-.78.8-2.07 0-2.86zM5.41 20L4 18.59l7.72-7.72 1.47 1.35L5.41 20z\"/>\n",
              "  </svg>\n",
              "      </button>\n",
              "      \n",
              "  <style>\n",
              "    .colab-df-container {\n",
              "      display:flex;\n",
              "      flex-wrap:wrap;\n",
              "      gap: 12px;\n",
              "    }\n",
              "\n",
              "    .colab-df-convert {\n",
              "      background-color: #E8F0FE;\n",
              "      border: none;\n",
              "      border-radius: 50%;\n",
              "      cursor: pointer;\n",
              "      display: none;\n",
              "      fill: #1967D2;\n",
              "      height: 32px;\n",
              "      padding: 0 0 0 0;\n",
              "      width: 32px;\n",
              "    }\n",
              "\n",
              "    .colab-df-convert:hover {\n",
              "      background-color: #E2EBFA;\n",
              "      box-shadow: 0px 1px 2px rgba(60, 64, 67, 0.3), 0px 1px 3px 1px rgba(60, 64, 67, 0.15);\n",
              "      fill: #174EA6;\n",
              "    }\n",
              "\n",
              "    [theme=dark] .colab-df-convert {\n",
              "      background-color: #3B4455;\n",
              "      fill: #D2E3FC;\n",
              "    }\n",
              "\n",
              "    [theme=dark] .colab-df-convert:hover {\n",
              "      background-color: #434B5C;\n",
              "      box-shadow: 0px 1px 3px 1px rgba(0, 0, 0, 0.15);\n",
              "      filter: drop-shadow(0px 1px 2px rgba(0, 0, 0, 0.3));\n",
              "      fill: #FFFFFF;\n",
              "    }\n",
              "  </style>\n",
              "\n",
              "      <script>\n",
              "        const buttonEl =\n",
              "          document.querySelector('#df-bfca0b44-ca73-4c9b-8c9e-cf9b03210c11 button.colab-df-convert');\n",
              "        buttonEl.style.display =\n",
              "          google.colab.kernel.accessAllowed ? 'block' : 'none';\n",
              "\n",
              "        async function convertToInteractive(key) {\n",
              "          const element = document.querySelector('#df-bfca0b44-ca73-4c9b-8c9e-cf9b03210c11');\n",
              "          const dataTable =\n",
              "            await google.colab.kernel.invokeFunction('convertToInteractive',\n",
              "                                                     [key], {});\n",
              "          if (!dataTable) return;\n",
              "\n",
              "          const docLinkHtml = 'Like what you see? Visit the ' +\n",
              "            '<a target=\"_blank\" href=https://colab.research.google.com/notebooks/data_table.ipynb>data table notebook</a>'\n",
              "            + ' to learn more about interactive tables.';\n",
              "          element.innerHTML = '';\n",
              "          dataTable['output_type'] = 'display_data';\n",
              "          await google.colab.output.renderOutput(dataTable, element);\n",
              "          const docLink = document.createElement('div');\n",
              "          docLink.innerHTML = docLinkHtml;\n",
              "          element.appendChild(docLink);\n",
              "        }\n",
              "      </script>\n",
              "    </div>\n",
              "  </div>\n",
              "  "
            ]
          },
          "metadata": {},
          "execution_count": 171
        }
      ]
    },
    {
      "cell_type": "markdown",
      "source": [
        "#### 결과 시각화"
      ],
      "metadata": {
        "id": "H-WNB9xB3W2r"
      }
    },
    {
      "cell_type": "code",
      "source": [
        "def vis(df, model, hyper):\n",
        "  plt.figure(figsize=(12,7))\n",
        "  plt.grid(True)\n",
        "  plt.plot(df[f'{hyper}'], df['mse'], 'o-', label='mse', linewidth=3)\n",
        "  plt.plot(df[f'{hyper}'], df['mse_api'], 'o-', label='mse_api', linewidth=3)\n",
        "  plt.plot(df[f'{hyper}'], df['mae'], ':', label='mae', linewidth=3)\n",
        "  plt.plot(df[f'{hyper}'], df['mae_api'], ':', label='mae_api', linewidth=3)\n",
        "\n",
        "  for i in range(df[f'{hyper}'].shape[0]):\n",
        "    num_mse = df['mse'][i]\n",
        "    num_mse_api = df['mse_api'][i]\n",
        "    num_mae = df['mae'][i]\n",
        "    num_mae_api = df['mae_api'][i]\n",
        "    plt.text(df[f'{hyper}'][i], df['mse'][i], '{:.3f}'.format(num_mse), verticalalignment='bottom', fontsize=12)\n",
        "    plt.text(df[f'{hyper}'][i], df['mse_api'][i], '{:.3f}'.format(num_mse_api), verticalalignment='bottom', fontsize=12)\n",
        "    plt.text(df[f'{hyper}'][i], df['mae'][i], '{:.3f}'.format(num_mae), verticalalignment='bottom', fontsize=12)\n",
        "    plt.text(df[f'{hyper}'][i], df['mae_api'][i], '{:.3f}'.format(num_mae_api), verticalalignment='bottom', fontsize=12)\n",
        "    \n",
        "  plt.title(f'{model} MSE, MAE by {hyper}', fontdict={'size':15})\n",
        "  plt.xlabel(f'{hyper}', fontsize=13)\n",
        "  plt.xticks(fontsize=12)\n",
        "  plt.yticks(fontsize=12)\n",
        "  plt.legend(frameon=True, shadow=True, edgecolor='k', framealpha=0.5, fontsize=13);"
      ],
      "metadata": {
        "id": "MOH3S2dETcFC"
      },
      "execution_count": 172,
      "outputs": []
    },
    {
      "cell_type": "code",
      "source": [
        "vis(rf_df, \"RandomForestRegressor\", 'depth')"
      ],
      "metadata": {
        "colab": {
          "base_uri": "https://localhost:8080/",
          "height": 466
        },
        "id": "gN6cx0447MnV",
        "outputId": "53748f71-1983-4eee-fa18-7ab875323085"
      },
      "execution_count": 173,
      "outputs": [
        {
          "output_type": "display_data",
          "data": {
            "text/plain": [
              "<Figure size 864x504 with 1 Axes>"
            ],
            "image/png": "[encoded data removed]"
          },
          "metadata": {
            "needs_background": "light"
          }
        }
      ]
    },
    {
      "cell_type": "markdown",
      "source": [
        "### 최적의 min samples split 찾기\n",
        "* 거의 변동 없어서 의미 없음"
      ],
      "metadata": {
        "id": "-diRnwxWabZh"
      }
    },
    {
      "cell_type": "code",
      "source": [
        "num_para_list = list(range(2, 20))\n",
        "mse_list = []\n",
        "mse_api_list = []\n",
        "mae_list = []\n",
        "mae_api_list = []\n",
        "for samples in num_para_list:\n",
        "  rf = RandomForestRegressor(max_depth=7, random_state=0, min_samples_split=samples)\n",
        "  rf.fit(x_train, y_train)\n",
        "  pred = rf.predict(x_test)\n",
        "  api_eta = x_test.iloc[:,0]\n",
        "  mse = mean_squared_error(y_test, pred)\n",
        "  mse_api = mean_squared_error(y_test, api_eta)\n",
        "  mse_list.append(mse)\n",
        "  mse_api_list.append(mse_api)\n",
        "  print(f'RandomForest samples : {samples}')\n",
        "  print( \"The mean squared error (MSE) on test set: {:.4f}\".format(mse) )\n",
        "  print( \"The initial error of API ETA on test set: {:.4f}\".format(mse_api) )\n",
        "  mae = mean_absolute_error(y_test, pred)\n",
        "  mae_api = mean_absolute_error(y_test, api_eta)\n",
        "  mae_list.append(mae)\n",
        "  mae_api_list.append(mae_api)\n",
        "  print( \"The mean absolute error (MAE) on test set: {:.4f}\".format(mae) )\n",
        "  print( \"The initial error of API ETA on test set: {:.4f}\".format(mae_api) )\n",
        "  print()"
      ],
      "metadata": {
        "colab": {
          "base_uri": "https://localhost:8080/"
        },
        "id": "LsuaUVrvV6QS",
        "outputId": "6ddcb874-9342-4ff8-926c-e61c73573ca2"
      },
      "execution_count": 174,
      "outputs": [
        {
          "output_type": "stream",
          "name": "stdout",
          "text": [
            "RandomForest samples : 2\n",
            "The mean squared error (MSE) on test set: 7.1033\n",
            "The initial error of API ETA on test set: 12.0901\n",
            "The mean absolute error (MAE) on test set: 2.0066\n",
            "The initial error of API ETA on test set: 2.5780\n",
            "\n",
            "RandomForest samples : 3\n",
            "The mean squared error (MSE) on test set: 7.1093\n",
            "The initial error of API ETA on test set: 12.0901\n",
            "The mean absolute error (MAE) on test set: 2.0076\n",
            "The initial error of API ETA on test set: 2.5780\n",
            "\n",
            "RandomForest samples : 4\n",
            "The mean squared error (MSE) on test set: 7.1113\n",
            "The initial error of API ETA on test set: 12.0901\n",
            "The mean absolute error (MAE) on test set: 2.0075\n",
            "The initial error of API ETA on test set: 2.5780\n",
            "\n",
            "RandomForest samples : 5\n",
            "The mean squared error (MSE) on test set: 7.1075\n",
            "The initial error of API ETA on test set: 12.0901\n",
            "The mean absolute error (MAE) on test set: 2.0076\n",
            "The initial error of API ETA on test set: 2.5780\n",
            "\n",
            "RandomForest samples : 6\n",
            "The mean squared error (MSE) on test set: 7.1058\n",
            "The initial error of API ETA on test set: 12.0901\n",
            "The mean absolute error (MAE) on test set: 2.0074\n",
            "The initial error of API ETA on test set: 2.5780\n",
            "\n",
            "RandomForest samples : 7\n",
            "The mean squared error (MSE) on test set: 7.0984\n",
            "The initial error of API ETA on test set: 12.0901\n",
            "The mean absolute error (MAE) on test set: 2.0070\n",
            "The initial error of API ETA on test set: 2.5780\n",
            "\n",
            "RandomForest samples : 8\n",
            "The mean squared error (MSE) on test set: 7.1019\n",
            "The initial error of API ETA on test set: 12.0901\n",
            "The mean absolute error (MAE) on test set: 2.0073\n",
            "The initial error of API ETA on test set: 2.5780\n",
            "\n",
            "RandomForest samples : 9\n",
            "The mean squared error (MSE) on test set: 7.1085\n",
            "The initial error of API ETA on test set: 12.0901\n",
            "The mean absolute error (MAE) on test set: 2.0078\n",
            "The initial error of API ETA on test set: 2.5780\n",
            "\n",
            "RandomForest samples : 10\n",
            "The mean squared error (MSE) on test set: 7.1045\n",
            "The initial error of API ETA on test set: 12.0901\n",
            "The mean absolute error (MAE) on test set: 2.0076\n",
            "The initial error of API ETA on test set: 2.5780\n",
            "\n",
            "RandomForest samples : 11\n",
            "The mean squared error (MSE) on test set: 7.1124\n",
            "The initial error of API ETA on test set: 12.0901\n",
            "The mean absolute error (MAE) on test set: 2.0081\n",
            "The initial error of API ETA on test set: 2.5780\n",
            "\n",
            "RandomForest samples : 12\n",
            "The mean squared error (MSE) on test set: 7.1118\n",
            "The initial error of API ETA on test set: 12.0901\n",
            "The mean absolute error (MAE) on test set: 2.0082\n",
            "The initial error of API ETA on test set: 2.5780\n",
            "\n",
            "RandomForest samples : 13\n",
            "The mean squared error (MSE) on test set: 7.1126\n",
            "The initial error of API ETA on test set: 12.0901\n",
            "The mean absolute error (MAE) on test set: 2.0084\n",
            "The initial error of API ETA on test set: 2.5780\n",
            "\n",
            "RandomForest samples : 14\n",
            "The mean squared error (MSE) on test set: 7.1169\n",
            "The initial error of API ETA on test set: 12.0901\n",
            "The mean absolute error (MAE) on test set: 2.0086\n",
            "The initial error of API ETA on test set: 2.5780\n",
            "\n",
            "RandomForest samples : 15\n",
            "The mean squared error (MSE) on test set: 7.1144\n",
            "The initial error of API ETA on test set: 12.0901\n",
            "The mean absolute error (MAE) on test set: 2.0086\n",
            "The initial error of API ETA on test set: 2.5780\n",
            "\n",
            "RandomForest samples : 16\n",
            "The mean squared error (MSE) on test set: 7.1111\n",
            "The initial error of API ETA on test set: 12.0901\n",
            "The mean absolute error (MAE) on test set: 2.0083\n",
            "The initial error of API ETA on test set: 2.5780\n",
            "\n",
            "RandomForest samples : 17\n",
            "The mean squared error (MSE) on test set: 7.1107\n",
            "The initial error of API ETA on test set: 12.0901\n",
            "The mean absolute error (MAE) on test set: 2.0083\n",
            "The initial error of API ETA on test set: 2.5780\n",
            "\n",
            "RandomForest samples : 18\n",
            "The mean squared error (MSE) on test set: 7.1077\n",
            "The initial error of API ETA on test set: 12.0901\n",
            "The mean absolute error (MAE) on test set: 2.0082\n",
            "The initial error of API ETA on test set: 2.5780\n",
            "\n",
            "RandomForest samples : 19\n",
            "The mean squared error (MSE) on test set: 7.1064\n",
            "The initial error of API ETA on test set: 12.0901\n",
            "The mean absolute error (MAE) on test set: 2.0082\n",
            "The initial error of API ETA on test set: 2.5780\n",
            "\n"
          ]
        }
      ]
    },
    {
      "cell_type": "code",
      "source": [
        "dict2 = {'samples':num_para_list, 'mse':mse_list, 'mse_api':mse_api_list, 'mae':mae_list, 'mae_api':mae_api_list}\n",
        "rf_df2 = pd.DataFrame(dict2)\n",
        "rf_df2.head()"
      ],
      "metadata": {
        "colab": {
          "base_uri": "https://localhost:8080/",
          "height": 206
        },
        "id": "sNnXp7tFa8bo",
        "outputId": "4698edfb-a44f-4c42-98fe-041324544628"
      },
      "execution_count": 175,
      "outputs": [
        {
          "output_type": "execute_result",
          "data": {
            "text/plain": [
              "   samples       mse    mse_api       mae   mae_api\n",
              "0        2  7.103294  12.090071  2.006553  2.578003\n",
              "1        3  7.109259  12.090071  2.007569  2.578003\n",
              "2        4  7.111286  12.090071  2.007534  2.578003\n",
              "3        5  7.107539  12.090071  2.007560  2.578003\n",
              "4        6  7.105800  12.090071  2.007434  2.578003"
            ],
            "text/html": [
              "\n",
              "  <div id=\"df-bae34a6e-12b9-4fb0-8745-9e927b847ec4\">\n",
              "    <div class=\"colab-df-container\">\n",
              "      <div>\n",
              "<style scoped>\n",
              "    .dataframe tbody tr th:only-of-type {\n",
              "        vertical-align: middle;\n",
              "    }\n",
              "\n",
              "    .dataframe tbody tr th {\n",
              "        vertical-align: top;\n",
              "    }\n",
              "\n",
              "    .dataframe thead th {\n",
              "        text-align: right;\n",
              "    }\n",
              "</style>\n",
              "<table border=\"1\" class=\"dataframe\">\n",
              "  <thead>\n",
              "    <tr style=\"text-align: right;\">\n",
              "      <th></th>\n",
              "      <th>samples</th>\n",
              "      <th>mse</th>\n",
              "      <th>mse_api</th>\n",
              "      <th>mae</th>\n",
              "      <th>mae_api</th>\n",
              "    </tr>\n",
              "  </thead>\n",
              "  <tbody>\n",
              "    <tr>\n",
              "      <th>0</th>\n",
              "      <td>2</td>\n",
              "      <td>7.103294</td>\n",
              "      <td>12.090071</td>\n",
              "      <td>2.006553</td>\n",
              "      <td>2.578003</td>\n",
              "    </tr>\n",
              "    <tr>\n",
              "      <th>1</th>\n",
              "      <td>3</td>\n",
              "      <td>7.109259</td>\n",
              "      <td>12.090071</td>\n",
              "      <td>2.007569</td>\n",
              "      <td>2.578003</td>\n",
              "    </tr>\n",
              "    <tr>\n",
              "      <th>2</th>\n",
              "      <td>4</td>\n",
              "      <td>7.111286</td>\n",
              "      <td>12.090071</td>\n",
              "      <td>2.007534</td>\n",
              "      <td>2.578003</td>\n",
              "    </tr>\n",
              "    <tr>\n",
              "      <th>3</th>\n",
              "      <td>5</td>\n",
              "      <td>7.107539</td>\n",
              "      <td>12.090071</td>\n",
              "      <td>2.007560</td>\n",
              "      <td>2.578003</td>\n",
              "    </tr>\n",
              "    <tr>\n",
              "      <th>4</th>\n",
              "      <td>6</td>\n",
              "      <td>7.105800</td>\n",
              "      <td>12.090071</td>\n",
              "      <td>2.007434</td>\n",
              "      <td>2.578003</td>\n",
              "    </tr>\n",
              "  </tbody>\n",
              "</table>\n",
              "</div>\n",
              "      <button class=\"colab-df-convert\" onclick=\"convertToInteractive('df-bae34a6e-12b9-4fb0-8745-9e927b847ec4')\"\n",
              "              title=\"Convert this dataframe to an interactive table.\"\n",
              "              style=\"display:none;\">\n",
              "        \n",
              "  <svg xmlns=\"http://www.w3.org/2000/svg\" height=\"24px\"viewBox=\"0 0 24 24\"\n",
              "       width=\"24px\">\n",
              "    <path d=\"M0 0h24v24H0V0z\" fill=\"none\"/>\n",
              "    <path d=\"M18.56 5.44l.94 2.06.94-2.06 2.06-.94-2.06-.94-.94-2.06-.94 2.06-2.06.94zm-11 1L8.5 8.5l.94-2.06 2.06-.94-2.06-.94L8.5 2.5l-.94 2.06-2.06.94zm10 10l.94 2.06.94-2.06 2.06-.94-2.06-.94-.94-2.06-.94 2.06-2.06.94z\"/><path d=\"M17.41 7.96l-1.37-1.37c-.4-.4-.92-.59-1.43-.59-.52 0-1.04.2-1.43.59L10.3 9.45l-7.72 7.72c-.78.78-.78 2.05 0 2.83L4 21.41c.39.39.9.59 1.41.59.51 0 1.02-.2 1.41-.59l7.78-7.78 2.81-2.81c.8-.78.8-2.07 0-2.86zM5.41 20L4 18.59l7.72-7.72 1.47 1.35L5.41 20z\"/>\n",
              "  </svg>\n",
              "      </button>\n",
              "      \n",
              "  <style>\n",
              "    .colab-df-container {\n",
              "      display:flex;\n",
              "      flex-wrap:wrap;\n",
              "      gap: 12px;\n",
              "    }\n",
              "\n",
              "    .colab-df-convert {\n",
              "      background-color: #E8F0FE;\n",
              "      border: none;\n",
              "      border-radius: 50%;\n",
              "      cursor: pointer;\n",
              "      display: none;\n",
              "      fill: #1967D2;\n",
              "      height: 32px;\n",
              "      padding: 0 0 0 0;\n",
              "      width: 32px;\n",
              "    }\n",
              "\n",
              "    .colab-df-convert:hover {\n",
              "      background-color: #E2EBFA;\n",
              "      box-shadow: 0px 1px 2px rgba(60, 64, 67, 0.3), 0px 1px 3px 1px rgba(60, 64, 67, 0.15);\n",
              "      fill: #174EA6;\n",
              "    }\n",
              "\n",
              "    [theme=dark] .colab-df-convert {\n",
              "      background-color: #3B4455;\n",
              "      fill: #D2E3FC;\n",
              "    }\n",
              "\n",
              "    [theme=dark] .colab-df-convert:hover {\n",
              "      background-color: #434B5C;\n",
              "      box-shadow: 0px 1px 3px 1px rgba(0, 0, 0, 0.15);\n",
              "      filter: drop-shadow(0px 1px 2px rgba(0, 0, 0, 0.3));\n",
              "      fill: #FFFFFF;\n",
              "    }\n",
              "  </style>\n",
              "\n",
              "      <script>\n",
              "        const buttonEl =\n",
              "          document.querySelector('#df-bae34a6e-12b9-4fb0-8745-9e927b847ec4 button.colab-df-convert');\n",
              "        buttonEl.style.display =\n",
              "          google.colab.kernel.accessAllowed ? 'block' : 'none';\n",
              "\n",
              "        async function convertToInteractive(key) {\n",
              "          const element = document.querySelector('#df-bae34a6e-12b9-4fb0-8745-9e927b847ec4');\n",
              "          const dataTable =\n",
              "            await google.colab.kernel.invokeFunction('convertToInteractive',\n",
              "                                                     [key], {});\n",
              "          if (!dataTable) return;\n",
              "\n",
              "          const docLinkHtml = 'Like what you see? Visit the ' +\n",
              "            '<a target=\"_blank\" href=https://colab.research.google.com/notebooks/data_table.ipynb>data table notebook</a>'\n",
              "            + ' to learn more about interactive tables.';\n",
              "          element.innerHTML = '';\n",
              "          dataTable['output_type'] = 'display_data';\n",
              "          await google.colab.output.renderOutput(dataTable, element);\n",
              "          const docLink = document.createElement('div');\n",
              "          docLink.innerHTML = docLinkHtml;\n",
              "          element.appendChild(docLink);\n",
              "        }\n",
              "      </script>\n",
              "    </div>\n",
              "  </div>\n",
              "  "
            ]
          },
          "metadata": {},
          "execution_count": 175
        }
      ]
    },
    {
      "cell_type": "markdown",
      "source": [
        "#### 최소 MSE 값"
      ],
      "metadata": {
        "id": "v1avzP7936Td"
      }
    },
    {
      "cell_type": "code",
      "source": [
        "rf_df2[ rf_df2['mse'] == rf_df2['mse'].min() ]"
      ],
      "metadata": {
        "colab": {
          "base_uri": "https://localhost:8080/",
          "height": 81
        },
        "id": "J3mDF7rk8zTa",
        "outputId": "91c04ab7-5c4c-40fa-c57a-46c79d880a1d"
      },
      "execution_count": 177,
      "outputs": [
        {
          "output_type": "execute_result",
          "data": {
            "text/plain": [
              "   samples       mse    mse_api       mae   mae_api\n",
              "5        7  7.098444  12.090071  2.006978  2.578003"
            ],
            "text/html": [
              "\n",
              "  <div id=\"df-961317c4-399e-492e-9e25-12c85a9cdc8f\">\n",
              "    <div class=\"colab-df-container\">\n",
              "      <div>\n",
              "<style scoped>\n",
              "    .dataframe tbody tr th:only-of-type {\n",
              "        vertical-align: middle;\n",
              "    }\n",
              "\n",
              "    .dataframe tbody tr th {\n",
              "        vertical-align: top;\n",
              "    }\n",
              "\n",
              "    .dataframe thead th {\n",
              "        text-align: right;\n",
              "    }\n",
              "</style>\n",
              "<table border=\"1\" class=\"dataframe\">\n",
              "  <thead>\n",
              "    <tr style=\"text-align: right;\">\n",
              "      <th></th>\n",
              "      <th>samples</th>\n",
              "      <th>mse</th>\n",
              "      <th>mse_api</th>\n",
              "      <th>mae</th>\n",
              "      <th>mae_api</th>\n",
              "    </tr>\n",
              "  </thead>\n",
              "  <tbody>\n",
              "    <tr>\n",
              "      <th>5</th>\n",
              "      <td>7</td>\n",
              "      <td>7.098444</td>\n",
              "      <td>12.090071</td>\n",
              "      <td>2.006978</td>\n",
              "      <td>2.578003</td>\n",
              "    </tr>\n",
              "  </tbody>\n",
              "</table>\n",
              "</div>\n",
              "      <button class=\"colab-df-convert\" onclick=\"convertToInteractive('df-961317c4-399e-492e-9e25-12c85a9cdc8f')\"\n",
              "              title=\"Convert this dataframe to an interactive table.\"\n",
              "              style=\"display:none;\">\n",
              "        \n",
              "  <svg xmlns=\"http://www.w3.org/2000/svg\" height=\"24px\"viewBox=\"0 0 24 24\"\n",
              "       width=\"24px\">\n",
              "    <path d=\"M0 0h24v24H0V0z\" fill=\"none\"/>\n",
              "    <path d=\"M18.56 5.44l.94 2.06.94-2.06 2.06-.94-2.06-.94-.94-2.06-.94 2.06-2.06.94zm-11 1L8.5 8.5l.94-2.06 2.06-.94-2.06-.94L8.5 2.5l-.94 2.06-2.06.94zm10 10l.94 2.06.94-2.06 2.06-.94-2.06-.94-.94-2.06-.94 2.06-2.06.94z\"/><path d=\"M17.41 7.96l-1.37-1.37c-.4-.4-.92-.59-1.43-.59-.52 0-1.04.2-1.43.59L10.3 9.45l-7.72 7.72c-.78.78-.78 2.05 0 2.83L4 21.41c.39.39.9.59 1.41.59.51 0 1.02-.2 1.41-.59l7.78-7.78 2.81-2.81c.8-.78.8-2.07 0-2.86zM5.41 20L4 18.59l7.72-7.72 1.47 1.35L5.41 20z\"/>\n",
              "  </svg>\n",
              "      </button>\n",
              "      \n",
              "  <style>\n",
              "    .colab-df-container {\n",
              "      display:flex;\n",
              "      flex-wrap:wrap;\n",
              "      gap: 12px;\n",
              "    }\n",
              "\n",
              "    .colab-df-convert {\n",
              "      background-color: #E8F0FE;\n",
              "      border: none;\n",
              "      border-radius: 50%;\n",
              "      cursor: pointer;\n",
              "      display: none;\n",
              "      fill: #1967D2;\n",
              "      height: 32px;\n",
              "      padding: 0 0 0 0;\n",
              "      width: 32px;\n",
              "    }\n",
              "\n",
              "    .colab-df-convert:hover {\n",
              "      background-color: #E2EBFA;\n",
              "      box-shadow: 0px 1px 2px rgba(60, 64, 67, 0.3), 0px 1px 3px 1px rgba(60, 64, 67, 0.15);\n",
              "      fill: #174EA6;\n",
              "    }\n",
              "\n",
              "    [theme=dark] .colab-df-convert {\n",
              "      background-color: #3B4455;\n",
              "      fill: #D2E3FC;\n",
              "    }\n",
              "\n",
              "    [theme=dark] .colab-df-convert:hover {\n",
              "      background-color: #434B5C;\n",
              "      box-shadow: 0px 1px 3px 1px rgba(0, 0, 0, 0.15);\n",
              "      filter: drop-shadow(0px 1px 2px rgba(0, 0, 0, 0.3));\n",
              "      fill: #FFFFFF;\n",
              "    }\n",
              "  </style>\n",
              "\n",
              "      <script>\n",
              "        const buttonEl =\n",
              "          document.querySelector('#df-961317c4-399e-492e-9e25-12c85a9cdc8f button.colab-df-convert');\n",
              "        buttonEl.style.display =\n",
              "          google.colab.kernel.accessAllowed ? 'block' : 'none';\n",
              "\n",
              "        async function convertToInteractive(key) {\n",
              "          const element = document.querySelector('#df-961317c4-399e-492e-9e25-12c85a9cdc8f');\n",
              "          const dataTable =\n",
              "            await google.colab.kernel.invokeFunction('convertToInteractive',\n",
              "                                                     [key], {});\n",
              "          if (!dataTable) return;\n",
              "\n",
              "          const docLinkHtml = 'Like what you see? Visit the ' +\n",
              "            '<a target=\"_blank\" href=https://colab.research.google.com/notebooks/data_table.ipynb>data table notebook</a>'\n",
              "            + ' to learn more about interactive tables.';\n",
              "          element.innerHTML = '';\n",
              "          dataTable['output_type'] = 'display_data';\n",
              "          await google.colab.output.renderOutput(dataTable, element);\n",
              "          const docLink = document.createElement('div');\n",
              "          docLink.innerHTML = docLinkHtml;\n",
              "          element.appendChild(docLink);\n",
              "        }\n",
              "      </script>\n",
              "    </div>\n",
              "  </div>\n",
              "  "
            ]
          },
          "metadata": {},
          "execution_count": 177
        }
      ]
    },
    {
      "cell_type": "markdown",
      "source": [
        "#### 결과 시각화"
      ],
      "metadata": {
        "id": "GpybpAoU7qid"
      }
    },
    {
      "cell_type": "code",
      "source": [
        "vis(rf_df2, \"RandomForestRegressor\", 'samples')"
      ],
      "metadata": {
        "colab": {
          "base_uri": "https://localhost:8080/",
          "height": 466
        },
        "id": "_AfNwAyA7tUb",
        "outputId": "8359fe66-b6c6-4d9d-8605-15e46ed4c77d"
      },
      "execution_count": 85,
      "outputs": [
        {
          "output_type": "display_data",
          "data": {
            "text/plain": [
              "<Figure size 864x504 with 1 Axes>"
            ],
            "image/png": "[encoded data removed]"
          },
          "metadata": {
            "needs_background": "light"
          }
        }
      ]
    },
    {
      "cell_type": "markdown",
      "source": [
        "## Lighgbm"
      ],
      "metadata": {
        "id": "UThuVygcfa_t"
      }
    },
    {
      "cell_type": "code",
      "source": [
        "lgb = LGBMRegressor(n_estimators=300, random_state=0)\n",
        "lgb.fit(x_train, y_train, early_stopping_rounds=100, eval_set=[(x_test, y_test)], eval_metric='mse')"
      ],
      "metadata": {
        "colab": {
          "base_uri": "https://localhost:8080/"
        },
        "id": "0fAgIXPhfk76",
        "outputId": "98ff507d-8162-43c4-a2a5-14ecacd846c6"
      },
      "execution_count": 178,
      "outputs": [
        {
          "output_type": "stream",
          "name": "stdout",
          "text": [
            "[1]\tvalid_0's l2: 13.9155\tvalid_0's l2: 13.9155\n",
            "Training until validation scores don't improve for 100 rounds.\n",
            "[2]\tvalid_0's l2: 12.6089\tvalid_0's l2: 12.6089\n",
            "[3]\tvalid_0's l2: 11.5635\tvalid_0's l2: 11.5635\n",
            "[4]\tvalid_0's l2: 10.7117\tvalid_0's l2: 10.7117\n",
            "[5]\tvalid_0's l2: 10.0247\tvalid_0's l2: 10.0247\n",
            "[6]\tvalid_0's l2: 9.45706\tvalid_0's l2: 9.45706\n",
            "[7]\tvalid_0's l2: 9.00977\tvalid_0's l2: 9.00977\n",
            "[8]\tvalid_0's l2: 8.64659\tvalid_0's l2: 8.64659\n",
            "[9]\tvalid_0's l2: 8.34285\tvalid_0's l2: 8.34285\n",
            "[10]\tvalid_0's l2: 8.10422\tvalid_0's l2: 8.10422\n",
            "[11]\tvalid_0's l2: 7.90299\tvalid_0's l2: 7.90299\n",
            "[12]\tvalid_0's l2: 7.74246\tvalid_0's l2: 7.74246\n",
            "[13]\tvalid_0's l2: 7.60631\tvalid_0's l2: 7.60631\n",
            "[14]\tvalid_0's l2: 7.49789\tvalid_0's l2: 7.49789\n",
            "[15]\tvalid_0's l2: 7.41365\tvalid_0's l2: 7.41365\n",
            "[16]\tvalid_0's l2: 7.35093\tvalid_0's l2: 7.35093\n",
            "[17]\tvalid_0's l2: 7.30035\tvalid_0's l2: 7.30035\n",
            "[18]\tvalid_0's l2: 7.25372\tvalid_0's l2: 7.25372\n",
            "[19]\tvalid_0's l2: 7.21824\tvalid_0's l2: 7.21824\n",
            "[20]\tvalid_0's l2: 7.19502\tvalid_0's l2: 7.19502\n",
            "[21]\tvalid_0's l2: 7.16635\tvalid_0's l2: 7.16635\n",
            "[22]\tvalid_0's l2: 7.15703\tvalid_0's l2: 7.15703\n",
            "[23]\tvalid_0's l2: 7.14869\tvalid_0's l2: 7.14869\n",
            "[24]\tvalid_0's l2: 7.13889\tvalid_0's l2: 7.13889\n",
            "[25]\tvalid_0's l2: 7.12473\tvalid_0's l2: 7.12473\n",
            "[26]\tvalid_0's l2: 7.11998\tvalid_0's l2: 7.11998\n",
            "[27]\tvalid_0's l2: 7.11648\tvalid_0's l2: 7.11648\n",
            "[28]\tvalid_0's l2: 7.11374\tvalid_0's l2: 7.11374\n",
            "[29]\tvalid_0's l2: 7.10161\tvalid_0's l2: 7.10161\n",
            "[30]\tvalid_0's l2: 7.09742\tvalid_0's l2: 7.09742\n",
            "[31]\tvalid_0's l2: 7.09024\tvalid_0's l2: 7.09024\n",
            "[32]\tvalid_0's l2: 7.09016\tvalid_0's l2: 7.09016\n",
            "[33]\tvalid_0's l2: 7.09225\tvalid_0's l2: 7.09225\n",
            "[34]\tvalid_0's l2: 7.09343\tvalid_0's l2: 7.09343\n",
            "[35]\tvalid_0's l2: 7.08767\tvalid_0's l2: 7.08767\n",
            "[36]\tvalid_0's l2: 7.08355\tvalid_0's l2: 7.08355\n",
            "[37]\tvalid_0's l2: 7.08354\tvalid_0's l2: 7.08354\n",
            "[38]\tvalid_0's l2: 7.08518\tvalid_0's l2: 7.08518\n",
            "[39]\tvalid_0's l2: 7.08384\tvalid_0's l2: 7.08384\n",
            "[40]\tvalid_0's l2: 7.08366\tvalid_0's l2: 7.08366\n",
            "[41]\tvalid_0's l2: 7.08604\tvalid_0's l2: 7.08604\n",
            "[42]\tvalid_0's l2: 7.08939\tvalid_0's l2: 7.08939\n",
            "[43]\tvalid_0's l2: 7.08954\tvalid_0's l2: 7.08954\n",
            "[44]\tvalid_0's l2: 7.09223\tvalid_0's l2: 7.09223\n",
            "[45]\tvalid_0's l2: 7.09726\tvalid_0's l2: 7.09726\n",
            "[46]\tvalid_0's l2: 7.10046\tvalid_0's l2: 7.10046\n",
            "[47]\tvalid_0's l2: 7.10474\tvalid_0's l2: 7.10474\n",
            "[48]\tvalid_0's l2: 7.10587\tvalid_0's l2: 7.10587\n",
            "[49]\tvalid_0's l2: 7.10691\tvalid_0's l2: 7.10691\n",
            "[50]\tvalid_0's l2: 7.10863\tvalid_0's l2: 7.10863\n",
            "[51]\tvalid_0's l2: 7.10899\tvalid_0's l2: 7.10899\n",
            "[52]\tvalid_0's l2: 7.10725\tvalid_0's l2: 7.10725\n",
            "[53]\tvalid_0's l2: 7.11176\tvalid_0's l2: 7.11176\n",
            "[54]\tvalid_0's l2: 7.11873\tvalid_0's l2: 7.11873\n",
            "[55]\tvalid_0's l2: 7.11549\tvalid_0's l2: 7.11549\n",
            "[56]\tvalid_0's l2: 7.11074\tvalid_0's l2: 7.11074\n",
            "[57]\tvalid_0's l2: 7.11049\tvalid_0's l2: 7.11049\n",
            "[58]\tvalid_0's l2: 7.11345\tvalid_0's l2: 7.11345\n",
            "[59]\tvalid_0's l2: 7.11562\tvalid_0's l2: 7.11562\n",
            "[60]\tvalid_0's l2: 7.11382\tvalid_0's l2: 7.11382\n",
            "[61]\tvalid_0's l2: 7.11564\tvalid_0's l2: 7.11564\n",
            "[62]\tvalid_0's l2: 7.11421\tvalid_0's l2: 7.11421\n",
            "[63]\tvalid_0's l2: 7.1151\tvalid_0's l2: 7.1151\n",
            "[64]\tvalid_0's l2: 7.11572\tvalid_0's l2: 7.11572\n",
            "[65]\tvalid_0's l2: 7.11927\tvalid_0's l2: 7.11927\n",
            "[66]\tvalid_0's l2: 7.12099\tvalid_0's l2: 7.12099\n",
            "[67]\tvalid_0's l2: 7.11918\tvalid_0's l2: 7.11918\n",
            "[68]\tvalid_0's l2: 7.11745\tvalid_0's l2: 7.11745\n",
            "[69]\tvalid_0's l2: 7.11527\tvalid_0's l2: 7.11527\n",
            "[70]\tvalid_0's l2: 7.11987\tvalid_0's l2: 7.11987\n",
            "[71]\tvalid_0's l2: 7.12291\tvalid_0's l2: 7.12291\n",
            "[72]\tvalid_0's l2: 7.1223\tvalid_0's l2: 7.1223\n",
            "[73]\tvalid_0's l2: 7.12315\tvalid_0's l2: 7.12315\n",
            "[74]\tvalid_0's l2: 7.12181\tvalid_0's l2: 7.12181\n",
            "[75]\tvalid_0's l2: 7.12332\tvalid_0's l2: 7.12332\n",
            "[76]\tvalid_0's l2: 7.12344\tvalid_0's l2: 7.12344\n",
            "[77]\tvalid_0's l2: 7.12329\tvalid_0's l2: 7.12329\n",
            "[78]\tvalid_0's l2: 7.12472\tvalid_0's l2: 7.12472\n",
            "[79]\tvalid_0's l2: 7.12896\tvalid_0's l2: 7.12896\n",
            "[80]\tvalid_0's l2: 7.12927\tvalid_0's l2: 7.12927\n",
            "[81]\tvalid_0's l2: 7.13019\tvalid_0's l2: 7.13019\n",
            "[82]\tvalid_0's l2: 7.13347\tvalid_0's l2: 7.13347\n",
            "[83]\tvalid_0's l2: 7.13051\tvalid_0's l2: 7.13051\n",
            "[84]\tvalid_0's l2: 7.13353\tvalid_0's l2: 7.13353\n",
            "[85]\tvalid_0's l2: 7.13198\tvalid_0's l2: 7.13198\n",
            "[86]\tvalid_0's l2: 7.13377\tvalid_0's l2: 7.13377\n",
            "[87]\tvalid_0's l2: 7.13604\tvalid_0's l2: 7.13604\n",
            "[88]\tvalid_0's l2: 7.13792\tvalid_0's l2: 7.13792\n",
            "[89]\tvalid_0's l2: 7.14165\tvalid_0's l2: 7.14165\n",
            "[90]\tvalid_0's l2: 7.14252\tvalid_0's l2: 7.14252\n",
            "[91]\tvalid_0's l2: 7.14176\tvalid_0's l2: 7.14176\n",
            "[92]\tvalid_0's l2: 7.14756\tvalid_0's l2: 7.14756\n",
            "[93]\tvalid_0's l2: 7.15103\tvalid_0's l2: 7.15103\n",
            "[94]\tvalid_0's l2: 7.15164\tvalid_0's l2: 7.15164\n",
            "[95]\tvalid_0's l2: 7.14828\tvalid_0's l2: 7.14828\n",
            "[96]\tvalid_0's l2: 7.14818\tvalid_0's l2: 7.14818\n",
            "[97]\tvalid_0's l2: 7.15008\tvalid_0's l2: 7.15008\n",
            "[98]\tvalid_0's l2: 7.15263\tvalid_0's l2: 7.15263\n",
            "[99]\tvalid_0's l2: 7.14875\tvalid_0's l2: 7.14875\n",
            "[100]\tvalid_0's l2: 7.15378\tvalid_0's l2: 7.15378\n",
            "[101]\tvalid_0's l2: 7.1541\tvalid_0's l2: 7.1541\n",
            "[102]\tvalid_0's l2: 7.15801\tvalid_0's l2: 7.15801\n",
            "[103]\tvalid_0's l2: 7.16644\tvalid_0's l2: 7.16644\n",
            "[104]\tvalid_0's l2: 7.16985\tvalid_0's l2: 7.16985\n",
            "[105]\tvalid_0's l2: 7.17646\tvalid_0's l2: 7.17646\n",
            "[106]\tvalid_0's l2: 7.18617\tvalid_0's l2: 7.18617\n",
            "[107]\tvalid_0's l2: 7.18842\tvalid_0's l2: 7.18842\n",
            "[108]\tvalid_0's l2: 7.19079\tvalid_0's l2: 7.19079\n",
            "[109]\tvalid_0's l2: 7.19239\tvalid_0's l2: 7.19239\n",
            "[110]\tvalid_0's l2: 7.19332\tvalid_0's l2: 7.19332\n",
            "[111]\tvalid_0's l2: 7.19803\tvalid_0's l2: 7.19803\n",
            "[112]\tvalid_0's l2: 7.19927\tvalid_0's l2: 7.19927\n",
            "[113]\tvalid_0's l2: 7.20372\tvalid_0's l2: 7.20372\n",
            "[114]\tvalid_0's l2: 7.20159\tvalid_0's l2: 7.20159\n",
            "[115]\tvalid_0's l2: 7.19923\tvalid_0's l2: 7.19923\n",
            "[116]\tvalid_0's l2: 7.20348\tvalid_0's l2: 7.20348\n",
            "[117]\tvalid_0's l2: 7.20808\tvalid_0's l2: 7.20808\n",
            "[118]\tvalid_0's l2: 7.20992\tvalid_0's l2: 7.20992\n",
            "[119]\tvalid_0's l2: 7.21071\tvalid_0's l2: 7.21071\n",
            "[120]\tvalid_0's l2: 7.21086\tvalid_0's l2: 7.21086\n",
            "[121]\tvalid_0's l2: 7.21713\tvalid_0's l2: 7.21713\n",
            "[122]\tvalid_0's l2: 7.22273\tvalid_0's l2: 7.22273\n",
            "[123]\tvalid_0's l2: 7.22702\tvalid_0's l2: 7.22702\n",
            "[124]\tvalid_0's l2: 7.22885\tvalid_0's l2: 7.22885\n",
            "[125]\tvalid_0's l2: 7.22902\tvalid_0's l2: 7.22902\n",
            "[126]\tvalid_0's l2: 7.23009\tvalid_0's l2: 7.23009\n",
            "[127]\tvalid_0's l2: 7.23131\tvalid_0's l2: 7.23131\n",
            "[128]\tvalid_0's l2: 7.23242\tvalid_0's l2: 7.23242\n",
            "[129]\tvalid_0's l2: 7.24341\tvalid_0's l2: 7.24341\n",
            "[130]\tvalid_0's l2: 7.24572\tvalid_0's l2: 7.24572\n",
            "[131]\tvalid_0's l2: 7.2466\tvalid_0's l2: 7.2466\n",
            "[132]\tvalid_0's l2: 7.25056\tvalid_0's l2: 7.25056\n",
            "[133]\tvalid_0's l2: 7.25307\tvalid_0's l2: 7.25307\n",
            "[134]\tvalid_0's l2: 7.25883\tvalid_0's l2: 7.25883\n",
            "[135]\tvalid_0's l2: 7.26073\tvalid_0's l2: 7.26073\n",
            "[136]\tvalid_0's l2: 7.26139\tvalid_0's l2: 7.26139\n",
            "[137]\tvalid_0's l2: 7.26571\tvalid_0's l2: 7.26571\n",
            "Early stopping, best iteration is:\n",
            "[37]\tvalid_0's l2: 7.08354\tvalid_0's l2: 7.08354\n"
          ]
        },
        {
          "output_type": "execute_result",
          "data": {
            "text/plain": [
              "LGBMRegressor(n_estimators=300, random_state=0)"
            ]
          },
          "metadata": {},
          "execution_count": 178
        }
      ]
    },
    {
      "cell_type": "code",
      "source": [
        "pred = lgb.predict(x_test)\n",
        "api_eta = x_test.iloc[:,0]\n",
        "mse = mean_squared_error(y_test, pred)\n",
        "mse_api = mean_squared_error(y_test, api_eta)\n",
        "mse_list.append(mse)\n",
        "mse_api_list.append(mse_api)\n",
        "print( \"The mean squared error (MSE) on test set: {:.4f}\".format(mse) )\n",
        "print( \"The initial error of API ETA on test set: {:.4f}\".format(mse_api) )\n",
        "mae = mean_absolute_error(y_test, pred)\n",
        "mae_api = mean_absolute_error(y_test, api_eta)\n",
        "mae_list.append(mae)\n",
        "mae_api_list.append(mae_api)\n",
        "print( \"The mean absolute error (MAE) on test set: {:.4f}\".format(mae) )\n",
        "print( \"The initial error of API ETA on test set: {:.4f}\".format(mae_api) )"
      ],
      "metadata": {
        "colab": {
          "base_uri": "https://localhost:8080/"
        },
        "id": "0cILZihef05L",
        "outputId": "fba687aa-1b2d-47b3-8306-aa89ebfdd46a"
      },
      "execution_count": 179,
      "outputs": [
        {
          "output_type": "stream",
          "name": "stdout",
          "text": [
            "The mean squared error (MSE) on test set: 7.0835\n",
            "The initial error of API ETA on test set: 12.0901\n",
            "The mean absolute error (MAE) on test set: 2.0063\n",
            "The initial error of API ETA on test set: 2.5780\n"
          ]
        }
      ]
    },
    {
      "cell_type": "markdown",
      "source": [
        "## LinearRegression"
      ],
      "metadata": {
        "id": "v2EU_61J4mvP"
      }
    },
    {
      "cell_type": "code",
      "source": [
        "lr = LinearRegression()\n",
        "lr.fit(x_train, y_train)"
      ],
      "metadata": {
        "colab": {
          "base_uri": "https://localhost:8080/"
        },
        "id": "6cMcKNyO4rxC",
        "outputId": "8ea8fba8-e689-499f-f8d4-5b4a01bba9d2"
      },
      "execution_count": 180,
      "outputs": [
        {
          "output_type": "execute_result",
          "data": {
            "text/plain": [
              "LinearRegression()"
            ]
          },
          "metadata": {},
          "execution_count": 180
        }
      ]
    },
    {
      "cell_type": "code",
      "source": [
        "pred = lr.predict(x_test)\n",
        "api_eta = x_test.iloc[:,0]\n",
        "mse = mean_squared_error(y_test, pred)\n",
        "mse_api = mean_squared_error(y_test, api_eta)\n",
        "mse_list.append(mse)\n",
        "mse_api_list.append(mse_api)\n",
        "print( \"The mean squared error (MSE) on test set: {:.4f}\".format(mse) )\n",
        "print( \"The initial error of API ETA on test set: {:.4f}\".format(mse_api) )\n",
        "mae = mean_absolute_error(y_test, pred)\n",
        "mae_api = mean_absolute_error(y_test, api_eta)\n",
        "mae_list.append(mae)\n",
        "mae_api_list.append(mae_api)\n",
        "print( \"The mean absolute error (MAE) on test set: {:.4f}\".format(mae) )\n",
        "print( \"The initial error of API ETA on test set: {:.4f}\".format(mae_api) )"
      ],
      "metadata": {
        "colab": {
          "base_uri": "https://localhost:8080/"
        },
        "id": "F_a3PfwR4rvH",
        "outputId": "393b084e-1132-4999-c5a0-62b817337f76"
      },
      "execution_count": 181,
      "outputs": [
        {
          "output_type": "stream",
          "name": "stdout",
          "text": [
            "The mean squared error (MSE) on test set: 7.3364\n",
            "The initial error of API ETA on test set: 12.0901\n",
            "The mean absolute error (MAE) on test set: 2.0566\n",
            "The initial error of API ETA on test set: 2.5780\n"
          ]
        }
      ]
    },
    {
      "cell_type": "markdown",
      "source": [
        "## Ridge"
      ],
      "metadata": {
        "id": "n8uDBkQJ5Myp"
      }
    },
    {
      "cell_type": "code",
      "source": [
        "alpha_list = [0.001, 0.01, 0.1, 1]\n",
        "mse_list = []\n",
        "mse_api_list = []\n",
        "mae_list = []\n",
        "mae_api_list = []\n",
        "for a in alpha_list:\n",
        "  rg = Ridge(alpha=a, random_state=0)\n",
        "  rg.fit(x_train, y_train)\n",
        "  pred = rg.predict(x_test)\n",
        "  api_eta = x_test.iloc[:,0]\n",
        "  mse = mean_squared_error(y_test, pred)\n",
        "  mse_api = mean_squared_error(y_test, api_eta)\n",
        "  mse_list.append(mse)\n",
        "  mse_api_list.append(mse_api)\n",
        "  print(f'Ridge alpha : {a}')\n",
        "  print( \"The mean squared error (MSE) on test set: {:.4f}\".format(mse) )\n",
        "  print( \"The initial error of API ETA on test set: {:.4f}\".format(mse_api) )\n",
        "  mae = mean_absolute_error(y_test, pred)\n",
        "  mae_api = mean_absolute_error(y_test, api_eta)\n",
        "  mae_list.append(mae)\n",
        "  mae_api_list.append(mae_api)\n",
        "  print( \"The mean absolute error (MAE) on test set: {:.4f}\".format(mae) )\n",
        "  print( \"The initial error of API ETA on test set: {:.4f}\".format(mae_api) )\n",
        "  print()"
      ],
      "metadata": {
        "colab": {
          "base_uri": "https://localhost:8080/"
        },
        "id": "2rmOGpu35SVR",
        "outputId": "a2e2bc19-6345-48a6-d54c-ddcb052c872a"
      },
      "execution_count": 182,
      "outputs": [
        {
          "output_type": "stream",
          "name": "stdout",
          "text": [
            "Ridge alpha : 0.001\n",
            "The mean squared error (MSE) on test set: 7.3364\n",
            "The initial error of API ETA on test set: 12.0901\n",
            "The mean absolute error (MAE) on test set: 2.0566\n",
            "The initial error of API ETA on test set: 2.5780\n",
            "\n",
            "Ridge alpha : 0.01\n",
            "The mean squared error (MSE) on test set: 7.3364\n",
            "The initial error of API ETA on test set: 12.0901\n",
            "The mean absolute error (MAE) on test set: 2.0566\n",
            "The initial error of API ETA on test set: 2.5780\n",
            "\n",
            "Ridge alpha : 0.1\n",
            "The mean squared error (MSE) on test set: 7.3364\n",
            "The initial error of API ETA on test set: 12.0901\n",
            "The mean absolute error (MAE) on test set: 2.0566\n",
            "The initial error of API ETA on test set: 2.5780\n",
            "\n",
            "Ridge alpha : 1\n",
            "The mean squared error (MSE) on test set: 7.3364\n",
            "The initial error of API ETA on test set: 12.0901\n",
            "The mean absolute error (MAE) on test set: 2.0566\n",
            "The initial error of API ETA on test set: 2.5780\n",
            "\n"
          ]
        }
      ]
    },
    {
      "cell_type": "markdown",
      "source": [
        "### 결과 df"
      ],
      "metadata": {
        "id": "76AmajN-6VH0"
      }
    },
    {
      "cell_type": "code",
      "source": [
        "dict3 = {'alpha':alpha_list, 'mse':mse_list, 'mse_api':mse_api_list, 'mae':mae_list, 'mae_api':mae_api_list}\n",
        "rg_df = pd.DataFrame(dict3)"
      ],
      "metadata": {
        "id": "zynM4oca5STa"
      },
      "execution_count": 183,
      "outputs": []
    },
    {
      "cell_type": "code",
      "source": [
        "rg_df"
      ],
      "metadata": {
        "colab": {
          "base_uri": "https://localhost:8080/",
          "height": 175
        },
        "id": "vFdzUEag6ao8",
        "outputId": "cea07bf7-4958-4432-f329-b69246c1fde3"
      },
      "execution_count": 184,
      "outputs": [
        {
          "output_type": "execute_result",
          "data": {
            "text/plain": [
              "   alpha       mse    mse_api       mae   mae_api\n",
              "0  0.001  7.336441  12.090071  2.056619  2.578003\n",
              "1  0.010  7.336441  12.090071  2.056619  2.578003\n",
              "2  0.100  7.336441  12.090071  2.056619  2.578003\n",
              "3  1.000  7.336438  12.090071  2.056619  2.578003"
            ],
            "text/html": [
              "\n",
              "  <div id=\"df-8f43c70c-5389-4339-961e-066ddd3cbfe9\">\n",
              "    <div class=\"colab-df-container\">\n",
              "      <div>\n",
              "<style scoped>\n",
              "    .dataframe tbody tr th:only-of-type {\n",
              "        vertical-align: middle;\n",
              "    }\n",
              "\n",
              "    .dataframe tbody tr th {\n",
              "        vertical-align: top;\n",
              "    }\n",
              "\n",
              "    .dataframe thead th {\n",
              "        text-align: right;\n",
              "    }\n",
              "</style>\n",
              "<table border=\"1\" class=\"dataframe\">\n",
              "  <thead>\n",
              "    <tr style=\"text-align: right;\">\n",
              "      <th></th>\n",
              "      <th>alpha</th>\n",
              "      <th>mse</th>\n",
              "      <th>mse_api</th>\n",
              "      <th>mae</th>\n",
              "      <th>mae_api</th>\n",
              "    </tr>\n",
              "  </thead>\n",
              "  <tbody>\n",
              "    <tr>\n",
              "      <th>0</th>\n",
              "      <td>0.001</td>\n",
              "      <td>7.336441</td>\n",
              "      <td>12.090071</td>\n",
              "      <td>2.056619</td>\n",
              "      <td>2.578003</td>\n",
              "    </tr>\n",
              "    <tr>\n",
              "      <th>1</th>\n",
              "      <td>0.010</td>\n",
              "      <td>7.336441</td>\n",
              "      <td>12.090071</td>\n",
              "      <td>2.056619</td>\n",
              "      <td>2.578003</td>\n",
              "    </tr>\n",
              "    <tr>\n",
              "      <th>2</th>\n",
              "      <td>0.100</td>\n",
              "      <td>7.336441</td>\n",
              "      <td>12.090071</td>\n",
              "      <td>2.056619</td>\n",
              "      <td>2.578003</td>\n",
              "    </tr>\n",
              "    <tr>\n",
              "      <th>3</th>\n",
              "      <td>1.000</td>\n",
              "      <td>7.336438</td>\n",
              "      <td>12.090071</td>\n",
              "      <td>2.056619</td>\n",
              "      <td>2.578003</td>\n",
              "    </tr>\n",
              "  </tbody>\n",
              "</table>\n",
              "</div>\n",
              "      <button class=\"colab-df-convert\" onclick=\"convertToInteractive('df-8f43c70c-5389-4339-961e-066ddd3cbfe9')\"\n",
              "              title=\"Convert this dataframe to an interactive table.\"\n",
              "              style=\"display:none;\">\n",
              "        \n",
              "  <svg xmlns=\"http://www.w3.org/2000/svg\" height=\"24px\"viewBox=\"0 0 24 24\"\n",
              "       width=\"24px\">\n",
              "    <path d=\"M0 0h24v24H0V0z\" fill=\"none\"/>\n",
              "    <path d=\"M18.56 5.44l.94 2.06.94-2.06 2.06-.94-2.06-.94-.94-2.06-.94 2.06-2.06.94zm-11 1L8.5 8.5l.94-2.06 2.06-.94-2.06-.94L8.5 2.5l-.94 2.06-2.06.94zm10 10l.94 2.06.94-2.06 2.06-.94-2.06-.94-.94-2.06-.94 2.06-2.06.94z\"/><path d=\"M17.41 7.96l-1.37-1.37c-.4-.4-.92-.59-1.43-.59-.52 0-1.04.2-1.43.59L10.3 9.45l-7.72 7.72c-.78.78-.78 2.05 0 2.83L4 21.41c.39.39.9.59 1.41.59.51 0 1.02-.2 1.41-.59l7.78-7.78 2.81-2.81c.8-.78.8-2.07 0-2.86zM5.41 20L4 18.59l7.72-7.72 1.47 1.35L5.41 20z\"/>\n",
              "  </svg>\n",
              "      </button>\n",
              "      \n",
              "  <style>\n",
              "    .colab-df-container {\n",
              "      display:flex;\n",
              "      flex-wrap:wrap;\n",
              "      gap: 12px;\n",
              "    }\n",
              "\n",
              "    .colab-df-convert {\n",
              "      background-color: #E8F0FE;\n",
              "      border: none;\n",
              "      border-radius: 50%;\n",
              "      cursor: pointer;\n",
              "      display: none;\n",
              "      fill: #1967D2;\n",
              "      height: 32px;\n",
              "      padding: 0 0 0 0;\n",
              "      width: 32px;\n",
              "    }\n",
              "\n",
              "    .colab-df-convert:hover {\n",
              "      background-color: #E2EBFA;\n",
              "      box-shadow: 0px 1px 2px rgba(60, 64, 67, 0.3), 0px 1px 3px 1px rgba(60, 64, 67, 0.15);\n",
              "      fill: #174EA6;\n",
              "    }\n",
              "\n",
              "    [theme=dark] .colab-df-convert {\n",
              "      background-color: #3B4455;\n",
              "      fill: #D2E3FC;\n",
              "    }\n",
              "\n",
              "    [theme=dark] .colab-df-convert:hover {\n",
              "      background-color: #434B5C;\n",
              "      box-shadow: 0px 1px 3px 1px rgba(0, 0, 0, 0.15);\n",
              "      filter: drop-shadow(0px 1px 2px rgba(0, 0, 0, 0.3));\n",
              "      fill: #FFFFFF;\n",
              "    }\n",
              "  </style>\n",
              "\n",
              "      <script>\n",
              "        const buttonEl =\n",
              "          document.querySelector('#df-8f43c70c-5389-4339-961e-066ddd3cbfe9 button.colab-df-convert');\n",
              "        buttonEl.style.display =\n",
              "          google.colab.kernel.accessAllowed ? 'block' : 'none';\n",
              "\n",
              "        async function convertToInteractive(key) {\n",
              "          const element = document.querySelector('#df-8f43c70c-5389-4339-961e-066ddd3cbfe9');\n",
              "          const dataTable =\n",
              "            await google.colab.kernel.invokeFunction('convertToInteractive',\n",
              "                                                     [key], {});\n",
              "          if (!dataTable) return;\n",
              "\n",
              "          const docLinkHtml = 'Like what you see? Visit the ' +\n",
              "            '<a target=\"_blank\" href=https://colab.research.google.com/notebooks/data_table.ipynb>data table notebook</a>'\n",
              "            + ' to learn more about interactive tables.';\n",
              "          element.innerHTML = '';\n",
              "          dataTable['output_type'] = 'display_data';\n",
              "          await google.colab.output.renderOutput(dataTable, element);\n",
              "          const docLink = document.createElement('div');\n",
              "          docLink.innerHTML = docLinkHtml;\n",
              "          element.appendChild(docLink);\n",
              "        }\n",
              "      </script>\n",
              "    </div>\n",
              "  </div>\n",
              "  "
            ]
          },
          "metadata": {},
          "execution_count": 184
        }
      ]
    },
    {
      "cell_type": "markdown",
      "source": [
        "### 최소 MSE 값"
      ],
      "metadata": {
        "id": "Ksz88oAs8-cz"
      }
    },
    {
      "cell_type": "code",
      "source": [
        "rg_df[ rg_df['mse'] == rg_df['mse'].min() ]"
      ],
      "metadata": {
        "colab": {
          "base_uri": "https://localhost:8080/",
          "height": 81
        },
        "id": "As099GKG9BMp",
        "outputId": "88de2610-083e-4ca9-d6b8-6796b03a748c"
      },
      "execution_count": 185,
      "outputs": [
        {
          "output_type": "execute_result",
          "data": {
            "text/plain": [
              "   alpha       mse    mse_api       mae   mae_api\n",
              "3    1.0  7.336438  12.090071  2.056619  2.578003"
            ],
            "text/html": [
              "\n",
              "  <div id=\"df-7361a5e1-9faa-4036-a803-7d39ea2d93e3\">\n",
              "    <div class=\"colab-df-container\">\n",
              "      <div>\n",
              "<style scoped>\n",
              "    .dataframe tbody tr th:only-of-type {\n",
              "        vertical-align: middle;\n",
              "    }\n",
              "\n",
              "    .dataframe tbody tr th {\n",
              "        vertical-align: top;\n",
              "    }\n",
              "\n",
              "    .dataframe thead th {\n",
              "        text-align: right;\n",
              "    }\n",
              "</style>\n",
              "<table border=\"1\" class=\"dataframe\">\n",
              "  <thead>\n",
              "    <tr style=\"text-align: right;\">\n",
              "      <th></th>\n",
              "      <th>alpha</th>\n",
              "      <th>mse</th>\n",
              "      <th>mse_api</th>\n",
              "      <th>mae</th>\n",
              "      <th>mae_api</th>\n",
              "    </tr>\n",
              "  </thead>\n",
              "  <tbody>\n",
              "    <tr>\n",
              "      <th>3</th>\n",
              "      <td>1.0</td>\n",
              "      <td>7.336438</td>\n",
              "      <td>12.090071</td>\n",
              "      <td>2.056619</td>\n",
              "      <td>2.578003</td>\n",
              "    </tr>\n",
              "  </tbody>\n",
              "</table>\n",
              "</div>\n",
              "      <button class=\"colab-df-convert\" onclick=\"convertToInteractive('df-7361a5e1-9faa-4036-a803-7d39ea2d93e3')\"\n",
              "              title=\"Convert this dataframe to an interactive table.\"\n",
              "              style=\"display:none;\">\n",
              "        \n",
              "  <svg xmlns=\"http://www.w3.org/2000/svg\" height=\"24px\"viewBox=\"0 0 24 24\"\n",
              "       width=\"24px\">\n",
              "    <path d=\"M0 0h24v24H0V0z\" fill=\"none\"/>\n",
              "    <path d=\"M18.56 5.44l.94 2.06.94-2.06 2.06-.94-2.06-.94-.94-2.06-.94 2.06-2.06.94zm-11 1L8.5 8.5l.94-2.06 2.06-.94-2.06-.94L8.5 2.5l-.94 2.06-2.06.94zm10 10l.94 2.06.94-2.06 2.06-.94-2.06-.94-.94-2.06-.94 2.06-2.06.94z\"/><path d=\"M17.41 7.96l-1.37-1.37c-.4-.4-.92-.59-1.43-.59-.52 0-1.04.2-1.43.59L10.3 9.45l-7.72 7.72c-.78.78-.78 2.05 0 2.83L4 21.41c.39.39.9.59 1.41.59.51 0 1.02-.2 1.41-.59l7.78-7.78 2.81-2.81c.8-.78.8-2.07 0-2.86zM5.41 20L4 18.59l7.72-7.72 1.47 1.35L5.41 20z\"/>\n",
              "  </svg>\n",
              "      </button>\n",
              "      \n",
              "  <style>\n",
              "    .colab-df-container {\n",
              "      display:flex;\n",
              "      flex-wrap:wrap;\n",
              "      gap: 12px;\n",
              "    }\n",
              "\n",
              "    .colab-df-convert {\n",
              "      background-color: #E8F0FE;\n",
              "      border: none;\n",
              "      border-radius: 50%;\n",
              "      cursor: pointer;\n",
              "      display: none;\n",
              "      fill: #1967D2;\n",
              "      height: 32px;\n",
              "      padding: 0 0 0 0;\n",
              "      width: 32px;\n",
              "    }\n",
              "\n",
              "    .colab-df-convert:hover {\n",
              "      background-color: #E2EBFA;\n",
              "      box-shadow: 0px 1px 2px rgba(60, 64, 67, 0.3), 0px 1px 3px 1px rgba(60, 64, 67, 0.15);\n",
              "      fill: #174EA6;\n",
              "    }\n",
              "\n",
              "    [theme=dark] .colab-df-convert {\n",
              "      background-color: #3B4455;\n",
              "      fill: #D2E3FC;\n",
              "    }\n",
              "\n",
              "    [theme=dark] .colab-df-convert:hover {\n",
              "      background-color: #434B5C;\n",
              "      box-shadow: 0px 1px 3px 1px rgba(0, 0, 0, 0.15);\n",
              "      filter: drop-shadow(0px 1px 2px rgba(0, 0, 0, 0.3));\n",
              "      fill: #FFFFFF;\n",
              "    }\n",
              "  </style>\n",
              "\n",
              "      <script>\n",
              "        const buttonEl =\n",
              "          document.querySelector('#df-7361a5e1-9faa-4036-a803-7d39ea2d93e3 button.colab-df-convert');\n",
              "        buttonEl.style.display =\n",
              "          google.colab.kernel.accessAllowed ? 'block' : 'none';\n",
              "\n",
              "        async function convertToInteractive(key) {\n",
              "          const element = document.querySelector('#df-7361a5e1-9faa-4036-a803-7d39ea2d93e3');\n",
              "          const dataTable =\n",
              "            await google.colab.kernel.invokeFunction('convertToInteractive',\n",
              "                                                     [key], {});\n",
              "          if (!dataTable) return;\n",
              "\n",
              "          const docLinkHtml = 'Like what you see? Visit the ' +\n",
              "            '<a target=\"_blank\" href=https://colab.research.google.com/notebooks/data_table.ipynb>data table notebook</a>'\n",
              "            + ' to learn more about interactive tables.';\n",
              "          element.innerHTML = '';\n",
              "          dataTable['output_type'] = 'display_data';\n",
              "          await google.colab.output.renderOutput(dataTable, element);\n",
              "          const docLink = document.createElement('div');\n",
              "          docLink.innerHTML = docLinkHtml;\n",
              "          element.appendChild(docLink);\n",
              "        }\n",
              "      </script>\n",
              "    </div>\n",
              "  </div>\n",
              "  "
            ]
          },
          "metadata": {},
          "execution_count": 185
        }
      ]
    },
    {
      "cell_type": "markdown",
      "source": [
        "### 결과 시각화"
      ],
      "metadata": {
        "id": "OAXdRsEA60H_"
      }
    },
    {
      "cell_type": "code",
      "source": [
        "vis(rg_df, \"Ridge\", 'alpha')"
      ],
      "metadata": {
        "colab": {
          "base_uri": "https://localhost:8080/",
          "height": 466
        },
        "id": "Pb1QeIdy62mh",
        "outputId": "e719c802-6baa-4b3a-92c8-99439cde4f94"
      },
      "execution_count": 186,
      "outputs": [
        {
          "output_type": "display_data",
          "data": {
            "text/plain": [
              "<Figure size 864x504 with 1 Axes>"
            ],
            "image/png": "[encoded data removed]"
          },
          "metadata": {
            "needs_background": "light"
          }
        }
      ]
    },
    {
      "cell_type": "markdown",
      "source": [
        "## random forest와 lightgbm 결과 종합"
      ],
      "metadata": {
        "id": "8vrA_hxDi8MK"
      }
    },
    {
      "cell_type": "code",
      "source": [
        "# 최적의 하이퍼파라미터 적용\n",
        "rf = RandomForestRegressor(max_depth=7, min_samples_split=7,random_state=0)\n",
        "rf.fit(x_train, y_train)\n",
        "pred_rf = rf.predict(x_test)"
      ],
      "metadata": {
        "id": "h0gb6CAThf04"
      },
      "execution_count": 187,
      "outputs": []
    },
    {
      "cell_type": "code",
      "source": [
        "lgb = LGBMRegressor(n_estimators=300, random_state=0)\n",
        "lgb.fit(x_train, y_train, early_stopping_rounds=100, eval_set=[(x_test, y_test)], eval_metric='mse', verbose=False)\n",
        "pred_lgb = lgb.predict(x_test)"
      ],
      "metadata": {
        "id": "hkeJZX4HjfCB"
      },
      "execution_count": 189,
      "outputs": []
    },
    {
      "cell_type": "code",
      "source": [
        "pred_rf.shape, pred_lgb.shape"
      ],
      "metadata": {
        "colab": {
          "base_uri": "https://localhost:8080/"
        },
        "id": "HQKmB6BlkKRJ",
        "outputId": "3dc7909a-3c8d-401e-ba10-931294fbb719"
      },
      "execution_count": 190,
      "outputs": [
        {
          "output_type": "execute_result",
          "data": {
            "text/plain": [
              "((1908,), (1908,))"
            ]
          },
          "metadata": {},
          "execution_count": 190
        }
      ]
    },
    {
      "cell_type": "code",
      "source": [
        "pred = (pred_rf + pred_lgb) / 2"
      ],
      "metadata": {
        "id": "S4xiOo6rjjot"
      },
      "execution_count": 191,
      "outputs": []
    },
    {
      "cell_type": "code",
      "source": [
        "pred.shape"
      ],
      "metadata": {
        "colab": {
          "base_uri": "https://localhost:8080/"
        },
        "id": "Nf3NAnwHkNUU",
        "outputId": "0d6eec88-0cbd-4ecc-dd76-b439b9a068dc"
      },
      "execution_count": 192,
      "outputs": [
        {
          "output_type": "execute_result",
          "data": {
            "text/plain": [
              "(1908,)"
            ]
          },
          "metadata": {},
          "execution_count": 192
        }
      ]
    },
    {
      "cell_type": "code",
      "source": [
        "api_eta = x_test.iloc[:,0]\n",
        "mse = mean_squared_error(y_test, pred)\n",
        "mse_api = mean_squared_error(y_test, api_eta)\n",
        "mse_list.append(mse)\n",
        "mse_api_list.append(mse_api)\n",
        "print( \"The mean squared error (MSE) on test set: {:.4f}\".format(mse) )\n",
        "print( \"The initial error of API ETA on test set: {:.4f}\".format(mse_api) )\n",
        "mae = mean_absolute_error(y_test, pred)\n",
        "mae_api = mean_absolute_error(y_test, api_eta)\n",
        "mae_list.append(mae)\n",
        "mae_api_list.append(mae_api)\n",
        "print( \"The mean absolute error (MAE) on test set: {:.4f}\".format(mae) )\n",
        "print( \"The initial error of API ETA on test set: {:.4f}\".format(mae_api) )\n",
        "print()"
      ],
      "metadata": {
        "colab": {
          "base_uri": "https://localhost:8080/"
        },
        "id": "ZZXx11JTjq55",
        "outputId": "e1442412-c7c7-4772-b372-6c35fc803385"
      },
      "execution_count": 193,
      "outputs": [
        {
          "output_type": "stream",
          "name": "stdout",
          "text": [
            "The mean squared error (MSE) on test set: 7.0612\n",
            "The initial error of API ETA on test set: 12.0901\n",
            "The mean absolute error (MAE) on test set: 2.0029\n",
            "The initial error of API ETA on test set: 2.5780\n",
            "\n"
          ]
        }
      ]
    },
    {
      "cell_type": "markdown",
      "source": [
        "# 코드 마지막"
      ],
      "metadata": {
        "id": "ESi2PGAdlJAb"
      }
    }
  ]
}