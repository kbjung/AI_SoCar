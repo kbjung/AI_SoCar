{
  "cells": [
    {
      "cell_type": "markdown",
      "metadata": {
        "id": "y5Zlc0A0wimF"
      },
      "source": [
        "# Assignment01"
      ]
    },
    {
      "cell_type": "markdown",
      "metadata": {
        "id": "sXh3Ycj2wwMQ"
      },
      "source": [
        "## 라이브러리"
      ]
    },
    {
      "cell_type": "code",
      "execution_count": 20,
      "metadata": {
        "id": "8bQ4JV1Rwv0d"
      },
      "outputs": [],
      "source": [
        "import pandas as pd\n",
        "from sklearn.ensemble import RandomForestRegressor\n",
        "from lightgbm import LGBMRegressor\n",
        "from sklearn.linear_model import LinearRegression, Ridge\n",
        "from sklearn.metrics import mean_squared_error\n",
        "from sklearn.metrics import mean_absolute_error"
      ]
    },
    {
      "cell_type": "code",
      "source": [
        "from sklearn.model_selection import train_test_split"
      ],
      "metadata": {
        "id": "XIv-C1f24TMi"
      },
      "execution_count": 55,
      "outputs": []
    },
    {
      "cell_type": "code",
      "execution_count": 21,
      "metadata": {
        "id": "fuVTvpeIytyi"
      },
      "outputs": [],
      "source": [
        "from sklearn.preprocessing import MinMaxScaler"
      ]
    },
    {
      "cell_type": "code",
      "execution_count": 22,
      "metadata": {
        "id": "_cxvCgzX3JTD"
      },
      "outputs": [],
      "source": [
        "import matplotlib.pyplot as plt"
      ]
    },
    {
      "cell_type": "code",
      "execution_count": 23,
      "metadata": {
        "colab": {
          "base_uri": "https://localhost:8080/"
        },
        "id": "7NUuNS7vwjSl",
        "outputId": "bb1ab10e-534d-4c3b-e8a5-3e44001fd832"
      },
      "outputs": [
        {
          "output_type": "stream",
          "name": "stdout",
          "text": [
            "Drive already mounted at /content/drive; to attempt to forcibly remount, call drive.mount(\"/content/drive\", force_remount=True).\n"
          ]
        }
      ],
      "source": [
        "from google.colab import drive\n",
        "drive.mount('/content/drive')"
      ]
    },
    {
      "cell_type": "code",
      "execution_count": 87,
      "metadata": {
        "colab": {
          "base_uri": "https://localhost:8080/"
        },
        "id": "THzp4Jbj2_WJ",
        "outputId": "85e9ed74-40fc-475e-c8d8-2225c332a9ed"
      },
      "outputs": [
        {
          "output_type": "stream",
          "name": "stdout",
          "text": [
            "<class 'pandas.core.frame.DataFrame'>\n",
            "RangeIndex: 13916 entries, 0 to 13915\n",
            "Data columns (total 12 columns):\n",
            " #   Column          Non-Null Count  Dtype  \n",
            "---  ------          --------------  -----  \n",
            " 0   ATA             13916 non-null  float64\n",
            " 1   id              13916 non-null  object \n",
            " 2   api_eta         13916 non-null  float64\n",
            " 3   created_at_kst  13916 non-null  object \n",
            " 4   month           13916 non-null  int64  \n",
            " 5   pickup_lng      13916 non-null  float64\n",
            " 6   pickup_lat      13916 non-null  float64\n",
            " 7   pickup_gu       13916 non-null  object \n",
            " 8   driver_id       13916 non-null  object \n",
            " 9   driver_lng      13916 non-null  float64\n",
            " 10  driver_lat      13916 non-null  float64\n",
            " 11  hour            13916 non-null  int64  \n",
            "dtypes: float64(6), int64(2), object(4)\n",
            "memory usage: 1.3+ MB\n"
          ]
        }
      ],
      "source": [
        "tada_eta = pd.read_excel('/content/drive/MyDrive/프로그래밍_교육/쏘카 ai 엔지니어 육성 부트캠프 2기/강의/assignment01/tada_eta.xlsx')\n",
        "tada_eta.info()"
      ]
    },
    {
      "cell_type": "markdown",
      "metadata": {
        "id": "bEMNY623GKze"
      },
      "source": [
        "## EDA"
      ]
    },
    {
      "cell_type": "code",
      "execution_count": 88,
      "metadata": {
        "colab": {
          "base_uri": "https://localhost:8080/",
          "height": 300
        },
        "id": "Brnzja7D92LQ",
        "outputId": "c60904c9-a88b-4db5-e719-83f801cec05b"
      },
      "outputs": [
        {
          "output_type": "execute_result",
          "data": {
            "text/plain": [
              "                ATA       api_eta         month    pickup_lng    pickup_lat  \\\n",
              "count  13916.000000  13916.000000  13916.000000  13916.000000  13916.000000   \n",
              "mean       8.386438      6.172346     10.146019    127.002390     37.527512   \n",
              "std        4.094109      3.151074      2.415177      0.057423      0.031143   \n",
              "min        0.430000      0.000000      7.000000    126.798391     37.439779   \n",
              "25%        5.470000      3.800000      7.000000    126.969020     37.503890   \n",
              "50%        7.780000      5.950000     12.000000    127.013602     37.523343   \n",
              "75%       10.520000      8.180000     12.000000    127.040485     37.551443   \n",
              "max       44.780000     25.280000     12.000000    127.174993     37.686526   \n",
              "\n",
              "         driver_lng    driver_lat          hour  \n",
              "count  13916.000000  13916.000000  13916.000000  \n",
              "mean     126.956952     37.514084     13.278672  \n",
              "std        2.407714      0.711941      6.971578  \n",
              "min        0.000000      0.000000      0.000000  \n",
              "25%      126.967620     37.503930      8.000000  \n",
              "50%      127.013432     37.522791     14.000000  \n",
              "75%      127.041342     37.551953     19.000000  \n",
              "max      127.174070     37.683888     23.000000  "
            ],
            "text/html": [
              "\n",
              "  <div id=\"df-2542dcd6-9ef2-4afb-8dd7-4f513783dc23\">\n",
              "    <div class=\"colab-df-container\">\n",
              "      <div>\n",
              "<style scoped>\n",
              "    .dataframe tbody tr th:only-of-type {\n",
              "        vertical-align: middle;\n",
              "    }\n",
              "\n",
              "    .dataframe tbody tr th {\n",
              "        vertical-align: top;\n",
              "    }\n",
              "\n",
              "    .dataframe thead th {\n",
              "        text-align: right;\n",
              "    }\n",
              "</style>\n",
              "<table border=\"1\" class=\"dataframe\">\n",
              "  <thead>\n",
              "    <tr style=\"text-align: right;\">\n",
              "      <th></th>\n",
              "      <th>ATA</th>\n",
              "      <th>api_eta</th>\n",
              "      <th>month</th>\n",
              "      <th>pickup_lng</th>\n",
              "      <th>pickup_lat</th>\n",
              "      <th>driver_lng</th>\n",
              "      <th>driver_lat</th>\n",
              "      <th>hour</th>\n",
              "    </tr>\n",
              "  </thead>\n",
              "  <tbody>\n",
              "    <tr>\n",
              "      <th>count</th>\n",
              "      <td>13916.000000</td>\n",
              "      <td>13916.000000</td>\n",
              "      <td>13916.000000</td>\n",
              "      <td>13916.000000</td>\n",
              "      <td>13916.000000</td>\n",
              "      <td>13916.000000</td>\n",
              "      <td>13916.000000</td>\n",
              "      <td>13916.000000</td>\n",
              "    </tr>\n",
              "    <tr>\n",
              "      <th>mean</th>\n",
              "      <td>8.386438</td>\n",
              "      <td>6.172346</td>\n",
              "      <td>10.146019</td>\n",
              "      <td>127.002390</td>\n",
              "      <td>37.527512</td>\n",
              "      <td>126.956952</td>\n",
              "      <td>37.514084</td>\n",
              "      <td>13.278672</td>\n",
              "    </tr>\n",
              "    <tr>\n",
              "      <th>std</th>\n",
              "      <td>4.094109</td>\n",
              "      <td>3.151074</td>\n",
              "      <td>2.415177</td>\n",
              "      <td>0.057423</td>\n",
              "      <td>0.031143</td>\n",
              "      <td>2.407714</td>\n",
              "      <td>0.711941</td>\n",
              "      <td>6.971578</td>\n",
              "    </tr>\n",
              "    <tr>\n",
              "      <th>min</th>\n",
              "      <td>0.430000</td>\n",
              "      <td>0.000000</td>\n",
              "      <td>7.000000</td>\n",
              "      <td>126.798391</td>\n",
              "      <td>37.439779</td>\n",
              "      <td>0.000000</td>\n",
              "      <td>0.000000</td>\n",
              "      <td>0.000000</td>\n",
              "    </tr>\n",
              "    <tr>\n",
              "      <th>25%</th>\n",
              "      <td>5.470000</td>\n",
              "      <td>3.800000</td>\n",
              "      <td>7.000000</td>\n",
              "      <td>126.969020</td>\n",
              "      <td>37.503890</td>\n",
              "      <td>126.967620</td>\n",
              "      <td>37.503930</td>\n",
              "      <td>8.000000</td>\n",
              "    </tr>\n",
              "    <tr>\n",
              "      <th>50%</th>\n",
              "      <td>7.780000</td>\n",
              "      <td>5.950000</td>\n",
              "      <td>12.000000</td>\n",
              "      <td>127.013602</td>\n",
              "      <td>37.523343</td>\n",
              "      <td>127.013432</td>\n",
              "      <td>37.522791</td>\n",
              "      <td>14.000000</td>\n",
              "    </tr>\n",
              "    <tr>\n",
              "      <th>75%</th>\n",
              "      <td>10.520000</td>\n",
              "      <td>8.180000</td>\n",
              "      <td>12.000000</td>\n",
              "      <td>127.040485</td>\n",
              "      <td>37.551443</td>\n",
              "      <td>127.041342</td>\n",
              "      <td>37.551953</td>\n",
              "      <td>19.000000</td>\n",
              "    </tr>\n",
              "    <tr>\n",
              "      <th>max</th>\n",
              "      <td>44.780000</td>\n",
              "      <td>25.280000</td>\n",
              "      <td>12.000000</td>\n",
              "      <td>127.174993</td>\n",
              "      <td>37.686526</td>\n",
              "      <td>127.174070</td>\n",
              "      <td>37.683888</td>\n",
              "      <td>23.000000</td>\n",
              "    </tr>\n",
              "  </tbody>\n",
              "</table>\n",
              "</div>\n",
              "      <button class=\"colab-df-convert\" onclick=\"convertToInteractive('df-2542dcd6-9ef2-4afb-8dd7-4f513783dc23')\"\n",
              "              title=\"Convert this dataframe to an interactive table.\"\n",
              "              style=\"display:none;\">\n",
              "        \n",
              "  <svg xmlns=\"http://www.w3.org/2000/svg\" height=\"24px\"viewBox=\"0 0 24 24\"\n",
              "       width=\"24px\">\n",
              "    <path d=\"M0 0h24v24H0V0z\" fill=\"none\"/>\n",
              "    <path d=\"M18.56 5.44l.94 2.06.94-2.06 2.06-.94-2.06-.94-.94-2.06-.94 2.06-2.06.94zm-11 1L8.5 8.5l.94-2.06 2.06-.94-2.06-.94L8.5 2.5l-.94 2.06-2.06.94zm10 10l.94 2.06.94-2.06 2.06-.94-2.06-.94-.94-2.06-.94 2.06-2.06.94z\"/><path d=\"M17.41 7.96l-1.37-1.37c-.4-.4-.92-.59-1.43-.59-.52 0-1.04.2-1.43.59L10.3 9.45l-7.72 7.72c-.78.78-.78 2.05 0 2.83L4 21.41c.39.39.9.59 1.41.59.51 0 1.02-.2 1.41-.59l7.78-7.78 2.81-2.81c.8-.78.8-2.07 0-2.86zM5.41 20L4 18.59l7.72-7.72 1.47 1.35L5.41 20z\"/>\n",
              "  </svg>\n",
              "      </button>\n",
              "      \n",
              "  <style>\n",
              "    .colab-df-container {\n",
              "      display:flex;\n",
              "      flex-wrap:wrap;\n",
              "      gap: 12px;\n",
              "    }\n",
              "\n",
              "    .colab-df-convert {\n",
              "      background-color: #E8F0FE;\n",
              "      border: none;\n",
              "      border-radius: 50%;\n",
              "      cursor: pointer;\n",
              "      display: none;\n",
              "      fill: #1967D2;\n",
              "      height: 32px;\n",
              "      padding: 0 0 0 0;\n",
              "      width: 32px;\n",
              "    }\n",
              "\n",
              "    .colab-df-convert:hover {\n",
              "      background-color: #E2EBFA;\n",
              "      box-shadow: 0px 1px 2px rgba(60, 64, 67, 0.3), 0px 1px 3px 1px rgba(60, 64, 67, 0.15);\n",
              "      fill: #174EA6;\n",
              "    }\n",
              "\n",
              "    [theme=dark] .colab-df-convert {\n",
              "      background-color: #3B4455;\n",
              "      fill: #D2E3FC;\n",
              "    }\n",
              "\n",
              "    [theme=dark] .colab-df-convert:hover {\n",
              "      background-color: #434B5C;\n",
              "      box-shadow: 0px 1px 3px 1px rgba(0, 0, 0, 0.15);\n",
              "      filter: drop-shadow(0px 1px 2px rgba(0, 0, 0, 0.3));\n",
              "      fill: #FFFFFF;\n",
              "    }\n",
              "  </style>\n",
              "\n",
              "      <script>\n",
              "        const buttonEl =\n",
              "          document.querySelector('#df-2542dcd6-9ef2-4afb-8dd7-4f513783dc23 button.colab-df-convert');\n",
              "        buttonEl.style.display =\n",
              "          google.colab.kernel.accessAllowed ? 'block' : 'none';\n",
              "\n",
              "        async function convertToInteractive(key) {\n",
              "          const element = document.querySelector('#df-2542dcd6-9ef2-4afb-8dd7-4f513783dc23');\n",
              "          const dataTable =\n",
              "            await google.colab.kernel.invokeFunction('convertToInteractive',\n",
              "                                                     [key], {});\n",
              "          if (!dataTable) return;\n",
              "\n",
              "          const docLinkHtml = 'Like what you see? Visit the ' +\n",
              "            '<a target=\"_blank\" href=https://colab.research.google.com/notebooks/data_table.ipynb>data table notebook</a>'\n",
              "            + ' to learn more about interactive tables.';\n",
              "          element.innerHTML = '';\n",
              "          dataTable['output_type'] = 'display_data';\n",
              "          await google.colab.output.renderOutput(dataTable, element);\n",
              "          const docLink = document.createElement('div');\n",
              "          docLink.innerHTML = docLinkHtml;\n",
              "          element.appendChild(docLink);\n",
              "        }\n",
              "      </script>\n",
              "    </div>\n",
              "  </div>\n",
              "  "
            ]
          },
          "metadata": {},
          "execution_count": 88
        }
      ],
      "source": [
        "tada_eta.describe()"
      ]
    },
    {
      "cell_type": "code",
      "execution_count": 89,
      "metadata": {
        "colab": {
          "base_uri": "https://localhost:8080/",
          "height": 206
        },
        "id": "L-EFXTLqxCOO",
        "outputId": "5828f184-d972-4be6-cc46-40ae1b55a325"
      },
      "outputs": [
        {
          "output_type": "execute_result",
          "data": {
            "text/plain": [
              "     ATA              id  api_eta       created_at_kst  month  pickup_lng  \\\n",
              "0  10.60  R4L9FL6NVEL4D0     5.65  2019-12-01T00:55:09     12  127.091399   \n",
              "1   9.20  R3A7JBY7CS6TPD     8.60  2019-12-01T00:09:39     12  127.023351   \n",
              "2  10.85  R2BIUY1TDK14XE    10.53  2019-12-15T00:18:42     12  126.881154   \n",
              "3   5.52  R31PU5GNHSGU6C     1.92  2019-07-31T00:24:11      7  126.988375   \n",
              "4   8.60  R41WR6N1VT42DJ     7.10  2019-07-05T00:40:34      7  126.988684   \n",
              "\n",
              "   pickup_lat pickup_gu driver_id  driver_lng  driver_lat  hour  \n",
              "0   37.624545       노원구  DST52944  127.069978   37.616472     0  \n",
              "1   37.625564       강북구  DPC72995  127.026479   37.604711     0  \n",
              "2   37.481641       금천구  DPP94923  126.906225   37.452167     0  \n",
              "3   37.567897        중구  DCT73585  126.991170   37.566416     0  \n",
              "4   37.566716        중구  DPJ86237  127.006860   37.571164     0  "
            ],
            "text/html": [
              "\n",
              "  <div id=\"df-f248f057-74ed-4cb0-b9da-c47b8bb97375\">\n",
              "    <div class=\"colab-df-container\">\n",
              "      <div>\n",
              "<style scoped>\n",
              "    .dataframe tbody tr th:only-of-type {\n",
              "        vertical-align: middle;\n",
              "    }\n",
              "\n",
              "    .dataframe tbody tr th {\n",
              "        vertical-align: top;\n",
              "    }\n",
              "\n",
              "    .dataframe thead th {\n",
              "        text-align: right;\n",
              "    }\n",
              "</style>\n",
              "<table border=\"1\" class=\"dataframe\">\n",
              "  <thead>\n",
              "    <tr style=\"text-align: right;\">\n",
              "      <th></th>\n",
              "      <th>ATA</th>\n",
              "      <th>id</th>\n",
              "      <th>api_eta</th>\n",
              "      <th>created_at_kst</th>\n",
              "      <th>month</th>\n",
              "      <th>pickup_lng</th>\n",
              "      <th>pickup_lat</th>\n",
              "      <th>pickup_gu</th>\n",
              "      <th>driver_id</th>\n",
              "      <th>driver_lng</th>\n",
              "      <th>driver_lat</th>\n",
              "      <th>hour</th>\n",
              "    </tr>\n",
              "  </thead>\n",
              "  <tbody>\n",
              "    <tr>\n",
              "      <th>0</th>\n",
              "      <td>10.60</td>\n",
              "      <td>R4L9FL6NVEL4D0</td>\n",
              "      <td>5.65</td>\n",
              "      <td>2019-12-01T00:55:09</td>\n",
              "      <td>12</td>\n",
              "      <td>127.091399</td>\n",
              "      <td>37.624545</td>\n",
              "      <td>노원구</td>\n",
              "      <td>DST52944</td>\n",
              "      <td>127.069978</td>\n",
              "      <td>37.616472</td>\n",
              "      <td>0</td>\n",
              "    </tr>\n",
              "    <tr>\n",
              "      <th>1</th>\n",
              "      <td>9.20</td>\n",
              "      <td>R3A7JBY7CS6TPD</td>\n",
              "      <td>8.60</td>\n",
              "      <td>2019-12-01T00:09:39</td>\n",
              "      <td>12</td>\n",
              "      <td>127.023351</td>\n",
              "      <td>37.625564</td>\n",
              "      <td>강북구</td>\n",
              "      <td>DPC72995</td>\n",
              "      <td>127.026479</td>\n",
              "      <td>37.604711</td>\n",
              "      <td>0</td>\n",
              "    </tr>\n",
              "    <tr>\n",
              "      <th>2</th>\n",
              "      <td>10.85</td>\n",
              "      <td>R2BIUY1TDK14XE</td>\n",
              "      <td>10.53</td>\n",
              "      <td>2019-12-15T00:18:42</td>\n",
              "      <td>12</td>\n",
              "      <td>126.881154</td>\n",
              "      <td>37.481641</td>\n",
              "      <td>금천구</td>\n",
              "      <td>DPP94923</td>\n",
              "      <td>126.906225</td>\n",
              "      <td>37.452167</td>\n",
              "      <td>0</td>\n",
              "    </tr>\n",
              "    <tr>\n",
              "      <th>3</th>\n",
              "      <td>5.52</td>\n",
              "      <td>R31PU5GNHSGU6C</td>\n",
              "      <td>1.92</td>\n",
              "      <td>2019-07-31T00:24:11</td>\n",
              "      <td>7</td>\n",
              "      <td>126.988375</td>\n",
              "      <td>37.567897</td>\n",
              "      <td>중구</td>\n",
              "      <td>DCT73585</td>\n",
              "      <td>126.991170</td>\n",
              "      <td>37.566416</td>\n",
              "      <td>0</td>\n",
              "    </tr>\n",
              "    <tr>\n",
              "      <th>4</th>\n",
              "      <td>8.60</td>\n",
              "      <td>R41WR6N1VT42DJ</td>\n",
              "      <td>7.10</td>\n",
              "      <td>2019-07-05T00:40:34</td>\n",
              "      <td>7</td>\n",
              "      <td>126.988684</td>\n",
              "      <td>37.566716</td>\n",
              "      <td>중구</td>\n",
              "      <td>DPJ86237</td>\n",
              "      <td>127.006860</td>\n",
              "      <td>37.571164</td>\n",
              "      <td>0</td>\n",
              "    </tr>\n",
              "  </tbody>\n",
              "</table>\n",
              "</div>\n",
              "      <button class=\"colab-df-convert\" onclick=\"convertToInteractive('df-f248f057-74ed-4cb0-b9da-c47b8bb97375')\"\n",
              "              title=\"Convert this dataframe to an interactive table.\"\n",
              "              style=\"display:none;\">\n",
              "        \n",
              "  <svg xmlns=\"http://www.w3.org/2000/svg\" height=\"24px\"viewBox=\"0 0 24 24\"\n",
              "       width=\"24px\">\n",
              "    <path d=\"M0 0h24v24H0V0z\" fill=\"none\"/>\n",
              "    <path d=\"M18.56 5.44l.94 2.06.94-2.06 2.06-.94-2.06-.94-.94-2.06-.94 2.06-2.06.94zm-11 1L8.5 8.5l.94-2.06 2.06-.94-2.06-.94L8.5 2.5l-.94 2.06-2.06.94zm10 10l.94 2.06.94-2.06 2.06-.94-2.06-.94-.94-2.06-.94 2.06-2.06.94z\"/><path d=\"M17.41 7.96l-1.37-1.37c-.4-.4-.92-.59-1.43-.59-.52 0-1.04.2-1.43.59L10.3 9.45l-7.72 7.72c-.78.78-.78 2.05 0 2.83L4 21.41c.39.39.9.59 1.41.59.51 0 1.02-.2 1.41-.59l7.78-7.78 2.81-2.81c.8-.78.8-2.07 0-2.86zM5.41 20L4 18.59l7.72-7.72 1.47 1.35L5.41 20z\"/>\n",
              "  </svg>\n",
              "      </button>\n",
              "      \n",
              "  <style>\n",
              "    .colab-df-container {\n",
              "      display:flex;\n",
              "      flex-wrap:wrap;\n",
              "      gap: 12px;\n",
              "    }\n",
              "\n",
              "    .colab-df-convert {\n",
              "      background-color: #E8F0FE;\n",
              "      border: none;\n",
              "      border-radius: 50%;\n",
              "      cursor: pointer;\n",
              "      display: none;\n",
              "      fill: #1967D2;\n",
              "      height: 32px;\n",
              "      padding: 0 0 0 0;\n",
              "      width: 32px;\n",
              "    }\n",
              "\n",
              "    .colab-df-convert:hover {\n",
              "      background-color: #E2EBFA;\n",
              "      box-shadow: 0px 1px 2px rgba(60, 64, 67, 0.3), 0px 1px 3px 1px rgba(60, 64, 67, 0.15);\n",
              "      fill: #174EA6;\n",
              "    }\n",
              "\n",
              "    [theme=dark] .colab-df-convert {\n",
              "      background-color: #3B4455;\n",
              "      fill: #D2E3FC;\n",
              "    }\n",
              "\n",
              "    [theme=dark] .colab-df-convert:hover {\n",
              "      background-color: #434B5C;\n",
              "      box-shadow: 0px 1px 3px 1px rgba(0, 0, 0, 0.15);\n",
              "      filter: drop-shadow(0px 1px 2px rgba(0, 0, 0, 0.3));\n",
              "      fill: #FFFFFF;\n",
              "    }\n",
              "  </style>\n",
              "\n",
              "      <script>\n",
              "        const buttonEl =\n",
              "          document.querySelector('#df-f248f057-74ed-4cb0-b9da-c47b8bb97375 button.colab-df-convert');\n",
              "        buttonEl.style.display =\n",
              "          google.colab.kernel.accessAllowed ? 'block' : 'none';\n",
              "\n",
              "        async function convertToInteractive(key) {\n",
              "          const element = document.querySelector('#df-f248f057-74ed-4cb0-b9da-c47b8bb97375');\n",
              "          const dataTable =\n",
              "            await google.colab.kernel.invokeFunction('convertToInteractive',\n",
              "                                                     [key], {});\n",
              "          if (!dataTable) return;\n",
              "\n",
              "          const docLinkHtml = 'Like what you see? Visit the ' +\n",
              "            '<a target=\"_blank\" href=https://colab.research.google.com/notebooks/data_table.ipynb>data table notebook</a>'\n",
              "            + ' to learn more about interactive tables.';\n",
              "          element.innerHTML = '';\n",
              "          dataTable['output_type'] = 'display_data';\n",
              "          await google.colab.output.renderOutput(dataTable, element);\n",
              "          const docLink = document.createElement('div');\n",
              "          docLink.innerHTML = docLinkHtml;\n",
              "          element.appendChild(docLink);\n",
              "        }\n",
              "      </script>\n",
              "    </div>\n",
              "  </div>\n",
              "  "
            ]
          },
          "metadata": {},
          "execution_count": 89
        }
      ],
      "source": [
        "tada_eta.head()"
      ]
    },
    {
      "cell_type": "code",
      "execution_count": 90,
      "metadata": {
        "colab": {
          "base_uri": "https://localhost:8080/",
          "height": 243
        },
        "id": "9xThoNkx_2bT",
        "outputId": "8e0616c8-a338-4710-c3b8-519f16ac06bc"
      },
      "outputs": [
        {
          "output_type": "stream",
          "name": "stderr",
          "text": [
            "/usr/local/lib/python3.7/dist-packages/ipykernel_launcher.py:2: FutureWarning: In a future version of pandas all arguments of DataFrame.drop except for the argument 'labels' will be keyword-only\n",
            "  \n"
          ]
        },
        {
          "output_type": "execute_result",
          "data": {
            "text/plain": [
              "     ATA  api_eta  month  hour    distance\n",
              "0  10.60     5.65     12     0   52.400202\n",
              "1   9.20     8.60     12     0   44.465889\n",
              "2  10.85    10.53     12     0  149.731535\n",
              "3   5.52     1.92      7     0    1.000535\n",
              "4   8.60     7.10      7     0   35.014797"
            ],
            "text/html": [
              "\n",
              "  <div id=\"df-51c4f0d0-240e-45de-a929-6e4de8c8fd51\">\n",
              "    <div class=\"colab-df-container\">\n",
              "      <div>\n",
              "<style scoped>\n",
              "    .dataframe tbody tr th:only-of-type {\n",
              "        vertical-align: middle;\n",
              "    }\n",
              "\n",
              "    .dataframe tbody tr th {\n",
              "        vertical-align: top;\n",
              "    }\n",
              "\n",
              "    .dataframe thead th {\n",
              "        text-align: right;\n",
              "    }\n",
              "</style>\n",
              "<table border=\"1\" class=\"dataframe\">\n",
              "  <thead>\n",
              "    <tr style=\"text-align: right;\">\n",
              "      <th></th>\n",
              "      <th>ATA</th>\n",
              "      <th>api_eta</th>\n",
              "      <th>month</th>\n",
              "      <th>hour</th>\n",
              "      <th>distance</th>\n",
              "    </tr>\n",
              "  </thead>\n",
              "  <tbody>\n",
              "    <tr>\n",
              "      <th>0</th>\n",
              "      <td>10.60</td>\n",
              "      <td>5.65</td>\n",
              "      <td>12</td>\n",
              "      <td>0</td>\n",
              "      <td>52.400202</td>\n",
              "    </tr>\n",
              "    <tr>\n",
              "      <th>1</th>\n",
              "      <td>9.20</td>\n",
              "      <td>8.60</td>\n",
              "      <td>12</td>\n",
              "      <td>0</td>\n",
              "      <td>44.465889</td>\n",
              "    </tr>\n",
              "    <tr>\n",
              "      <th>2</th>\n",
              "      <td>10.85</td>\n",
              "      <td>10.53</td>\n",
              "      <td>12</td>\n",
              "      <td>0</td>\n",
              "      <td>149.731535</td>\n",
              "    </tr>\n",
              "    <tr>\n",
              "      <th>3</th>\n",
              "      <td>5.52</td>\n",
              "      <td>1.92</td>\n",
              "      <td>7</td>\n",
              "      <td>0</td>\n",
              "      <td>1.000535</td>\n",
              "    </tr>\n",
              "    <tr>\n",
              "      <th>4</th>\n",
              "      <td>8.60</td>\n",
              "      <td>7.10</td>\n",
              "      <td>7</td>\n",
              "      <td>0</td>\n",
              "      <td>35.014797</td>\n",
              "    </tr>\n",
              "  </tbody>\n",
              "</table>\n",
              "</div>\n",
              "      <button class=\"colab-df-convert\" onclick=\"convertToInteractive('df-51c4f0d0-240e-45de-a929-6e4de8c8fd51')\"\n",
              "              title=\"Convert this dataframe to an interactive table.\"\n",
              "              style=\"display:none;\">\n",
              "        \n",
              "  <svg xmlns=\"http://www.w3.org/2000/svg\" height=\"24px\"viewBox=\"0 0 24 24\"\n",
              "       width=\"24px\">\n",
              "    <path d=\"M0 0h24v24H0V0z\" fill=\"none\"/>\n",
              "    <path d=\"M18.56 5.44l.94 2.06.94-2.06 2.06-.94-2.06-.94-.94-2.06-.94 2.06-2.06.94zm-11 1L8.5 8.5l.94-2.06 2.06-.94-2.06-.94L8.5 2.5l-.94 2.06-2.06.94zm10 10l.94 2.06.94-2.06 2.06-.94-2.06-.94-.94-2.06-.94 2.06-2.06.94z\"/><path d=\"M17.41 7.96l-1.37-1.37c-.4-.4-.92-.59-1.43-.59-.52 0-1.04.2-1.43.59L10.3 9.45l-7.72 7.72c-.78.78-.78 2.05 0 2.83L4 21.41c.39.39.9.59 1.41.59.51 0 1.02-.2 1.41-.59l7.78-7.78 2.81-2.81c.8-.78.8-2.07 0-2.86zM5.41 20L4 18.59l7.72-7.72 1.47 1.35L5.41 20z\"/>\n",
              "  </svg>\n",
              "      </button>\n",
              "      \n",
              "  <style>\n",
              "    .colab-df-container {\n",
              "      display:flex;\n",
              "      flex-wrap:wrap;\n",
              "      gap: 12px;\n",
              "    }\n",
              "\n",
              "    .colab-df-convert {\n",
              "      background-color: #E8F0FE;\n",
              "      border: none;\n",
              "      border-radius: 50%;\n",
              "      cursor: pointer;\n",
              "      display: none;\n",
              "      fill: #1967D2;\n",
              "      height: 32px;\n",
              "      padding: 0 0 0 0;\n",
              "      width: 32px;\n",
              "    }\n",
              "\n",
              "    .colab-df-convert:hover {\n",
              "      background-color: #E2EBFA;\n",
              "      box-shadow: 0px 1px 2px rgba(60, 64, 67, 0.3), 0px 1px 3px 1px rgba(60, 64, 67, 0.15);\n",
              "      fill: #174EA6;\n",
              "    }\n",
              "\n",
              "    [theme=dark] .colab-df-convert {\n",
              "      background-color: #3B4455;\n",
              "      fill: #D2E3FC;\n",
              "    }\n",
              "\n",
              "    [theme=dark] .colab-df-convert:hover {\n",
              "      background-color: #434B5C;\n",
              "      box-shadow: 0px 1px 3px 1px rgba(0, 0, 0, 0.15);\n",
              "      filter: drop-shadow(0px 1px 2px rgba(0, 0, 0, 0.3));\n",
              "      fill: #FFFFFF;\n",
              "    }\n",
              "  </style>\n",
              "\n",
              "      <script>\n",
              "        const buttonEl =\n",
              "          document.querySelector('#df-51c4f0d0-240e-45de-a929-6e4de8c8fd51 button.colab-df-convert');\n",
              "        buttonEl.style.display =\n",
              "          google.colab.kernel.accessAllowed ? 'block' : 'none';\n",
              "\n",
              "        async function convertToInteractive(key) {\n",
              "          const element = document.querySelector('#df-51c4f0d0-240e-45de-a929-6e4de8c8fd51');\n",
              "          const dataTable =\n",
              "            await google.colab.kernel.invokeFunction('convertToInteractive',\n",
              "                                                     [key], {});\n",
              "          if (!dataTable) return;\n",
              "\n",
              "          const docLinkHtml = 'Like what you see? Visit the ' +\n",
              "            '<a target=\"_blank\" href=https://colab.research.google.com/notebooks/data_table.ipynb>data table notebook</a>'\n",
              "            + ' to learn more about interactive tables.';\n",
              "          element.innerHTML = '';\n",
              "          dataTable['output_type'] = 'display_data';\n",
              "          await google.colab.output.renderOutput(dataTable, element);\n",
              "          const docLink = document.createElement('div');\n",
              "          docLink.innerHTML = docLinkHtml;\n",
              "          element.appendChild(docLink);\n",
              "        }\n",
              "      </script>\n",
              "    </div>\n",
              "  </div>\n",
              "  "
            ]
          },
          "metadata": {},
          "execution_count": 90
        }
      ],
      "source": [
        "tada_eta['distance'] = ( (tada_eta['pickup_lat']-tada_eta['driver_lat'])**2 + (tada_eta['pickup_lng']-tada_eta['driver_lng'])**2 )*100000\n",
        "tada_eta = tada_eta.drop(['id', 'created_at_kst', 'driver_id', 'pickup_lng', 'pickup_lat', 'driver_lng','driver_lat','pickup_gu'],1)\n",
        "tada_eta.head()"
      ]
    },
    {
      "cell_type": "code",
      "execution_count": 91,
      "metadata": {
        "colab": {
          "base_uri": "https://localhost:8080/"
        },
        "id": "BSS0yapTxHiB",
        "outputId": "21da94b9-3583-4eaa-dcf6-2e1a126217ca"
      },
      "outputs": [
        {
          "output_type": "stream",
          "name": "stdout",
          "text": [
            "<class 'pandas.core.frame.DataFrame'>\n",
            "RangeIndex: 13916 entries, 0 to 13915\n",
            "Data columns (total 5 columns):\n",
            " #   Column    Non-Null Count  Dtype  \n",
            "---  ------    --------------  -----  \n",
            " 0   ATA       13916 non-null  float64\n",
            " 1   api_eta   13916 non-null  float64\n",
            " 2   month     13916 non-null  int64  \n",
            " 3   hour      13916 non-null  int64  \n",
            " 4   distance  13916 non-null  float64\n",
            "dtypes: float64(3), int64(2)\n",
            "memory usage: 543.7 KB\n"
          ]
        }
      ],
      "source": [
        "tada_eta.info()"
      ]
    },
    {
      "cell_type": "markdown",
      "metadata": {
        "id": "921F3PSGGNBr"
      },
      "source": [
        "### 상관계수"
      ]
    },
    {
      "cell_type": "code",
      "execution_count": 92,
      "metadata": {
        "colab": {
          "base_uri": "https://localhost:8080/",
          "height": 206
        },
        "id": "d3IVRSz8AHyc",
        "outputId": "751a34d0-b802-4dca-8349-6f2b604e80a3"
      },
      "outputs": [
        {
          "output_type": "execute_result",
          "data": {
            "text/plain": [
              "               ATA   api_eta     month      hour  distance\n",
              "ATA       1.000000  0.699267 -0.084542  0.038504 -0.029074\n",
              "api_eta   0.699267  1.000000 -0.129561  0.050434 -0.023683\n",
              "month    -0.084542 -0.129561  1.000000  0.017370  0.006704\n",
              "hour      0.038504  0.050434  0.017370  1.000000 -0.005650\n",
              "distance -0.029074 -0.023683  0.006704 -0.005650  1.000000"
            ],
            "text/html": [
              "\n",
              "  <div id=\"df-75e63ad5-09ed-4b20-a92c-4b3fe84cff86\">\n",
              "    <div class=\"colab-df-container\">\n",
              "      <div>\n",
              "<style scoped>\n",
              "    .dataframe tbody tr th:only-of-type {\n",
              "        vertical-align: middle;\n",
              "    }\n",
              "\n",
              "    .dataframe tbody tr th {\n",
              "        vertical-align: top;\n",
              "    }\n",
              "\n",
              "    .dataframe thead th {\n",
              "        text-align: right;\n",
              "    }\n",
              "</style>\n",
              "<table border=\"1\" class=\"dataframe\">\n",
              "  <thead>\n",
              "    <tr style=\"text-align: right;\">\n",
              "      <th></th>\n",
              "      <th>ATA</th>\n",
              "      <th>api_eta</th>\n",
              "      <th>month</th>\n",
              "      <th>hour</th>\n",
              "      <th>distance</th>\n",
              "    </tr>\n",
              "  </thead>\n",
              "  <tbody>\n",
              "    <tr>\n",
              "      <th>ATA</th>\n",
              "      <td>1.000000</td>\n",
              "      <td>0.699267</td>\n",
              "      <td>-0.084542</td>\n",
              "      <td>0.038504</td>\n",
              "      <td>-0.029074</td>\n",
              "    </tr>\n",
              "    <tr>\n",
              "      <th>api_eta</th>\n",
              "      <td>0.699267</td>\n",
              "      <td>1.000000</td>\n",
              "      <td>-0.129561</td>\n",
              "      <td>0.050434</td>\n",
              "      <td>-0.023683</td>\n",
              "    </tr>\n",
              "    <tr>\n",
              "      <th>month</th>\n",
              "      <td>-0.084542</td>\n",
              "      <td>-0.129561</td>\n",
              "      <td>1.000000</td>\n",
              "      <td>0.017370</td>\n",
              "      <td>0.006704</td>\n",
              "    </tr>\n",
              "    <tr>\n",
              "      <th>hour</th>\n",
              "      <td>0.038504</td>\n",
              "      <td>0.050434</td>\n",
              "      <td>0.017370</td>\n",
              "      <td>1.000000</td>\n",
              "      <td>-0.005650</td>\n",
              "    </tr>\n",
              "    <tr>\n",
              "      <th>distance</th>\n",
              "      <td>-0.029074</td>\n",
              "      <td>-0.023683</td>\n",
              "      <td>0.006704</td>\n",
              "      <td>-0.005650</td>\n",
              "      <td>1.000000</td>\n",
              "    </tr>\n",
              "  </tbody>\n",
              "</table>\n",
              "</div>\n",
              "      <button class=\"colab-df-convert\" onclick=\"convertToInteractive('df-75e63ad5-09ed-4b20-a92c-4b3fe84cff86')\"\n",
              "              title=\"Convert this dataframe to an interactive table.\"\n",
              "              style=\"display:none;\">\n",
              "        \n",
              "  <svg xmlns=\"http://www.w3.org/2000/svg\" height=\"24px\"viewBox=\"0 0 24 24\"\n",
              "       width=\"24px\">\n",
              "    <path d=\"M0 0h24v24H0V0z\" fill=\"none\"/>\n",
              "    <path d=\"M18.56 5.44l.94 2.06.94-2.06 2.06-.94-2.06-.94-.94-2.06-.94 2.06-2.06.94zm-11 1L8.5 8.5l.94-2.06 2.06-.94-2.06-.94L8.5 2.5l-.94 2.06-2.06.94zm10 10l.94 2.06.94-2.06 2.06-.94-2.06-.94-.94-2.06-.94 2.06-2.06.94z\"/><path d=\"M17.41 7.96l-1.37-1.37c-.4-.4-.92-.59-1.43-.59-.52 0-1.04.2-1.43.59L10.3 9.45l-7.72 7.72c-.78.78-.78 2.05 0 2.83L4 21.41c.39.39.9.59 1.41.59.51 0 1.02-.2 1.41-.59l7.78-7.78 2.81-2.81c.8-.78.8-2.07 0-2.86zM5.41 20L4 18.59l7.72-7.72 1.47 1.35L5.41 20z\"/>\n",
              "  </svg>\n",
              "      </button>\n",
              "      \n",
              "  <style>\n",
              "    .colab-df-container {\n",
              "      display:flex;\n",
              "      flex-wrap:wrap;\n",
              "      gap: 12px;\n",
              "    }\n",
              "\n",
              "    .colab-df-convert {\n",
              "      background-color: #E8F0FE;\n",
              "      border: none;\n",
              "      border-radius: 50%;\n",
              "      cursor: pointer;\n",
              "      display: none;\n",
              "      fill: #1967D2;\n",
              "      height: 32px;\n",
              "      padding: 0 0 0 0;\n",
              "      width: 32px;\n",
              "    }\n",
              "\n",
              "    .colab-df-convert:hover {\n",
              "      background-color: #E2EBFA;\n",
              "      box-shadow: 0px 1px 2px rgba(60, 64, 67, 0.3), 0px 1px 3px 1px rgba(60, 64, 67, 0.15);\n",
              "      fill: #174EA6;\n",
              "    }\n",
              "\n",
              "    [theme=dark] .colab-df-convert {\n",
              "      background-color: #3B4455;\n",
              "      fill: #D2E3FC;\n",
              "    }\n",
              "\n",
              "    [theme=dark] .colab-df-convert:hover {\n",
              "      background-color: #434B5C;\n",
              "      box-shadow: 0px 1px 3px 1px rgba(0, 0, 0, 0.15);\n",
              "      filter: drop-shadow(0px 1px 2px rgba(0, 0, 0, 0.3));\n",
              "      fill: #FFFFFF;\n",
              "    }\n",
              "  </style>\n",
              "\n",
              "      <script>\n",
              "        const buttonEl =\n",
              "          document.querySelector('#df-75e63ad5-09ed-4b20-a92c-4b3fe84cff86 button.colab-df-convert');\n",
              "        buttonEl.style.display =\n",
              "          google.colab.kernel.accessAllowed ? 'block' : 'none';\n",
              "\n",
              "        async function convertToInteractive(key) {\n",
              "          const element = document.querySelector('#df-75e63ad5-09ed-4b20-a92c-4b3fe84cff86');\n",
              "          const dataTable =\n",
              "            await google.colab.kernel.invokeFunction('convertToInteractive',\n",
              "                                                     [key], {});\n",
              "          if (!dataTable) return;\n",
              "\n",
              "          const docLinkHtml = 'Like what you see? Visit the ' +\n",
              "            '<a target=\"_blank\" href=https://colab.research.google.com/notebooks/data_table.ipynb>data table notebook</a>'\n",
              "            + ' to learn more about interactive tables.';\n",
              "          element.innerHTML = '';\n",
              "          dataTable['output_type'] = 'display_data';\n",
              "          await google.colab.output.renderOutput(dataTable, element);\n",
              "          const docLink = document.createElement('div');\n",
              "          docLink.innerHTML = docLinkHtml;\n",
              "          element.appendChild(docLink);\n",
              "        }\n",
              "      </script>\n",
              "    </div>\n",
              "  </div>\n",
              "  "
            ]
          },
          "metadata": {},
          "execution_count": 92
        }
      ],
      "source": [
        "tada_eta.corr()"
      ]
    },
    {
      "cell_type": "markdown",
      "metadata": {
        "id": "gC5U2-dUGPWf"
      },
      "source": [
        "### 이상치 확인"
      ]
    },
    {
      "cell_type": "code",
      "execution_count": 93,
      "metadata": {
        "colab": {
          "base_uri": "https://localhost:8080/",
          "height": 300
        },
        "id": "gGy7JYKkAgVM",
        "outputId": "1c19f0db-6c7e-4ba8-cfac-e8a358640a24"
      },
      "outputs": [
        {
          "output_type": "execute_result",
          "data": {
            "text/plain": [
              "                ATA       api_eta         month          hour      distance\n",
              "count  13916.000000  13916.000000  13916.000000  13916.000000  1.391600e+04\n",
              "mean       8.386438      6.172346     10.146019     13.278672  6.300930e+05\n",
              "std        4.094109      3.151074      2.415177      6.971578  3.323532e+07\n",
              "min        0.430000      0.000000      7.000000      0.000000  0.000000e+00\n",
              "25%        5.470000      3.800000      7.000000      8.000000  3.122371e+00\n",
              "50%        7.780000      5.950000     12.000000     14.000000  1.112458e+01\n",
              "75%       10.520000      8.180000     12.000000     19.000000  3.069393e+01\n",
              "max       44.780000     25.280000     12.000000     23.000000  1.754298e+09"
            ],
            "text/html": [
              "\n",
              "  <div id=\"df-1f184203-b619-43d1-918e-964fe2c1d864\">\n",
              "    <div class=\"colab-df-container\">\n",
              "      <div>\n",
              "<style scoped>\n",
              "    .dataframe tbody tr th:only-of-type {\n",
              "        vertical-align: middle;\n",
              "    }\n",
              "\n",
              "    .dataframe tbody tr th {\n",
              "        vertical-align: top;\n",
              "    }\n",
              "\n",
              "    .dataframe thead th {\n",
              "        text-align: right;\n",
              "    }\n",
              "</style>\n",
              "<table border=\"1\" class=\"dataframe\">\n",
              "  <thead>\n",
              "    <tr style=\"text-align: right;\">\n",
              "      <th></th>\n",
              "      <th>ATA</th>\n",
              "      <th>api_eta</th>\n",
              "      <th>month</th>\n",
              "      <th>hour</th>\n",
              "      <th>distance</th>\n",
              "    </tr>\n",
              "  </thead>\n",
              "  <tbody>\n",
              "    <tr>\n",
              "      <th>count</th>\n",
              "      <td>13916.000000</td>\n",
              "      <td>13916.000000</td>\n",
              "      <td>13916.000000</td>\n",
              "      <td>13916.000000</td>\n",
              "      <td>1.391600e+04</td>\n",
              "    </tr>\n",
              "    <tr>\n",
              "      <th>mean</th>\n",
              "      <td>8.386438</td>\n",
              "      <td>6.172346</td>\n",
              "      <td>10.146019</td>\n",
              "      <td>13.278672</td>\n",
              "      <td>6.300930e+05</td>\n",
              "    </tr>\n",
              "    <tr>\n",
              "      <th>std</th>\n",
              "      <td>4.094109</td>\n",
              "      <td>3.151074</td>\n",
              "      <td>2.415177</td>\n",
              "      <td>6.971578</td>\n",
              "      <td>3.323532e+07</td>\n",
              "    </tr>\n",
              "    <tr>\n",
              "      <th>min</th>\n",
              "      <td>0.430000</td>\n",
              "      <td>0.000000</td>\n",
              "      <td>7.000000</td>\n",
              "      <td>0.000000</td>\n",
              "      <td>0.000000e+00</td>\n",
              "    </tr>\n",
              "    <tr>\n",
              "      <th>25%</th>\n",
              "      <td>5.470000</td>\n",
              "      <td>3.800000</td>\n",
              "      <td>7.000000</td>\n",
              "      <td>8.000000</td>\n",
              "      <td>3.122371e+00</td>\n",
              "    </tr>\n",
              "    <tr>\n",
              "      <th>50%</th>\n",
              "      <td>7.780000</td>\n",
              "      <td>5.950000</td>\n",
              "      <td>12.000000</td>\n",
              "      <td>14.000000</td>\n",
              "      <td>1.112458e+01</td>\n",
              "    </tr>\n",
              "    <tr>\n",
              "      <th>75%</th>\n",
              "      <td>10.520000</td>\n",
              "      <td>8.180000</td>\n",
              "      <td>12.000000</td>\n",
              "      <td>19.000000</td>\n",
              "      <td>3.069393e+01</td>\n",
              "    </tr>\n",
              "    <tr>\n",
              "      <th>max</th>\n",
              "      <td>44.780000</td>\n",
              "      <td>25.280000</td>\n",
              "      <td>12.000000</td>\n",
              "      <td>23.000000</td>\n",
              "      <td>1.754298e+09</td>\n",
              "    </tr>\n",
              "  </tbody>\n",
              "</table>\n",
              "</div>\n",
              "      <button class=\"colab-df-convert\" onclick=\"convertToInteractive('df-1f184203-b619-43d1-918e-964fe2c1d864')\"\n",
              "              title=\"Convert this dataframe to an interactive table.\"\n",
              "              style=\"display:none;\">\n",
              "        \n",
              "  <svg xmlns=\"http://www.w3.org/2000/svg\" height=\"24px\"viewBox=\"0 0 24 24\"\n",
              "       width=\"24px\">\n",
              "    <path d=\"M0 0h24v24H0V0z\" fill=\"none\"/>\n",
              "    <path d=\"M18.56 5.44l.94 2.06.94-2.06 2.06-.94-2.06-.94-.94-2.06-.94 2.06-2.06.94zm-11 1L8.5 8.5l.94-2.06 2.06-.94-2.06-.94L8.5 2.5l-.94 2.06-2.06.94zm10 10l.94 2.06.94-2.06 2.06-.94-2.06-.94-.94-2.06-.94 2.06-2.06.94z\"/><path d=\"M17.41 7.96l-1.37-1.37c-.4-.4-.92-.59-1.43-.59-.52 0-1.04.2-1.43.59L10.3 9.45l-7.72 7.72c-.78.78-.78 2.05 0 2.83L4 21.41c.39.39.9.59 1.41.59.51 0 1.02-.2 1.41-.59l7.78-7.78 2.81-2.81c.8-.78.8-2.07 0-2.86zM5.41 20L4 18.59l7.72-7.72 1.47 1.35L5.41 20z\"/>\n",
              "  </svg>\n",
              "      </button>\n",
              "      \n",
              "  <style>\n",
              "    .colab-df-container {\n",
              "      display:flex;\n",
              "      flex-wrap:wrap;\n",
              "      gap: 12px;\n",
              "    }\n",
              "\n",
              "    .colab-df-convert {\n",
              "      background-color: #E8F0FE;\n",
              "      border: none;\n",
              "      border-radius: 50%;\n",
              "      cursor: pointer;\n",
              "      display: none;\n",
              "      fill: #1967D2;\n",
              "      height: 32px;\n",
              "      padding: 0 0 0 0;\n",
              "      width: 32px;\n",
              "    }\n",
              "\n",
              "    .colab-df-convert:hover {\n",
              "      background-color: #E2EBFA;\n",
              "      box-shadow: 0px 1px 2px rgba(60, 64, 67, 0.3), 0px 1px 3px 1px rgba(60, 64, 67, 0.15);\n",
              "      fill: #174EA6;\n",
              "    }\n",
              "\n",
              "    [theme=dark] .colab-df-convert {\n",
              "      background-color: #3B4455;\n",
              "      fill: #D2E3FC;\n",
              "    }\n",
              "\n",
              "    [theme=dark] .colab-df-convert:hover {\n",
              "      background-color: #434B5C;\n",
              "      box-shadow: 0px 1px 3px 1px rgba(0, 0, 0, 0.15);\n",
              "      filter: drop-shadow(0px 1px 2px rgba(0, 0, 0, 0.3));\n",
              "      fill: #FFFFFF;\n",
              "    }\n",
              "  </style>\n",
              "\n",
              "      <script>\n",
              "        const buttonEl =\n",
              "          document.querySelector('#df-1f184203-b619-43d1-918e-964fe2c1d864 button.colab-df-convert');\n",
              "        buttonEl.style.display =\n",
              "          google.colab.kernel.accessAllowed ? 'block' : 'none';\n",
              "\n",
              "        async function convertToInteractive(key) {\n",
              "          const element = document.querySelector('#df-1f184203-b619-43d1-918e-964fe2c1d864');\n",
              "          const dataTable =\n",
              "            await google.colab.kernel.invokeFunction('convertToInteractive',\n",
              "                                                     [key], {});\n",
              "          if (!dataTable) return;\n",
              "\n",
              "          const docLinkHtml = 'Like what you see? Visit the ' +\n",
              "            '<a target=\"_blank\" href=https://colab.research.google.com/notebooks/data_table.ipynb>data table notebook</a>'\n",
              "            + ' to learn more about interactive tables.';\n",
              "          element.innerHTML = '';\n",
              "          dataTable['output_type'] = 'display_data';\n",
              "          await google.colab.output.renderOutput(dataTable, element);\n",
              "          const docLink = document.createElement('div');\n",
              "          docLink.innerHTML = docLinkHtml;\n",
              "          element.appendChild(docLink);\n",
              "        }\n",
              "      </script>\n",
              "    </div>\n",
              "  </div>\n",
              "  "
            ]
          },
          "metadata": {},
          "execution_count": 93
        }
      ],
      "source": [
        "tada_eta.describe()"
      ]
    },
    {
      "cell_type": "code",
      "execution_count": 94,
      "metadata": {
        "colab": {
          "base_uri": "https://localhost:8080/"
        },
        "id": "TSLKu3vZA3LP",
        "outputId": "abb82a97-3f0c-454a-e4da-65ab5423a00c"
      },
      "outputs": [
        {
          "output_type": "execute_result",
          "data": {
            "text/plain": [
              "1754297836.8400323"
            ]
          },
          "metadata": {},
          "execution_count": 94
        }
      ],
      "source": [
        "tada_eta['distance'].max()"
      ]
    },
    {
      "cell_type": "code",
      "execution_count": 95,
      "metadata": {
        "colab": {
          "base_uri": "https://localhost:8080/"
        },
        "id": "5sbwhX6-BBDZ",
        "outputId": "2de8f39e-2b29-47b4-e83e-d7bcc3916a73"
      },
      "outputs": [
        {
          "output_type": "execute_result",
          "data": {
            "text/plain": [
              "0.0"
            ]
          },
          "metadata": {},
          "execution_count": 95
        }
      ],
      "source": [
        "tada_eta['distance'].min()"
      ]
    },
    {
      "cell_type": "code",
      "execution_count": 96,
      "metadata": {
        "colab": {
          "base_uri": "https://localhost:8080/"
        },
        "id": "slNEokoYBFvz",
        "outputId": "c2227ded-34dc-45fb-a5c7-df0c3723e9f9"
      },
      "outputs": [
        {
          "output_type": "execute_result",
          "data": {
            "text/plain": [
              "ATA         8\n",
              "api_eta     8\n",
              "month       8\n",
              "hour        8\n",
              "distance    8\n",
              "dtype: int64"
            ]
          },
          "metadata": {},
          "execution_count": 96
        }
      ],
      "source": [
        "tada_eta[tada_eta['distance'] > 400].count()"
      ]
    },
    {
      "cell_type": "code",
      "execution_count": 97,
      "metadata": {
        "colab": {
          "base_uri": "https://localhost:8080/",
          "height": 278
        },
        "id": "ZQOeVz0kARin",
        "outputId": "ae3e38f5-f325-42e1-e781-d6d07546d907"
      },
      "outputs": [
        {
          "output_type": "display_data",
          "data": {
            "text/plain": [
              "<Figure size 432x288 with 1 Axes>"
            ],
            "image/png": "[encoded data removed]"
          },
          "metadata": {
            "needs_background": "light"
          }
        }
      ],
      "source": [
        "plt.hist(tada_eta['distance']);"
      ]
    },
    {
      "cell_type": "code",
      "execution_count": 98,
      "metadata": {
        "colab": {
          "base_uri": "https://localhost:8080/",
          "height": 265
        },
        "id": "Zko6Ame9IMHb",
        "outputId": "04073b02-26d0-4cd3-8460-c40d0a687b61"
      },
      "outputs": [
        {
          "output_type": "display_data",
          "data": {
            "text/plain": [
              "<Figure size 432x288 with 1 Axes>"
            ],
            "image/png": "[encoded data removed]"
          },
          "metadata": {
            "needs_background": "light"
          }
        }
      ],
      "source": [
        "plt.hist(tada_eta['hour']);"
      ]
    },
    {
      "cell_type": "code",
      "execution_count": 99,
      "metadata": {
        "colab": {
          "base_uri": "https://localhost:8080/",
          "height": 265
        },
        "id": "e3my4svnIOj8",
        "outputId": "dcfa18f8-4f05-499d-8c99-9fa50c92aa72"
      },
      "outputs": [
        {
          "output_type": "display_data",
          "data": {
            "text/plain": [
              "<Figure size 432x288 with 1 Axes>"
            ],
            "image/png": "[encoded data removed]"
          },
          "metadata": {
            "needs_background": "light"
          }
        }
      ],
      "source": [
        "plt.hist(tada_eta['month']);"
      ]
    },
    {
      "cell_type": "code",
      "execution_count": 100,
      "metadata": {
        "colab": {
          "base_uri": "https://localhost:8080/"
        },
        "id": "JoOdHRKvFj96",
        "outputId": "36ca3638-cd51-4c88-c091-a64f930d25af"
      },
      "outputs": [
        {
          "output_type": "stream",
          "name": "stdout",
          "text": [
            "<class 'pandas.core.frame.DataFrame'>\n",
            "Int64Index: 13908 entries, 0 to 13915\n",
            "Data columns (total 5 columns):\n",
            " #   Column    Non-Null Count  Dtype  \n",
            "---  ------    --------------  -----  \n",
            " 0   ATA       13908 non-null  float64\n",
            " 1   api_eta   13908 non-null  float64\n",
            " 2   month     13908 non-null  int64  \n",
            " 3   hour      13908 non-null  int64  \n",
            " 4   distance  13908 non-null  float64\n",
            "dtypes: float64(3), int64(2)\n",
            "memory usage: 651.9 KB\n"
          ]
        }
      ],
      "source": [
        "tada_eta = tada_eta[tada_eta['distance'] <= 400]\n",
        "tada_eta.info()"
      ]
    },
    {
      "cell_type": "markdown",
      "metadata": {
        "id": "-3mEUrP8GVdR"
      },
      "source": [
        "## train test split"
      ]
    },
    {
      "cell_type": "code",
      "source": [
        "X = tada_eta.drop('ATA', 1)\n",
        "y = tada_eta['ATA']"
      ],
      "metadata": {
        "colab": {
          "base_uri": "https://localhost:8080/"
        },
        "id": "OJeZbqr74d-Z",
        "outputId": "adb6cf26-5015-4a33-b278-dfd4ec7ecdbf"
      },
      "execution_count": 101,
      "outputs": [
        {
          "output_type": "stream",
          "name": "stderr",
          "text": [
            "/usr/local/lib/python3.7/dist-packages/ipykernel_launcher.py:1: FutureWarning: In a future version of pandas all arguments of DataFrame.drop except for the argument 'labels' will be keyword-only\n",
            "  \"\"\"Entry point for launching an IPython kernel.\n"
          ]
        }
      ]
    },
    {
      "cell_type": "code",
      "source": [
        "X_train, X_test, y_train, y_test = train_test_split(X, y, random_state=0, shuffle=True, train_size=12000)\n",
        "X_train.shape, X_test.shape, y_train.shape, y_test.shape"
      ],
      "metadata": {
        "colab": {
          "base_uri": "https://localhost:8080/"
        },
        "id": "puZVTYIR4uTf",
        "outputId": "6b2d4628-e998-41c4-f415-2eebf2bbf7b7"
      },
      "execution_count": 102,
      "outputs": [
        {
          "output_type": "execute_result",
          "data": {
            "text/plain": [
              "((12000, 4), (1908, 4), (12000,), (1908,))"
            ]
          },
          "metadata": {},
          "execution_count": 102
        }
      ]
    },
    {
      "cell_type": "markdown",
      "metadata": {
        "id": "u7dd6SHC1qqE"
      },
      "source": [
        "## Random Forest"
      ]
    },
    {
      "cell_type": "markdown",
      "metadata": {
        "id": "1RtehDgZaNOR"
      },
      "source": [
        "### 최적 max depth 찾기"
      ]
    },
    {
      "cell_type": "code",
      "execution_count": 103,
      "metadata": {
        "colab": {
          "base_uri": "https://localhost:8080/"
        },
        "id": "W0Pckr8KTEDD",
        "outputId": "11992509-21f8-4f22-ca2f-68b20e4936c6"
      },
      "outputs": [
        {
          "output_type": "stream",
          "name": "stdout",
          "text": [
            "RandomForest depth : 1\n",
            "The mean squared error (MSE) on test set: 11.2560\n",
            "The initial error of API ETA on test set: 13.0767\n",
            "The mean absolute error (MAE) on test set: 2.5199\n",
            "The initial error of API ETA on test set: 2.6014\n",
            "RandomForest depth : 2\n",
            "The mean squared error (MSE) on test set: 8.9377\n",
            "The initial error of API ETA on test set: 13.0767\n",
            "The mean absolute error (MAE) on test set: 2.1874\n",
            "The initial error of API ETA on test set: 2.6014\n",
            "RandomForest depth : 3\n",
            "The mean squared error (MSE) on test set: 8.5483\n",
            "The initial error of API ETA on test set: 13.0767\n",
            "The mean absolute error (MAE) on test set: 2.1194\n",
            "The initial error of API ETA on test set: 2.6014\n",
            "RandomForest depth : 4\n",
            "The mean squared error (MSE) on test set: 8.3843\n",
            "The initial error of API ETA on test set: 13.0767\n",
            "The mean absolute error (MAE) on test set: 2.0942\n",
            "The initial error of API ETA on test set: 2.6014\n",
            "RandomForest depth : 5\n",
            "The mean squared error (MSE) on test set: 8.2803\n",
            "The initial error of API ETA on test set: 13.0767\n",
            "The mean absolute error (MAE) on test set: 2.0809\n",
            "The initial error of API ETA on test set: 2.6014\n",
            "RandomForest depth : 6\n",
            "The mean squared error (MSE) on test set: 8.2149\n",
            "The initial error of API ETA on test set: 13.0767\n",
            "The mean absolute error (MAE) on test set: 2.0703\n",
            "The initial error of API ETA on test set: 2.6014\n",
            "RandomForest depth : 7\n",
            "The mean squared error (MSE) on test set: 8.1918\n",
            "The initial error of API ETA on test set: 13.0767\n",
            "The mean absolute error (MAE) on test set: 2.0683\n",
            "The initial error of API ETA on test set: 2.6014\n",
            "RandomForest depth : 8\n",
            "The mean squared error (MSE) on test set: 8.2001\n",
            "The initial error of API ETA on test set: 13.0767\n",
            "The mean absolute error (MAE) on test set: 2.0688\n",
            "The initial error of API ETA on test set: 2.6014\n",
            "RandomForest depth : 9\n",
            "The mean squared error (MSE) on test set: 8.2666\n",
            "The initial error of API ETA on test set: 13.0767\n",
            "The mean absolute error (MAE) on test set: 2.0767\n",
            "The initial error of API ETA on test set: 2.6014\n"
          ]
        }
      ],
      "source": [
        "mse_list = []\n",
        "mse_api_list = []\n",
        "mae_list = []\n",
        "mae_api_list = []\n",
        "for depth in range(1, 10):\n",
        "  rf = RandomForestRegressor(max_depth=depth, random_state=0)\n",
        "  rf.fit(X_train, y_train)\n",
        "  pred = rf.predict(X_test)\n",
        "  api_eta = X_test.iloc[:, 0]\n",
        "  mse = mean_squared_error(y_test, pred)\n",
        "  mse_api = mean_squared_error(y_test, api_eta)\n",
        "  mse_list.append(mse)\n",
        "  mse_api_list.append(mse_api)\n",
        "  print(f'RandomForest depth : {depth}')\n",
        "  print( \"The mean squared error (MSE) on test set: {:.4f}\".format(mse) )\n",
        "  print( \"The initial error of API ETA on test set: {:.4f}\".format(mse_api) )\n",
        "  mae = mean_absolute_error(y_test, pred)\n",
        "  mae_api = mean_absolute_error(y_test, api_eta)\n",
        "  mae_list.append(mae)\n",
        "  mae_api_list.append(mae_api)\n",
        "  print( \"The mean absolute error (MAE) on test set: {:.4f}\".format(mae) )\n",
        "  print( \"The initial error of API ETA on test set: {:.4f}\".format(mae_api) )"
      ]
    },
    {
      "cell_type": "markdown",
      "metadata": {
        "id": "odPQ62T-3San"
      },
      "source": [
        "### 결과 df"
      ]
    },
    {
      "cell_type": "code",
      "execution_count": 104,
      "metadata": {
        "id": "fOJ23DLcVKvd"
      },
      "outputs": [],
      "source": [
        "dict = {'depth':list(range(1,10)), 'mse':mse_list, 'mse_api':mse_api_list, 'mae':mae_list, 'mae_api':mae_api_list}\n",
        "rf_df = pd.DataFrame(dict)"
      ]
    },
    {
      "cell_type": "code",
      "execution_count": 105,
      "metadata": {
        "colab": {
          "base_uri": "https://localhost:8080/",
          "height": 206
        },
        "id": "oj2jFT12Vk3L",
        "outputId": "e9a102d0-c8c5-4e49-999d-7b4861e3b9e4"
      },
      "outputs": [
        {
          "output_type": "execute_result",
          "data": {
            "text/plain": [
              "   depth        mse    mse_api       mae   mae_api\n",
              "0      1  11.256025  13.076707  2.519917  2.601415\n",
              "1      2   8.937724  13.076707  2.187390  2.601415\n",
              "2      3   8.548313  13.076707  2.119361  2.601415\n",
              "3      4   8.384278  13.076707  2.094151  2.601415\n",
              "4      5   8.280324  13.076707  2.080852  2.601415"
            ],
            "text/html": [
              "\n",
              "  <div id=\"df-b61759e2-c3ac-4f6d-8197-303bd1841b71\">\n",
              "    <div class=\"colab-df-container\">\n",
              "      <div>\n",
              "<style scoped>\n",
              "    .dataframe tbody tr th:only-of-type {\n",
              "        vertical-align: middle;\n",
              "    }\n",
              "\n",
              "    .dataframe tbody tr th {\n",
              "        vertical-align: top;\n",
              "    }\n",
              "\n",
              "    .dataframe thead th {\n",
              "        text-align: right;\n",
              "    }\n",
              "</style>\n",
              "<table border=\"1\" class=\"dataframe\">\n",
              "  <thead>\n",
              "    <tr style=\"text-align: right;\">\n",
              "      <th></th>\n",
              "      <th>depth</th>\n",
              "      <th>mse</th>\n",
              "      <th>mse_api</th>\n",
              "      <th>mae</th>\n",
              "      <th>mae_api</th>\n",
              "    </tr>\n",
              "  </thead>\n",
              "  <tbody>\n",
              "    <tr>\n",
              "      <th>0</th>\n",
              "      <td>1</td>\n",
              "      <td>11.256025</td>\n",
              "      <td>13.076707</td>\n",
              "      <td>2.519917</td>\n",
              "      <td>2.601415</td>\n",
              "    </tr>\n",
              "    <tr>\n",
              "      <th>1</th>\n",
              "      <td>2</td>\n",
              "      <td>8.937724</td>\n",
              "      <td>13.076707</td>\n",
              "      <td>2.187390</td>\n",
              "      <td>2.601415</td>\n",
              "    </tr>\n",
              "    <tr>\n",
              "      <th>2</th>\n",
              "      <td>3</td>\n",
              "      <td>8.548313</td>\n",
              "      <td>13.076707</td>\n",
              "      <td>2.119361</td>\n",
              "      <td>2.601415</td>\n",
              "    </tr>\n",
              "    <tr>\n",
              "      <th>3</th>\n",
              "      <td>4</td>\n",
              "      <td>8.384278</td>\n",
              "      <td>13.076707</td>\n",
              "      <td>2.094151</td>\n",
              "      <td>2.601415</td>\n",
              "    </tr>\n",
              "    <tr>\n",
              "      <th>4</th>\n",
              "      <td>5</td>\n",
              "      <td>8.280324</td>\n",
              "      <td>13.076707</td>\n",
              "      <td>2.080852</td>\n",
              "      <td>2.601415</td>\n",
              "    </tr>\n",
              "  </tbody>\n",
              "</table>\n",
              "</div>\n",
              "      <button class=\"colab-df-convert\" onclick=\"convertToInteractive('df-b61759e2-c3ac-4f6d-8197-303bd1841b71')\"\n",
              "              title=\"Convert this dataframe to an interactive table.\"\n",
              "              style=\"display:none;\">\n",
              "        \n",
              "  <svg xmlns=\"http://www.w3.org/2000/svg\" height=\"24px\"viewBox=\"0 0 24 24\"\n",
              "       width=\"24px\">\n",
              "    <path d=\"M0 0h24v24H0V0z\" fill=\"none\"/>\n",
              "    <path d=\"M18.56 5.44l.94 2.06.94-2.06 2.06-.94-2.06-.94-.94-2.06-.94 2.06-2.06.94zm-11 1L8.5 8.5l.94-2.06 2.06-.94-2.06-.94L8.5 2.5l-.94 2.06-2.06.94zm10 10l.94 2.06.94-2.06 2.06-.94-2.06-.94-.94-2.06-.94 2.06-2.06.94z\"/><path d=\"M17.41 7.96l-1.37-1.37c-.4-.4-.92-.59-1.43-.59-.52 0-1.04.2-1.43.59L10.3 9.45l-7.72 7.72c-.78.78-.78 2.05 0 2.83L4 21.41c.39.39.9.59 1.41.59.51 0 1.02-.2 1.41-.59l7.78-7.78 2.81-2.81c.8-.78.8-2.07 0-2.86zM5.41 20L4 18.59l7.72-7.72 1.47 1.35L5.41 20z\"/>\n",
              "  </svg>\n",
              "      </button>\n",
              "      \n",
              "  <style>\n",
              "    .colab-df-container {\n",
              "      display:flex;\n",
              "      flex-wrap:wrap;\n",
              "      gap: 12px;\n",
              "    }\n",
              "\n",
              "    .colab-df-convert {\n",
              "      background-color: #E8F0FE;\n",
              "      border: none;\n",
              "      border-radius: 50%;\n",
              "      cursor: pointer;\n",
              "      display: none;\n",
              "      fill: #1967D2;\n",
              "      height: 32px;\n",
              "      padding: 0 0 0 0;\n",
              "      width: 32px;\n",
              "    }\n",
              "\n",
              "    .colab-df-convert:hover {\n",
              "      background-color: #E2EBFA;\n",
              "      box-shadow: 0px 1px 2px rgba(60, 64, 67, 0.3), 0px 1px 3px 1px rgba(60, 64, 67, 0.15);\n",
              "      fill: #174EA6;\n",
              "    }\n",
              "\n",
              "    [theme=dark] .colab-df-convert {\n",
              "      background-color: #3B4455;\n",
              "      fill: #D2E3FC;\n",
              "    }\n",
              "\n",
              "    [theme=dark] .colab-df-convert:hover {\n",
              "      background-color: #434B5C;\n",
              "      box-shadow: 0px 1px 3px 1px rgba(0, 0, 0, 0.15);\n",
              "      filter: drop-shadow(0px 1px 2px rgba(0, 0, 0, 0.3));\n",
              "      fill: #FFFFFF;\n",
              "    }\n",
              "  </style>\n",
              "\n",
              "      <script>\n",
              "        const buttonEl =\n",
              "          document.querySelector('#df-b61759e2-c3ac-4f6d-8197-303bd1841b71 button.colab-df-convert');\n",
              "        buttonEl.style.display =\n",
              "          google.colab.kernel.accessAllowed ? 'block' : 'none';\n",
              "\n",
              "        async function convertToInteractive(key) {\n",
              "          const element = document.querySelector('#df-b61759e2-c3ac-4f6d-8197-303bd1841b71');\n",
              "          const dataTable =\n",
              "            await google.colab.kernel.invokeFunction('convertToInteractive',\n",
              "                                                     [key], {});\n",
              "          if (!dataTable) return;\n",
              "\n",
              "          const docLinkHtml = 'Like what you see? Visit the ' +\n",
              "            '<a target=\"_blank\" href=https://colab.research.google.com/notebooks/data_table.ipynb>data table notebook</a>'\n",
              "            + ' to learn more about interactive tables.';\n",
              "          element.innerHTML = '';\n",
              "          dataTable['output_type'] = 'display_data';\n",
              "          await google.colab.output.renderOutput(dataTable, element);\n",
              "          const docLink = document.createElement('div');\n",
              "          docLink.innerHTML = docLinkHtml;\n",
              "          element.appendChild(docLink);\n",
              "        }\n",
              "      </script>\n",
              "    </div>\n",
              "  </div>\n",
              "  "
            ]
          },
          "metadata": {},
          "execution_count": 105
        }
      ],
      "source": [
        "rf_df.head()"
      ]
    },
    {
      "cell_type": "markdown",
      "metadata": {
        "id": "A1Neejuj3hhN"
      },
      "source": [
        "#### 최소 MSE 값"
      ]
    },
    {
      "cell_type": "code",
      "execution_count": 106,
      "metadata": {
        "colab": {
          "base_uri": "https://localhost:8080/",
          "height": 81
        },
        "id": "819tL_Na4WJ3",
        "outputId": "780dafc3-2a53-48dd-a101-8b7e93ffe130"
      },
      "outputs": [
        {
          "output_type": "execute_result",
          "data": {
            "text/plain": [
              "   depth       mse    mse_api       mae   mae_api\n",
              "6      7  8.191796  13.076707  2.068285  2.601415"
            ],
            "text/html": [
              "\n",
              "  <div id=\"df-79bf3d70-3907-47a5-8286-ae9a8b1efccc\">\n",
              "    <div class=\"colab-df-container\">\n",
              "      <div>\n",
              "<style scoped>\n",
              "    .dataframe tbody tr th:only-of-type {\n",
              "        vertical-align: middle;\n",
              "    }\n",
              "\n",
              "    .dataframe tbody tr th {\n",
              "        vertical-align: top;\n",
              "    }\n",
              "\n",
              "    .dataframe thead th {\n",
              "        text-align: right;\n",
              "    }\n",
              "</style>\n",
              "<table border=\"1\" class=\"dataframe\">\n",
              "  <thead>\n",
              "    <tr style=\"text-align: right;\">\n",
              "      <th></th>\n",
              "      <th>depth</th>\n",
              "      <th>mse</th>\n",
              "      <th>mse_api</th>\n",
              "      <th>mae</th>\n",
              "      <th>mae_api</th>\n",
              "    </tr>\n",
              "  </thead>\n",
              "  <tbody>\n",
              "    <tr>\n",
              "      <th>6</th>\n",
              "      <td>7</td>\n",
              "      <td>8.191796</td>\n",
              "      <td>13.076707</td>\n",
              "      <td>2.068285</td>\n",
              "      <td>2.601415</td>\n",
              "    </tr>\n",
              "  </tbody>\n",
              "</table>\n",
              "</div>\n",
              "      <button class=\"colab-df-convert\" onclick=\"convertToInteractive('df-79bf3d70-3907-47a5-8286-ae9a8b1efccc')\"\n",
              "              title=\"Convert this dataframe to an interactive table.\"\n",
              "              style=\"display:none;\">\n",
              "        \n",
              "  <svg xmlns=\"http://www.w3.org/2000/svg\" height=\"24px\"viewBox=\"0 0 24 24\"\n",
              "       width=\"24px\">\n",
              "    <path d=\"M0 0h24v24H0V0z\" fill=\"none\"/>\n",
              "    <path d=\"M18.56 5.44l.94 2.06.94-2.06 2.06-.94-2.06-.94-.94-2.06-.94 2.06-2.06.94zm-11 1L8.5 8.5l.94-2.06 2.06-.94-2.06-.94L8.5 2.5l-.94 2.06-2.06.94zm10 10l.94 2.06.94-2.06 2.06-.94-2.06-.94-.94-2.06-.94 2.06-2.06.94z\"/><path d=\"M17.41 7.96l-1.37-1.37c-.4-.4-.92-.59-1.43-.59-.52 0-1.04.2-1.43.59L10.3 9.45l-7.72 7.72c-.78.78-.78 2.05 0 2.83L4 21.41c.39.39.9.59 1.41.59.51 0 1.02-.2 1.41-.59l7.78-7.78 2.81-2.81c.8-.78.8-2.07 0-2.86zM5.41 20L4 18.59l7.72-7.72 1.47 1.35L5.41 20z\"/>\n",
              "  </svg>\n",
              "      </button>\n",
              "      \n",
              "  <style>\n",
              "    .colab-df-container {\n",
              "      display:flex;\n",
              "      flex-wrap:wrap;\n",
              "      gap: 12px;\n",
              "    }\n",
              "\n",
              "    .colab-df-convert {\n",
              "      background-color: #E8F0FE;\n",
              "      border: none;\n",
              "      border-radius: 50%;\n",
              "      cursor: pointer;\n",
              "      display: none;\n",
              "      fill: #1967D2;\n",
              "      height: 32px;\n",
              "      padding: 0 0 0 0;\n",
              "      width: 32px;\n",
              "    }\n",
              "\n",
              "    .colab-df-convert:hover {\n",
              "      background-color: #E2EBFA;\n",
              "      box-shadow: 0px 1px 2px rgba(60, 64, 67, 0.3), 0px 1px 3px 1px rgba(60, 64, 67, 0.15);\n",
              "      fill: #174EA6;\n",
              "    }\n",
              "\n",
              "    [theme=dark] .colab-df-convert {\n",
              "      background-color: #3B4455;\n",
              "      fill: #D2E3FC;\n",
              "    }\n",
              "\n",
              "    [theme=dark] .colab-df-convert:hover {\n",
              "      background-color: #434B5C;\n",
              "      box-shadow: 0px 1px 3px 1px rgba(0, 0, 0, 0.15);\n",
              "      filter: drop-shadow(0px 1px 2px rgba(0, 0, 0, 0.3));\n",
              "      fill: #FFFFFF;\n",
              "    }\n",
              "  </style>\n",
              "\n",
              "      <script>\n",
              "        const buttonEl =\n",
              "          document.querySelector('#df-79bf3d70-3907-47a5-8286-ae9a8b1efccc button.colab-df-convert');\n",
              "        buttonEl.style.display =\n",
              "          google.colab.kernel.accessAllowed ? 'block' : 'none';\n",
              "\n",
              "        async function convertToInteractive(key) {\n",
              "          const element = document.querySelector('#df-79bf3d70-3907-47a5-8286-ae9a8b1efccc');\n",
              "          const dataTable =\n",
              "            await google.colab.kernel.invokeFunction('convertToInteractive',\n",
              "                                                     [key], {});\n",
              "          if (!dataTable) return;\n",
              "\n",
              "          const docLinkHtml = 'Like what you see? Visit the ' +\n",
              "            '<a target=\"_blank\" href=https://colab.research.google.com/notebooks/data_table.ipynb>data table notebook</a>'\n",
              "            + ' to learn more about interactive tables.';\n",
              "          element.innerHTML = '';\n",
              "          dataTable['output_type'] = 'display_data';\n",
              "          await google.colab.output.renderOutput(dataTable, element);\n",
              "          const docLink = document.createElement('div');\n",
              "          docLink.innerHTML = docLinkHtml;\n",
              "          element.appendChild(docLink);\n",
              "        }\n",
              "      </script>\n",
              "    </div>\n",
              "  </div>\n",
              "  "
            ]
          },
          "metadata": {},
          "execution_count": 106
        }
      ],
      "source": [
        "rf_df[ rf_df['mse'] == rf_df['mse'].min() ]"
      ]
    },
    {
      "cell_type": "markdown",
      "metadata": {
        "id": "H-WNB9xB3W2r"
      },
      "source": [
        "#### 결과 시각화"
      ]
    },
    {
      "cell_type": "code",
      "execution_count": 107,
      "metadata": {
        "id": "MOH3S2dETcFC"
      },
      "outputs": [],
      "source": [
        "def vis(df, model, hyper):\n",
        "  plt.figure(figsize=(12,7))\n",
        "  plt.grid(True)\n",
        "  plt.plot(df[f'{hyper}'], df['mse'], 'o-', label='mse', linewidth=3)\n",
        "  plt.plot(df[f'{hyper}'], df['mse_api'], 'o-', label='mse_api', linewidth=3)\n",
        "  plt.plot(df[f'{hyper}'], df['mae'], ':', label='mae', linewidth=3)\n",
        "  plt.plot(df[f'{hyper}'], df['mae_api'], ':', label='mae_api', linewidth=3)\n",
        "\n",
        "  for i in range(df[f'{hyper}'].shape[0]):\n",
        "    num_mse = df['mse'][i]\n",
        "    num_mse_api = df['mse_api'][i]\n",
        "    num_mae = df['mae'][i]\n",
        "    num_mae_api = df['mae_api'][i]\n",
        "    plt.text(df[f'{hyper}'][i], df['mse'][i], '{:.3f}'.format(num_mse), verticalalignment='bottom', fontsize=12)\n",
        "    plt.text(df[f'{hyper}'][i], df['mse_api'][i], '{:.3f}'.format(num_mse_api), verticalalignment='bottom', fontsize=12)\n",
        "    plt.text(df[f'{hyper}'][i], df['mae'][i], '{:.3f}'.format(num_mae), verticalalignment='bottom', fontsize=12)\n",
        "    plt.text(df[f'{hyper}'][i], df['mae_api'][i], '{:.3f}'.format(num_mae_api), verticalalignment='bottom', fontsize=12)\n",
        "    \n",
        "  plt.title(f'{model} MSE, MAE by {hyper}', fontdict={'size':15})\n",
        "  plt.xlabel(f'{hyper}', fontsize=13)\n",
        "  plt.xticks(fontsize=12)\n",
        "  plt.yticks(fontsize=12)\n",
        "  plt.legend(frameon=True, shadow=True, edgecolor='k', framealpha=0.5, fontsize=13);"
      ]
    },
    {
      "cell_type": "code",
      "execution_count": 108,
      "metadata": {
        "colab": {
          "base_uri": "https://localhost:8080/",
          "height": 466
        },
        "id": "gN6cx0447MnV",
        "outputId": "e41c442b-5468-4414-a058-606ee1acf375"
      },
      "outputs": [
        {
          "output_type": "display_data",
          "data": {
            "text/plain": [
              "<Figure size 864x504 with 1 Axes>"
            ],
            "image/png": "[encoded data removed]"
          },
          "metadata": {
            "needs_background": "light"
          }
        }
      ],
      "source": [
        "vis(rf_df, \"RandomForestRegressor\", 'depth')"
      ]
    },
    {
      "cell_type": "markdown",
      "metadata": {
        "id": "-diRnwxWabZh"
      },
      "source": [
        "### 최적의 min samples split 찾기\n",
        "* 거의 변동 없어서 의미 없음"
      ]
    },
    {
      "cell_type": "code",
      "execution_count": 109,
      "metadata": {
        "colab": {
          "base_uri": "https://localhost:8080/"
        },
        "id": "LsuaUVrvV6QS",
        "outputId": "b1404ad9-8091-41a2-8799-c2a0b6071c94"
      },
      "outputs": [
        {
          "output_type": "stream",
          "name": "stdout",
          "text": [
            "RandomForest samples : 2\n",
            "The mean squared error (MSE) on test set: 8.1918\n",
            "The initial error of API ETA on test set: 13.0767\n",
            "The mean absolute error (MAE) on test set: 2.0683\n",
            "The initial error of API ETA on test set: 2.6014\n",
            "\n",
            "RandomForest samples : 3\n",
            "The mean squared error (MSE) on test set: 8.1943\n",
            "The initial error of API ETA on test set: 13.0767\n",
            "The mean absolute error (MAE) on test set: 2.0685\n",
            "The initial error of API ETA on test set: 2.6014\n",
            "\n",
            "RandomForest samples : 4\n",
            "The mean squared error (MSE) on test set: 8.1891\n",
            "The initial error of API ETA on test set: 13.0767\n",
            "The mean absolute error (MAE) on test set: 2.0685\n",
            "The initial error of API ETA on test set: 2.6014\n",
            "\n",
            "RandomForest samples : 5\n",
            "The mean squared error (MSE) on test set: 8.1863\n",
            "The initial error of API ETA on test set: 13.0767\n",
            "The mean absolute error (MAE) on test set: 2.0681\n",
            "The initial error of API ETA on test set: 2.6014\n",
            "\n",
            "RandomForest samples : 6\n",
            "The mean squared error (MSE) on test set: 8.1879\n",
            "The initial error of API ETA on test set: 13.0767\n",
            "The mean absolute error (MAE) on test set: 2.0683\n",
            "The initial error of API ETA on test set: 2.6014\n",
            "\n",
            "RandomForest samples : 7\n",
            "The mean squared error (MSE) on test set: 8.1844\n",
            "The initial error of API ETA on test set: 13.0767\n",
            "The mean absolute error (MAE) on test set: 2.0681\n",
            "The initial error of API ETA on test set: 2.6014\n",
            "\n",
            "RandomForest samples : 8\n",
            "The mean squared error (MSE) on test set: 8.1818\n",
            "The initial error of API ETA on test set: 13.0767\n",
            "The mean absolute error (MAE) on test set: 2.0681\n",
            "The initial error of API ETA on test set: 2.6014\n",
            "\n",
            "RandomForest samples : 9\n",
            "The mean squared error (MSE) on test set: 8.1782\n",
            "The initial error of API ETA on test set: 13.0767\n",
            "The mean absolute error (MAE) on test set: 2.0681\n",
            "The initial error of API ETA on test set: 2.6014\n",
            "\n",
            "RandomForest samples : 10\n",
            "The mean squared error (MSE) on test set: 8.1712\n",
            "The initial error of API ETA on test set: 13.0767\n",
            "The mean absolute error (MAE) on test set: 2.0671\n",
            "The initial error of API ETA on test set: 2.6014\n",
            "\n",
            "RandomForest samples : 11\n",
            "The mean squared error (MSE) on test set: 8.1674\n",
            "The initial error of API ETA on test set: 13.0767\n",
            "The mean absolute error (MAE) on test set: 2.0664\n",
            "The initial error of API ETA on test set: 2.6014\n",
            "\n",
            "RandomForest samples : 12\n",
            "The mean squared error (MSE) on test set: 8.1650\n",
            "The initial error of API ETA on test set: 13.0767\n",
            "The mean absolute error (MAE) on test set: 2.0657\n",
            "The initial error of API ETA on test set: 2.6014\n",
            "\n",
            "RandomForest samples : 13\n",
            "The mean squared error (MSE) on test set: 8.1644\n",
            "The initial error of API ETA on test set: 13.0767\n",
            "The mean absolute error (MAE) on test set: 2.0653\n",
            "The initial error of API ETA on test set: 2.6014\n",
            "\n",
            "RandomForest samples : 14\n",
            "The mean squared error (MSE) on test set: 8.1629\n",
            "The initial error of API ETA on test set: 13.0767\n",
            "The mean absolute error (MAE) on test set: 2.0650\n",
            "The initial error of API ETA on test set: 2.6014\n",
            "\n",
            "RandomForest samples : 15\n",
            "The mean squared error (MSE) on test set: 8.1638\n",
            "The initial error of API ETA on test set: 13.0767\n",
            "The mean absolute error (MAE) on test set: 2.0649\n",
            "The initial error of API ETA on test set: 2.6014\n",
            "\n",
            "RandomForest samples : 16\n",
            "The mean squared error (MSE) on test set: 8.1632\n",
            "The initial error of API ETA on test set: 13.0767\n",
            "The mean absolute error (MAE) on test set: 2.0648\n",
            "The initial error of API ETA on test set: 2.6014\n",
            "\n",
            "RandomForest samples : 17\n",
            "The mean squared error (MSE) on test set: 8.1638\n",
            "The initial error of API ETA on test set: 13.0767\n",
            "The mean absolute error (MAE) on test set: 2.0649\n",
            "The initial error of API ETA on test set: 2.6014\n",
            "\n",
            "RandomForest samples : 18\n",
            "The mean squared error (MSE) on test set: 8.1642\n",
            "The initial error of API ETA on test set: 13.0767\n",
            "The mean absolute error (MAE) on test set: 2.0651\n",
            "The initial error of API ETA on test set: 2.6014\n",
            "\n",
            "RandomForest samples : 19\n",
            "The mean squared error (MSE) on test set: 8.1644\n",
            "The initial error of API ETA on test set: 13.0767\n",
            "The mean absolute error (MAE) on test set: 2.0650\n",
            "The initial error of API ETA on test set: 2.6014\n",
            "\n"
          ]
        }
      ],
      "source": [
        "num_para_list = list(range(2, 20))\n",
        "mse_list = []\n",
        "mse_api_list = []\n",
        "mae_list = []\n",
        "mae_api_list = []\n",
        "for samples in num_para_list:\n",
        "  rf = RandomForestRegressor(max_depth=7, random_state=0, min_samples_split=samples)\n",
        "  rf.fit(X_train, y_train)\n",
        "  pred = rf.predict(X_test)\n",
        "  api_eta = X_test.iloc[:,0]\n",
        "  mse = mean_squared_error(y_test, pred)\n",
        "  mse_api = mean_squared_error(y_test, api_eta)\n",
        "  mse_list.append(mse)\n",
        "  mse_api_list.append(mse_api)\n",
        "  print(f'RandomForest samples : {samples}')\n",
        "  print( \"The mean squared error (MSE) on test set: {:.4f}\".format(mse) )\n",
        "  print( \"The initial error of API ETA on test set: {:.4f}\".format(mse_api) )\n",
        "  mae = mean_absolute_error(y_test, pred)\n",
        "  mae_api = mean_absolute_error(y_test, api_eta)\n",
        "  mae_list.append(mae)\n",
        "  mae_api_list.append(mae_api)\n",
        "  print( \"The mean absolute error (MAE) on test set: {:.4f}\".format(mae) )\n",
        "  print( \"The initial error of API ETA on test set: {:.4f}\".format(mae_api) )\n",
        "  print()"
      ]
    },
    {
      "cell_type": "code",
      "execution_count": 110,
      "metadata": {
        "colab": {
          "base_uri": "https://localhost:8080/",
          "height": 206
        },
        "id": "sNnXp7tFa8bo",
        "outputId": "b7b5d531-7354-40b8-9d88-1ac7d87aa6b5"
      },
      "outputs": [
        {
          "output_type": "execute_result",
          "data": {
            "text/plain": [
              "   samples       mse    mse_api       mae   mae_api\n",
              "0        2  8.191796  13.076707  2.068285  2.601415\n",
              "1        3  8.194344  13.076707  2.068541  2.601415\n",
              "2        4  8.189103  13.076707  2.068526  2.601415\n",
              "3        5  8.186293  13.076707  2.068122  2.601415\n",
              "4        6  8.187902  13.076707  2.068283  2.601415"
            ],
            "text/html": [
              "\n",
              "  <div id=\"df-a3c3d665-19d3-453d-9dda-e595fb73e2bf\">\n",
              "    <div class=\"colab-df-container\">\n",
              "      <div>\n",
              "<style scoped>\n",
              "    .dataframe tbody tr th:only-of-type {\n",
              "        vertical-align: middle;\n",
              "    }\n",
              "\n",
              "    .dataframe tbody tr th {\n",
              "        vertical-align: top;\n",
              "    }\n",
              "\n",
              "    .dataframe thead th {\n",
              "        text-align: right;\n",
              "    }\n",
              "</style>\n",
              "<table border=\"1\" class=\"dataframe\">\n",
              "  <thead>\n",
              "    <tr style=\"text-align: right;\">\n",
              "      <th></th>\n",
              "      <th>samples</th>\n",
              "      <th>mse</th>\n",
              "      <th>mse_api</th>\n",
              "      <th>mae</th>\n",
              "      <th>mae_api</th>\n",
              "    </tr>\n",
              "  </thead>\n",
              "  <tbody>\n",
              "    <tr>\n",
              "      <th>0</th>\n",
              "      <td>2</td>\n",
              "      <td>8.191796</td>\n",
              "      <td>13.076707</td>\n",
              "      <td>2.068285</td>\n",
              "      <td>2.601415</td>\n",
              "    </tr>\n",
              "    <tr>\n",
              "      <th>1</th>\n",
              "      <td>3</td>\n",
              "      <td>8.194344</td>\n",
              "      <td>13.076707</td>\n",
              "      <td>2.068541</td>\n",
              "      <td>2.601415</td>\n",
              "    </tr>\n",
              "    <tr>\n",
              "      <th>2</th>\n",
              "      <td>4</td>\n",
              "      <td>8.189103</td>\n",
              "      <td>13.076707</td>\n",
              "      <td>2.068526</td>\n",
              "      <td>2.601415</td>\n",
              "    </tr>\n",
              "    <tr>\n",
              "      <th>3</th>\n",
              "      <td>5</td>\n",
              "      <td>8.186293</td>\n",
              "      <td>13.076707</td>\n",
              "      <td>2.068122</td>\n",
              "      <td>2.601415</td>\n",
              "    </tr>\n",
              "    <tr>\n",
              "      <th>4</th>\n",
              "      <td>6</td>\n",
              "      <td>8.187902</td>\n",
              "      <td>13.076707</td>\n",
              "      <td>2.068283</td>\n",
              "      <td>2.601415</td>\n",
              "    </tr>\n",
              "  </tbody>\n",
              "</table>\n",
              "</div>\n",
              "      <button class=\"colab-df-convert\" onclick=\"convertToInteractive('df-a3c3d665-19d3-453d-9dda-e595fb73e2bf')\"\n",
              "              title=\"Convert this dataframe to an interactive table.\"\n",
              "              style=\"display:none;\">\n",
              "        \n",
              "  <svg xmlns=\"http://www.w3.org/2000/svg\" height=\"24px\"viewBox=\"0 0 24 24\"\n",
              "       width=\"24px\">\n",
              "    <path d=\"M0 0h24v24H0V0z\" fill=\"none\"/>\n",
              "    <path d=\"M18.56 5.44l.94 2.06.94-2.06 2.06-.94-2.06-.94-.94-2.06-.94 2.06-2.06.94zm-11 1L8.5 8.5l.94-2.06 2.06-.94-2.06-.94L8.5 2.5l-.94 2.06-2.06.94zm10 10l.94 2.06.94-2.06 2.06-.94-2.06-.94-.94-2.06-.94 2.06-2.06.94z\"/><path d=\"M17.41 7.96l-1.37-1.37c-.4-.4-.92-.59-1.43-.59-.52 0-1.04.2-1.43.59L10.3 9.45l-7.72 7.72c-.78.78-.78 2.05 0 2.83L4 21.41c.39.39.9.59 1.41.59.51 0 1.02-.2 1.41-.59l7.78-7.78 2.81-2.81c.8-.78.8-2.07 0-2.86zM5.41 20L4 18.59l7.72-7.72 1.47 1.35L5.41 20z\"/>\n",
              "  </svg>\n",
              "      </button>\n",
              "      \n",
              "  <style>\n",
              "    .colab-df-container {\n",
              "      display:flex;\n",
              "      flex-wrap:wrap;\n",
              "      gap: 12px;\n",
              "    }\n",
              "\n",
              "    .colab-df-convert {\n",
              "      background-color: #E8F0FE;\n",
              "      border: none;\n",
              "      border-radius: 50%;\n",
              "      cursor: pointer;\n",
              "      display: none;\n",
              "      fill: #1967D2;\n",
              "      height: 32px;\n",
              "      padding: 0 0 0 0;\n",
              "      width: 32px;\n",
              "    }\n",
              "\n",
              "    .colab-df-convert:hover {\n",
              "      background-color: #E2EBFA;\n",
              "      box-shadow: 0px 1px 2px rgba(60, 64, 67, 0.3), 0px 1px 3px 1px rgba(60, 64, 67, 0.15);\n",
              "      fill: #174EA6;\n",
              "    }\n",
              "\n",
              "    [theme=dark] .colab-df-convert {\n",
              "      background-color: #3B4455;\n",
              "      fill: #D2E3FC;\n",
              "    }\n",
              "\n",
              "    [theme=dark] .colab-df-convert:hover {\n",
              "      background-color: #434B5C;\n",
              "      box-shadow: 0px 1px 3px 1px rgba(0, 0, 0, 0.15);\n",
              "      filter: drop-shadow(0px 1px 2px rgba(0, 0, 0, 0.3));\n",
              "      fill: #FFFFFF;\n",
              "    }\n",
              "  </style>\n",
              "\n",
              "      <script>\n",
              "        const buttonEl =\n",
              "          document.querySelector('#df-a3c3d665-19d3-453d-9dda-e595fb73e2bf button.colab-df-convert');\n",
              "        buttonEl.style.display =\n",
              "          google.colab.kernel.accessAllowed ? 'block' : 'none';\n",
              "\n",
              "        async function convertToInteractive(key) {\n",
              "          const element = document.querySelector('#df-a3c3d665-19d3-453d-9dda-e595fb73e2bf');\n",
              "          const dataTable =\n",
              "            await google.colab.kernel.invokeFunction('convertToInteractive',\n",
              "                                                     [key], {});\n",
              "          if (!dataTable) return;\n",
              "\n",
              "          const docLinkHtml = 'Like what you see? Visit the ' +\n",
              "            '<a target=\"_blank\" href=https://colab.research.google.com/notebooks/data_table.ipynb>data table notebook</a>'\n",
              "            + ' to learn more about interactive tables.';\n",
              "          element.innerHTML = '';\n",
              "          dataTable['output_type'] = 'display_data';\n",
              "          await google.colab.output.renderOutput(dataTable, element);\n",
              "          const docLink = document.createElement('div');\n",
              "          docLink.innerHTML = docLinkHtml;\n",
              "          element.appendChild(docLink);\n",
              "        }\n",
              "      </script>\n",
              "    </div>\n",
              "  </div>\n",
              "  "
            ]
          },
          "metadata": {},
          "execution_count": 110
        }
      ],
      "source": [
        "dict2 = {'samples':num_para_list, 'mse':mse_list, 'mse_api':mse_api_list, 'mae':mae_list, 'mae_api':mae_api_list}\n",
        "rf_df2 = pd.DataFrame(dict2)\n",
        "rf_df2.head()"
      ]
    },
    {
      "cell_type": "markdown",
      "metadata": {
        "id": "v1avzP7936Td"
      },
      "source": [
        "#### 최소 MSE 값"
      ]
    },
    {
      "cell_type": "code",
      "execution_count": 111,
      "metadata": {
        "colab": {
          "base_uri": "https://localhost:8080/",
          "height": 81
        },
        "id": "J3mDF7rk8zTa",
        "outputId": "5824aa93-d146-4ad1-92be-fd3b732806d3"
      },
      "outputs": [
        {
          "output_type": "execute_result",
          "data": {
            "text/plain": [
              "    samples       mse    mse_api       mae   mae_api\n",
              "12       14  8.162941  13.076707  2.064989  2.601415"
            ],
            "text/html": [
              "\n",
              "  <div id=\"df-f899e1a5-ed39-4972-a194-71cf554b0478\">\n",
              "    <div class=\"colab-df-container\">\n",
              "      <div>\n",
              "<style scoped>\n",
              "    .dataframe tbody tr th:only-of-type {\n",
              "        vertical-align: middle;\n",
              "    }\n",
              "\n",
              "    .dataframe tbody tr th {\n",
              "        vertical-align: top;\n",
              "    }\n",
              "\n",
              "    .dataframe thead th {\n",
              "        text-align: right;\n",
              "    }\n",
              "</style>\n",
              "<table border=\"1\" class=\"dataframe\">\n",
              "  <thead>\n",
              "    <tr style=\"text-align: right;\">\n",
              "      <th></th>\n",
              "      <th>samples</th>\n",
              "      <th>mse</th>\n",
              "      <th>mse_api</th>\n",
              "      <th>mae</th>\n",
              "      <th>mae_api</th>\n",
              "    </tr>\n",
              "  </thead>\n",
              "  <tbody>\n",
              "    <tr>\n",
              "      <th>12</th>\n",
              "      <td>14</td>\n",
              "      <td>8.162941</td>\n",
              "      <td>13.076707</td>\n",
              "      <td>2.064989</td>\n",
              "      <td>2.601415</td>\n",
              "    </tr>\n",
              "  </tbody>\n",
              "</table>\n",
              "</div>\n",
              "      <button class=\"colab-df-convert\" onclick=\"convertToInteractive('df-f899e1a5-ed39-4972-a194-71cf554b0478')\"\n",
              "              title=\"Convert this dataframe to an interactive table.\"\n",
              "              style=\"display:none;\">\n",
              "        \n",
              "  <svg xmlns=\"http://www.w3.org/2000/svg\" height=\"24px\"viewBox=\"0 0 24 24\"\n",
              "       width=\"24px\">\n",
              "    <path d=\"M0 0h24v24H0V0z\" fill=\"none\"/>\n",
              "    <path d=\"M18.56 5.44l.94 2.06.94-2.06 2.06-.94-2.06-.94-.94-2.06-.94 2.06-2.06.94zm-11 1L8.5 8.5l.94-2.06 2.06-.94-2.06-.94L8.5 2.5l-.94 2.06-2.06.94zm10 10l.94 2.06.94-2.06 2.06-.94-2.06-.94-.94-2.06-.94 2.06-2.06.94z\"/><path d=\"M17.41 7.96l-1.37-1.37c-.4-.4-.92-.59-1.43-.59-.52 0-1.04.2-1.43.59L10.3 9.45l-7.72 7.72c-.78.78-.78 2.05 0 2.83L4 21.41c.39.39.9.59 1.41.59.51 0 1.02-.2 1.41-.59l7.78-7.78 2.81-2.81c.8-.78.8-2.07 0-2.86zM5.41 20L4 18.59l7.72-7.72 1.47 1.35L5.41 20z\"/>\n",
              "  </svg>\n",
              "      </button>\n",
              "      \n",
              "  <style>\n",
              "    .colab-df-container {\n",
              "      display:flex;\n",
              "      flex-wrap:wrap;\n",
              "      gap: 12px;\n",
              "    }\n",
              "\n",
              "    .colab-df-convert {\n",
              "      background-color: #E8F0FE;\n",
              "      border: none;\n",
              "      border-radius: 50%;\n",
              "      cursor: pointer;\n",
              "      display: none;\n",
              "      fill: #1967D2;\n",
              "      height: 32px;\n",
              "      padding: 0 0 0 0;\n",
              "      width: 32px;\n",
              "    }\n",
              "\n",
              "    .colab-df-convert:hover {\n",
              "      background-color: #E2EBFA;\n",
              "      box-shadow: 0px 1px 2px rgba(60, 64, 67, 0.3), 0px 1px 3px 1px rgba(60, 64, 67, 0.15);\n",
              "      fill: #174EA6;\n",
              "    }\n",
              "\n",
              "    [theme=dark] .colab-df-convert {\n",
              "      background-color: #3B4455;\n",
              "      fill: #D2E3FC;\n",
              "    }\n",
              "\n",
              "    [theme=dark] .colab-df-convert:hover {\n",
              "      background-color: #434B5C;\n",
              "      box-shadow: 0px 1px 3px 1px rgba(0, 0, 0, 0.15);\n",
              "      filter: drop-shadow(0px 1px 2px rgba(0, 0, 0, 0.3));\n",
              "      fill: #FFFFFF;\n",
              "    }\n",
              "  </style>\n",
              "\n",
              "      <script>\n",
              "        const buttonEl =\n",
              "          document.querySelector('#df-f899e1a5-ed39-4972-a194-71cf554b0478 button.colab-df-convert');\n",
              "        buttonEl.style.display =\n",
              "          google.colab.kernel.accessAllowed ? 'block' : 'none';\n",
              "\n",
              "        async function convertToInteractive(key) {\n",
              "          const element = document.querySelector('#df-f899e1a5-ed39-4972-a194-71cf554b0478');\n",
              "          const dataTable =\n",
              "            await google.colab.kernel.invokeFunction('convertToInteractive',\n",
              "                                                     [key], {});\n",
              "          if (!dataTable) return;\n",
              "\n",
              "          const docLinkHtml = 'Like what you see? Visit the ' +\n",
              "            '<a target=\"_blank\" href=https://colab.research.google.com/notebooks/data_table.ipynb>data table notebook</a>'\n",
              "            + ' to learn more about interactive tables.';\n",
              "          element.innerHTML = '';\n",
              "          dataTable['output_type'] = 'display_data';\n",
              "          await google.colab.output.renderOutput(dataTable, element);\n",
              "          const docLink = document.createElement('div');\n",
              "          docLink.innerHTML = docLinkHtml;\n",
              "          element.appendChild(docLink);\n",
              "        }\n",
              "      </script>\n",
              "    </div>\n",
              "  </div>\n",
              "  "
            ]
          },
          "metadata": {},
          "execution_count": 111
        }
      ],
      "source": [
        "rf_df2[ rf_df2['mse'] == rf_df2['mse'].min() ]"
      ]
    },
    {
      "cell_type": "markdown",
      "metadata": {
        "id": "GpybpAoU7qid"
      },
      "source": [
        "#### 결과 시각화"
      ]
    },
    {
      "cell_type": "code",
      "execution_count": 112,
      "metadata": {
        "colab": {
          "base_uri": "https://localhost:8080/",
          "height": 466
        },
        "id": "_AfNwAyA7tUb",
        "outputId": "a3e93bbc-29f2-493b-ecdc-27bdf81abe20"
      },
      "outputs": [
        {
          "output_type": "display_data",
          "data": {
            "text/plain": [
              "<Figure size 864x504 with 1 Axes>"
            ],
            "image/png": "[encoded data removed]"
          },
          "metadata": {
            "needs_background": "light"
          }
        }
      ],
      "source": [
        "vis(rf_df2, \"RandomForestRegressor\", 'samples')"
      ]
    },
    {
      "cell_type": "markdown",
      "metadata": {
        "id": "UThuVygcfa_t"
      },
      "source": [
        "## Lighgbm"
      ]
    },
    {
      "cell_type": "code",
      "execution_count": 113,
      "metadata": {
        "colab": {
          "base_uri": "https://localhost:8080/"
        },
        "id": "0fAgIXPhfk76",
        "outputId": "b8343bcf-34a7-41c1-f0c5-3c330cf3d4c3"
      },
      "outputs": [
        {
          "output_type": "stream",
          "name": "stderr",
          "text": [
            "/usr/local/lib/python3.7/dist-packages/lightgbm/sklearn.py:726: UserWarning: 'early_stopping_rounds' argument is deprecated and will be removed in a future release of LightGBM. Pass 'early_stopping()' callback via 'callbacks' argument instead.\n",
            "  _log_warning(\"'early_stopping_rounds' argument is deprecated and will be removed in a future release of LightGBM. \"\n"
          ]
        },
        {
          "output_type": "stream",
          "name": "stdout",
          "text": [
            "[1]\tvalid_0's l2: 14.9507\n",
            "[2]\tvalid_0's l2: 13.6794\n",
            "[3]\tvalid_0's l2: 12.6302\n",
            "[4]\tvalid_0's l2: 11.7923\n",
            "[5]\tvalid_0's l2: 11.108\n",
            "[6]\tvalid_0's l2: 10.546\n",
            "[7]\tvalid_0's l2: 10.0909\n",
            "[8]\tvalid_0's l2: 9.73463\n",
            "[9]\tvalid_0's l2: 9.43743\n",
            "[10]\tvalid_0's l2: 9.19078\n",
            "[11]\tvalid_0's l2: 8.99218\n",
            "[12]\tvalid_0's l2: 8.83281\n",
            "[13]\tvalid_0's l2: 8.69914\n",
            "[14]\tvalid_0's l2: 8.60114\n",
            "[15]\tvalid_0's l2: 8.51152\n",
            "[16]\tvalid_0's l2: 8.43764\n",
            "[17]\tvalid_0's l2: 8.38362\n",
            "[18]\tvalid_0's l2: 8.34546\n",
            "[19]\tvalid_0's l2: 8.30708\n",
            "[20]\tvalid_0's l2: 8.26929\n",
            "[21]\tvalid_0's l2: 8.2278\n",
            "[22]\tvalid_0's l2: 8.20761\n",
            "[23]\tvalid_0's l2: 8.18779\n",
            "[24]\tvalid_0's l2: 8.16976\n",
            "[25]\tvalid_0's l2: 8.15638\n",
            "[26]\tvalid_0's l2: 8.15057\n",
            "[27]\tvalid_0's l2: 8.14227\n",
            "[28]\tvalid_0's l2: 8.13911\n",
            "[29]\tvalid_0's l2: 8.13264\n",
            "[30]\tvalid_0's l2: 8.13184\n",
            "[31]\tvalid_0's l2: 8.12793\n",
            "[32]\tvalid_0's l2: 8.12709\n",
            "[33]\tvalid_0's l2: 8.12256\n",
            "[34]\tvalid_0's l2: 8.11577\n",
            "[35]\tvalid_0's l2: 8.11874\n",
            "[36]\tvalid_0's l2: 8.12321\n",
            "[37]\tvalid_0's l2: 8.12325\n",
            "[38]\tvalid_0's l2: 8.12787\n",
            "[39]\tvalid_0's l2: 8.13218\n",
            "[40]\tvalid_0's l2: 8.1357\n",
            "[41]\tvalid_0's l2: 8.13486\n",
            "[42]\tvalid_0's l2: 8.13277\n",
            "[43]\tvalid_0's l2: 8.12732\n",
            "[44]\tvalid_0's l2: 8.12794\n",
            "[45]\tvalid_0's l2: 8.12883\n",
            "[46]\tvalid_0's l2: 8.12896\n",
            "[47]\tvalid_0's l2: 8.13808\n",
            "[48]\tvalid_0's l2: 8.14501\n",
            "[49]\tvalid_0's l2: 8.14678\n",
            "[50]\tvalid_0's l2: 8.15253\n",
            "[51]\tvalid_0's l2: 8.15168\n",
            "[52]\tvalid_0's l2: 8.15777\n",
            "[53]\tvalid_0's l2: 8.16006\n",
            "[54]\tvalid_0's l2: 8.16597\n",
            "[55]\tvalid_0's l2: 8.16625\n",
            "[56]\tvalid_0's l2: 8.16181\n",
            "[57]\tvalid_0's l2: 8.16312\n",
            "[58]\tvalid_0's l2: 8.16727\n",
            "[59]\tvalid_0's l2: 8.16541\n",
            "[60]\tvalid_0's l2: 8.16461\n",
            "[61]\tvalid_0's l2: 8.16721\n",
            "[62]\tvalid_0's l2: 8.1711\n",
            "[63]\tvalid_0's l2: 8.164\n",
            "[64]\tvalid_0's l2: 8.16823\n",
            "[65]\tvalid_0's l2: 8.16659\n",
            "[66]\tvalid_0's l2: 8.17573\n",
            "[67]\tvalid_0's l2: 8.17515\n",
            "[68]\tvalid_0's l2: 8.17457\n",
            "[69]\tvalid_0's l2: 8.17706\n",
            "[70]\tvalid_0's l2: 8.17808\n",
            "[71]\tvalid_0's l2: 8.18217\n",
            "[72]\tvalid_0's l2: 8.18492\n",
            "[73]\tvalid_0's l2: 8.18891\n",
            "[74]\tvalid_0's l2: 8.18763\n",
            "[75]\tvalid_0's l2: 8.19124\n",
            "[76]\tvalid_0's l2: 8.19364\n",
            "[77]\tvalid_0's l2: 8.19671\n",
            "[78]\tvalid_0's l2: 8.19651\n",
            "[79]\tvalid_0's l2: 8.19417\n",
            "[80]\tvalid_0's l2: 8.19552\n",
            "[81]\tvalid_0's l2: 8.18973\n",
            "[82]\tvalid_0's l2: 8.18602\n",
            "[83]\tvalid_0's l2: 8.19059\n",
            "[84]\tvalid_0's l2: 8.19132\n",
            "[85]\tvalid_0's l2: 8.19474\n",
            "[86]\tvalid_0's l2: 8.19597\n",
            "[87]\tvalid_0's l2: 8.19945\n",
            "[88]\tvalid_0's l2: 8.1994\n",
            "[89]\tvalid_0's l2: 8.20028\n",
            "[90]\tvalid_0's l2: 8.20143\n",
            "[91]\tvalid_0's l2: 8.20939\n",
            "[92]\tvalid_0's l2: 8.20995\n",
            "[93]\tvalid_0's l2: 8.21407\n",
            "[94]\tvalid_0's l2: 8.21543\n",
            "[95]\tvalid_0's l2: 8.2165\n",
            "[96]\tvalid_0's l2: 8.21577\n",
            "[97]\tvalid_0's l2: 8.22065\n",
            "[98]\tvalid_0's l2: 8.22325\n",
            "[99]\tvalid_0's l2: 8.23517\n",
            "[100]\tvalid_0's l2: 8.23758\n",
            "[101]\tvalid_0's l2: 8.23947\n",
            "[102]\tvalid_0's l2: 8.23842\n",
            "[103]\tvalid_0's l2: 8.24262\n",
            "[104]\tvalid_0's l2: 8.24481\n",
            "[105]\tvalid_0's l2: 8.24626\n",
            "[106]\tvalid_0's l2: 8.2492\n",
            "[107]\tvalid_0's l2: 8.25393\n",
            "[108]\tvalid_0's l2: 8.25827\n",
            "[109]\tvalid_0's l2: 8.25673\n",
            "[110]\tvalid_0's l2: 8.25739\n",
            "[111]\tvalid_0's l2: 8.25877\n",
            "[112]\tvalid_0's l2: 8.2577\n",
            "[113]\tvalid_0's l2: 8.26338\n",
            "[114]\tvalid_0's l2: 8.26666\n",
            "[115]\tvalid_0's l2: 8.2684\n",
            "[116]\tvalid_0's l2: 8.27193\n",
            "[117]\tvalid_0's l2: 8.27804\n",
            "[118]\tvalid_0's l2: 8.27798\n",
            "[119]\tvalid_0's l2: 8.27876\n",
            "[120]\tvalid_0's l2: 8.27884\n",
            "[121]\tvalid_0's l2: 8.27845\n",
            "[122]\tvalid_0's l2: 8.28209\n",
            "[123]\tvalid_0's l2: 8.28498\n",
            "[124]\tvalid_0's l2: 8.28689\n",
            "[125]\tvalid_0's l2: 8.28709\n",
            "[126]\tvalid_0's l2: 8.28833\n",
            "[127]\tvalid_0's l2: 8.28894\n",
            "[128]\tvalid_0's l2: 8.28884\n",
            "[129]\tvalid_0's l2: 8.29211\n",
            "[130]\tvalid_0's l2: 8.28765\n",
            "[131]\tvalid_0's l2: 8.28958\n",
            "[132]\tvalid_0's l2: 8.28865\n",
            "[133]\tvalid_0's l2: 8.28874\n",
            "[134]\tvalid_0's l2: 8.28804\n"
          ]
        },
        {
          "output_type": "execute_result",
          "data": {
            "text/plain": [
              "LGBMRegressor(n_estimators=300, random_state=0)"
            ]
          },
          "metadata": {},
          "execution_count": 113
        }
      ],
      "source": [
        "lgb = LGBMRegressor(n_estimators=300, random_state=0)\n",
        "lgb.fit(X_train, y_train, early_stopping_rounds=100, eval_set=[(X_test, y_test)], eval_metric='mse')"
      ]
    },
    {
      "cell_type": "code",
      "execution_count": 114,
      "metadata": {
        "colab": {
          "base_uri": "https://localhost:8080/"
        },
        "id": "0cILZihef05L",
        "outputId": "e3f5d215-de18-4bac-f12a-2ce129da097a"
      },
      "outputs": [
        {
          "output_type": "stream",
          "name": "stdout",
          "text": [
            "The mean squared error (MSE) on test set: 8.1158\n",
            "The initial error of API ETA on test set: 13.0767\n",
            "The mean absolute error (MAE) on test set: 2.0545\n",
            "The initial error of API ETA on test set: 2.6014\n"
          ]
        }
      ],
      "source": [
        "pred = lgb.predict(X_test)\n",
        "api_eta = X_test.iloc[:,0]\n",
        "mse = mean_squared_error(y_test, pred)\n",
        "mse_api = mean_squared_error(y_test, api_eta)\n",
        "mse_list.append(mse)\n",
        "mse_api_list.append(mse_api)\n",
        "print( \"The mean squared error (MSE) on test set: {:.4f}\".format(mse) )\n",
        "print( \"The initial error of API ETA on test set: {:.4f}\".format(mse_api) )\n",
        "mae = mean_absolute_error(y_test, pred)\n",
        "mae_api = mean_absolute_error(y_test, api_eta)\n",
        "mae_list.append(mae)\n",
        "mae_api_list.append(mae_api)\n",
        "print( \"The mean absolute error (MAE) on test set: {:.4f}\".format(mae) )\n",
        "print( \"The initial error of API ETA on test set: {:.4f}\".format(mae_api) )"
      ]
    },
    {
      "cell_type": "markdown",
      "metadata": {
        "id": "v2EU_61J4mvP"
      },
      "source": [
        "## LinearRegression"
      ]
    },
    {
      "cell_type": "code",
      "execution_count": 115,
      "metadata": {
        "colab": {
          "base_uri": "https://localhost:8080/"
        },
        "id": "6cMcKNyO4rxC",
        "outputId": "011e1504-142a-4534-b99f-8adc14ab020d"
      },
      "outputs": [
        {
          "output_type": "execute_result",
          "data": {
            "text/plain": [
              "LinearRegression()"
            ]
          },
          "metadata": {},
          "execution_count": 115
        }
      ],
      "source": [
        "lr = LinearRegression()\n",
        "lr.fit(X_train, y_train)"
      ]
    },
    {
      "cell_type": "code",
      "execution_count": 116,
      "metadata": {
        "colab": {
          "base_uri": "https://localhost:8080/"
        },
        "id": "F_a3PfwR4rvH",
        "outputId": "81afc2b5-c930-4f90-f7ca-3947908db612"
      },
      "outputs": [
        {
          "output_type": "stream",
          "name": "stdout",
          "text": [
            "The mean squared error (MSE) on test set: 8.3144\n",
            "The initial error of API ETA on test set: 13.0767\n",
            "The mean absolute error (MAE) on test set: 2.0960\n",
            "The initial error of API ETA on test set: 2.6014\n"
          ]
        }
      ],
      "source": [
        "pred = lr.predict(X_test)\n",
        "api_eta = X_test.iloc[:,0]\n",
        "mse = mean_squared_error(y_test, pred)\n",
        "mse_api = mean_squared_error(y_test, api_eta)\n",
        "mse_list.append(mse)\n",
        "mse_api_list.append(mse_api)\n",
        "print( \"The mean squared error (MSE) on test set: {:.4f}\".format(mse) )\n",
        "print( \"The initial error of API ETA on test set: {:.4f}\".format(mse_api) )\n",
        "mae = mean_absolute_error(y_test, pred)\n",
        "mae_api = mean_absolute_error(y_test, api_eta)\n",
        "mae_list.append(mae)\n",
        "mae_api_list.append(mae_api)\n",
        "print( \"The mean absolute error (MAE) on test set: {:.4f}\".format(mae) )\n",
        "print( \"The initial error of API ETA on test set: {:.4f}\".format(mae_api) )"
      ]
    },
    {
      "cell_type": "markdown",
      "metadata": {
        "id": "n8uDBkQJ5Myp"
      },
      "source": [
        "## Ridge"
      ]
    },
    {
      "cell_type": "code",
      "execution_count": 117,
      "metadata": {
        "colab": {
          "base_uri": "https://localhost:8080/"
        },
        "id": "2rmOGpu35SVR",
        "outputId": "68fcde16-7df9-4575-dc1c-c08d388f1efc"
      },
      "outputs": [
        {
          "output_type": "stream",
          "name": "stdout",
          "text": [
            "Ridge alpha : 0.001\n",
            "The mean squared error (MSE) on test set: 8.3144\n",
            "The initial error of API ETA on test set: 13.0767\n",
            "The mean absolute error (MAE) on test set: 2.0960\n",
            "The initial error of API ETA on test set: 2.6014\n",
            "\n",
            "Ridge alpha : 0.01\n",
            "The mean squared error (MSE) on test set: 8.3144\n",
            "The initial error of API ETA on test set: 13.0767\n",
            "The mean absolute error (MAE) on test set: 2.0960\n",
            "The initial error of API ETA on test set: 2.6014\n",
            "\n",
            "Ridge alpha : 0.1\n",
            "The mean squared error (MSE) on test set: 8.3144\n",
            "The initial error of API ETA on test set: 13.0767\n",
            "The mean absolute error (MAE) on test set: 2.0960\n",
            "The initial error of API ETA on test set: 2.6014\n",
            "\n",
            "Ridge alpha : 1\n",
            "The mean squared error (MSE) on test set: 8.3144\n",
            "The initial error of API ETA on test set: 13.0767\n",
            "The mean absolute error (MAE) on test set: 2.0960\n",
            "The initial error of API ETA on test set: 2.6014\n",
            "\n"
          ]
        }
      ],
      "source": [
        "alpha_list = [0.001, 0.01, 0.1, 1]\n",
        "mse_list = []\n",
        "mse_api_list = []\n",
        "mae_list = []\n",
        "mae_api_list = []\n",
        "for a in alpha_list:\n",
        "  rg = Ridge(alpha=a, random_state=0)\n",
        "  rg.fit(X_train, y_train)\n",
        "  pred = rg.predict(X_test)\n",
        "  api_eta = X_test.iloc[:,0]\n",
        "  mse = mean_squared_error(y_test, pred)\n",
        "  mse_api = mean_squared_error(y_test, api_eta)\n",
        "  mse_list.append(mse)\n",
        "  mse_api_list.append(mse_api)\n",
        "  print(f'Ridge alpha : {a}')\n",
        "  print( \"The mean squared error (MSE) on test set: {:.4f}\".format(mse) )\n",
        "  print( \"The initial error of API ETA on test set: {:.4f}\".format(mse_api) )\n",
        "  mae = mean_absolute_error(y_test, pred)\n",
        "  mae_api = mean_absolute_error(y_test, api_eta)\n",
        "  mae_list.append(mae)\n",
        "  mae_api_list.append(mae_api)\n",
        "  print( \"The mean absolute error (MAE) on test set: {:.4f}\".format(mae) )\n",
        "  print( \"The initial error of API ETA on test set: {:.4f}\".format(mae_api) )\n",
        "  print()"
      ]
    },
    {
      "cell_type": "markdown",
      "metadata": {
        "id": "76AmajN-6VH0"
      },
      "source": [
        "### 결과 df"
      ]
    },
    {
      "cell_type": "code",
      "execution_count": 118,
      "metadata": {
        "id": "zynM4oca5STa"
      },
      "outputs": [],
      "source": [
        "dict3 = {'alpha':alpha_list, 'mse':mse_list, 'mse_api':mse_api_list, 'mae':mae_list, 'mae_api':mae_api_list}\n",
        "rg_df = pd.DataFrame(dict3)"
      ]
    },
    {
      "cell_type": "code",
      "execution_count": 119,
      "metadata": {
        "colab": {
          "base_uri": "https://localhost:8080/",
          "height": 175
        },
        "id": "vFdzUEag6ao8",
        "outputId": "d78d74e8-a978-4db5-b142-d674325321e3"
      },
      "outputs": [
        {
          "output_type": "execute_result",
          "data": {
            "text/plain": [
              "   alpha       mse    mse_api       mae   mae_api\n",
              "0  0.001  8.314383  13.076707  2.095975  2.601415\n",
              "1  0.010  8.314383  13.076707  2.095975  2.601415\n",
              "2  0.100  8.314383  13.076707  2.095975  2.601415\n",
              "3  1.000  8.314380  13.076707  2.095975  2.601415"
            ],
            "text/html": [
              "\n",
              "  <div id=\"df-18288d50-bba1-46be-a441-f785d82401b7\">\n",
              "    <div class=\"colab-df-container\">\n",
              "      <div>\n",
              "<style scoped>\n",
              "    .dataframe tbody tr th:only-of-type {\n",
              "        vertical-align: middle;\n",
              "    }\n",
              "\n",
              "    .dataframe tbody tr th {\n",
              "        vertical-align: top;\n",
              "    }\n",
              "\n",
              "    .dataframe thead th {\n",
              "        text-align: right;\n",
              "    }\n",
              "</style>\n",
              "<table border=\"1\" class=\"dataframe\">\n",
              "  <thead>\n",
              "    <tr style=\"text-align: right;\">\n",
              "      <th></th>\n",
              "      <th>alpha</th>\n",
              "      <th>mse</th>\n",
              "      <th>mse_api</th>\n",
              "      <th>mae</th>\n",
              "      <th>mae_api</th>\n",
              "    </tr>\n",
              "  </thead>\n",
              "  <tbody>\n",
              "    <tr>\n",
              "      <th>0</th>\n",
              "      <td>0.001</td>\n",
              "      <td>8.314383</td>\n",
              "      <td>13.076707</td>\n",
              "      <td>2.095975</td>\n",
              "      <td>2.601415</td>\n",
              "    </tr>\n",
              "    <tr>\n",
              "      <th>1</th>\n",
              "      <td>0.010</td>\n",
              "      <td>8.314383</td>\n",
              "      <td>13.076707</td>\n",
              "      <td>2.095975</td>\n",
              "      <td>2.601415</td>\n",
              "    </tr>\n",
              "    <tr>\n",
              "      <th>2</th>\n",
              "      <td>0.100</td>\n",
              "      <td>8.314383</td>\n",
              "      <td>13.076707</td>\n",
              "      <td>2.095975</td>\n",
              "      <td>2.601415</td>\n",
              "    </tr>\n",
              "    <tr>\n",
              "      <th>3</th>\n",
              "      <td>1.000</td>\n",
              "      <td>8.314380</td>\n",
              "      <td>13.076707</td>\n",
              "      <td>2.095975</td>\n",
              "      <td>2.601415</td>\n",
              "    </tr>\n",
              "  </tbody>\n",
              "</table>\n",
              "</div>\n",
              "      <button class=\"colab-df-convert\" onclick=\"convertToInteractive('df-18288d50-bba1-46be-a441-f785d82401b7')\"\n",
              "              title=\"Convert this dataframe to an interactive table.\"\n",
              "              style=\"display:none;\">\n",
              "        \n",
              "  <svg xmlns=\"http://www.w3.org/2000/svg\" height=\"24px\"viewBox=\"0 0 24 24\"\n",
              "       width=\"24px\">\n",
              "    <path d=\"M0 0h24v24H0V0z\" fill=\"none\"/>\n",
              "    <path d=\"M18.56 5.44l.94 2.06.94-2.06 2.06-.94-2.06-.94-.94-2.06-.94 2.06-2.06.94zm-11 1L8.5 8.5l.94-2.06 2.06-.94-2.06-.94L8.5 2.5l-.94 2.06-2.06.94zm10 10l.94 2.06.94-2.06 2.06-.94-2.06-.94-.94-2.06-.94 2.06-2.06.94z\"/><path d=\"M17.41 7.96l-1.37-1.37c-.4-.4-.92-.59-1.43-.59-.52 0-1.04.2-1.43.59L10.3 9.45l-7.72 7.72c-.78.78-.78 2.05 0 2.83L4 21.41c.39.39.9.59 1.41.59.51 0 1.02-.2 1.41-.59l7.78-7.78 2.81-2.81c.8-.78.8-2.07 0-2.86zM5.41 20L4 18.59l7.72-7.72 1.47 1.35L5.41 20z\"/>\n",
              "  </svg>\n",
              "      </button>\n",
              "      \n",
              "  <style>\n",
              "    .colab-df-container {\n",
              "      display:flex;\n",
              "      flex-wrap:wrap;\n",
              "      gap: 12px;\n",
              "    }\n",
              "\n",
              "    .colab-df-convert {\n",
              "      background-color: #E8F0FE;\n",
              "      border: none;\n",
              "      border-radius: 50%;\n",
              "      cursor: pointer;\n",
              "      display: none;\n",
              "      fill: #1967D2;\n",
              "      height: 32px;\n",
              "      padding: 0 0 0 0;\n",
              "      width: 32px;\n",
              "    }\n",
              "\n",
              "    .colab-df-convert:hover {\n",
              "      background-color: #E2EBFA;\n",
              "      box-shadow: 0px 1px 2px rgba(60, 64, 67, 0.3), 0px 1px 3px 1px rgba(60, 64, 67, 0.15);\n",
              "      fill: #174EA6;\n",
              "    }\n",
              "\n",
              "    [theme=dark] .colab-df-convert {\n",
              "      background-color: #3B4455;\n",
              "      fill: #D2E3FC;\n",
              "    }\n",
              "\n",
              "    [theme=dark] .colab-df-convert:hover {\n",
              "      background-color: #434B5C;\n",
              "      box-shadow: 0px 1px 3px 1px rgba(0, 0, 0, 0.15);\n",
              "      filter: drop-shadow(0px 1px 2px rgba(0, 0, 0, 0.3));\n",
              "      fill: #FFFFFF;\n",
              "    }\n",
              "  </style>\n",
              "\n",
              "      <script>\n",
              "        const buttonEl =\n",
              "          document.querySelector('#df-18288d50-bba1-46be-a441-f785d82401b7 button.colab-df-convert');\n",
              "        buttonEl.style.display =\n",
              "          google.colab.kernel.accessAllowed ? 'block' : 'none';\n",
              "\n",
              "        async function convertToInteractive(key) {\n",
              "          const element = document.querySelector('#df-18288d50-bba1-46be-a441-f785d82401b7');\n",
              "          const dataTable =\n",
              "            await google.colab.kernel.invokeFunction('convertToInteractive',\n",
              "                                                     [key], {});\n",
              "          if (!dataTable) return;\n",
              "\n",
              "          const docLinkHtml = 'Like what you see? Visit the ' +\n",
              "            '<a target=\"_blank\" href=https://colab.research.google.com/notebooks/data_table.ipynb>data table notebook</a>'\n",
              "            + ' to learn more about interactive tables.';\n",
              "          element.innerHTML = '';\n",
              "          dataTable['output_type'] = 'display_data';\n",
              "          await google.colab.output.renderOutput(dataTable, element);\n",
              "          const docLink = document.createElement('div');\n",
              "          docLink.innerHTML = docLinkHtml;\n",
              "          element.appendChild(docLink);\n",
              "        }\n",
              "      </script>\n",
              "    </div>\n",
              "  </div>\n",
              "  "
            ]
          },
          "metadata": {},
          "execution_count": 119
        }
      ],
      "source": [
        "rg_df"
      ]
    },
    {
      "cell_type": "markdown",
      "metadata": {
        "id": "Ksz88oAs8-cz"
      },
      "source": [
        "### 최소 MSE 값"
      ]
    },
    {
      "cell_type": "code",
      "execution_count": 120,
      "metadata": {
        "colab": {
          "base_uri": "https://localhost:8080/",
          "height": 81
        },
        "id": "As099GKG9BMp",
        "outputId": "f5b44bd4-e8d5-4a23-b68d-66477e3d3b40"
      },
      "outputs": [
        {
          "output_type": "execute_result",
          "data": {
            "text/plain": [
              "   alpha      mse    mse_api       mae   mae_api\n",
              "3    1.0  8.31438  13.076707  2.095975  2.601415"
            ],
            "text/html": [
              "\n",
              "  <div id=\"df-e5b7a680-0249-4a4d-a3d6-9fb788d1880e\">\n",
              "    <div class=\"colab-df-container\">\n",
              "      <div>\n",
              "<style scoped>\n",
              "    .dataframe tbody tr th:only-of-type {\n",
              "        vertical-align: middle;\n",
              "    }\n",
              "\n",
              "    .dataframe tbody tr th {\n",
              "        vertical-align: top;\n",
              "    }\n",
              "\n",
              "    .dataframe thead th {\n",
              "        text-align: right;\n",
              "    }\n",
              "</style>\n",
              "<table border=\"1\" class=\"dataframe\">\n",
              "  <thead>\n",
              "    <tr style=\"text-align: right;\">\n",
              "      <th></th>\n",
              "      <th>alpha</th>\n",
              "      <th>mse</th>\n",
              "      <th>mse_api</th>\n",
              "      <th>mae</th>\n",
              "      <th>mae_api</th>\n",
              "    </tr>\n",
              "  </thead>\n",
              "  <tbody>\n",
              "    <tr>\n",
              "      <th>3</th>\n",
              "      <td>1.0</td>\n",
              "      <td>8.31438</td>\n",
              "      <td>13.076707</td>\n",
              "      <td>2.095975</td>\n",
              "      <td>2.601415</td>\n",
              "    </tr>\n",
              "  </tbody>\n",
              "</table>\n",
              "</div>\n",
              "      <button class=\"colab-df-convert\" onclick=\"convertToInteractive('df-e5b7a680-0249-4a4d-a3d6-9fb788d1880e')\"\n",
              "              title=\"Convert this dataframe to an interactive table.\"\n",
              "              style=\"display:none;\">\n",
              "        \n",
              "  <svg xmlns=\"http://www.w3.org/2000/svg\" height=\"24px\"viewBox=\"0 0 24 24\"\n",
              "       width=\"24px\">\n",
              "    <path d=\"M0 0h24v24H0V0z\" fill=\"none\"/>\n",
              "    <path d=\"M18.56 5.44l.94 2.06.94-2.06 2.06-.94-2.06-.94-.94-2.06-.94 2.06-2.06.94zm-11 1L8.5 8.5l.94-2.06 2.06-.94-2.06-.94L8.5 2.5l-.94 2.06-2.06.94zm10 10l.94 2.06.94-2.06 2.06-.94-2.06-.94-.94-2.06-.94 2.06-2.06.94z\"/><path d=\"M17.41 7.96l-1.37-1.37c-.4-.4-.92-.59-1.43-.59-.52 0-1.04.2-1.43.59L10.3 9.45l-7.72 7.72c-.78.78-.78 2.05 0 2.83L4 21.41c.39.39.9.59 1.41.59.51 0 1.02-.2 1.41-.59l7.78-7.78 2.81-2.81c.8-.78.8-2.07 0-2.86zM5.41 20L4 18.59l7.72-7.72 1.47 1.35L5.41 20z\"/>\n",
              "  </svg>\n",
              "      </button>\n",
              "      \n",
              "  <style>\n",
              "    .colab-df-container {\n",
              "      display:flex;\n",
              "      flex-wrap:wrap;\n",
              "      gap: 12px;\n",
              "    }\n",
              "\n",
              "    .colab-df-convert {\n",
              "      background-color: #E8F0FE;\n",
              "      border: none;\n",
              "      border-radius: 50%;\n",
              "      cursor: pointer;\n",
              "      display: none;\n",
              "      fill: #1967D2;\n",
              "      height: 32px;\n",
              "      padding: 0 0 0 0;\n",
              "      width: 32px;\n",
              "    }\n",
              "\n",
              "    .colab-df-convert:hover {\n",
              "      background-color: #E2EBFA;\n",
              "      box-shadow: 0px 1px 2px rgba(60, 64, 67, 0.3), 0px 1px 3px 1px rgba(60, 64, 67, 0.15);\n",
              "      fill: #174EA6;\n",
              "    }\n",
              "\n",
              "    [theme=dark] .colab-df-convert {\n",
              "      background-color: #3B4455;\n",
              "      fill: #D2E3FC;\n",
              "    }\n",
              "\n",
              "    [theme=dark] .colab-df-convert:hover {\n",
              "      background-color: #434B5C;\n",
              "      box-shadow: 0px 1px 3px 1px rgba(0, 0, 0, 0.15);\n",
              "      filter: drop-shadow(0px 1px 2px rgba(0, 0, 0, 0.3));\n",
              "      fill: #FFFFFF;\n",
              "    }\n",
              "  </style>\n",
              "\n",
              "      <script>\n",
              "        const buttonEl =\n",
              "          document.querySelector('#df-e5b7a680-0249-4a4d-a3d6-9fb788d1880e button.colab-df-convert');\n",
              "        buttonEl.style.display =\n",
              "          google.colab.kernel.accessAllowed ? 'block' : 'none';\n",
              "\n",
              "        async function convertToInteractive(key) {\n",
              "          const element = document.querySelector('#df-e5b7a680-0249-4a4d-a3d6-9fb788d1880e');\n",
              "          const dataTable =\n",
              "            await google.colab.kernel.invokeFunction('convertToInteractive',\n",
              "                                                     [key], {});\n",
              "          if (!dataTable) return;\n",
              "\n",
              "          const docLinkHtml = 'Like what you see? Visit the ' +\n",
              "            '<a target=\"_blank\" href=https://colab.research.google.com/notebooks/data_table.ipynb>data table notebook</a>'\n",
              "            + ' to learn more about interactive tables.';\n",
              "          element.innerHTML = '';\n",
              "          dataTable['output_type'] = 'display_data';\n",
              "          await google.colab.output.renderOutput(dataTable, element);\n",
              "          const docLink = document.createElement('div');\n",
              "          docLink.innerHTML = docLinkHtml;\n",
              "          element.appendChild(docLink);\n",
              "        }\n",
              "      </script>\n",
              "    </div>\n",
              "  </div>\n",
              "  "
            ]
          },
          "metadata": {},
          "execution_count": 120
        }
      ],
      "source": [
        "rg_df[ rg_df['mse'] == rg_df['mse'].min() ]"
      ]
    },
    {
      "cell_type": "markdown",
      "metadata": {
        "id": "OAXdRsEA60H_"
      },
      "source": [
        "### 결과 시각화"
      ]
    },
    {
      "cell_type": "code",
      "execution_count": 121,
      "metadata": {
        "colab": {
          "base_uri": "https://localhost:8080/",
          "height": 466
        },
        "id": "Pb1QeIdy62mh",
        "outputId": "3d3cb2b5-ba0c-4ea9-ddfd-ddc0eed69a63"
      },
      "outputs": [
        {
          "output_type": "display_data",
          "data": {
            "text/plain": [
              "<Figure size 864x504 with 1 Axes>"
            ],
            "image/png": "[encoded data removed]"
          },
          "metadata": {
            "needs_background": "light"
          }
        }
      ],
      "source": [
        "vis(rg_df, \"Ridge\", 'alpha')"
      ]
    },
    {
      "cell_type": "markdown",
      "metadata": {
        "id": "8vrA_hxDi8MK"
      },
      "source": [
        "## random forest와 lightgbm 결과 종합"
      ]
    },
    {
      "cell_type": "code",
      "execution_count": 122,
      "metadata": {
        "id": "h0gb6CAThf04"
      },
      "outputs": [],
      "source": [
        "# 최적의 하이퍼파라미터 적용\n",
        "rf = RandomForestRegressor(max_depth=7, min_samples_split=7,random_state=0)\n",
        "rf.fit(X_train, y_train)\n",
        "pred_rf = rf.predict(X_test)"
      ]
    },
    {
      "cell_type": "code",
      "execution_count": 123,
      "metadata": {
        "id": "hkeJZX4HjfCB",
        "colab": {
          "base_uri": "https://localhost:8080/"
        },
        "outputId": "64ac71d4-be41-4236-991e-e1e652473197"
      },
      "outputs": [
        {
          "output_type": "stream",
          "name": "stderr",
          "text": [
            "/usr/local/lib/python3.7/dist-packages/lightgbm/sklearn.py:726: UserWarning: 'early_stopping_rounds' argument is deprecated and will be removed in a future release of LightGBM. Pass 'early_stopping()' callback via 'callbacks' argument instead.\n",
            "  _log_warning(\"'early_stopping_rounds' argument is deprecated and will be removed in a future release of LightGBM. \"\n",
            "/usr/local/lib/python3.7/dist-packages/lightgbm/sklearn.py:736: UserWarning: 'verbose' argument is deprecated and will be removed in a future release of LightGBM. Pass 'log_evaluation()' callback via 'callbacks' argument instead.\n",
            "  _log_warning(\"'verbose' argument is deprecated and will be removed in a future release of LightGBM. \"\n"
          ]
        }
      ],
      "source": [
        "lgb = LGBMRegressor(n_estimators=300, random_state=0)\n",
        "lgb.fit(X_train, y_train, early_stopping_rounds=100, eval_set=[(X_test, y_test)], eval_metric='mse', verbose=False)\n",
        "pred_lgb = lgb.predict(X_test)"
      ]
    },
    {
      "cell_type": "code",
      "execution_count": 124,
      "metadata": {
        "colab": {
          "base_uri": "https://localhost:8080/"
        },
        "id": "HQKmB6BlkKRJ",
        "outputId": "cfef1806-eaf8-473e-f187-1773f8d0dd65"
      },
      "outputs": [
        {
          "output_type": "execute_result",
          "data": {
            "text/plain": [
              "((1908,), (1908,))"
            ]
          },
          "metadata": {},
          "execution_count": 124
        }
      ],
      "source": [
        "pred_rf.shape, pred_lgb.shape"
      ]
    },
    {
      "cell_type": "code",
      "execution_count": 125,
      "metadata": {
        "id": "S4xiOo6rjjot"
      },
      "outputs": [],
      "source": [
        "pred = (pred_rf + pred_lgb) / 2"
      ]
    },
    {
      "cell_type": "code",
      "execution_count": 126,
      "metadata": {
        "colab": {
          "base_uri": "https://localhost:8080/"
        },
        "id": "Nf3NAnwHkNUU",
        "outputId": "e6fe4617-8a75-4f8c-a1dc-aa0249076ec5"
      },
      "outputs": [
        {
          "output_type": "execute_result",
          "data": {
            "text/plain": [
              "(1908,)"
            ]
          },
          "metadata": {},
          "execution_count": 126
        }
      ],
      "source": [
        "pred.shape"
      ]
    },
    {
      "cell_type": "code",
      "execution_count": 127,
      "metadata": {
        "colab": {
          "base_uri": "https://localhost:8080/"
        },
        "id": "ZZXx11JTjq55",
        "outputId": "894e2f7b-118f-4a4a-fd6f-04049d65e5fb"
      },
      "outputs": [
        {
          "output_type": "stream",
          "name": "stdout",
          "text": [
            "The mean squared error (MSE) on test set: 8.1142\n",
            "The initial error of API ETA on test set: 13.0767\n",
            "The mean absolute error (MAE) on test set: 2.0572\n",
            "The initial error of API ETA on test set: 2.6014\n",
            "\n"
          ]
        }
      ],
      "source": [
        "api_eta = X_test.iloc[:,0]\n",
        "mse = mean_squared_error(y_test, pred)\n",
        "mse_api = mean_squared_error(y_test, api_eta)\n",
        "mse_list.append(mse)\n",
        "mse_api_list.append(mse_api)\n",
        "print( \"The mean squared error (MSE) on test set: {:.4f}\".format(mse) )\n",
        "print( \"The initial error of API ETA on test set: {:.4f}\".format(mse_api) )\n",
        "mae = mean_absolute_error(y_test, pred)\n",
        "mae_api = mean_absolute_error(y_test, api_eta)\n",
        "mae_list.append(mae)\n",
        "mae_api_list.append(mae_api)\n",
        "print( \"The mean absolute error (MAE) on test set: {:.4f}\".format(mae) )\n",
        "print( \"The initial error of API ETA on test set: {:.4f}\".format(mae_api) )\n",
        "print()"
      ]
    },
    {
      "cell_type": "markdown",
      "metadata": {
        "id": "ESi2PGAdlJAb"
      },
      "source": [
        "# 코드 마지막"
      ]
    }
  ],
  "metadata": {
    "celltoolbar": "Raw Cell Format",
    "colab": {
      "collapsed_sections": [],
      "name": "Assignment01.ipynb",
      "toc_visible": true,
      "provenance": []
    },
    "kernelspec": {
      "display_name": "Python 3",
      "language": "python",
      "name": "python3"
    },
    "language_info": {
      "codemirror_mode": {
        "name": "ipython",
        "version": 3
      },
      "file_extension": ".py",
      "mimetype": "text/x-python",
      "name": "python",
      "nbconvert_exporter": "python",
      "pygments_lexer": "ipython3",
      "version": "3.6.8"
    }
  },
  "nbformat": 4,
  "nbformat_minor": 0
}