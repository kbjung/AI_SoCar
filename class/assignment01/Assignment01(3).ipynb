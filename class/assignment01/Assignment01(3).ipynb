{
  "cells": [
    {
      "cell_type": "markdown",
      "metadata": {
        "id": "y5Zlc0A0wimF"
      },
      "source": [
        "# Assignment01"
      ]
    },
    {
      "cell_type": "markdown",
      "metadata": {
        "id": "sXh3Ycj2wwMQ"
      },
      "source": [
        "## 라이브러리"
      ]
    },
    {
      "cell_type": "code",
      "execution_count": 1,
      "metadata": {
        "id": "8bQ4JV1Rwv0d"
      },
      "outputs": [],
      "source": [
        "import pandas as pd\n",
        "from sklearn.ensemble import RandomForestRegressor\n",
        "from lightgbm import LGBMRegressor\n",
        "from sklearn.linear_model import LinearRegression, Ridge\n",
        "from sklearn.metrics import mean_squared_error\n",
        "from sklearn.metrics import mean_absolute_error"
      ]
    },
    {
      "cell_type": "code",
      "source": [
        "from sklearn.model_selection import train_test_split"
      ],
      "metadata": {
        "id": "XIv-C1f24TMi"
      },
      "execution_count": 2,
      "outputs": []
    },
    {
      "cell_type": "code",
      "execution_count": 3,
      "metadata": {
        "id": "fuVTvpeIytyi"
      },
      "outputs": [],
      "source": [
        "from sklearn.preprocessing import MinMaxScaler"
      ]
    },
    {
      "cell_type": "code",
      "execution_count": 4,
      "metadata": {
        "id": "_cxvCgzX3JTD"
      },
      "outputs": [],
      "source": [
        "import matplotlib.pyplot as plt"
      ]
    },
    {
      "cell_type": "code",
      "execution_count": 5,
      "metadata": {
        "colab": {
          "base_uri": "https://localhost:8080/"
        },
        "id": "7NUuNS7vwjSl",
        "outputId": "6b63eea1-3cb3-4ffd-959c-9ace4798c63a"
      },
      "outputs": [
        {
          "output_type": "stream",
          "name": "stdout",
          "text": [
            "Mounted at /content/drive\n"
          ]
        }
      ],
      "source": [
        "from google.colab import drive\n",
        "drive.mount('/content/drive')"
      ]
    },
    {
      "cell_type": "code",
      "execution_count": 6,
      "metadata": {
        "colab": {
          "base_uri": "https://localhost:8080/"
        },
        "id": "THzp4Jbj2_WJ",
        "outputId": "360ebe20-ecd0-4b82-b531-76ee3c429aa2"
      },
      "outputs": [
        {
          "output_type": "stream",
          "name": "stdout",
          "text": [
            "<class 'pandas.core.frame.DataFrame'>\n",
            "RangeIndex: 13916 entries, 0 to 13915\n",
            "Data columns (total 12 columns):\n",
            " #   Column          Non-Null Count  Dtype  \n",
            "---  ------          --------------  -----  \n",
            " 0   ATA             13916 non-null  float64\n",
            " 1   id              13916 non-null  object \n",
            " 2   api_eta         13916 non-null  float64\n",
            " 3   created_at_kst  13916 non-null  object \n",
            " 4   month           13916 non-null  int64  \n",
            " 5   pickup_lng      13916 non-null  float64\n",
            " 6   pickup_lat      13916 non-null  float64\n",
            " 7   pickup_gu       13916 non-null  object \n",
            " 8   driver_id       13916 non-null  object \n",
            " 9   driver_lng      13916 non-null  float64\n",
            " 10  driver_lat      13916 non-null  float64\n",
            " 11  hour            13916 non-null  int64  \n",
            "dtypes: float64(6), int64(2), object(4)\n",
            "memory usage: 1.3+ MB\n"
          ]
        }
      ],
      "source": [
        "tada_eta = pd.read_excel('/content/drive/MyDrive/프로그래밍_교육/쏘카 ai 엔지니어 육성 부트캠프 2기/강의/assignment01/tada_eta.xlsx')\n",
        "tada_eta.info()"
      ]
    },
    {
      "cell_type": "markdown",
      "metadata": {
        "id": "bEMNY623GKze"
      },
      "source": [
        "## EDA"
      ]
    },
    {
      "cell_type": "code",
      "execution_count": 7,
      "metadata": {
        "colab": {
          "base_uri": "https://localhost:8080/",
          "height": 300
        },
        "id": "Brnzja7D92LQ",
        "outputId": "bd09d85d-990b-4137-fe58-885bd8cbc6a1"
      },
      "outputs": [
        {
          "output_type": "execute_result",
          "data": {
            "text/plain": [
              "                ATA       api_eta         month    pickup_lng    pickup_lat  \\\n",
              "count  13916.000000  13916.000000  13916.000000  13916.000000  13916.000000   \n",
              "mean       8.386438      6.172346     10.146019    127.002390     37.527512   \n",
              "std        4.094109      3.151074      2.415177      0.057423      0.031143   \n",
              "min        0.430000      0.000000      7.000000    126.798391     37.439779   \n",
              "25%        5.470000      3.800000      7.000000    126.969020     37.503890   \n",
              "50%        7.780000      5.950000     12.000000    127.013602     37.523343   \n",
              "75%       10.520000      8.180000     12.000000    127.040485     37.551443   \n",
              "max       44.780000     25.280000     12.000000    127.174993     37.686526   \n",
              "\n",
              "         driver_lng    driver_lat          hour  \n",
              "count  13916.000000  13916.000000  13916.000000  \n",
              "mean     126.956952     37.514084     13.278672  \n",
              "std        2.407714      0.711941      6.971578  \n",
              "min        0.000000      0.000000      0.000000  \n",
              "25%      126.967620     37.503930      8.000000  \n",
              "50%      127.013432     37.522791     14.000000  \n",
              "75%      127.041342     37.551953     19.000000  \n",
              "max      127.174070     37.683888     23.000000  "
            ],
            "text/html": [
              "\n",
              "  <div id=\"df-a929afcd-1940-4cdb-adca-2b7f46b2fc1b\">\n",
              "    <div class=\"colab-df-container\">\n",
              "      <div>\n",
              "<style scoped>\n",
              "    .dataframe tbody tr th:only-of-type {\n",
              "        vertical-align: middle;\n",
              "    }\n",
              "\n",
              "    .dataframe tbody tr th {\n",
              "        vertical-align: top;\n",
              "    }\n",
              "\n",
              "    .dataframe thead th {\n",
              "        text-align: right;\n",
              "    }\n",
              "</style>\n",
              "<table border=\"1\" class=\"dataframe\">\n",
              "  <thead>\n",
              "    <tr style=\"text-align: right;\">\n",
              "      <th></th>\n",
              "      <th>ATA</th>\n",
              "      <th>api_eta</th>\n",
              "      <th>month</th>\n",
              "      <th>pickup_lng</th>\n",
              "      <th>pickup_lat</th>\n",
              "      <th>driver_lng</th>\n",
              "      <th>driver_lat</th>\n",
              "      <th>hour</th>\n",
              "    </tr>\n",
              "  </thead>\n",
              "  <tbody>\n",
              "    <tr>\n",
              "      <th>count</th>\n",
              "      <td>13916.000000</td>\n",
              "      <td>13916.000000</td>\n",
              "      <td>13916.000000</td>\n",
              "      <td>13916.000000</td>\n",
              "      <td>13916.000000</td>\n",
              "      <td>13916.000000</td>\n",
              "      <td>13916.000000</td>\n",
              "      <td>13916.000000</td>\n",
              "    </tr>\n",
              "    <tr>\n",
              "      <th>mean</th>\n",
              "      <td>8.386438</td>\n",
              "      <td>6.172346</td>\n",
              "      <td>10.146019</td>\n",
              "      <td>127.002390</td>\n",
              "      <td>37.527512</td>\n",
              "      <td>126.956952</td>\n",
              "      <td>37.514084</td>\n",
              "      <td>13.278672</td>\n",
              "    </tr>\n",
              "    <tr>\n",
              "      <th>std</th>\n",
              "      <td>4.094109</td>\n",
              "      <td>3.151074</td>\n",
              "      <td>2.415177</td>\n",
              "      <td>0.057423</td>\n",
              "      <td>0.031143</td>\n",
              "      <td>2.407714</td>\n",
              "      <td>0.711941</td>\n",
              "      <td>6.971578</td>\n",
              "    </tr>\n",
              "    <tr>\n",
              "      <th>min</th>\n",
              "      <td>0.430000</td>\n",
              "      <td>0.000000</td>\n",
              "      <td>7.000000</td>\n",
              "      <td>126.798391</td>\n",
              "      <td>37.439779</td>\n",
              "      <td>0.000000</td>\n",
              "      <td>0.000000</td>\n",
              "      <td>0.000000</td>\n",
              "    </tr>\n",
              "    <tr>\n",
              "      <th>25%</th>\n",
              "      <td>5.470000</td>\n",
              "      <td>3.800000</td>\n",
              "      <td>7.000000</td>\n",
              "      <td>126.969020</td>\n",
              "      <td>37.503890</td>\n",
              "      <td>126.967620</td>\n",
              "      <td>37.503930</td>\n",
              "      <td>8.000000</td>\n",
              "    </tr>\n",
              "    <tr>\n",
              "      <th>50%</th>\n",
              "      <td>7.780000</td>\n",
              "      <td>5.950000</td>\n",
              "      <td>12.000000</td>\n",
              "      <td>127.013602</td>\n",
              "      <td>37.523343</td>\n",
              "      <td>127.013432</td>\n",
              "      <td>37.522791</td>\n",
              "      <td>14.000000</td>\n",
              "    </tr>\n",
              "    <tr>\n",
              "      <th>75%</th>\n",
              "      <td>10.520000</td>\n",
              "      <td>8.180000</td>\n",
              "      <td>12.000000</td>\n",
              "      <td>127.040485</td>\n",
              "      <td>37.551443</td>\n",
              "      <td>127.041342</td>\n",
              "      <td>37.551953</td>\n",
              "      <td>19.000000</td>\n",
              "    </tr>\n",
              "    <tr>\n",
              "      <th>max</th>\n",
              "      <td>44.780000</td>\n",
              "      <td>25.280000</td>\n",
              "      <td>12.000000</td>\n",
              "      <td>127.174993</td>\n",
              "      <td>37.686526</td>\n",
              "      <td>127.174070</td>\n",
              "      <td>37.683888</td>\n",
              "      <td>23.000000</td>\n",
              "    </tr>\n",
              "  </tbody>\n",
              "</table>\n",
              "</div>\n",
              "      <button class=\"colab-df-convert\" onclick=\"convertToInteractive('df-a929afcd-1940-4cdb-adca-2b7f46b2fc1b')\"\n",
              "              title=\"Convert this dataframe to an interactive table.\"\n",
              "              style=\"display:none;\">\n",
              "        \n",
              "  <svg xmlns=\"http://www.w3.org/2000/svg\" height=\"24px\"viewBox=\"0 0 24 24\"\n",
              "       width=\"24px\">\n",
              "    <path d=\"M0 0h24v24H0V0z\" fill=\"none\"/>\n",
              "    <path d=\"M18.56 5.44l.94 2.06.94-2.06 2.06-.94-2.06-.94-.94-2.06-.94 2.06-2.06.94zm-11 1L8.5 8.5l.94-2.06 2.06-.94-2.06-.94L8.5 2.5l-.94 2.06-2.06.94zm10 10l.94 2.06.94-2.06 2.06-.94-2.06-.94-.94-2.06-.94 2.06-2.06.94z\"/><path d=\"M17.41 7.96l-1.37-1.37c-.4-.4-.92-.59-1.43-.59-.52 0-1.04.2-1.43.59L10.3 9.45l-7.72 7.72c-.78.78-.78 2.05 0 2.83L4 21.41c.39.39.9.59 1.41.59.51 0 1.02-.2 1.41-.59l7.78-7.78 2.81-2.81c.8-.78.8-2.07 0-2.86zM5.41 20L4 18.59l7.72-7.72 1.47 1.35L5.41 20z\"/>\n",
              "  </svg>\n",
              "      </button>\n",
              "      \n",
              "  <style>\n",
              "    .colab-df-container {\n",
              "      display:flex;\n",
              "      flex-wrap:wrap;\n",
              "      gap: 12px;\n",
              "    }\n",
              "\n",
              "    .colab-df-convert {\n",
              "      background-color: #E8F0FE;\n",
              "      border: none;\n",
              "      border-radius: 50%;\n",
              "      cursor: pointer;\n",
              "      display: none;\n",
              "      fill: #1967D2;\n",
              "      height: 32px;\n",
              "      padding: 0 0 0 0;\n",
              "      width: 32px;\n",
              "    }\n",
              "\n",
              "    .colab-df-convert:hover {\n",
              "      background-color: #E2EBFA;\n",
              "      box-shadow: 0px 1px 2px rgba(60, 64, 67, 0.3), 0px 1px 3px 1px rgba(60, 64, 67, 0.15);\n",
              "      fill: #174EA6;\n",
              "    }\n",
              "\n",
              "    [theme=dark] .colab-df-convert {\n",
              "      background-color: #3B4455;\n",
              "      fill: #D2E3FC;\n",
              "    }\n",
              "\n",
              "    [theme=dark] .colab-df-convert:hover {\n",
              "      background-color: #434B5C;\n",
              "      box-shadow: 0px 1px 3px 1px rgba(0, 0, 0, 0.15);\n",
              "      filter: drop-shadow(0px 1px 2px rgba(0, 0, 0, 0.3));\n",
              "      fill: #FFFFFF;\n",
              "    }\n",
              "  </style>\n",
              "\n",
              "      <script>\n",
              "        const buttonEl =\n",
              "          document.querySelector('#df-a929afcd-1940-4cdb-adca-2b7f46b2fc1b button.colab-df-convert');\n",
              "        buttonEl.style.display =\n",
              "          google.colab.kernel.accessAllowed ? 'block' : 'none';\n",
              "\n",
              "        async function convertToInteractive(key) {\n",
              "          const element = document.querySelector('#df-a929afcd-1940-4cdb-adca-2b7f46b2fc1b');\n",
              "          const dataTable =\n",
              "            await google.colab.kernel.invokeFunction('convertToInteractive',\n",
              "                                                     [key], {});\n",
              "          if (!dataTable) return;\n",
              "\n",
              "          const docLinkHtml = 'Like what you see? Visit the ' +\n",
              "            '<a target=\"_blank\" href=https://colab.research.google.com/notebooks/data_table.ipynb>data table notebook</a>'\n",
              "            + ' to learn more about interactive tables.';\n",
              "          element.innerHTML = '';\n",
              "          dataTable['output_type'] = 'display_data';\n",
              "          await google.colab.output.renderOutput(dataTable, element);\n",
              "          const docLink = document.createElement('div');\n",
              "          docLink.innerHTML = docLinkHtml;\n",
              "          element.appendChild(docLink);\n",
              "        }\n",
              "      </script>\n",
              "    </div>\n",
              "  </div>\n",
              "  "
            ]
          },
          "metadata": {},
          "execution_count": 7
        }
      ],
      "source": [
        "tada_eta.describe()"
      ]
    },
    {
      "cell_type": "code",
      "execution_count": 8,
      "metadata": {
        "colab": {
          "base_uri": "https://localhost:8080/",
          "height": 206
        },
        "id": "L-EFXTLqxCOO",
        "outputId": "1cab5b64-791e-4e8f-9186-9efc4f6493a8"
      },
      "outputs": [
        {
          "output_type": "execute_result",
          "data": {
            "text/plain": [
              "     ATA              id  api_eta       created_at_kst  month  pickup_lng  \\\n",
              "0  10.60  R4L9FL6NVEL4D0     5.65  2019-12-01T00:55:09     12  127.091399   \n",
              "1   9.20  R3A7JBY7CS6TPD     8.60  2019-12-01T00:09:39     12  127.023351   \n",
              "2  10.85  R2BIUY1TDK14XE    10.53  2019-12-15T00:18:42     12  126.881154   \n",
              "3   5.52  R31PU5GNHSGU6C     1.92  2019-07-31T00:24:11      7  126.988375   \n",
              "4   8.60  R41WR6N1VT42DJ     7.10  2019-07-05T00:40:34      7  126.988684   \n",
              "\n",
              "   pickup_lat pickup_gu driver_id  driver_lng  driver_lat  hour  \n",
              "0   37.624545       노원구  DST52944  127.069978   37.616472     0  \n",
              "1   37.625564       강북구  DPC72995  127.026479   37.604711     0  \n",
              "2   37.481641       금천구  DPP94923  126.906225   37.452167     0  \n",
              "3   37.567897        중구  DCT73585  126.991170   37.566416     0  \n",
              "4   37.566716        중구  DPJ86237  127.006860   37.571164     0  "
            ],
            "text/html": [
              "\n",
              "  <div id=\"df-47bd2419-b7a0-4fab-8984-8c31bdda7a93\">\n",
              "    <div class=\"colab-df-container\">\n",
              "      <div>\n",
              "<style scoped>\n",
              "    .dataframe tbody tr th:only-of-type {\n",
              "        vertical-align: middle;\n",
              "    }\n",
              "\n",
              "    .dataframe tbody tr th {\n",
              "        vertical-align: top;\n",
              "    }\n",
              "\n",
              "    .dataframe thead th {\n",
              "        text-align: right;\n",
              "    }\n",
              "</style>\n",
              "<table border=\"1\" class=\"dataframe\">\n",
              "  <thead>\n",
              "    <tr style=\"text-align: right;\">\n",
              "      <th></th>\n",
              "      <th>ATA</th>\n",
              "      <th>id</th>\n",
              "      <th>api_eta</th>\n",
              "      <th>created_at_kst</th>\n",
              "      <th>month</th>\n",
              "      <th>pickup_lng</th>\n",
              "      <th>pickup_lat</th>\n",
              "      <th>pickup_gu</th>\n",
              "      <th>driver_id</th>\n",
              "      <th>driver_lng</th>\n",
              "      <th>driver_lat</th>\n",
              "      <th>hour</th>\n",
              "    </tr>\n",
              "  </thead>\n",
              "  <tbody>\n",
              "    <tr>\n",
              "      <th>0</th>\n",
              "      <td>10.60</td>\n",
              "      <td>R4L9FL6NVEL4D0</td>\n",
              "      <td>5.65</td>\n",
              "      <td>2019-12-01T00:55:09</td>\n",
              "      <td>12</td>\n",
              "      <td>127.091399</td>\n",
              "      <td>37.624545</td>\n",
              "      <td>노원구</td>\n",
              "      <td>DST52944</td>\n",
              "      <td>127.069978</td>\n",
              "      <td>37.616472</td>\n",
              "      <td>0</td>\n",
              "    </tr>\n",
              "    <tr>\n",
              "      <th>1</th>\n",
              "      <td>9.20</td>\n",
              "      <td>R3A7JBY7CS6TPD</td>\n",
              "      <td>8.60</td>\n",
              "      <td>2019-12-01T00:09:39</td>\n",
              "      <td>12</td>\n",
              "      <td>127.023351</td>\n",
              "      <td>37.625564</td>\n",
              "      <td>강북구</td>\n",
              "      <td>DPC72995</td>\n",
              "      <td>127.026479</td>\n",
              "      <td>37.604711</td>\n",
              "      <td>0</td>\n",
              "    </tr>\n",
              "    <tr>\n",
              "      <th>2</th>\n",
              "      <td>10.85</td>\n",
              "      <td>R2BIUY1TDK14XE</td>\n",
              "      <td>10.53</td>\n",
              "      <td>2019-12-15T00:18:42</td>\n",
              "      <td>12</td>\n",
              "      <td>126.881154</td>\n",
              "      <td>37.481641</td>\n",
              "      <td>금천구</td>\n",
              "      <td>DPP94923</td>\n",
              "      <td>126.906225</td>\n",
              "      <td>37.452167</td>\n",
              "      <td>0</td>\n",
              "    </tr>\n",
              "    <tr>\n",
              "      <th>3</th>\n",
              "      <td>5.52</td>\n",
              "      <td>R31PU5GNHSGU6C</td>\n",
              "      <td>1.92</td>\n",
              "      <td>2019-07-31T00:24:11</td>\n",
              "      <td>7</td>\n",
              "      <td>126.988375</td>\n",
              "      <td>37.567897</td>\n",
              "      <td>중구</td>\n",
              "      <td>DCT73585</td>\n",
              "      <td>126.991170</td>\n",
              "      <td>37.566416</td>\n",
              "      <td>0</td>\n",
              "    </tr>\n",
              "    <tr>\n",
              "      <th>4</th>\n",
              "      <td>8.60</td>\n",
              "      <td>R41WR6N1VT42DJ</td>\n",
              "      <td>7.10</td>\n",
              "      <td>2019-07-05T00:40:34</td>\n",
              "      <td>7</td>\n",
              "      <td>126.988684</td>\n",
              "      <td>37.566716</td>\n",
              "      <td>중구</td>\n",
              "      <td>DPJ86237</td>\n",
              "      <td>127.006860</td>\n",
              "      <td>37.571164</td>\n",
              "      <td>0</td>\n",
              "    </tr>\n",
              "  </tbody>\n",
              "</table>\n",
              "</div>\n",
              "      <button class=\"colab-df-convert\" onclick=\"convertToInteractive('df-47bd2419-b7a0-4fab-8984-8c31bdda7a93')\"\n",
              "              title=\"Convert this dataframe to an interactive table.\"\n",
              "              style=\"display:none;\">\n",
              "        \n",
              "  <svg xmlns=\"http://www.w3.org/2000/svg\" height=\"24px\"viewBox=\"0 0 24 24\"\n",
              "       width=\"24px\">\n",
              "    <path d=\"M0 0h24v24H0V0z\" fill=\"none\"/>\n",
              "    <path d=\"M18.56 5.44l.94 2.06.94-2.06 2.06-.94-2.06-.94-.94-2.06-.94 2.06-2.06.94zm-11 1L8.5 8.5l.94-2.06 2.06-.94-2.06-.94L8.5 2.5l-.94 2.06-2.06.94zm10 10l.94 2.06.94-2.06 2.06-.94-2.06-.94-.94-2.06-.94 2.06-2.06.94z\"/><path d=\"M17.41 7.96l-1.37-1.37c-.4-.4-.92-.59-1.43-.59-.52 0-1.04.2-1.43.59L10.3 9.45l-7.72 7.72c-.78.78-.78 2.05 0 2.83L4 21.41c.39.39.9.59 1.41.59.51 0 1.02-.2 1.41-.59l7.78-7.78 2.81-2.81c.8-.78.8-2.07 0-2.86zM5.41 20L4 18.59l7.72-7.72 1.47 1.35L5.41 20z\"/>\n",
              "  </svg>\n",
              "      </button>\n",
              "      \n",
              "  <style>\n",
              "    .colab-df-container {\n",
              "      display:flex;\n",
              "      flex-wrap:wrap;\n",
              "      gap: 12px;\n",
              "    }\n",
              "\n",
              "    .colab-df-convert {\n",
              "      background-color: #E8F0FE;\n",
              "      border: none;\n",
              "      border-radius: 50%;\n",
              "      cursor: pointer;\n",
              "      display: none;\n",
              "      fill: #1967D2;\n",
              "      height: 32px;\n",
              "      padding: 0 0 0 0;\n",
              "      width: 32px;\n",
              "    }\n",
              "\n",
              "    .colab-df-convert:hover {\n",
              "      background-color: #E2EBFA;\n",
              "      box-shadow: 0px 1px 2px rgba(60, 64, 67, 0.3), 0px 1px 3px 1px rgba(60, 64, 67, 0.15);\n",
              "      fill: #174EA6;\n",
              "    }\n",
              "\n",
              "    [theme=dark] .colab-df-convert {\n",
              "      background-color: #3B4455;\n",
              "      fill: #D2E3FC;\n",
              "    }\n",
              "\n",
              "    [theme=dark] .colab-df-convert:hover {\n",
              "      background-color: #434B5C;\n",
              "      box-shadow: 0px 1px 3px 1px rgba(0, 0, 0, 0.15);\n",
              "      filter: drop-shadow(0px 1px 2px rgba(0, 0, 0, 0.3));\n",
              "      fill: #FFFFFF;\n",
              "    }\n",
              "  </style>\n",
              "\n",
              "      <script>\n",
              "        const buttonEl =\n",
              "          document.querySelector('#df-47bd2419-b7a0-4fab-8984-8c31bdda7a93 button.colab-df-convert');\n",
              "        buttonEl.style.display =\n",
              "          google.colab.kernel.accessAllowed ? 'block' : 'none';\n",
              "\n",
              "        async function convertToInteractive(key) {\n",
              "          const element = document.querySelector('#df-47bd2419-b7a0-4fab-8984-8c31bdda7a93');\n",
              "          const dataTable =\n",
              "            await google.colab.kernel.invokeFunction('convertToInteractive',\n",
              "                                                     [key], {});\n",
              "          if (!dataTable) return;\n",
              "\n",
              "          const docLinkHtml = 'Like what you see? Visit the ' +\n",
              "            '<a target=\"_blank\" href=https://colab.research.google.com/notebooks/data_table.ipynb>data table notebook</a>'\n",
              "            + ' to learn more about interactive tables.';\n",
              "          element.innerHTML = '';\n",
              "          dataTable['output_type'] = 'display_data';\n",
              "          await google.colab.output.renderOutput(dataTable, element);\n",
              "          const docLink = document.createElement('div');\n",
              "          docLink.innerHTML = docLinkHtml;\n",
              "          element.appendChild(docLink);\n",
              "        }\n",
              "      </script>\n",
              "    </div>\n",
              "  </div>\n",
              "  "
            ]
          },
          "metadata": {},
          "execution_count": 8
        }
      ],
      "source": [
        "tada_eta.head()"
      ]
    },
    {
      "cell_type": "code",
      "execution_count": 9,
      "metadata": {
        "colab": {
          "base_uri": "https://localhost:8080/",
          "height": 243
        },
        "id": "9xThoNkx_2bT",
        "outputId": "66b30583-1e62-43cb-d612-904aaf9343bd"
      },
      "outputs": [
        {
          "output_type": "stream",
          "name": "stderr",
          "text": [
            "/usr/local/lib/python3.7/dist-packages/ipykernel_launcher.py:2: FutureWarning: In a future version of pandas all arguments of DataFrame.drop except for the argument 'labels' will be keyword-only\n",
            "  \n"
          ]
        },
        {
          "output_type": "execute_result",
          "data": {
            "text/plain": [
              "     ATA  api_eta  month  hour    distance\n",
              "0  10.60     5.65     12     0   52.400202\n",
              "1   9.20     8.60     12     0   44.465889\n",
              "2  10.85    10.53     12     0  149.731535\n",
              "3   5.52     1.92      7     0    1.000535\n",
              "4   8.60     7.10      7     0   35.014797"
            ],
            "text/html": [
              "\n",
              "  <div id=\"df-5b1d259d-1582-4bbb-a0aa-408a5d29f645\">\n",
              "    <div class=\"colab-df-container\">\n",
              "      <div>\n",
              "<style scoped>\n",
              "    .dataframe tbody tr th:only-of-type {\n",
              "        vertical-align: middle;\n",
              "    }\n",
              "\n",
              "    .dataframe tbody tr th {\n",
              "        vertical-align: top;\n",
              "    }\n",
              "\n",
              "    .dataframe thead th {\n",
              "        text-align: right;\n",
              "    }\n",
              "</style>\n",
              "<table border=\"1\" class=\"dataframe\">\n",
              "  <thead>\n",
              "    <tr style=\"text-align: right;\">\n",
              "      <th></th>\n",
              "      <th>ATA</th>\n",
              "      <th>api_eta</th>\n",
              "      <th>month</th>\n",
              "      <th>hour</th>\n",
              "      <th>distance</th>\n",
              "    </tr>\n",
              "  </thead>\n",
              "  <tbody>\n",
              "    <tr>\n",
              "      <th>0</th>\n",
              "      <td>10.60</td>\n",
              "      <td>5.65</td>\n",
              "      <td>12</td>\n",
              "      <td>0</td>\n",
              "      <td>52.400202</td>\n",
              "    </tr>\n",
              "    <tr>\n",
              "      <th>1</th>\n",
              "      <td>9.20</td>\n",
              "      <td>8.60</td>\n",
              "      <td>12</td>\n",
              "      <td>0</td>\n",
              "      <td>44.465889</td>\n",
              "    </tr>\n",
              "    <tr>\n",
              "      <th>2</th>\n",
              "      <td>10.85</td>\n",
              "      <td>10.53</td>\n",
              "      <td>12</td>\n",
              "      <td>0</td>\n",
              "      <td>149.731535</td>\n",
              "    </tr>\n",
              "    <tr>\n",
              "      <th>3</th>\n",
              "      <td>5.52</td>\n",
              "      <td>1.92</td>\n",
              "      <td>7</td>\n",
              "      <td>0</td>\n",
              "      <td>1.000535</td>\n",
              "    </tr>\n",
              "    <tr>\n",
              "      <th>4</th>\n",
              "      <td>8.60</td>\n",
              "      <td>7.10</td>\n",
              "      <td>7</td>\n",
              "      <td>0</td>\n",
              "      <td>35.014797</td>\n",
              "    </tr>\n",
              "  </tbody>\n",
              "</table>\n",
              "</div>\n",
              "      <button class=\"colab-df-convert\" onclick=\"convertToInteractive('df-5b1d259d-1582-4bbb-a0aa-408a5d29f645')\"\n",
              "              title=\"Convert this dataframe to an interactive table.\"\n",
              "              style=\"display:none;\">\n",
              "        \n",
              "  <svg xmlns=\"http://www.w3.org/2000/svg\" height=\"24px\"viewBox=\"0 0 24 24\"\n",
              "       width=\"24px\">\n",
              "    <path d=\"M0 0h24v24H0V0z\" fill=\"none\"/>\n",
              "    <path d=\"M18.56 5.44l.94 2.06.94-2.06 2.06-.94-2.06-.94-.94-2.06-.94 2.06-2.06.94zm-11 1L8.5 8.5l.94-2.06 2.06-.94-2.06-.94L8.5 2.5l-.94 2.06-2.06.94zm10 10l.94 2.06.94-2.06 2.06-.94-2.06-.94-.94-2.06-.94 2.06-2.06.94z\"/><path d=\"M17.41 7.96l-1.37-1.37c-.4-.4-.92-.59-1.43-.59-.52 0-1.04.2-1.43.59L10.3 9.45l-7.72 7.72c-.78.78-.78 2.05 0 2.83L4 21.41c.39.39.9.59 1.41.59.51 0 1.02-.2 1.41-.59l7.78-7.78 2.81-2.81c.8-.78.8-2.07 0-2.86zM5.41 20L4 18.59l7.72-7.72 1.47 1.35L5.41 20z\"/>\n",
              "  </svg>\n",
              "      </button>\n",
              "      \n",
              "  <style>\n",
              "    .colab-df-container {\n",
              "      display:flex;\n",
              "      flex-wrap:wrap;\n",
              "      gap: 12px;\n",
              "    }\n",
              "\n",
              "    .colab-df-convert {\n",
              "      background-color: #E8F0FE;\n",
              "      border: none;\n",
              "      border-radius: 50%;\n",
              "      cursor: pointer;\n",
              "      display: none;\n",
              "      fill: #1967D2;\n",
              "      height: 32px;\n",
              "      padding: 0 0 0 0;\n",
              "      width: 32px;\n",
              "    }\n",
              "\n",
              "    .colab-df-convert:hover {\n",
              "      background-color: #E2EBFA;\n",
              "      box-shadow: 0px 1px 2px rgba(60, 64, 67, 0.3), 0px 1px 3px 1px rgba(60, 64, 67, 0.15);\n",
              "      fill: #174EA6;\n",
              "    }\n",
              "\n",
              "    [theme=dark] .colab-df-convert {\n",
              "      background-color: #3B4455;\n",
              "      fill: #D2E3FC;\n",
              "    }\n",
              "\n",
              "    [theme=dark] .colab-df-convert:hover {\n",
              "      background-color: #434B5C;\n",
              "      box-shadow: 0px 1px 3px 1px rgba(0, 0, 0, 0.15);\n",
              "      filter: drop-shadow(0px 1px 2px rgba(0, 0, 0, 0.3));\n",
              "      fill: #FFFFFF;\n",
              "    }\n",
              "  </style>\n",
              "\n",
              "      <script>\n",
              "        const buttonEl =\n",
              "          document.querySelector('#df-5b1d259d-1582-4bbb-a0aa-408a5d29f645 button.colab-df-convert');\n",
              "        buttonEl.style.display =\n",
              "          google.colab.kernel.accessAllowed ? 'block' : 'none';\n",
              "\n",
              "        async function convertToInteractive(key) {\n",
              "          const element = document.querySelector('#df-5b1d259d-1582-4bbb-a0aa-408a5d29f645');\n",
              "          const dataTable =\n",
              "            await google.colab.kernel.invokeFunction('convertToInteractive',\n",
              "                                                     [key], {});\n",
              "          if (!dataTable) return;\n",
              "\n",
              "          const docLinkHtml = 'Like what you see? Visit the ' +\n",
              "            '<a target=\"_blank\" href=https://colab.research.google.com/notebooks/data_table.ipynb>data table notebook</a>'\n",
              "            + ' to learn more about interactive tables.';\n",
              "          element.innerHTML = '';\n",
              "          dataTable['output_type'] = 'display_data';\n",
              "          await google.colab.output.renderOutput(dataTable, element);\n",
              "          const docLink = document.createElement('div');\n",
              "          docLink.innerHTML = docLinkHtml;\n",
              "          element.appendChild(docLink);\n",
              "        }\n",
              "      </script>\n",
              "    </div>\n",
              "  </div>\n",
              "  "
            ]
          },
          "metadata": {},
          "execution_count": 9
        }
      ],
      "source": [
        "tada_eta['distance'] = ( (tada_eta['pickup_lat']-tada_eta['driver_lat'])**2 + (tada_eta['pickup_lng']-tada_eta['driver_lng'])**2 )*100000\n",
        "tada_eta = tada_eta.drop(['id', 'created_at_kst', 'driver_id', 'pickup_lng', 'pickup_lat', 'driver_lng','driver_lat','pickup_gu'],1)\n",
        "tada_eta.head()"
      ]
    },
    {
      "cell_type": "code",
      "execution_count": 10,
      "metadata": {
        "colab": {
          "base_uri": "https://localhost:8080/"
        },
        "id": "BSS0yapTxHiB",
        "outputId": "22d55663-b43b-4b75-c078-98991b6c6c72"
      },
      "outputs": [
        {
          "output_type": "stream",
          "name": "stdout",
          "text": [
            "<class 'pandas.core.frame.DataFrame'>\n",
            "RangeIndex: 13916 entries, 0 to 13915\n",
            "Data columns (total 5 columns):\n",
            " #   Column    Non-Null Count  Dtype  \n",
            "---  ------    --------------  -----  \n",
            " 0   ATA       13916 non-null  float64\n",
            " 1   api_eta   13916 non-null  float64\n",
            " 2   month     13916 non-null  int64  \n",
            " 3   hour      13916 non-null  int64  \n",
            " 4   distance  13916 non-null  float64\n",
            "dtypes: float64(3), int64(2)\n",
            "memory usage: 543.7 KB\n"
          ]
        }
      ],
      "source": [
        "tada_eta.info()"
      ]
    },
    {
      "cell_type": "markdown",
      "metadata": {
        "id": "921F3PSGGNBr"
      },
      "source": [
        "### 상관계수"
      ]
    },
    {
      "cell_type": "code",
      "execution_count": 11,
      "metadata": {
        "colab": {
          "base_uri": "https://localhost:8080/",
          "height": 206
        },
        "id": "d3IVRSz8AHyc",
        "outputId": "384c1102-5e96-4a5b-8d00-7308a9354e1d"
      },
      "outputs": [
        {
          "output_type": "execute_result",
          "data": {
            "text/plain": [
              "               ATA   api_eta     month      hour  distance\n",
              "ATA       1.000000  0.699267 -0.084542  0.038504 -0.029074\n",
              "api_eta   0.699267  1.000000 -0.129561  0.050434 -0.023683\n",
              "month    -0.084542 -0.129561  1.000000  0.017370  0.006704\n",
              "hour      0.038504  0.050434  0.017370  1.000000 -0.005650\n",
              "distance -0.029074 -0.023683  0.006704 -0.005650  1.000000"
            ],
            "text/html": [
              "\n",
              "  <div id=\"df-94251e2a-1ae4-4549-b0cb-cfbd820d927d\">\n",
              "    <div class=\"colab-df-container\">\n",
              "      <div>\n",
              "<style scoped>\n",
              "    .dataframe tbody tr th:only-of-type {\n",
              "        vertical-align: middle;\n",
              "    }\n",
              "\n",
              "    .dataframe tbody tr th {\n",
              "        vertical-align: top;\n",
              "    }\n",
              "\n",
              "    .dataframe thead th {\n",
              "        text-align: right;\n",
              "    }\n",
              "</style>\n",
              "<table border=\"1\" class=\"dataframe\">\n",
              "  <thead>\n",
              "    <tr style=\"text-align: right;\">\n",
              "      <th></th>\n",
              "      <th>ATA</th>\n",
              "      <th>api_eta</th>\n",
              "      <th>month</th>\n",
              "      <th>hour</th>\n",
              "      <th>distance</th>\n",
              "    </tr>\n",
              "  </thead>\n",
              "  <tbody>\n",
              "    <tr>\n",
              "      <th>ATA</th>\n",
              "      <td>1.000000</td>\n",
              "      <td>0.699267</td>\n",
              "      <td>-0.084542</td>\n",
              "      <td>0.038504</td>\n",
              "      <td>-0.029074</td>\n",
              "    </tr>\n",
              "    <tr>\n",
              "      <th>api_eta</th>\n",
              "      <td>0.699267</td>\n",
              "      <td>1.000000</td>\n",
              "      <td>-0.129561</td>\n",
              "      <td>0.050434</td>\n",
              "      <td>-0.023683</td>\n",
              "    </tr>\n",
              "    <tr>\n",
              "      <th>month</th>\n",
              "      <td>-0.084542</td>\n",
              "      <td>-0.129561</td>\n",
              "      <td>1.000000</td>\n",
              "      <td>0.017370</td>\n",
              "      <td>0.006704</td>\n",
              "    </tr>\n",
              "    <tr>\n",
              "      <th>hour</th>\n",
              "      <td>0.038504</td>\n",
              "      <td>0.050434</td>\n",
              "      <td>0.017370</td>\n",
              "      <td>1.000000</td>\n",
              "      <td>-0.005650</td>\n",
              "    </tr>\n",
              "    <tr>\n",
              "      <th>distance</th>\n",
              "      <td>-0.029074</td>\n",
              "      <td>-0.023683</td>\n",
              "      <td>0.006704</td>\n",
              "      <td>-0.005650</td>\n",
              "      <td>1.000000</td>\n",
              "    </tr>\n",
              "  </tbody>\n",
              "</table>\n",
              "</div>\n",
              "      <button class=\"colab-df-convert\" onclick=\"convertToInteractive('df-94251e2a-1ae4-4549-b0cb-cfbd820d927d')\"\n",
              "              title=\"Convert this dataframe to an interactive table.\"\n",
              "              style=\"display:none;\">\n",
              "        \n",
              "  <svg xmlns=\"http://www.w3.org/2000/svg\" height=\"24px\"viewBox=\"0 0 24 24\"\n",
              "       width=\"24px\">\n",
              "    <path d=\"M0 0h24v24H0V0z\" fill=\"none\"/>\n",
              "    <path d=\"M18.56 5.44l.94 2.06.94-2.06 2.06-.94-2.06-.94-.94-2.06-.94 2.06-2.06.94zm-11 1L8.5 8.5l.94-2.06 2.06-.94-2.06-.94L8.5 2.5l-.94 2.06-2.06.94zm10 10l.94 2.06.94-2.06 2.06-.94-2.06-.94-.94-2.06-.94 2.06-2.06.94z\"/><path d=\"M17.41 7.96l-1.37-1.37c-.4-.4-.92-.59-1.43-.59-.52 0-1.04.2-1.43.59L10.3 9.45l-7.72 7.72c-.78.78-.78 2.05 0 2.83L4 21.41c.39.39.9.59 1.41.59.51 0 1.02-.2 1.41-.59l7.78-7.78 2.81-2.81c.8-.78.8-2.07 0-2.86zM5.41 20L4 18.59l7.72-7.72 1.47 1.35L5.41 20z\"/>\n",
              "  </svg>\n",
              "      </button>\n",
              "      \n",
              "  <style>\n",
              "    .colab-df-container {\n",
              "      display:flex;\n",
              "      flex-wrap:wrap;\n",
              "      gap: 12px;\n",
              "    }\n",
              "\n",
              "    .colab-df-convert {\n",
              "      background-color: #E8F0FE;\n",
              "      border: none;\n",
              "      border-radius: 50%;\n",
              "      cursor: pointer;\n",
              "      display: none;\n",
              "      fill: #1967D2;\n",
              "      height: 32px;\n",
              "      padding: 0 0 0 0;\n",
              "      width: 32px;\n",
              "    }\n",
              "\n",
              "    .colab-df-convert:hover {\n",
              "      background-color: #E2EBFA;\n",
              "      box-shadow: 0px 1px 2px rgba(60, 64, 67, 0.3), 0px 1px 3px 1px rgba(60, 64, 67, 0.15);\n",
              "      fill: #174EA6;\n",
              "    }\n",
              "\n",
              "    [theme=dark] .colab-df-convert {\n",
              "      background-color: #3B4455;\n",
              "      fill: #D2E3FC;\n",
              "    }\n",
              "\n",
              "    [theme=dark] .colab-df-convert:hover {\n",
              "      background-color: #434B5C;\n",
              "      box-shadow: 0px 1px 3px 1px rgba(0, 0, 0, 0.15);\n",
              "      filter: drop-shadow(0px 1px 2px rgba(0, 0, 0, 0.3));\n",
              "      fill: #FFFFFF;\n",
              "    }\n",
              "  </style>\n",
              "\n",
              "      <script>\n",
              "        const buttonEl =\n",
              "          document.querySelector('#df-94251e2a-1ae4-4549-b0cb-cfbd820d927d button.colab-df-convert');\n",
              "        buttonEl.style.display =\n",
              "          google.colab.kernel.accessAllowed ? 'block' : 'none';\n",
              "\n",
              "        async function convertToInteractive(key) {\n",
              "          const element = document.querySelector('#df-94251e2a-1ae4-4549-b0cb-cfbd820d927d');\n",
              "          const dataTable =\n",
              "            await google.colab.kernel.invokeFunction('convertToInteractive',\n",
              "                                                     [key], {});\n",
              "          if (!dataTable) return;\n",
              "\n",
              "          const docLinkHtml = 'Like what you see? Visit the ' +\n",
              "            '<a target=\"_blank\" href=https://colab.research.google.com/notebooks/data_table.ipynb>data table notebook</a>'\n",
              "            + ' to learn more about interactive tables.';\n",
              "          element.innerHTML = '';\n",
              "          dataTable['output_type'] = 'display_data';\n",
              "          await google.colab.output.renderOutput(dataTable, element);\n",
              "          const docLink = document.createElement('div');\n",
              "          docLink.innerHTML = docLinkHtml;\n",
              "          element.appendChild(docLink);\n",
              "        }\n",
              "      </script>\n",
              "    </div>\n",
              "  </div>\n",
              "  "
            ]
          },
          "metadata": {},
          "execution_count": 11
        }
      ],
      "source": [
        "tada_eta.corr()"
      ]
    },
    {
      "cell_type": "markdown",
      "metadata": {
        "id": "gC5U2-dUGPWf"
      },
      "source": [
        "### 이상치 확인"
      ]
    },
    {
      "cell_type": "code",
      "execution_count": 12,
      "metadata": {
        "colab": {
          "base_uri": "https://localhost:8080/",
          "height": 300
        },
        "id": "gGy7JYKkAgVM",
        "outputId": "667f00b8-9b9b-45f6-9a1f-91aec7818ca8"
      },
      "outputs": [
        {
          "output_type": "execute_result",
          "data": {
            "text/plain": [
              "                ATA       api_eta         month          hour      distance\n",
              "count  13916.000000  13916.000000  13916.000000  13916.000000  1.391600e+04\n",
              "mean       8.386438      6.172346     10.146019     13.278672  6.300930e+05\n",
              "std        4.094109      3.151074      2.415177      6.971578  3.323532e+07\n",
              "min        0.430000      0.000000      7.000000      0.000000  0.000000e+00\n",
              "25%        5.470000      3.800000      7.000000      8.000000  3.122371e+00\n",
              "50%        7.780000      5.950000     12.000000     14.000000  1.112458e+01\n",
              "75%       10.520000      8.180000     12.000000     19.000000  3.069393e+01\n",
              "max       44.780000     25.280000     12.000000     23.000000  1.754298e+09"
            ],
            "text/html": [
              "\n",
              "  <div id=\"df-de1e8543-7207-44ae-8c7b-8196f69a2250\">\n",
              "    <div class=\"colab-df-container\">\n",
              "      <div>\n",
              "<style scoped>\n",
              "    .dataframe tbody tr th:only-of-type {\n",
              "        vertical-align: middle;\n",
              "    }\n",
              "\n",
              "    .dataframe tbody tr th {\n",
              "        vertical-align: top;\n",
              "    }\n",
              "\n",
              "    .dataframe thead th {\n",
              "        text-align: right;\n",
              "    }\n",
              "</style>\n",
              "<table border=\"1\" class=\"dataframe\">\n",
              "  <thead>\n",
              "    <tr style=\"text-align: right;\">\n",
              "      <th></th>\n",
              "      <th>ATA</th>\n",
              "      <th>api_eta</th>\n",
              "      <th>month</th>\n",
              "      <th>hour</th>\n",
              "      <th>distance</th>\n",
              "    </tr>\n",
              "  </thead>\n",
              "  <tbody>\n",
              "    <tr>\n",
              "      <th>count</th>\n",
              "      <td>13916.000000</td>\n",
              "      <td>13916.000000</td>\n",
              "      <td>13916.000000</td>\n",
              "      <td>13916.000000</td>\n",
              "      <td>1.391600e+04</td>\n",
              "    </tr>\n",
              "    <tr>\n",
              "      <th>mean</th>\n",
              "      <td>8.386438</td>\n",
              "      <td>6.172346</td>\n",
              "      <td>10.146019</td>\n",
              "      <td>13.278672</td>\n",
              "      <td>6.300930e+05</td>\n",
              "    </tr>\n",
              "    <tr>\n",
              "      <th>std</th>\n",
              "      <td>4.094109</td>\n",
              "      <td>3.151074</td>\n",
              "      <td>2.415177</td>\n",
              "      <td>6.971578</td>\n",
              "      <td>3.323532e+07</td>\n",
              "    </tr>\n",
              "    <tr>\n",
              "      <th>min</th>\n",
              "      <td>0.430000</td>\n",
              "      <td>0.000000</td>\n",
              "      <td>7.000000</td>\n",
              "      <td>0.000000</td>\n",
              "      <td>0.000000e+00</td>\n",
              "    </tr>\n",
              "    <tr>\n",
              "      <th>25%</th>\n",
              "      <td>5.470000</td>\n",
              "      <td>3.800000</td>\n",
              "      <td>7.000000</td>\n",
              "      <td>8.000000</td>\n",
              "      <td>3.122371e+00</td>\n",
              "    </tr>\n",
              "    <tr>\n",
              "      <th>50%</th>\n",
              "      <td>7.780000</td>\n",
              "      <td>5.950000</td>\n",
              "      <td>12.000000</td>\n",
              "      <td>14.000000</td>\n",
              "      <td>1.112458e+01</td>\n",
              "    </tr>\n",
              "    <tr>\n",
              "      <th>75%</th>\n",
              "      <td>10.520000</td>\n",
              "      <td>8.180000</td>\n",
              "      <td>12.000000</td>\n",
              "      <td>19.000000</td>\n",
              "      <td>3.069393e+01</td>\n",
              "    </tr>\n",
              "    <tr>\n",
              "      <th>max</th>\n",
              "      <td>44.780000</td>\n",
              "      <td>25.280000</td>\n",
              "      <td>12.000000</td>\n",
              "      <td>23.000000</td>\n",
              "      <td>1.754298e+09</td>\n",
              "    </tr>\n",
              "  </tbody>\n",
              "</table>\n",
              "</div>\n",
              "      <button class=\"colab-df-convert\" onclick=\"convertToInteractive('df-de1e8543-7207-44ae-8c7b-8196f69a2250')\"\n",
              "              title=\"Convert this dataframe to an interactive table.\"\n",
              "              style=\"display:none;\">\n",
              "        \n",
              "  <svg xmlns=\"http://www.w3.org/2000/svg\" height=\"24px\"viewBox=\"0 0 24 24\"\n",
              "       width=\"24px\">\n",
              "    <path d=\"M0 0h24v24H0V0z\" fill=\"none\"/>\n",
              "    <path d=\"M18.56 5.44l.94 2.06.94-2.06 2.06-.94-2.06-.94-.94-2.06-.94 2.06-2.06.94zm-11 1L8.5 8.5l.94-2.06 2.06-.94-2.06-.94L8.5 2.5l-.94 2.06-2.06.94zm10 10l.94 2.06.94-2.06 2.06-.94-2.06-.94-.94-2.06-.94 2.06-2.06.94z\"/><path d=\"M17.41 7.96l-1.37-1.37c-.4-.4-.92-.59-1.43-.59-.52 0-1.04.2-1.43.59L10.3 9.45l-7.72 7.72c-.78.78-.78 2.05 0 2.83L4 21.41c.39.39.9.59 1.41.59.51 0 1.02-.2 1.41-.59l7.78-7.78 2.81-2.81c.8-.78.8-2.07 0-2.86zM5.41 20L4 18.59l7.72-7.72 1.47 1.35L5.41 20z\"/>\n",
              "  </svg>\n",
              "      </button>\n",
              "      \n",
              "  <style>\n",
              "    .colab-df-container {\n",
              "      display:flex;\n",
              "      flex-wrap:wrap;\n",
              "      gap: 12px;\n",
              "    }\n",
              "\n",
              "    .colab-df-convert {\n",
              "      background-color: #E8F0FE;\n",
              "      border: none;\n",
              "      border-radius: 50%;\n",
              "      cursor: pointer;\n",
              "      display: none;\n",
              "      fill: #1967D2;\n",
              "      height: 32px;\n",
              "      padding: 0 0 0 0;\n",
              "      width: 32px;\n",
              "    }\n",
              "\n",
              "    .colab-df-convert:hover {\n",
              "      background-color: #E2EBFA;\n",
              "      box-shadow: 0px 1px 2px rgba(60, 64, 67, 0.3), 0px 1px 3px 1px rgba(60, 64, 67, 0.15);\n",
              "      fill: #174EA6;\n",
              "    }\n",
              "\n",
              "    [theme=dark] .colab-df-convert {\n",
              "      background-color: #3B4455;\n",
              "      fill: #D2E3FC;\n",
              "    }\n",
              "\n",
              "    [theme=dark] .colab-df-convert:hover {\n",
              "      background-color: #434B5C;\n",
              "      box-shadow: 0px 1px 3px 1px rgba(0, 0, 0, 0.15);\n",
              "      filter: drop-shadow(0px 1px 2px rgba(0, 0, 0, 0.3));\n",
              "      fill: #FFFFFF;\n",
              "    }\n",
              "  </style>\n",
              "\n",
              "      <script>\n",
              "        const buttonEl =\n",
              "          document.querySelector('#df-de1e8543-7207-44ae-8c7b-8196f69a2250 button.colab-df-convert');\n",
              "        buttonEl.style.display =\n",
              "          google.colab.kernel.accessAllowed ? 'block' : 'none';\n",
              "\n",
              "        async function convertToInteractive(key) {\n",
              "          const element = document.querySelector('#df-de1e8543-7207-44ae-8c7b-8196f69a2250');\n",
              "          const dataTable =\n",
              "            await google.colab.kernel.invokeFunction('convertToInteractive',\n",
              "                                                     [key], {});\n",
              "          if (!dataTable) return;\n",
              "\n",
              "          const docLinkHtml = 'Like what you see? Visit the ' +\n",
              "            '<a target=\"_blank\" href=https://colab.research.google.com/notebooks/data_table.ipynb>data table notebook</a>'\n",
              "            + ' to learn more about interactive tables.';\n",
              "          element.innerHTML = '';\n",
              "          dataTable['output_type'] = 'display_data';\n",
              "          await google.colab.output.renderOutput(dataTable, element);\n",
              "          const docLink = document.createElement('div');\n",
              "          docLink.innerHTML = docLinkHtml;\n",
              "          element.appendChild(docLink);\n",
              "        }\n",
              "      </script>\n",
              "    </div>\n",
              "  </div>\n",
              "  "
            ]
          },
          "metadata": {},
          "execution_count": 12
        }
      ],
      "source": [
        "tada_eta.describe()"
      ]
    },
    {
      "cell_type": "code",
      "execution_count": 13,
      "metadata": {
        "colab": {
          "base_uri": "https://localhost:8080/"
        },
        "id": "TSLKu3vZA3LP",
        "outputId": "684c47b1-f340-41eb-afed-8065c0a85d49"
      },
      "outputs": [
        {
          "output_type": "execute_result",
          "data": {
            "text/plain": [
              "1754297836.8400323"
            ]
          },
          "metadata": {},
          "execution_count": 13
        }
      ],
      "source": [
        "tada_eta['distance'].max()"
      ]
    },
    {
      "cell_type": "code",
      "execution_count": 14,
      "metadata": {
        "colab": {
          "base_uri": "https://localhost:8080/"
        },
        "id": "5sbwhX6-BBDZ",
        "outputId": "aec8dd62-f509-4337-e5cc-cf62f4c58b1f"
      },
      "outputs": [
        {
          "output_type": "execute_result",
          "data": {
            "text/plain": [
              "0.0"
            ]
          },
          "metadata": {},
          "execution_count": 14
        }
      ],
      "source": [
        "tada_eta['distance'].min()"
      ]
    },
    {
      "cell_type": "code",
      "execution_count": 15,
      "metadata": {
        "colab": {
          "base_uri": "https://localhost:8080/"
        },
        "id": "slNEokoYBFvz",
        "outputId": "66ce9f50-ac42-4b09-de64-a6c3dad965b0"
      },
      "outputs": [
        {
          "output_type": "execute_result",
          "data": {
            "text/plain": [
              "ATA         8\n",
              "api_eta     8\n",
              "month       8\n",
              "hour        8\n",
              "distance    8\n",
              "dtype: int64"
            ]
          },
          "metadata": {},
          "execution_count": 15
        }
      ],
      "source": [
        "tada_eta[tada_eta['distance'] > 400].count()"
      ]
    },
    {
      "cell_type": "code",
      "execution_count": 16,
      "metadata": {
        "colab": {
          "base_uri": "https://localhost:8080/",
          "height": 278
        },
        "id": "ZQOeVz0kARin",
        "outputId": "9de7faac-6dff-4e36-d327-9a9ade3f2e5b"
      },
      "outputs": [
        {
          "output_type": "display_data",
          "data": {
            "text/plain": [
              "<Figure size 432x288 with 1 Axes>"
            ],
            "image/png": "[encoded data removed]"
          },
          "metadata": {
            "needs_background": "light"
          }
        }
      ],
      "source": [
        "plt.hist(tada_eta['distance']);"
      ]
    },
    {
      "cell_type": "code",
      "execution_count": 17,
      "metadata": {
        "colab": {
          "base_uri": "https://localhost:8080/",
          "height": 265
        },
        "id": "Zko6Ame9IMHb",
        "outputId": "bbb960db-362a-4d4e-9031-5581049dcfc6"
      },
      "outputs": [
        {
          "output_type": "display_data",
          "data": {
            "text/plain": [
              "<Figure size 432x288 with 1 Axes>"
            ],
            "image/png": "[encoded data removed]"
          },
          "metadata": {
            "needs_background": "light"
          }
        }
      ],
      "source": [
        "plt.hist(tada_eta['hour']);"
      ]
    },
    {
      "cell_type": "code",
      "execution_count": 18,
      "metadata": {
        "colab": {
          "base_uri": "https://localhost:8080/",
          "height": 265
        },
        "id": "e3my4svnIOj8",
        "outputId": "3832a566-e72b-4923-c6da-ae2a484e91c4"
      },
      "outputs": [
        {
          "output_type": "display_data",
          "data": {
            "text/plain": [
              "<Figure size 432x288 with 1 Axes>"
            ],
            "image/png": "[encoded data removed]"
          },
          "metadata": {
            "needs_background": "light"
          }
        }
      ],
      "source": [
        "plt.hist(tada_eta['month']);"
      ]
    },
    {
      "cell_type": "code",
      "execution_count": 19,
      "metadata": {
        "colab": {
          "base_uri": "https://localhost:8080/"
        },
        "id": "JoOdHRKvFj96",
        "outputId": "a05891b7-3b1c-4423-a807-9356a035af2d"
      },
      "outputs": [
        {
          "output_type": "stream",
          "name": "stdout",
          "text": [
            "<class 'pandas.core.frame.DataFrame'>\n",
            "Int64Index: 13908 entries, 0 to 13915\n",
            "Data columns (total 5 columns):\n",
            " #   Column    Non-Null Count  Dtype  \n",
            "---  ------    --------------  -----  \n",
            " 0   ATA       13908 non-null  float64\n",
            " 1   api_eta   13908 non-null  float64\n",
            " 2   month     13908 non-null  int64  \n",
            " 3   hour      13908 non-null  int64  \n",
            " 4   distance  13908 non-null  float64\n",
            "dtypes: float64(3), int64(2)\n",
            "memory usage: 651.9 KB\n"
          ]
        }
      ],
      "source": [
        "tada_eta = tada_eta[tada_eta['distance'] <= 400]\n",
        "tada_eta.info()"
      ]
    },
    {
      "cell_type": "markdown",
      "metadata": {
        "id": "-3mEUrP8GVdR"
      },
      "source": [
        "## train test split"
      ]
    },
    {
      "cell_type": "code",
      "source": [
        "tada_eta = tada_eta.sample(frac=1, random_state=0).reset_index(drop=True)\n",
        "train = tada_eta[:12000]\n",
        "test = tada_eta[12000:]\n",
        "x_train = train.drop('ATA', 1)\n",
        "y_train = train['ATA']\n",
        "x_test = test.drop('ATA', 1)\n",
        "y_test = test['ATA']\n",
        "x_train.shape, y_train.shape, x_test.shape, y_test.shape"
      ],
      "metadata": {
        "colab": {
          "base_uri": "https://localhost:8080/"
        },
        "id": "6BFIntiaLe2G",
        "outputId": "a10e1d9f-9487-4d25-f4e2-14919dd44069"
      },
      "execution_count": 20,
      "outputs": [
        {
          "output_type": "stream",
          "name": "stderr",
          "text": [
            "/usr/local/lib/python3.7/dist-packages/ipykernel_launcher.py:4: FutureWarning: In a future version of pandas all arguments of DataFrame.drop except for the argument 'labels' will be keyword-only\n",
            "  after removing the cwd from sys.path.\n",
            "/usr/local/lib/python3.7/dist-packages/ipykernel_launcher.py:6: FutureWarning: In a future version of pandas all arguments of DataFrame.drop except for the argument 'labels' will be keyword-only\n",
            "  \n"
          ]
        },
        {
          "output_type": "execute_result",
          "data": {
            "text/plain": [
              "((12000, 4), (12000,), (1908, 4), (1908,))"
            ]
          },
          "metadata": {},
          "execution_count": 20
        }
      ]
    },
    {
      "cell_type": "code",
      "source": [
        "X = tada_eta.drop('ATA', 1)\n",
        "Y = tada_eta['ATA']"
      ],
      "metadata": {
        "colab": {
          "base_uri": "https://localhost:8080/"
        },
        "id": "OJeZbqr74d-Z",
        "outputId": "d5d569e4-fccc-4623-f2a9-4cb5f863069f"
      },
      "execution_count": 22,
      "outputs": [
        {
          "output_type": "stream",
          "name": "stderr",
          "text": [
            "/usr/local/lib/python3.7/dist-packages/ipykernel_launcher.py:1: FutureWarning: In a future version of pandas all arguments of DataFrame.drop except for the argument 'labels' will be keyword-only\n",
            "  \"\"\"Entry point for launching an IPython kernel.\n"
          ]
        }
      ]
    },
    {
      "cell_type": "code",
      "source": [
        "X_train, X_test, Y_train, Y_test = train_test_split(X, Y, random_state=0, shuffle=True, train_size=12000)\n",
        "X_train.shape, X_test.shape, Y_train.shape, Y_test.shape"
      ],
      "metadata": {
        "colab": {
          "base_uri": "https://localhost:8080/"
        },
        "id": "puZVTYIR4uTf",
        "outputId": "fc881fdf-95c9-4d78-8496-472e11f0896b"
      },
      "execution_count": 23,
      "outputs": [
        {
          "output_type": "execute_result",
          "data": {
            "text/plain": [
              "((12000, 4), (1908, 4), (12000,), (1908,))"
            ]
          },
          "metadata": {},
          "execution_count": 23
        }
      ]
    },
    {
      "cell_type": "markdown",
      "metadata": {
        "id": "u7dd6SHC1qqE"
      },
      "source": [
        "## Random Forest"
      ]
    },
    {
      "cell_type": "markdown",
      "metadata": {
        "id": "1RtehDgZaNOR"
      },
      "source": [
        "### 최적 max depth 찾기"
      ]
    },
    {
      "cell_type": "code",
      "execution_count": 21,
      "metadata": {
        "colab": {
          "base_uri": "https://localhost:8080/"
        },
        "id": "W0Pckr8KTEDD",
        "outputId": "b74b19bc-57a9-44fb-c2f9-3dd09f327ad9"
      },
      "outputs": [
        {
          "output_type": "stream",
          "name": "stdout",
          "text": [
            "RandomForest depth : 1\n",
            "The mean squared error (MSE) on test set: 11.3019\n",
            "The initial error of API ETA on test set: 14.5811\n",
            "The mean absolute error (MAE) on test set: 2.4235\n",
            "The initial error of API ETA on test set: 2.6952\n",
            "RandomForest depth : 2\n",
            "The mean squared error (MSE) on test set: 9.7517\n",
            "The initial error of API ETA on test set: 14.5811\n",
            "The mean absolute error (MAE) on test set: 2.1985\n",
            "The initial error of API ETA on test set: 2.6952\n",
            "RandomForest depth : 3\n",
            "The mean squared error (MSE) on test set: 9.5234\n",
            "The initial error of API ETA on test set: 14.5811\n",
            "The mean absolute error (MAE) on test set: 2.1612\n",
            "The initial error of API ETA on test set: 2.6952\n",
            "RandomForest depth : 4\n",
            "The mean squared error (MSE) on test set: 9.3330\n",
            "The initial error of API ETA on test set: 14.5811\n",
            "The mean absolute error (MAE) on test set: 2.1360\n",
            "The initial error of API ETA on test set: 2.6952\n",
            "RandomForest depth : 5\n",
            "The mean squared error (MSE) on test set: 9.1981\n",
            "The initial error of API ETA on test set: 14.5811\n",
            "The mean absolute error (MAE) on test set: 2.1163\n",
            "The initial error of API ETA on test set: 2.6952\n",
            "RandomForest depth : 6\n",
            "The mean squared error (MSE) on test set: 9.1094\n",
            "The initial error of API ETA on test set: 14.5811\n",
            "The mean absolute error (MAE) on test set: 2.1052\n",
            "The initial error of API ETA on test set: 2.6952\n",
            "RandomForest depth : 7\n",
            "The mean squared error (MSE) on test set: 9.0991\n",
            "The initial error of API ETA on test set: 14.5811\n",
            "The mean absolute error (MAE) on test set: 2.1054\n",
            "The initial error of API ETA on test set: 2.6952\n",
            "RandomForest depth : 8\n",
            "The mean squared error (MSE) on test set: 9.1346\n",
            "The initial error of API ETA on test set: 14.5811\n",
            "The mean absolute error (MAE) on test set: 2.1118\n",
            "The initial error of API ETA on test set: 2.6952\n",
            "RandomForest depth : 9\n",
            "The mean squared error (MSE) on test set: 9.1937\n",
            "The initial error of API ETA on test set: 14.5811\n",
            "The mean absolute error (MAE) on test set: 2.1203\n",
            "The initial error of API ETA on test set: 2.6952\n"
          ]
        }
      ],
      "source": [
        "mse_list = []\n",
        "mse_api_list = []\n",
        "mae_list = []\n",
        "mae_api_list = []\n",
        "for depth in range(1, 10):\n",
        "  rf = RandomForestRegressor(max_depth=depth, random_state=0)\n",
        "  rf.fit(x_train, y_train)\n",
        "  pred = rf.predict(x_test)\n",
        "  api_eta = x_test.iloc[:, 0]\n",
        "  mse = mean_squared_error(y_test, pred)\n",
        "  mse_api = mean_squared_error(y_test, api_eta)\n",
        "  mse_list.append(mse)\n",
        "  mse_api_list.append(mse_api)\n",
        "  print(f'RandomForest depth : {depth}')\n",
        "  print( \"The mean squared error (MSE) on test set: {:.4f}\".format(mse) )\n",
        "  print( \"The initial error of API ETA on test set: {:.4f}\".format(mse_api) )\n",
        "  mae = mean_absolute_error(y_test, pred)\n",
        "  mae_api = mean_absolute_error(y_test, api_eta)\n",
        "  mae_list.append(mae)\n",
        "  mae_api_list.append(mae_api)\n",
        "  print( \"The mean absolute error (MAE) on test set: {:.4f}\".format(mae) )\n",
        "  print( \"The initial error of API ETA on test set: {:.4f}\".format(mae_api) )"
      ]
    },
    {
      "cell_type": "code",
      "source": [
        "mse_list = []\n",
        "mse_api_list = []\n",
        "mae_list = []\n",
        "mae_api_list = []\n",
        "for depth in range(1, 10):\n",
        "  rf = RandomForestRegressor(max_depth=depth, random_state=0)\n",
        "  rf.fit(X_train, Y_train)\n",
        "  pred = rf.predict(X_test)\n",
        "  api_eta = X_test.iloc[:, 0]\n",
        "  mse = mean_squared_error(Y_test, pred)\n",
        "  mse_api = mean_squared_error(Y_test, api_eta)\n",
        "  mse_list.append(mse)\n",
        "  mse_api_list.append(mse_api)\n",
        "  print(f'RandomForest depth : {depth}')\n",
        "  print( \"The mean squared error (MSE) on test set: {:.4f}\".format(mse) )\n",
        "  print( \"The initial error of API ETA on test set: {:.4f}\".format(mse_api) )\n",
        "  mae = mean_absolute_error(Y_test, pred)\n",
        "  mae_api = mean_absolute_error(Y_test, api_eta)\n",
        "  mae_list.append(mae)\n",
        "  mae_api_list.append(mae_api)\n",
        "  print( \"The mean absolute error (MAE) on test set: {:.4f}\".format(mae) )\n",
        "  print( \"The initial error of API ETA on test set: {:.4f}\".format(mae_api) )"
      ],
      "metadata": {
        "colab": {
          "base_uri": "https://localhost:8080/"
        },
        "id": "M6woMRlwMQY-",
        "outputId": "20e537f8-6ab8-4426-c074-7e1e75cc3075"
      },
      "execution_count": 24,
      "outputs": [
        {
          "output_type": "stream",
          "name": "stdout",
          "text": [
            "RandomForest depth : 1\n",
            "The mean squared error (MSE) on test set: 9.7638\n",
            "The initial error of API ETA on test set: 12.5065\n",
            "The mean absolute error (MAE) on test set: 2.3808\n",
            "The initial error of API ETA on test set: 2.6242\n",
            "RandomForest depth : 2\n",
            "The mean squared error (MSE) on test set: 8.0877\n",
            "The initial error of API ETA on test set: 12.5065\n",
            "The mean absolute error (MAE) on test set: 2.1526\n",
            "The initial error of API ETA on test set: 2.6242\n",
            "RandomForest depth : 3\n",
            "The mean squared error (MSE) on test set: 7.5484\n",
            "The initial error of API ETA on test set: 12.5065\n",
            "The mean absolute error (MAE) on test set: 2.0805\n",
            "The initial error of API ETA on test set: 2.6242\n",
            "RandomForest depth : 4\n",
            "The mean squared error (MSE) on test set: 7.4185\n",
            "The initial error of API ETA on test set: 12.5065\n",
            "The mean absolute error (MAE) on test set: 2.0595\n",
            "The initial error of API ETA on test set: 2.6242\n",
            "RandomForest depth : 5\n",
            "The mean squared error (MSE) on test set: 7.3020\n",
            "The initial error of API ETA on test set: 12.5065\n",
            "The mean absolute error (MAE) on test set: 2.0419\n",
            "The initial error of API ETA on test set: 2.6242\n",
            "RandomForest depth : 6\n",
            "The mean squared error (MSE) on test set: 7.2217\n",
            "The initial error of API ETA on test set: 12.5065\n",
            "The mean absolute error (MAE) on test set: 2.0256\n",
            "The initial error of API ETA on test set: 2.6242\n",
            "RandomForest depth : 7\n",
            "The mean squared error (MSE) on test set: 7.1847\n",
            "The initial error of API ETA on test set: 12.5065\n",
            "The mean absolute error (MAE) on test set: 2.0179\n",
            "The initial error of API ETA on test set: 2.6242\n",
            "RandomForest depth : 8\n",
            "The mean squared error (MSE) on test set: 7.1979\n",
            "The initial error of API ETA on test set: 12.5065\n",
            "The mean absolute error (MAE) on test set: 2.0198\n",
            "The initial error of API ETA on test set: 2.6242\n",
            "RandomForest depth : 9\n",
            "The mean squared error (MSE) on test set: 7.2556\n",
            "The initial error of API ETA on test set: 12.5065\n",
            "The mean absolute error (MAE) on test set: 2.0267\n",
            "The initial error of API ETA on test set: 2.6242\n"
          ]
        }
      ]
    },
    {
      "cell_type": "markdown",
      "metadata": {
        "id": "odPQ62T-3San"
      },
      "source": [
        "### 결과 df"
      ]
    },
    {
      "cell_type": "code",
      "execution_count": 25,
      "metadata": {
        "id": "fOJ23DLcVKvd"
      },
      "outputs": [],
      "source": [
        "dict = {'depth':list(range(1,10)), 'mse':mse_list, 'mse_api':mse_api_list, 'mae':mae_list, 'mae_api':mae_api_list}\n",
        "rf_df = pd.DataFrame(dict)"
      ]
    },
    {
      "cell_type": "code",
      "execution_count": 26,
      "metadata": {
        "colab": {
          "base_uri": "https://localhost:8080/",
          "height": 206
        },
        "id": "oj2jFT12Vk3L",
        "outputId": "0a725de1-129b-4bec-abf3-3affb82430c9"
      },
      "outputs": [
        {
          "output_type": "execute_result",
          "data": {
            "text/plain": [
              "   depth       mse    mse_api       mae   mae_api\n",
              "0      1  9.763765  12.506536  2.380834  2.624198\n",
              "1      2  8.087748  12.506536  2.152559  2.624198\n",
              "2      3  7.548424  12.506536  2.080541  2.624198\n",
              "3      4  7.418519  12.506536  2.059495  2.624198\n",
              "4      5  7.301957  12.506536  2.041878  2.624198"
            ],
            "text/html": [
              "\n",
              "  <div id=\"df-b34a6614-677c-45ef-97fc-1c141d549422\">\n",
              "    <div class=\"colab-df-container\">\n",
              "      <div>\n",
              "<style scoped>\n",
              "    .dataframe tbody tr th:only-of-type {\n",
              "        vertical-align: middle;\n",
              "    }\n",
              "\n",
              "    .dataframe tbody tr th {\n",
              "        vertical-align: top;\n",
              "    }\n",
              "\n",
              "    .dataframe thead th {\n",
              "        text-align: right;\n",
              "    }\n",
              "</style>\n",
              "<table border=\"1\" class=\"dataframe\">\n",
              "  <thead>\n",
              "    <tr style=\"text-align: right;\">\n",
              "      <th></th>\n",
              "      <th>depth</th>\n",
              "      <th>mse</th>\n",
              "      <th>mse_api</th>\n",
              "      <th>mae</th>\n",
              "      <th>mae_api</th>\n",
              "    </tr>\n",
              "  </thead>\n",
              "  <tbody>\n",
              "    <tr>\n",
              "      <th>0</th>\n",
              "      <td>1</td>\n",
              "      <td>9.763765</td>\n",
              "      <td>12.506536</td>\n",
              "      <td>2.380834</td>\n",
              "      <td>2.624198</td>\n",
              "    </tr>\n",
              "    <tr>\n",
              "      <th>1</th>\n",
              "      <td>2</td>\n",
              "      <td>8.087748</td>\n",
              "      <td>12.506536</td>\n",
              "      <td>2.152559</td>\n",
              "      <td>2.624198</td>\n",
              "    </tr>\n",
              "    <tr>\n",
              "      <th>2</th>\n",
              "      <td>3</td>\n",
              "      <td>7.548424</td>\n",
              "      <td>12.506536</td>\n",
              "      <td>2.080541</td>\n",
              "      <td>2.624198</td>\n",
              "    </tr>\n",
              "    <tr>\n",
              "      <th>3</th>\n",
              "      <td>4</td>\n",
              "      <td>7.418519</td>\n",
              "      <td>12.506536</td>\n",
              "      <td>2.059495</td>\n",
              "      <td>2.624198</td>\n",
              "    </tr>\n",
              "    <tr>\n",
              "      <th>4</th>\n",
              "      <td>5</td>\n",
              "      <td>7.301957</td>\n",
              "      <td>12.506536</td>\n",
              "      <td>2.041878</td>\n",
              "      <td>2.624198</td>\n",
              "    </tr>\n",
              "  </tbody>\n",
              "</table>\n",
              "</div>\n",
              "      <button class=\"colab-df-convert\" onclick=\"convertToInteractive('df-b34a6614-677c-45ef-97fc-1c141d549422')\"\n",
              "              title=\"Convert this dataframe to an interactive table.\"\n",
              "              style=\"display:none;\">\n",
              "        \n",
              "  <svg xmlns=\"http://www.w3.org/2000/svg\" height=\"24px\"viewBox=\"0 0 24 24\"\n",
              "       width=\"24px\">\n",
              "    <path d=\"M0 0h24v24H0V0z\" fill=\"none\"/>\n",
              "    <path d=\"M18.56 5.44l.94 2.06.94-2.06 2.06-.94-2.06-.94-.94-2.06-.94 2.06-2.06.94zm-11 1L8.5 8.5l.94-2.06 2.06-.94-2.06-.94L8.5 2.5l-.94 2.06-2.06.94zm10 10l.94 2.06.94-2.06 2.06-.94-2.06-.94-.94-2.06-.94 2.06-2.06.94z\"/><path d=\"M17.41 7.96l-1.37-1.37c-.4-.4-.92-.59-1.43-.59-.52 0-1.04.2-1.43.59L10.3 9.45l-7.72 7.72c-.78.78-.78 2.05 0 2.83L4 21.41c.39.39.9.59 1.41.59.51 0 1.02-.2 1.41-.59l7.78-7.78 2.81-2.81c.8-.78.8-2.07 0-2.86zM5.41 20L4 18.59l7.72-7.72 1.47 1.35L5.41 20z\"/>\n",
              "  </svg>\n",
              "      </button>\n",
              "      \n",
              "  <style>\n",
              "    .colab-df-container {\n",
              "      display:flex;\n",
              "      flex-wrap:wrap;\n",
              "      gap: 12px;\n",
              "    }\n",
              "\n",
              "    .colab-df-convert {\n",
              "      background-color: #E8F0FE;\n",
              "      border: none;\n",
              "      border-radius: 50%;\n",
              "      cursor: pointer;\n",
              "      display: none;\n",
              "      fill: #1967D2;\n",
              "      height: 32px;\n",
              "      padding: 0 0 0 0;\n",
              "      width: 32px;\n",
              "    }\n",
              "\n",
              "    .colab-df-convert:hover {\n",
              "      background-color: #E2EBFA;\n",
              "      box-shadow: 0px 1px 2px rgba(60, 64, 67, 0.3), 0px 1px 3px 1px rgba(60, 64, 67, 0.15);\n",
              "      fill: #174EA6;\n",
              "    }\n",
              "\n",
              "    [theme=dark] .colab-df-convert {\n",
              "      background-color: #3B4455;\n",
              "      fill: #D2E3FC;\n",
              "    }\n",
              "\n",
              "    [theme=dark] .colab-df-convert:hover {\n",
              "      background-color: #434B5C;\n",
              "      box-shadow: 0px 1px 3px 1px rgba(0, 0, 0, 0.15);\n",
              "      filter: drop-shadow(0px 1px 2px rgba(0, 0, 0, 0.3));\n",
              "      fill: #FFFFFF;\n",
              "    }\n",
              "  </style>\n",
              "\n",
              "      <script>\n",
              "        const buttonEl =\n",
              "          document.querySelector('#df-b34a6614-677c-45ef-97fc-1c141d549422 button.colab-df-convert');\n",
              "        buttonEl.style.display =\n",
              "          google.colab.kernel.accessAllowed ? 'block' : 'none';\n",
              "\n",
              "        async function convertToInteractive(key) {\n",
              "          const element = document.querySelector('#df-b34a6614-677c-45ef-97fc-1c141d549422');\n",
              "          const dataTable =\n",
              "            await google.colab.kernel.invokeFunction('convertToInteractive',\n",
              "                                                     [key], {});\n",
              "          if (!dataTable) return;\n",
              "\n",
              "          const docLinkHtml = 'Like what you see? Visit the ' +\n",
              "            '<a target=\"_blank\" href=https://colab.research.google.com/notebooks/data_table.ipynb>data table notebook</a>'\n",
              "            + ' to learn more about interactive tables.';\n",
              "          element.innerHTML = '';\n",
              "          dataTable['output_type'] = 'display_data';\n",
              "          await google.colab.output.renderOutput(dataTable, element);\n",
              "          const docLink = document.createElement('div');\n",
              "          docLink.innerHTML = docLinkHtml;\n",
              "          element.appendChild(docLink);\n",
              "        }\n",
              "      </script>\n",
              "    </div>\n",
              "  </div>\n",
              "  "
            ]
          },
          "metadata": {},
          "execution_count": 26
        }
      ],
      "source": [
        "rf_df.head()"
      ]
    },
    {
      "cell_type": "markdown",
      "metadata": {
        "id": "A1Neejuj3hhN"
      },
      "source": [
        "#### 최소 MSE 값"
      ]
    },
    {
      "cell_type": "code",
      "execution_count": 27,
      "metadata": {
        "colab": {
          "base_uri": "https://localhost:8080/",
          "height": 81
        },
        "id": "819tL_Na4WJ3",
        "outputId": "3c2dd845-1abb-4d34-db09-bca757f47810"
      },
      "outputs": [
        {
          "output_type": "execute_result",
          "data": {
            "text/plain": [
              "   depth       mse    mse_api       mae   mae_api\n",
              "6      7  7.184728  12.506536  2.017948  2.624198"
            ],
            "text/html": [
              "\n",
              "  <div id=\"df-6703f6dd-22bf-48c4-ae81-5f39d14af02e\">\n",
              "    <div class=\"colab-df-container\">\n",
              "      <div>\n",
              "<style scoped>\n",
              "    .dataframe tbody tr th:only-of-type {\n",
              "        vertical-align: middle;\n",
              "    }\n",
              "\n",
              "    .dataframe tbody tr th {\n",
              "        vertical-align: top;\n",
              "    }\n",
              "\n",
              "    .dataframe thead th {\n",
              "        text-align: right;\n",
              "    }\n",
              "</style>\n",
              "<table border=\"1\" class=\"dataframe\">\n",
              "  <thead>\n",
              "    <tr style=\"text-align: right;\">\n",
              "      <th></th>\n",
              "      <th>depth</th>\n",
              "      <th>mse</th>\n",
              "      <th>mse_api</th>\n",
              "      <th>mae</th>\n",
              "      <th>mae_api</th>\n",
              "    </tr>\n",
              "  </thead>\n",
              "  <tbody>\n",
              "    <tr>\n",
              "      <th>6</th>\n",
              "      <td>7</td>\n",
              "      <td>7.184728</td>\n",
              "      <td>12.506536</td>\n",
              "      <td>2.017948</td>\n",
              "      <td>2.624198</td>\n",
              "    </tr>\n",
              "  </tbody>\n",
              "</table>\n",
              "</div>\n",
              "      <button class=\"colab-df-convert\" onclick=\"convertToInteractive('df-6703f6dd-22bf-48c4-ae81-5f39d14af02e')\"\n",
              "              title=\"Convert this dataframe to an interactive table.\"\n",
              "              style=\"display:none;\">\n",
              "        \n",
              "  <svg xmlns=\"http://www.w3.org/2000/svg\" height=\"24px\"viewBox=\"0 0 24 24\"\n",
              "       width=\"24px\">\n",
              "    <path d=\"M0 0h24v24H0V0z\" fill=\"none\"/>\n",
              "    <path d=\"M18.56 5.44l.94 2.06.94-2.06 2.06-.94-2.06-.94-.94-2.06-.94 2.06-2.06.94zm-11 1L8.5 8.5l.94-2.06 2.06-.94-2.06-.94L8.5 2.5l-.94 2.06-2.06.94zm10 10l.94 2.06.94-2.06 2.06-.94-2.06-.94-.94-2.06-.94 2.06-2.06.94z\"/><path d=\"M17.41 7.96l-1.37-1.37c-.4-.4-.92-.59-1.43-.59-.52 0-1.04.2-1.43.59L10.3 9.45l-7.72 7.72c-.78.78-.78 2.05 0 2.83L4 21.41c.39.39.9.59 1.41.59.51 0 1.02-.2 1.41-.59l7.78-7.78 2.81-2.81c.8-.78.8-2.07 0-2.86zM5.41 20L4 18.59l7.72-7.72 1.47 1.35L5.41 20z\"/>\n",
              "  </svg>\n",
              "      </button>\n",
              "      \n",
              "  <style>\n",
              "    .colab-df-container {\n",
              "      display:flex;\n",
              "      flex-wrap:wrap;\n",
              "      gap: 12px;\n",
              "    }\n",
              "\n",
              "    .colab-df-convert {\n",
              "      background-color: #E8F0FE;\n",
              "      border: none;\n",
              "      border-radius: 50%;\n",
              "      cursor: pointer;\n",
              "      display: none;\n",
              "      fill: #1967D2;\n",
              "      height: 32px;\n",
              "      padding: 0 0 0 0;\n",
              "      width: 32px;\n",
              "    }\n",
              "\n",
              "    .colab-df-convert:hover {\n",
              "      background-color: #E2EBFA;\n",
              "      box-shadow: 0px 1px 2px rgba(60, 64, 67, 0.3), 0px 1px 3px 1px rgba(60, 64, 67, 0.15);\n",
              "      fill: #174EA6;\n",
              "    }\n",
              "\n",
              "    [theme=dark] .colab-df-convert {\n",
              "      background-color: #3B4455;\n",
              "      fill: #D2E3FC;\n",
              "    }\n",
              "\n",
              "    [theme=dark] .colab-df-convert:hover {\n",
              "      background-color: #434B5C;\n",
              "      box-shadow: 0px 1px 3px 1px rgba(0, 0, 0, 0.15);\n",
              "      filter: drop-shadow(0px 1px 2px rgba(0, 0, 0, 0.3));\n",
              "      fill: #FFFFFF;\n",
              "    }\n",
              "  </style>\n",
              "\n",
              "      <script>\n",
              "        const buttonEl =\n",
              "          document.querySelector('#df-6703f6dd-22bf-48c4-ae81-5f39d14af02e button.colab-df-convert');\n",
              "        buttonEl.style.display =\n",
              "          google.colab.kernel.accessAllowed ? 'block' : 'none';\n",
              "\n",
              "        async function convertToInteractive(key) {\n",
              "          const element = document.querySelector('#df-6703f6dd-22bf-48c4-ae81-5f39d14af02e');\n",
              "          const dataTable =\n",
              "            await google.colab.kernel.invokeFunction('convertToInteractive',\n",
              "                                                     [key], {});\n",
              "          if (!dataTable) return;\n",
              "\n",
              "          const docLinkHtml = 'Like what you see? Visit the ' +\n",
              "            '<a target=\"_blank\" href=https://colab.research.google.com/notebooks/data_table.ipynb>data table notebook</a>'\n",
              "            + ' to learn more about interactive tables.';\n",
              "          element.innerHTML = '';\n",
              "          dataTable['output_type'] = 'display_data';\n",
              "          await google.colab.output.renderOutput(dataTable, element);\n",
              "          const docLink = document.createElement('div');\n",
              "          docLink.innerHTML = docLinkHtml;\n",
              "          element.appendChild(docLink);\n",
              "        }\n",
              "      </script>\n",
              "    </div>\n",
              "  </div>\n",
              "  "
            ]
          },
          "metadata": {},
          "execution_count": 27
        }
      ],
      "source": [
        "rf_df[ rf_df['mse'] == rf_df['mse'].min() ]"
      ]
    },
    {
      "cell_type": "markdown",
      "metadata": {
        "id": "H-WNB9xB3W2r"
      },
      "source": [
        "#### 결과 시각화"
      ]
    },
    {
      "cell_type": "code",
      "execution_count": 28,
      "metadata": {
        "id": "MOH3S2dETcFC"
      },
      "outputs": [],
      "source": [
        "def vis(df, model, hyper):\n",
        "  plt.figure(figsize=(12,7))\n",
        "  plt.grid(True)\n",
        "  plt.plot(df[f'{hyper}'], df['mse'], 'o-', label='mse', linewidth=3)\n",
        "  plt.plot(df[f'{hyper}'], df['mse_api'], 'o-', label='mse_api', linewidth=3)\n",
        "  plt.plot(df[f'{hyper}'], df['mae'], ':', label='mae', linewidth=3)\n",
        "  plt.plot(df[f'{hyper}'], df['mae_api'], ':', label='mae_api', linewidth=3)\n",
        "\n",
        "  for i in range(df[f'{hyper}'].shape[0]):\n",
        "    num_mse = df['mse'][i]\n",
        "    num_mse_api = df['mse_api'][i]\n",
        "    num_mae = df['mae'][i]\n",
        "    num_mae_api = df['mae_api'][i]\n",
        "    plt.text(df[f'{hyper}'][i], df['mse'][i], '{:.3f}'.format(num_mse), verticalalignment='bottom', fontsize=12)\n",
        "    plt.text(df[f'{hyper}'][i], df['mse_api'][i], '{:.3f}'.format(num_mse_api), verticalalignment='bottom', fontsize=12)\n",
        "    plt.text(df[f'{hyper}'][i], df['mae'][i], '{:.3f}'.format(num_mae), verticalalignment='bottom', fontsize=12)\n",
        "    plt.text(df[f'{hyper}'][i], df['mae_api'][i], '{:.3f}'.format(num_mae_api), verticalalignment='bottom', fontsize=12)\n",
        "    \n",
        "  plt.title(f'{model} MSE, MAE by {hyper}', fontdict={'size':15})\n",
        "  plt.xlabel(f'{hyper}', fontsize=13)\n",
        "  plt.xticks(fontsize=12)\n",
        "  plt.yticks(fontsize=12)\n",
        "  plt.legend(frameon=True, shadow=True, edgecolor='k', framealpha=0.5, fontsize=13);"
      ]
    },
    {
      "cell_type": "code",
      "execution_count": 29,
      "metadata": {
        "colab": {
          "base_uri": "https://localhost:8080/",
          "height": 466
        },
        "id": "gN6cx0447MnV",
        "outputId": "f3b625e3-0875-4f68-f92c-e09f55dcb368"
      },
      "outputs": [
        {
          "output_type": "display_data",
          "data": {
            "text/plain": [
              "<Figure size 864x504 with 1 Axes>"
            ],
            "image/png": "[encoded data removed]"
          },
          "metadata": {
            "needs_background": "light"
          }
        }
      ],
      "source": [
        "vis(rf_df, \"RandomForestRegressor\", 'depth')"
      ]
    },
    {
      "cell_type": "markdown",
      "metadata": {
        "id": "-diRnwxWabZh"
      },
      "source": [
        "### 최적의 min samples split 찾기\n",
        "* 거의 변동 없어서 의미 없음"
      ]
    },
    {
      "cell_type": "code",
      "execution_count": 30,
      "metadata": {
        "colab": {
          "base_uri": "https://localhost:8080/"
        },
        "id": "LsuaUVrvV6QS",
        "outputId": "53007924-5ca6-43de-ab8e-db25df69a048"
      },
      "outputs": [
        {
          "output_type": "stream",
          "name": "stdout",
          "text": [
            "RandomForest samples : 2\n",
            "The mean squared error (MSE) on test set: 7.1847\n",
            "The initial error of API ETA on test set: 12.5065\n",
            "The mean absolute error (MAE) on test set: 2.0179\n",
            "The initial error of API ETA on test set: 2.6242\n",
            "\n",
            "RandomForest samples : 3\n",
            "The mean squared error (MSE) on test set: 7.1904\n",
            "The initial error of API ETA on test set: 12.5065\n",
            "The mean absolute error (MAE) on test set: 2.0186\n",
            "The initial error of API ETA on test set: 2.6242\n",
            "\n",
            "RandomForest samples : 4\n",
            "The mean squared error (MSE) on test set: 7.1889\n",
            "The initial error of API ETA on test set: 12.5065\n",
            "The mean absolute error (MAE) on test set: 2.0189\n",
            "The initial error of API ETA on test set: 2.6242\n",
            "\n",
            "RandomForest samples : 5\n",
            "The mean squared error (MSE) on test set: 7.1874\n",
            "The initial error of API ETA on test set: 12.5065\n",
            "The mean absolute error (MAE) on test set: 2.0188\n",
            "The initial error of API ETA on test set: 2.6242\n",
            "\n",
            "RandomForest samples : 6\n",
            "The mean squared error (MSE) on test set: 7.1884\n",
            "The initial error of API ETA on test set: 12.5065\n",
            "The mean absolute error (MAE) on test set: 2.0188\n",
            "The initial error of API ETA on test set: 2.6242\n",
            "\n",
            "RandomForest samples : 7\n",
            "The mean squared error (MSE) on test set: 7.1869\n",
            "The initial error of API ETA on test set: 12.5065\n",
            "The mean absolute error (MAE) on test set: 2.0192\n",
            "The initial error of API ETA on test set: 2.6242\n",
            "\n",
            "RandomForest samples : 8\n",
            "The mean squared error (MSE) on test set: 7.1868\n",
            "The initial error of API ETA on test set: 12.5065\n",
            "The mean absolute error (MAE) on test set: 2.0190\n",
            "The initial error of API ETA on test set: 2.6242\n",
            "\n",
            "RandomForest samples : 9\n",
            "The mean squared error (MSE) on test set: 7.1839\n",
            "The initial error of API ETA on test set: 12.5065\n",
            "The mean absolute error (MAE) on test set: 2.0188\n",
            "The initial error of API ETA on test set: 2.6242\n",
            "\n",
            "RandomForest samples : 10\n",
            "The mean squared error (MSE) on test set: 7.1797\n",
            "The initial error of API ETA on test set: 12.5065\n",
            "The mean absolute error (MAE) on test set: 2.0183\n",
            "The initial error of API ETA on test set: 2.6242\n",
            "\n",
            "RandomForest samples : 11\n",
            "The mean squared error (MSE) on test set: 7.1769\n",
            "The initial error of API ETA on test set: 12.5065\n",
            "The mean absolute error (MAE) on test set: 2.0178\n",
            "The initial error of API ETA on test set: 2.6242\n",
            "\n",
            "RandomForest samples : 12\n",
            "The mean squared error (MSE) on test set: 7.1748\n",
            "The initial error of API ETA on test set: 12.5065\n",
            "The mean absolute error (MAE) on test set: 2.0176\n",
            "The initial error of API ETA on test set: 2.6242\n",
            "\n",
            "RandomForest samples : 13\n",
            "The mean squared error (MSE) on test set: 7.1740\n",
            "The initial error of API ETA on test set: 12.5065\n",
            "The mean absolute error (MAE) on test set: 2.0174\n",
            "The initial error of API ETA on test set: 2.6242\n",
            "\n",
            "RandomForest samples : 14\n",
            "The mean squared error (MSE) on test set: 7.1742\n",
            "The initial error of API ETA on test set: 12.5065\n",
            "The mean absolute error (MAE) on test set: 2.0175\n",
            "The initial error of API ETA on test set: 2.6242\n",
            "\n",
            "RandomForest samples : 15\n",
            "The mean squared error (MSE) on test set: 7.1749\n",
            "The initial error of API ETA on test set: 12.5065\n",
            "The mean absolute error (MAE) on test set: 2.0176\n",
            "The initial error of API ETA on test set: 2.6242\n",
            "\n",
            "RandomForest samples : 16\n",
            "The mean squared error (MSE) on test set: 7.1726\n",
            "The initial error of API ETA on test set: 12.5065\n",
            "The mean absolute error (MAE) on test set: 2.0174\n",
            "The initial error of API ETA on test set: 2.6242\n",
            "\n",
            "RandomForest samples : 17\n",
            "The mean squared error (MSE) on test set: 7.1733\n",
            "The initial error of API ETA on test set: 12.5065\n",
            "The mean absolute error (MAE) on test set: 2.0176\n",
            "The initial error of API ETA on test set: 2.6242\n",
            "\n",
            "RandomForest samples : 18\n",
            "The mean squared error (MSE) on test set: 7.1729\n",
            "The initial error of API ETA on test set: 12.5065\n",
            "The mean absolute error (MAE) on test set: 2.0177\n",
            "The initial error of API ETA on test set: 2.6242\n",
            "\n",
            "RandomForest samples : 19\n",
            "The mean squared error (MSE) on test set: 7.1707\n",
            "The initial error of API ETA on test set: 12.5065\n",
            "The mean absolute error (MAE) on test set: 2.0177\n",
            "The initial error of API ETA on test set: 2.6242\n",
            "\n"
          ]
        }
      ],
      "source": [
        "num_para_list = list(range(2, 20))\n",
        "mse_list = []\n",
        "mse_api_list = []\n",
        "mae_list = []\n",
        "mae_api_list = []\n",
        "for samples in num_para_list:\n",
        "  rf = RandomForestRegressor(max_depth=7, random_state=0, min_samples_split=samples)\n",
        "  rf.fit(X_train, Y_train)\n",
        "  pred = rf.predict(X_test)\n",
        "  api_eta = X_test.iloc[:,0]\n",
        "  mse = mean_squared_error(Y_test, pred)\n",
        "  mse_api = mean_squared_error(Y_test, api_eta)\n",
        "  mse_list.append(mse)\n",
        "  mse_api_list.append(mse_api)\n",
        "  print(f'RandomForest samples : {samples}')\n",
        "  print( \"The mean squared error (MSE) on test set: {:.4f}\".format(mse) )\n",
        "  print( \"The initial error of API ETA on test set: {:.4f}\".format(mse_api) )\n",
        "  mae = mean_absolute_error(Y_test, pred)\n",
        "  mae_api = mean_absolute_error(Y_test, api_eta)\n",
        "  mae_list.append(mae)\n",
        "  mae_api_list.append(mae_api)\n",
        "  print( \"The mean absolute error (MAE) on test set: {:.4f}\".format(mae) )\n",
        "  print( \"The initial error of API ETA on test set: {:.4f}\".format(mae_api) )\n",
        "  print()"
      ]
    },
    {
      "cell_type": "code",
      "execution_count": 31,
      "metadata": {
        "colab": {
          "base_uri": "https://localhost:8080/",
          "height": 206
        },
        "id": "sNnXp7tFa8bo",
        "outputId": "f534a7cf-d144-43a2-9799-1cedac0abf11"
      },
      "outputs": [
        {
          "output_type": "execute_result",
          "data": {
            "text/plain": [
              "   samples       mse    mse_api       mae   mae_api\n",
              "0        2  7.184728  12.506536  2.017948  2.624198\n",
              "1        3  7.190413  12.506536  2.018604  2.624198\n",
              "2        4  7.188853  12.506536  2.018934  2.624198\n",
              "3        5  7.187355  12.506536  2.018833  2.624198\n",
              "4        6  7.188368  12.506536  2.018810  2.624198"
            ],
            "text/html": [
              "\n",
              "  <div id=\"df-275c901d-1845-4d97-8497-2a6de6c63a10\">\n",
              "    <div class=\"colab-df-container\">\n",
              "      <div>\n",
              "<style scoped>\n",
              "    .dataframe tbody tr th:only-of-type {\n",
              "        vertical-align: middle;\n",
              "    }\n",
              "\n",
              "    .dataframe tbody tr th {\n",
              "        vertical-align: top;\n",
              "    }\n",
              "\n",
              "    .dataframe thead th {\n",
              "        text-align: right;\n",
              "    }\n",
              "</style>\n",
              "<table border=\"1\" class=\"dataframe\">\n",
              "  <thead>\n",
              "    <tr style=\"text-align: right;\">\n",
              "      <th></th>\n",
              "      <th>samples</th>\n",
              "      <th>mse</th>\n",
              "      <th>mse_api</th>\n",
              "      <th>mae</th>\n",
              "      <th>mae_api</th>\n",
              "    </tr>\n",
              "  </thead>\n",
              "  <tbody>\n",
              "    <tr>\n",
              "      <th>0</th>\n",
              "      <td>2</td>\n",
              "      <td>7.184728</td>\n",
              "      <td>12.506536</td>\n",
              "      <td>2.017948</td>\n",
              "      <td>2.624198</td>\n",
              "    </tr>\n",
              "    <tr>\n",
              "      <th>1</th>\n",
              "      <td>3</td>\n",
              "      <td>7.190413</td>\n",
              "      <td>12.506536</td>\n",
              "      <td>2.018604</td>\n",
              "      <td>2.624198</td>\n",
              "    </tr>\n",
              "    <tr>\n",
              "      <th>2</th>\n",
              "      <td>4</td>\n",
              "      <td>7.188853</td>\n",
              "      <td>12.506536</td>\n",
              "      <td>2.018934</td>\n",
              "      <td>2.624198</td>\n",
              "    </tr>\n",
              "    <tr>\n",
              "      <th>3</th>\n",
              "      <td>5</td>\n",
              "      <td>7.187355</td>\n",
              "      <td>12.506536</td>\n",
              "      <td>2.018833</td>\n",
              "      <td>2.624198</td>\n",
              "    </tr>\n",
              "    <tr>\n",
              "      <th>4</th>\n",
              "      <td>6</td>\n",
              "      <td>7.188368</td>\n",
              "      <td>12.506536</td>\n",
              "      <td>2.018810</td>\n",
              "      <td>2.624198</td>\n",
              "    </tr>\n",
              "  </tbody>\n",
              "</table>\n",
              "</div>\n",
              "      <button class=\"colab-df-convert\" onclick=\"convertToInteractive('df-275c901d-1845-4d97-8497-2a6de6c63a10')\"\n",
              "              title=\"Convert this dataframe to an interactive table.\"\n",
              "              style=\"display:none;\">\n",
              "        \n",
              "  <svg xmlns=\"http://www.w3.org/2000/svg\" height=\"24px\"viewBox=\"0 0 24 24\"\n",
              "       width=\"24px\">\n",
              "    <path d=\"M0 0h24v24H0V0z\" fill=\"none\"/>\n",
              "    <path d=\"M18.56 5.44l.94 2.06.94-2.06 2.06-.94-2.06-.94-.94-2.06-.94 2.06-2.06.94zm-11 1L8.5 8.5l.94-2.06 2.06-.94-2.06-.94L8.5 2.5l-.94 2.06-2.06.94zm10 10l.94 2.06.94-2.06 2.06-.94-2.06-.94-.94-2.06-.94 2.06-2.06.94z\"/><path d=\"M17.41 7.96l-1.37-1.37c-.4-.4-.92-.59-1.43-.59-.52 0-1.04.2-1.43.59L10.3 9.45l-7.72 7.72c-.78.78-.78 2.05 0 2.83L4 21.41c.39.39.9.59 1.41.59.51 0 1.02-.2 1.41-.59l7.78-7.78 2.81-2.81c.8-.78.8-2.07 0-2.86zM5.41 20L4 18.59l7.72-7.72 1.47 1.35L5.41 20z\"/>\n",
              "  </svg>\n",
              "      </button>\n",
              "      \n",
              "  <style>\n",
              "    .colab-df-container {\n",
              "      display:flex;\n",
              "      flex-wrap:wrap;\n",
              "      gap: 12px;\n",
              "    }\n",
              "\n",
              "    .colab-df-convert {\n",
              "      background-color: #E8F0FE;\n",
              "      border: none;\n",
              "      border-radius: 50%;\n",
              "      cursor: pointer;\n",
              "      display: none;\n",
              "      fill: #1967D2;\n",
              "      height: 32px;\n",
              "      padding: 0 0 0 0;\n",
              "      width: 32px;\n",
              "    }\n",
              "\n",
              "    .colab-df-convert:hover {\n",
              "      background-color: #E2EBFA;\n",
              "      box-shadow: 0px 1px 2px rgba(60, 64, 67, 0.3), 0px 1px 3px 1px rgba(60, 64, 67, 0.15);\n",
              "      fill: #174EA6;\n",
              "    }\n",
              "\n",
              "    [theme=dark] .colab-df-convert {\n",
              "      background-color: #3B4455;\n",
              "      fill: #D2E3FC;\n",
              "    }\n",
              "\n",
              "    [theme=dark] .colab-df-convert:hover {\n",
              "      background-color: #434B5C;\n",
              "      box-shadow: 0px 1px 3px 1px rgba(0, 0, 0, 0.15);\n",
              "      filter: drop-shadow(0px 1px 2px rgba(0, 0, 0, 0.3));\n",
              "      fill: #FFFFFF;\n",
              "    }\n",
              "  </style>\n",
              "\n",
              "      <script>\n",
              "        const buttonEl =\n",
              "          document.querySelector('#df-275c901d-1845-4d97-8497-2a6de6c63a10 button.colab-df-convert');\n",
              "        buttonEl.style.display =\n",
              "          google.colab.kernel.accessAllowed ? 'block' : 'none';\n",
              "\n",
              "        async function convertToInteractive(key) {\n",
              "          const element = document.querySelector('#df-275c901d-1845-4d97-8497-2a6de6c63a10');\n",
              "          const dataTable =\n",
              "            await google.colab.kernel.invokeFunction('convertToInteractive',\n",
              "                                                     [key], {});\n",
              "          if (!dataTable) return;\n",
              "\n",
              "          const docLinkHtml = 'Like what you see? Visit the ' +\n",
              "            '<a target=\"_blank\" href=https://colab.research.google.com/notebooks/data_table.ipynb>data table notebook</a>'\n",
              "            + ' to learn more about interactive tables.';\n",
              "          element.innerHTML = '';\n",
              "          dataTable['output_type'] = 'display_data';\n",
              "          await google.colab.output.renderOutput(dataTable, element);\n",
              "          const docLink = document.createElement('div');\n",
              "          docLink.innerHTML = docLinkHtml;\n",
              "          element.appendChild(docLink);\n",
              "        }\n",
              "      </script>\n",
              "    </div>\n",
              "  </div>\n",
              "  "
            ]
          },
          "metadata": {},
          "execution_count": 31
        }
      ],
      "source": [
        "dict2 = {'samples':num_para_list, 'mse':mse_list, 'mse_api':mse_api_list, 'mae':mae_list, 'mae_api':mae_api_list}\n",
        "rf_df2 = pd.DataFrame(dict2)\n",
        "rf_df2.head()"
      ]
    },
    {
      "cell_type": "markdown",
      "metadata": {
        "id": "v1avzP7936Td"
      },
      "source": [
        "#### 최소 MSE 값"
      ]
    },
    {
      "cell_type": "code",
      "execution_count": 32,
      "metadata": {
        "colab": {
          "base_uri": "https://localhost:8080/",
          "height": 81
        },
        "id": "J3mDF7rk8zTa",
        "outputId": "a04f99cc-c099-49ef-bbb8-c7ac06f0ee19"
      },
      "outputs": [
        {
          "output_type": "execute_result",
          "data": {
            "text/plain": [
              "    samples       mse    mse_api       mae   mae_api\n",
              "17       19  7.170675  12.506536  2.017665  2.624198"
            ],
            "text/html": [
              "\n",
              "  <div id=\"df-33e4fc08-6aab-44f5-a992-ec7cb3ea0ae4\">\n",
              "    <div class=\"colab-df-container\">\n",
              "      <div>\n",
              "<style scoped>\n",
              "    .dataframe tbody tr th:only-of-type {\n",
              "        vertical-align: middle;\n",
              "    }\n",
              "\n",
              "    .dataframe tbody tr th {\n",
              "        vertical-align: top;\n",
              "    }\n",
              "\n",
              "    .dataframe thead th {\n",
              "        text-align: right;\n",
              "    }\n",
              "</style>\n",
              "<table border=\"1\" class=\"dataframe\">\n",
              "  <thead>\n",
              "    <tr style=\"text-align: right;\">\n",
              "      <th></th>\n",
              "      <th>samples</th>\n",
              "      <th>mse</th>\n",
              "      <th>mse_api</th>\n",
              "      <th>mae</th>\n",
              "      <th>mae_api</th>\n",
              "    </tr>\n",
              "  </thead>\n",
              "  <tbody>\n",
              "    <tr>\n",
              "      <th>17</th>\n",
              "      <td>19</td>\n",
              "      <td>7.170675</td>\n",
              "      <td>12.506536</td>\n",
              "      <td>2.017665</td>\n",
              "      <td>2.624198</td>\n",
              "    </tr>\n",
              "  </tbody>\n",
              "</table>\n",
              "</div>\n",
              "      <button class=\"colab-df-convert\" onclick=\"convertToInteractive('df-33e4fc08-6aab-44f5-a992-ec7cb3ea0ae4')\"\n",
              "              title=\"Convert this dataframe to an interactive table.\"\n",
              "              style=\"display:none;\">\n",
              "        \n",
              "  <svg xmlns=\"http://www.w3.org/2000/svg\" height=\"24px\"viewBox=\"0 0 24 24\"\n",
              "       width=\"24px\">\n",
              "    <path d=\"M0 0h24v24H0V0z\" fill=\"none\"/>\n",
              "    <path d=\"M18.56 5.44l.94 2.06.94-2.06 2.06-.94-2.06-.94-.94-2.06-.94 2.06-2.06.94zm-11 1L8.5 8.5l.94-2.06 2.06-.94-2.06-.94L8.5 2.5l-.94 2.06-2.06.94zm10 10l.94 2.06.94-2.06 2.06-.94-2.06-.94-.94-2.06-.94 2.06-2.06.94z\"/><path d=\"M17.41 7.96l-1.37-1.37c-.4-.4-.92-.59-1.43-.59-.52 0-1.04.2-1.43.59L10.3 9.45l-7.72 7.72c-.78.78-.78 2.05 0 2.83L4 21.41c.39.39.9.59 1.41.59.51 0 1.02-.2 1.41-.59l7.78-7.78 2.81-2.81c.8-.78.8-2.07 0-2.86zM5.41 20L4 18.59l7.72-7.72 1.47 1.35L5.41 20z\"/>\n",
              "  </svg>\n",
              "      </button>\n",
              "      \n",
              "  <style>\n",
              "    .colab-df-container {\n",
              "      display:flex;\n",
              "      flex-wrap:wrap;\n",
              "      gap: 12px;\n",
              "    }\n",
              "\n",
              "    .colab-df-convert {\n",
              "      background-color: #E8F0FE;\n",
              "      border: none;\n",
              "      border-radius: 50%;\n",
              "      cursor: pointer;\n",
              "      display: none;\n",
              "      fill: #1967D2;\n",
              "      height: 32px;\n",
              "      padding: 0 0 0 0;\n",
              "      width: 32px;\n",
              "    }\n",
              "\n",
              "    .colab-df-convert:hover {\n",
              "      background-color: #E2EBFA;\n",
              "      box-shadow: 0px 1px 2px rgba(60, 64, 67, 0.3), 0px 1px 3px 1px rgba(60, 64, 67, 0.15);\n",
              "      fill: #174EA6;\n",
              "    }\n",
              "\n",
              "    [theme=dark] .colab-df-convert {\n",
              "      background-color: #3B4455;\n",
              "      fill: #D2E3FC;\n",
              "    }\n",
              "\n",
              "    [theme=dark] .colab-df-convert:hover {\n",
              "      background-color: #434B5C;\n",
              "      box-shadow: 0px 1px 3px 1px rgba(0, 0, 0, 0.15);\n",
              "      filter: drop-shadow(0px 1px 2px rgba(0, 0, 0, 0.3));\n",
              "      fill: #FFFFFF;\n",
              "    }\n",
              "  </style>\n",
              "\n",
              "      <script>\n",
              "        const buttonEl =\n",
              "          document.querySelector('#df-33e4fc08-6aab-44f5-a992-ec7cb3ea0ae4 button.colab-df-convert');\n",
              "        buttonEl.style.display =\n",
              "          google.colab.kernel.accessAllowed ? 'block' : 'none';\n",
              "\n",
              "        async function convertToInteractive(key) {\n",
              "          const element = document.querySelector('#df-33e4fc08-6aab-44f5-a992-ec7cb3ea0ae4');\n",
              "          const dataTable =\n",
              "            await google.colab.kernel.invokeFunction('convertToInteractive',\n",
              "                                                     [key], {});\n",
              "          if (!dataTable) return;\n",
              "\n",
              "          const docLinkHtml = 'Like what you see? Visit the ' +\n",
              "            '<a target=\"_blank\" href=https://colab.research.google.com/notebooks/data_table.ipynb>data table notebook</a>'\n",
              "            + ' to learn more about interactive tables.';\n",
              "          element.innerHTML = '';\n",
              "          dataTable['output_type'] = 'display_data';\n",
              "          await google.colab.output.renderOutput(dataTable, element);\n",
              "          const docLink = document.createElement('div');\n",
              "          docLink.innerHTML = docLinkHtml;\n",
              "          element.appendChild(docLink);\n",
              "        }\n",
              "      </script>\n",
              "    </div>\n",
              "  </div>\n",
              "  "
            ]
          },
          "metadata": {},
          "execution_count": 32
        }
      ],
      "source": [
        "rf_df2[ rf_df2['mse'] == rf_df2['mse'].min() ]"
      ]
    },
    {
      "cell_type": "markdown",
      "metadata": {
        "id": "GpybpAoU7qid"
      },
      "source": [
        "#### 결과 시각화"
      ]
    },
    {
      "cell_type": "code",
      "execution_count": 33,
      "metadata": {
        "colab": {
          "base_uri": "https://localhost:8080/",
          "height": 466
        },
        "id": "_AfNwAyA7tUb",
        "outputId": "54c63fca-01f4-46b5-b48f-fb2ee500021e"
      },
      "outputs": [
        {
          "output_type": "display_data",
          "data": {
            "text/plain": [
              "<Figure size 864x504 with 1 Axes>"
            ],
            "image/png": "[encoded data removed]"
          },
          "metadata": {
            "needs_background": "light"
          }
        }
      ],
      "source": [
        "vis(rf_df2, \"RandomForestRegressor\", 'samples')"
      ]
    },
    {
      "cell_type": "markdown",
      "metadata": {
        "id": "UThuVygcfa_t"
      },
      "source": [
        "## Lighgbm"
      ]
    },
    {
      "cell_type": "code",
      "execution_count": 34,
      "metadata": {
        "colab": {
          "base_uri": "https://localhost:8080/"
        },
        "id": "0fAgIXPhfk76",
        "outputId": "856b926b-4437-4214-873a-7f14eb5edf1b"
      },
      "outputs": [
        {
          "output_type": "stream",
          "name": "stdout",
          "text": [
            "[1]\tvalid_0's l2: 13.8765\tvalid_0's l2: 13.8765\n",
            "Training until validation scores don't improve for 100 rounds.\n",
            "[2]\tvalid_0's l2: 12.5915\tvalid_0's l2: 12.5915\n",
            "[3]\tvalid_0's l2: 11.5855\tvalid_0's l2: 11.5855\n",
            "[4]\tvalid_0's l2: 10.7545\tvalid_0's l2: 10.7545\n",
            "[5]\tvalid_0's l2: 10.0831\tvalid_0's l2: 10.0831\n",
            "[6]\tvalid_0's l2: 9.52735\tvalid_0's l2: 9.52735\n",
            "[7]\tvalid_0's l2: 9.08359\tvalid_0's l2: 9.08359\n",
            "[8]\tvalid_0's l2: 8.71046\tvalid_0's l2: 8.71046\n",
            "[9]\tvalid_0's l2: 8.41768\tvalid_0's l2: 8.41768\n",
            "[10]\tvalid_0's l2: 8.18291\tvalid_0's l2: 8.18291\n",
            "[11]\tvalid_0's l2: 7.98547\tvalid_0's l2: 7.98547\n",
            "[12]\tvalid_0's l2: 7.82222\tvalid_0's l2: 7.82222\n",
            "[13]\tvalid_0's l2: 7.69036\tvalid_0's l2: 7.69036\n",
            "[14]\tvalid_0's l2: 7.58509\tvalid_0's l2: 7.58509\n",
            "[15]\tvalid_0's l2: 7.49691\tvalid_0's l2: 7.49691\n",
            "[16]\tvalid_0's l2: 7.41664\tvalid_0's l2: 7.41664\n",
            "[17]\tvalid_0's l2: 7.35145\tvalid_0's l2: 7.35145\n",
            "[18]\tvalid_0's l2: 7.29954\tvalid_0's l2: 7.29954\n",
            "[19]\tvalid_0's l2: 7.2609\tvalid_0's l2: 7.2609\n",
            "[20]\tvalid_0's l2: 7.23955\tvalid_0's l2: 7.23955\n",
            "[21]\tvalid_0's l2: 7.2122\tvalid_0's l2: 7.2122\n",
            "[22]\tvalid_0's l2: 7.1985\tvalid_0's l2: 7.1985\n",
            "[23]\tvalid_0's l2: 7.18052\tvalid_0's l2: 7.18052\n",
            "[24]\tvalid_0's l2: 7.16741\tvalid_0's l2: 7.16741\n",
            "[25]\tvalid_0's l2: 7.15943\tvalid_0's l2: 7.15943\n",
            "[26]\tvalid_0's l2: 7.14453\tvalid_0's l2: 7.14453\n",
            "[27]\tvalid_0's l2: 7.13792\tvalid_0's l2: 7.13792\n",
            "[28]\tvalid_0's l2: 7.13598\tvalid_0's l2: 7.13598\n",
            "[29]\tvalid_0's l2: 7.12643\tvalid_0's l2: 7.12643\n",
            "[30]\tvalid_0's l2: 7.13076\tvalid_0's l2: 7.13076\n",
            "[31]\tvalid_0's l2: 7.12682\tvalid_0's l2: 7.12682\n",
            "[32]\tvalid_0's l2: 7.12486\tvalid_0's l2: 7.12486\n",
            "[33]\tvalid_0's l2: 7.13435\tvalid_0's l2: 7.13435\n",
            "[34]\tvalid_0's l2: 7.12935\tvalid_0's l2: 7.12935\n",
            "[35]\tvalid_0's l2: 7.12989\tvalid_0's l2: 7.12989\n",
            "[36]\tvalid_0's l2: 7.13063\tvalid_0's l2: 7.13063\n",
            "[37]\tvalid_0's l2: 7.12975\tvalid_0's l2: 7.12975\n",
            "[38]\tvalid_0's l2: 7.12904\tvalid_0's l2: 7.12904\n",
            "[39]\tvalid_0's l2: 7.13284\tvalid_0's l2: 7.13284\n",
            "[40]\tvalid_0's l2: 7.13568\tvalid_0's l2: 7.13568\n",
            "[41]\tvalid_0's l2: 7.13824\tvalid_0's l2: 7.13824\n",
            "[42]\tvalid_0's l2: 7.1435\tvalid_0's l2: 7.1435\n",
            "[43]\tvalid_0's l2: 7.1467\tvalid_0's l2: 7.1467\n",
            "[44]\tvalid_0's l2: 7.14633\tvalid_0's l2: 7.14633\n",
            "[45]\tvalid_0's l2: 7.14819\tvalid_0's l2: 7.14819\n",
            "[46]\tvalid_0's l2: 7.15266\tvalid_0's l2: 7.15266\n",
            "[47]\tvalid_0's l2: 7.15563\tvalid_0's l2: 7.15563\n",
            "[48]\tvalid_0's l2: 7.15272\tvalid_0's l2: 7.15272\n",
            "[49]\tvalid_0's l2: 7.15658\tvalid_0's l2: 7.15658\n",
            "[50]\tvalid_0's l2: 7.16504\tvalid_0's l2: 7.16504\n",
            "[51]\tvalid_0's l2: 7.16848\tvalid_0's l2: 7.16848\n",
            "[52]\tvalid_0's l2: 7.17522\tvalid_0's l2: 7.17522\n",
            "[53]\tvalid_0's l2: 7.17437\tvalid_0's l2: 7.17437\n",
            "[54]\tvalid_0's l2: 7.17333\tvalid_0's l2: 7.17333\n",
            "[55]\tvalid_0's l2: 7.1814\tvalid_0's l2: 7.1814\n",
            "[56]\tvalid_0's l2: 7.18536\tvalid_0's l2: 7.18536\n",
            "[57]\tvalid_0's l2: 7.18603\tvalid_0's l2: 7.18603\n",
            "[58]\tvalid_0's l2: 7.18965\tvalid_0's l2: 7.18965\n",
            "[59]\tvalid_0's l2: 7.19471\tvalid_0's l2: 7.19471\n",
            "[60]\tvalid_0's l2: 7.1979\tvalid_0's l2: 7.1979\n",
            "[61]\tvalid_0's l2: 7.20032\tvalid_0's l2: 7.20032\n",
            "[62]\tvalid_0's l2: 7.20108\tvalid_0's l2: 7.20108\n",
            "[63]\tvalid_0's l2: 7.20215\tvalid_0's l2: 7.20215\n",
            "[64]\tvalid_0's l2: 7.2051\tvalid_0's l2: 7.2051\n",
            "[65]\tvalid_0's l2: 7.20808\tvalid_0's l2: 7.20808\n",
            "[66]\tvalid_0's l2: 7.20879\tvalid_0's l2: 7.20879\n",
            "[67]\tvalid_0's l2: 7.21016\tvalid_0's l2: 7.21016\n",
            "[68]\tvalid_0's l2: 7.21003\tvalid_0's l2: 7.21003\n",
            "[69]\tvalid_0's l2: 7.21591\tvalid_0's l2: 7.21591\n",
            "[70]\tvalid_0's l2: 7.21957\tvalid_0's l2: 7.21957\n",
            "[71]\tvalid_0's l2: 7.22192\tvalid_0's l2: 7.22192\n",
            "[72]\tvalid_0's l2: 7.22544\tvalid_0's l2: 7.22544\n",
            "[73]\tvalid_0's l2: 7.22817\tvalid_0's l2: 7.22817\n",
            "[74]\tvalid_0's l2: 7.22975\tvalid_0's l2: 7.22975\n",
            "[75]\tvalid_0's l2: 7.23117\tvalid_0's l2: 7.23117\n",
            "[76]\tvalid_0's l2: 7.23247\tvalid_0's l2: 7.23247\n",
            "[77]\tvalid_0's l2: 7.23423\tvalid_0's l2: 7.23423\n",
            "[78]\tvalid_0's l2: 7.2373\tvalid_0's l2: 7.2373\n",
            "[79]\tvalid_0's l2: 7.23808\tvalid_0's l2: 7.23808\n",
            "[80]\tvalid_0's l2: 7.23621\tvalid_0's l2: 7.23621\n",
            "[81]\tvalid_0's l2: 7.23962\tvalid_0's l2: 7.23962\n",
            "[82]\tvalid_0's l2: 7.23917\tvalid_0's l2: 7.23917\n",
            "[83]\tvalid_0's l2: 7.24236\tvalid_0's l2: 7.24236\n",
            "[84]\tvalid_0's l2: 7.24706\tvalid_0's l2: 7.24706\n",
            "[85]\tvalid_0's l2: 7.24857\tvalid_0's l2: 7.24857\n",
            "[86]\tvalid_0's l2: 7.2546\tvalid_0's l2: 7.2546\n",
            "[87]\tvalid_0's l2: 7.25832\tvalid_0's l2: 7.25832\n",
            "[88]\tvalid_0's l2: 7.26289\tvalid_0's l2: 7.26289\n",
            "[89]\tvalid_0's l2: 7.26523\tvalid_0's l2: 7.26523\n",
            "[90]\tvalid_0's l2: 7.26601\tvalid_0's l2: 7.26601\n",
            "[91]\tvalid_0's l2: 7.27192\tvalid_0's l2: 7.27192\n",
            "[92]\tvalid_0's l2: 7.27737\tvalid_0's l2: 7.27737\n",
            "[93]\tvalid_0's l2: 7.28189\tvalid_0's l2: 7.28189\n",
            "[94]\tvalid_0's l2: 7.28216\tvalid_0's l2: 7.28216\n",
            "[95]\tvalid_0's l2: 7.28659\tvalid_0's l2: 7.28659\n",
            "[96]\tvalid_0's l2: 7.28898\tvalid_0's l2: 7.28898\n",
            "[97]\tvalid_0's l2: 7.29561\tvalid_0's l2: 7.29561\n",
            "[98]\tvalid_0's l2: 7.29634\tvalid_0's l2: 7.29634\n",
            "[99]\tvalid_0's l2: 7.30102\tvalid_0's l2: 7.30102\n",
            "[100]\tvalid_0's l2: 7.30374\tvalid_0's l2: 7.30374\n",
            "[101]\tvalid_0's l2: 7.30409\tvalid_0's l2: 7.30409\n",
            "[102]\tvalid_0's l2: 7.30387\tvalid_0's l2: 7.30387\n",
            "[103]\tvalid_0's l2: 7.30551\tvalid_0's l2: 7.30551\n",
            "[104]\tvalid_0's l2: 7.30832\tvalid_0's l2: 7.30832\n",
            "[105]\tvalid_0's l2: 7.31004\tvalid_0's l2: 7.31004\n",
            "[106]\tvalid_0's l2: 7.31084\tvalid_0's l2: 7.31084\n",
            "[107]\tvalid_0's l2: 7.30951\tvalid_0's l2: 7.30951\n",
            "[108]\tvalid_0's l2: 7.31315\tvalid_0's l2: 7.31315\n",
            "[109]\tvalid_0's l2: 7.3195\tvalid_0's l2: 7.3195\n",
            "[110]\tvalid_0's l2: 7.32014\tvalid_0's l2: 7.32014\n",
            "[111]\tvalid_0's l2: 7.32139\tvalid_0's l2: 7.32139\n",
            "[112]\tvalid_0's l2: 7.32355\tvalid_0's l2: 7.32355\n",
            "[113]\tvalid_0's l2: 7.32621\tvalid_0's l2: 7.32621\n",
            "[114]\tvalid_0's l2: 7.32792\tvalid_0's l2: 7.32792\n",
            "[115]\tvalid_0's l2: 7.32254\tvalid_0's l2: 7.32254\n",
            "[116]\tvalid_0's l2: 7.33016\tvalid_0's l2: 7.33016\n",
            "[117]\tvalid_0's l2: 7.33367\tvalid_0's l2: 7.33367\n",
            "[118]\tvalid_0's l2: 7.33129\tvalid_0's l2: 7.33129\n",
            "[119]\tvalid_0's l2: 7.33526\tvalid_0's l2: 7.33526\n",
            "[120]\tvalid_0's l2: 7.33545\tvalid_0's l2: 7.33545\n",
            "[121]\tvalid_0's l2: 7.33662\tvalid_0's l2: 7.33662\n",
            "[122]\tvalid_0's l2: 7.3378\tvalid_0's l2: 7.3378\n",
            "[123]\tvalid_0's l2: 7.33894\tvalid_0's l2: 7.33894\n",
            "[124]\tvalid_0's l2: 7.34282\tvalid_0's l2: 7.34282\n",
            "[125]\tvalid_0's l2: 7.34373\tvalid_0's l2: 7.34373\n",
            "[126]\tvalid_0's l2: 7.3467\tvalid_0's l2: 7.3467\n",
            "[127]\tvalid_0's l2: 7.35067\tvalid_0's l2: 7.35067\n",
            "[128]\tvalid_0's l2: 7.3519\tvalid_0's l2: 7.3519\n",
            "[129]\tvalid_0's l2: 7.35497\tvalid_0's l2: 7.35497\n",
            "[130]\tvalid_0's l2: 7.35487\tvalid_0's l2: 7.35487\n",
            "[131]\tvalid_0's l2: 7.35739\tvalid_0's l2: 7.35739\n",
            "[132]\tvalid_0's l2: 7.35526\tvalid_0's l2: 7.35526\n",
            "Early stopping, best iteration is:\n",
            "[32]\tvalid_0's l2: 7.12486\tvalid_0's l2: 7.12486\n"
          ]
        },
        {
          "output_type": "execute_result",
          "data": {
            "text/plain": [
              "LGBMRegressor(n_estimators=300, random_state=0)"
            ]
          },
          "metadata": {},
          "execution_count": 34
        }
      ],
      "source": [
        "lgb = LGBMRegressor(n_estimators=300, random_state=0)\n",
        "lgb.fit(X_train, Y_train, early_stopping_rounds=100, eval_set=[(X_test, Y_test)], eval_metric='mse')"
      ]
    },
    {
      "cell_type": "code",
      "execution_count": 35,
      "metadata": {
        "colab": {
          "base_uri": "https://localhost:8080/"
        },
        "id": "0cILZihef05L",
        "outputId": "27b0c864-0e27-4c00-b4e6-521c4bb14405"
      },
      "outputs": [
        {
          "output_type": "stream",
          "name": "stdout",
          "text": [
            "The mean squared error (MSE) on test set: 7.1249\n",
            "The initial error of API ETA on test set: 12.5065\n",
            "The mean absolute error (MAE) on test set: 2.0148\n",
            "The initial error of API ETA on test set: 2.6242\n"
          ]
        }
      ],
      "source": [
        "pred = lgb.predict(X_test)\n",
        "api_eta = X_test.iloc[:,0]\n",
        "mse = mean_squared_error(Y_test, pred)\n",
        "mse_api = mean_squared_error(Y_test, api_eta)\n",
        "mse_list.append(mse)\n",
        "mse_api_list.append(mse_api)\n",
        "print( \"The mean squared error (MSE) on test set: {:.4f}\".format(mse) )\n",
        "print( \"The initial error of API ETA on test set: {:.4f}\".format(mse_api) )\n",
        "mae = mean_absolute_error(Y_test, pred)\n",
        "mae_api = mean_absolute_error(Y_test, api_eta)\n",
        "mae_list.append(mae)\n",
        "mae_api_list.append(mae_api)\n",
        "print( \"The mean absolute error (MAE) on test set: {:.4f}\".format(mae) )\n",
        "print( \"The initial error of API ETA on test set: {:.4f}\".format(mae_api) )"
      ]
    },
    {
      "cell_type": "markdown",
      "metadata": {
        "id": "v2EU_61J4mvP"
      },
      "source": [
        "## LinearRegression"
      ]
    },
    {
      "cell_type": "code",
      "execution_count": 36,
      "metadata": {
        "colab": {
          "base_uri": "https://localhost:8080/"
        },
        "id": "6cMcKNyO4rxC",
        "outputId": "921af9f2-264b-4d17-d760-349532a73fc6"
      },
      "outputs": [
        {
          "output_type": "execute_result",
          "data": {
            "text/plain": [
              "LinearRegression()"
            ]
          },
          "metadata": {},
          "execution_count": 36
        }
      ],
      "source": [
        "lr = LinearRegression()\n",
        "lr.fit(X_train, Y_train)"
      ]
    },
    {
      "cell_type": "code",
      "execution_count": 37,
      "metadata": {
        "colab": {
          "base_uri": "https://localhost:8080/"
        },
        "id": "F_a3PfwR4rvH",
        "outputId": "1b69a184-ad07-4b9a-e7ea-656c76ee0727"
      },
      "outputs": [
        {
          "output_type": "stream",
          "name": "stdout",
          "text": [
            "The mean squared error (MSE) on test set: 7.4848\n",
            "The initial error of API ETA on test set: 12.5065\n",
            "The mean absolute error (MAE) on test set: 2.0750\n",
            "The initial error of API ETA on test set: 2.6242\n"
          ]
        }
      ],
      "source": [
        "pred = lr.predict(X_test)\n",
        "api_eta = X_test.iloc[:,0]\n",
        "mse = mean_squared_error(Y_test, pred)\n",
        "mse_api = mean_squared_error(Y_test, api_eta)\n",
        "mse_list.append(mse)\n",
        "mse_api_list.append(mse_api)\n",
        "print( \"The mean squared error (MSE) on test set: {:.4f}\".format(mse) )\n",
        "print( \"The initial error of API ETA on test set: {:.4f}\".format(mse_api) )\n",
        "mae = mean_absolute_error(Y_test, pred)\n",
        "mae_api = mean_absolute_error(Y_test, api_eta)\n",
        "mae_list.append(mae)\n",
        "mae_api_list.append(mae_api)\n",
        "print( \"The mean absolute error (MAE) on test set: {:.4f}\".format(mae) )\n",
        "print( \"The initial error of API ETA on test set: {:.4f}\".format(mae_api) )"
      ]
    },
    {
      "cell_type": "markdown",
      "metadata": {
        "id": "n8uDBkQJ5Myp"
      },
      "source": [
        "## Ridge"
      ]
    },
    {
      "cell_type": "code",
      "execution_count": 38,
      "metadata": {
        "colab": {
          "base_uri": "https://localhost:8080/"
        },
        "id": "2rmOGpu35SVR",
        "outputId": "aab307d0-782e-49ad-e97d-d82db6d1dc2f"
      },
      "outputs": [
        {
          "output_type": "stream",
          "name": "stdout",
          "text": [
            "Ridge alpha : 0.001\n",
            "The mean squared error (MSE) on test set: 7.4848\n",
            "The initial error of API ETA on test set: 12.5065\n",
            "The mean absolute error (MAE) on test set: 2.0750\n",
            "The initial error of API ETA on test set: 2.6242\n",
            "\n",
            "Ridge alpha : 0.01\n",
            "The mean squared error (MSE) on test set: 7.4848\n",
            "The initial error of API ETA on test set: 12.5065\n",
            "The mean absolute error (MAE) on test set: 2.0750\n",
            "The initial error of API ETA on test set: 2.6242\n",
            "\n",
            "Ridge alpha : 0.1\n",
            "The mean squared error (MSE) on test set: 7.4848\n",
            "The initial error of API ETA on test set: 12.5065\n",
            "The mean absolute error (MAE) on test set: 2.0750\n",
            "The initial error of API ETA on test set: 2.6242\n",
            "\n",
            "Ridge alpha : 1\n",
            "The mean squared error (MSE) on test set: 7.4848\n",
            "The initial error of API ETA on test set: 12.5065\n",
            "The mean absolute error (MAE) on test set: 2.0750\n",
            "The initial error of API ETA on test set: 2.6242\n",
            "\n"
          ]
        }
      ],
      "source": [
        "alpha_list = [0.001, 0.01, 0.1, 1]\n",
        "mse_list = []\n",
        "mse_api_list = []\n",
        "mae_list = []\n",
        "mae_api_list = []\n",
        "for a in alpha_list:\n",
        "  rg = Ridge(alpha=a, random_state=0)\n",
        "  rg.fit(X_train, Y_train)\n",
        "  pred = rg.predict(X_test)\n",
        "  api_eta = X_test.iloc[:,0]\n",
        "  mse = mean_squared_error(Y_test, pred)\n",
        "  mse_api = mean_squared_error(Y_test, api_eta)\n",
        "  mse_list.append(mse)\n",
        "  mse_api_list.append(mse_api)\n",
        "  print(f'Ridge alpha : {a}')\n",
        "  print( \"The mean squared error (MSE) on test set: {:.4f}\".format(mse) )\n",
        "  print( \"The initial error of API ETA on test set: {:.4f}\".format(mse_api) )\n",
        "  mae = mean_absolute_error(Y_test, pred)\n",
        "  mae_api = mean_absolute_error(Y_test, api_eta)\n",
        "  mae_list.append(mae)\n",
        "  mae_api_list.append(mae_api)\n",
        "  print( \"The mean absolute error (MAE) on test set: {:.4f}\".format(mae) )\n",
        "  print( \"The initial error of API ETA on test set: {:.4f}\".format(mae_api) )\n",
        "  print()"
      ]
    },
    {
      "cell_type": "markdown",
      "metadata": {
        "id": "76AmajN-6VH0"
      },
      "source": [
        "### 결과 df"
      ]
    },
    {
      "cell_type": "code",
      "execution_count": 39,
      "metadata": {
        "id": "zynM4oca5STa"
      },
      "outputs": [],
      "source": [
        "dict3 = {'alpha':alpha_list, 'mse':mse_list, 'mse_api':mse_api_list, 'mae':mae_list, 'mae_api':mae_api_list}\n",
        "rg_df = pd.DataFrame(dict3)"
      ]
    },
    {
      "cell_type": "code",
      "execution_count": 40,
      "metadata": {
        "colab": {
          "base_uri": "https://localhost:8080/",
          "height": 175
        },
        "id": "vFdzUEag6ao8",
        "outputId": "69ddd2f4-97bb-49b1-f1b1-ccaccd20e0bc"
      },
      "outputs": [
        {
          "output_type": "execute_result",
          "data": {
            "text/plain": [
              "   alpha       mse    mse_api       mae   mae_api\n",
              "0  0.001  7.484814  12.506536  2.074968  2.624198\n",
              "1  0.010  7.484814  12.506536  2.074968  2.624198\n",
              "2  0.100  7.484814  12.506536  2.074968  2.624198\n",
              "3  1.000  7.484814  12.506536  2.074969  2.624198"
            ],
            "text/html": [
              "\n",
              "  <div id=\"df-ccd64132-4d9f-4305-8407-db93c28b0ecf\">\n",
              "    <div class=\"colab-df-container\">\n",
              "      <div>\n",
              "<style scoped>\n",
              "    .dataframe tbody tr th:only-of-type {\n",
              "        vertical-align: middle;\n",
              "    }\n",
              "\n",
              "    .dataframe tbody tr th {\n",
              "        vertical-align: top;\n",
              "    }\n",
              "\n",
              "    .dataframe thead th {\n",
              "        text-align: right;\n",
              "    }\n",
              "</style>\n",
              "<table border=\"1\" class=\"dataframe\">\n",
              "  <thead>\n",
              "    <tr style=\"text-align: right;\">\n",
              "      <th></th>\n",
              "      <th>alpha</th>\n",
              "      <th>mse</th>\n",
              "      <th>mse_api</th>\n",
              "      <th>mae</th>\n",
              "      <th>mae_api</th>\n",
              "    </tr>\n",
              "  </thead>\n",
              "  <tbody>\n",
              "    <tr>\n",
              "      <th>0</th>\n",
              "      <td>0.001</td>\n",
              "      <td>7.484814</td>\n",
              "      <td>12.506536</td>\n",
              "      <td>2.074968</td>\n",
              "      <td>2.624198</td>\n",
              "    </tr>\n",
              "    <tr>\n",
              "      <th>1</th>\n",
              "      <td>0.010</td>\n",
              "      <td>7.484814</td>\n",
              "      <td>12.506536</td>\n",
              "      <td>2.074968</td>\n",
              "      <td>2.624198</td>\n",
              "    </tr>\n",
              "    <tr>\n",
              "      <th>2</th>\n",
              "      <td>0.100</td>\n",
              "      <td>7.484814</td>\n",
              "      <td>12.506536</td>\n",
              "      <td>2.074968</td>\n",
              "      <td>2.624198</td>\n",
              "    </tr>\n",
              "    <tr>\n",
              "      <th>3</th>\n",
              "      <td>1.000</td>\n",
              "      <td>7.484814</td>\n",
              "      <td>12.506536</td>\n",
              "      <td>2.074969</td>\n",
              "      <td>2.624198</td>\n",
              "    </tr>\n",
              "  </tbody>\n",
              "</table>\n",
              "</div>\n",
              "      <button class=\"colab-df-convert\" onclick=\"convertToInteractive('df-ccd64132-4d9f-4305-8407-db93c28b0ecf')\"\n",
              "              title=\"Convert this dataframe to an interactive table.\"\n",
              "              style=\"display:none;\">\n",
              "        \n",
              "  <svg xmlns=\"http://www.w3.org/2000/svg\" height=\"24px\"viewBox=\"0 0 24 24\"\n",
              "       width=\"24px\">\n",
              "    <path d=\"M0 0h24v24H0V0z\" fill=\"none\"/>\n",
              "    <path d=\"M18.56 5.44l.94 2.06.94-2.06 2.06-.94-2.06-.94-.94-2.06-.94 2.06-2.06.94zm-11 1L8.5 8.5l.94-2.06 2.06-.94-2.06-.94L8.5 2.5l-.94 2.06-2.06.94zm10 10l.94 2.06.94-2.06 2.06-.94-2.06-.94-.94-2.06-.94 2.06-2.06.94z\"/><path d=\"M17.41 7.96l-1.37-1.37c-.4-.4-.92-.59-1.43-.59-.52 0-1.04.2-1.43.59L10.3 9.45l-7.72 7.72c-.78.78-.78 2.05 0 2.83L4 21.41c.39.39.9.59 1.41.59.51 0 1.02-.2 1.41-.59l7.78-7.78 2.81-2.81c.8-.78.8-2.07 0-2.86zM5.41 20L4 18.59l7.72-7.72 1.47 1.35L5.41 20z\"/>\n",
              "  </svg>\n",
              "      </button>\n",
              "      \n",
              "  <style>\n",
              "    .colab-df-container {\n",
              "      display:flex;\n",
              "      flex-wrap:wrap;\n",
              "      gap: 12px;\n",
              "    }\n",
              "\n",
              "    .colab-df-convert {\n",
              "      background-color: #E8F0FE;\n",
              "      border: none;\n",
              "      border-radius: 50%;\n",
              "      cursor: pointer;\n",
              "      display: none;\n",
              "      fill: #1967D2;\n",
              "      height: 32px;\n",
              "      padding: 0 0 0 0;\n",
              "      width: 32px;\n",
              "    }\n",
              "\n",
              "    .colab-df-convert:hover {\n",
              "      background-color: #E2EBFA;\n",
              "      box-shadow: 0px 1px 2px rgba(60, 64, 67, 0.3), 0px 1px 3px 1px rgba(60, 64, 67, 0.15);\n",
              "      fill: #174EA6;\n",
              "    }\n",
              "\n",
              "    [theme=dark] .colab-df-convert {\n",
              "      background-color: #3B4455;\n",
              "      fill: #D2E3FC;\n",
              "    }\n",
              "\n",
              "    [theme=dark] .colab-df-convert:hover {\n",
              "      background-color: #434B5C;\n",
              "      box-shadow: 0px 1px 3px 1px rgba(0, 0, 0, 0.15);\n",
              "      filter: drop-shadow(0px 1px 2px rgba(0, 0, 0, 0.3));\n",
              "      fill: #FFFFFF;\n",
              "    }\n",
              "  </style>\n",
              "\n",
              "      <script>\n",
              "        const buttonEl =\n",
              "          document.querySelector('#df-ccd64132-4d9f-4305-8407-db93c28b0ecf button.colab-df-convert');\n",
              "        buttonEl.style.display =\n",
              "          google.colab.kernel.accessAllowed ? 'block' : 'none';\n",
              "\n",
              "        async function convertToInteractive(key) {\n",
              "          const element = document.querySelector('#df-ccd64132-4d9f-4305-8407-db93c28b0ecf');\n",
              "          const dataTable =\n",
              "            await google.colab.kernel.invokeFunction('convertToInteractive',\n",
              "                                                     [key], {});\n",
              "          if (!dataTable) return;\n",
              "\n",
              "          const docLinkHtml = 'Like what you see? Visit the ' +\n",
              "            '<a target=\"_blank\" href=https://colab.research.google.com/notebooks/data_table.ipynb>data table notebook</a>'\n",
              "            + ' to learn more about interactive tables.';\n",
              "          element.innerHTML = '';\n",
              "          dataTable['output_type'] = 'display_data';\n",
              "          await google.colab.output.renderOutput(dataTable, element);\n",
              "          const docLink = document.createElement('div');\n",
              "          docLink.innerHTML = docLinkHtml;\n",
              "          element.appendChild(docLink);\n",
              "        }\n",
              "      </script>\n",
              "    </div>\n",
              "  </div>\n",
              "  "
            ]
          },
          "metadata": {},
          "execution_count": 40
        }
      ],
      "source": [
        "rg_df"
      ]
    },
    {
      "cell_type": "markdown",
      "metadata": {
        "id": "Ksz88oAs8-cz"
      },
      "source": [
        "### 최소 MSE 값"
      ]
    },
    {
      "cell_type": "code",
      "execution_count": 41,
      "metadata": {
        "colab": {
          "base_uri": "https://localhost:8080/",
          "height": 81
        },
        "id": "As099GKG9BMp",
        "outputId": "b8bacdaa-98e9-413f-8c96-c089be9e6f10"
      },
      "outputs": [
        {
          "output_type": "execute_result",
          "data": {
            "text/plain": [
              "   alpha       mse    mse_api       mae   mae_api\n",
              "3    1.0  7.484814  12.506536  2.074969  2.624198"
            ],
            "text/html": [
              "\n",
              "  <div id=\"df-a9634c12-97dd-4432-803e-f515abf8ac2d\">\n",
              "    <div class=\"colab-df-container\">\n",
              "      <div>\n",
              "<style scoped>\n",
              "    .dataframe tbody tr th:only-of-type {\n",
              "        vertical-align: middle;\n",
              "    }\n",
              "\n",
              "    .dataframe tbody tr th {\n",
              "        vertical-align: top;\n",
              "    }\n",
              "\n",
              "    .dataframe thead th {\n",
              "        text-align: right;\n",
              "    }\n",
              "</style>\n",
              "<table border=\"1\" class=\"dataframe\">\n",
              "  <thead>\n",
              "    <tr style=\"text-align: right;\">\n",
              "      <th></th>\n",
              "      <th>alpha</th>\n",
              "      <th>mse</th>\n",
              "      <th>mse_api</th>\n",
              "      <th>mae</th>\n",
              "      <th>mae_api</th>\n",
              "    </tr>\n",
              "  </thead>\n",
              "  <tbody>\n",
              "    <tr>\n",
              "      <th>3</th>\n",
              "      <td>1.0</td>\n",
              "      <td>7.484814</td>\n",
              "      <td>12.506536</td>\n",
              "      <td>2.074969</td>\n",
              "      <td>2.624198</td>\n",
              "    </tr>\n",
              "  </tbody>\n",
              "</table>\n",
              "</div>\n",
              "      <button class=\"colab-df-convert\" onclick=\"convertToInteractive('df-a9634c12-97dd-4432-803e-f515abf8ac2d')\"\n",
              "              title=\"Convert this dataframe to an interactive table.\"\n",
              "              style=\"display:none;\">\n",
              "        \n",
              "  <svg xmlns=\"http://www.w3.org/2000/svg\" height=\"24px\"viewBox=\"0 0 24 24\"\n",
              "       width=\"24px\">\n",
              "    <path d=\"M0 0h24v24H0V0z\" fill=\"none\"/>\n",
              "    <path d=\"M18.56 5.44l.94 2.06.94-2.06 2.06-.94-2.06-.94-.94-2.06-.94 2.06-2.06.94zm-11 1L8.5 8.5l.94-2.06 2.06-.94-2.06-.94L8.5 2.5l-.94 2.06-2.06.94zm10 10l.94 2.06.94-2.06 2.06-.94-2.06-.94-.94-2.06-.94 2.06-2.06.94z\"/><path d=\"M17.41 7.96l-1.37-1.37c-.4-.4-.92-.59-1.43-.59-.52 0-1.04.2-1.43.59L10.3 9.45l-7.72 7.72c-.78.78-.78 2.05 0 2.83L4 21.41c.39.39.9.59 1.41.59.51 0 1.02-.2 1.41-.59l7.78-7.78 2.81-2.81c.8-.78.8-2.07 0-2.86zM5.41 20L4 18.59l7.72-7.72 1.47 1.35L5.41 20z\"/>\n",
              "  </svg>\n",
              "      </button>\n",
              "      \n",
              "  <style>\n",
              "    .colab-df-container {\n",
              "      display:flex;\n",
              "      flex-wrap:wrap;\n",
              "      gap: 12px;\n",
              "    }\n",
              "\n",
              "    .colab-df-convert {\n",
              "      background-color: #E8F0FE;\n",
              "      border: none;\n",
              "      border-radius: 50%;\n",
              "      cursor: pointer;\n",
              "      display: none;\n",
              "      fill: #1967D2;\n",
              "      height: 32px;\n",
              "      padding: 0 0 0 0;\n",
              "      width: 32px;\n",
              "    }\n",
              "\n",
              "    .colab-df-convert:hover {\n",
              "      background-color: #E2EBFA;\n",
              "      box-shadow: 0px 1px 2px rgba(60, 64, 67, 0.3), 0px 1px 3px 1px rgba(60, 64, 67, 0.15);\n",
              "      fill: #174EA6;\n",
              "    }\n",
              "\n",
              "    [theme=dark] .colab-df-convert {\n",
              "      background-color: #3B4455;\n",
              "      fill: #D2E3FC;\n",
              "    }\n",
              "\n",
              "    [theme=dark] .colab-df-convert:hover {\n",
              "      background-color: #434B5C;\n",
              "      box-shadow: 0px 1px 3px 1px rgba(0, 0, 0, 0.15);\n",
              "      filter: drop-shadow(0px 1px 2px rgba(0, 0, 0, 0.3));\n",
              "      fill: #FFFFFF;\n",
              "    }\n",
              "  </style>\n",
              "\n",
              "      <script>\n",
              "        const buttonEl =\n",
              "          document.querySelector('#df-a9634c12-97dd-4432-803e-f515abf8ac2d button.colab-df-convert');\n",
              "        buttonEl.style.display =\n",
              "          google.colab.kernel.accessAllowed ? 'block' : 'none';\n",
              "\n",
              "        async function convertToInteractive(key) {\n",
              "          const element = document.querySelector('#df-a9634c12-97dd-4432-803e-f515abf8ac2d');\n",
              "          const dataTable =\n",
              "            await google.colab.kernel.invokeFunction('convertToInteractive',\n",
              "                                                     [key], {});\n",
              "          if (!dataTable) return;\n",
              "\n",
              "          const docLinkHtml = 'Like what you see? Visit the ' +\n",
              "            '<a target=\"_blank\" href=https://colab.research.google.com/notebooks/data_table.ipynb>data table notebook</a>'\n",
              "            + ' to learn more about interactive tables.';\n",
              "          element.innerHTML = '';\n",
              "          dataTable['output_type'] = 'display_data';\n",
              "          await google.colab.output.renderOutput(dataTable, element);\n",
              "          const docLink = document.createElement('div');\n",
              "          docLink.innerHTML = docLinkHtml;\n",
              "          element.appendChild(docLink);\n",
              "        }\n",
              "      </script>\n",
              "    </div>\n",
              "  </div>\n",
              "  "
            ]
          },
          "metadata": {},
          "execution_count": 41
        }
      ],
      "source": [
        "rg_df[ rg_df['mse'] == rg_df['mse'].min() ]"
      ]
    },
    {
      "cell_type": "markdown",
      "metadata": {
        "id": "OAXdRsEA60H_"
      },
      "source": [
        "### 결과 시각화"
      ]
    },
    {
      "cell_type": "code",
      "execution_count": 42,
      "metadata": {
        "colab": {
          "base_uri": "https://localhost:8080/",
          "height": 466
        },
        "id": "Pb1QeIdy62mh",
        "outputId": "85eb8fd7-8f12-410c-d43c-e0a41a47b941"
      },
      "outputs": [
        {
          "output_type": "display_data",
          "data": {
            "text/plain": [
              "<Figure size 864x504 with 1 Axes>"
            ],
            "image/png": "[encoded data removed]"
          },
          "metadata": {
            "needs_background": "light"
          }
        }
      ],
      "source": [
        "vis(rg_df, \"Ridge\", 'alpha')"
      ]
    },
    {
      "cell_type": "markdown",
      "metadata": {
        "id": "8vrA_hxDi8MK"
      },
      "source": [
        "## random forest와 lightgbm 결과 종합"
      ]
    },
    {
      "cell_type": "code",
      "execution_count": 43,
      "metadata": {
        "id": "h0gb6CAThf04"
      },
      "outputs": [],
      "source": [
        "# 최적의 하이퍼파라미터 적용\n",
        "rf = RandomForestRegressor(max_depth=7, min_samples_split=7,random_state=0)\n",
        "rf.fit(X_train, Y_train)\n",
        "pred_rf = rf.predict(X_test)"
      ]
    },
    {
      "cell_type": "code",
      "execution_count": 44,
      "metadata": {
        "id": "hkeJZX4HjfCB"
      },
      "outputs": [],
      "source": [
        "lgb = LGBMRegressor(n_estimators=300, random_state=0)\n",
        "lgb.fit(X_train, Y_train, early_stopping_rounds=100, eval_set=[(X_test, Y_test)], eval_metric='mse', verbose=False)\n",
        "pred_lgb = lgb.predict(X_test)"
      ]
    },
    {
      "cell_type": "code",
      "execution_count": 45,
      "metadata": {
        "colab": {
          "base_uri": "https://localhost:8080/"
        },
        "id": "HQKmB6BlkKRJ",
        "outputId": "6c58eff8-07a7-44fe-df07-90285e01b79d"
      },
      "outputs": [
        {
          "output_type": "execute_result",
          "data": {
            "text/plain": [
              "((1908,), (1908,))"
            ]
          },
          "metadata": {},
          "execution_count": 45
        }
      ],
      "source": [
        "pred_rf.shape, pred_lgb.shape"
      ]
    },
    {
      "cell_type": "code",
      "execution_count": 46,
      "metadata": {
        "id": "S4xiOo6rjjot"
      },
      "outputs": [],
      "source": [
        "pred = (pred_rf + pred_lgb) / 2"
      ]
    },
    {
      "cell_type": "code",
      "execution_count": 47,
      "metadata": {
        "colab": {
          "base_uri": "https://localhost:8080/"
        },
        "id": "Nf3NAnwHkNUU",
        "outputId": "d4be71c9-5c6c-4ca5-8e91-63d831e3816a"
      },
      "outputs": [
        {
          "output_type": "execute_result",
          "data": {
            "text/plain": [
              "(1908,)"
            ]
          },
          "metadata": {},
          "execution_count": 47
        }
      ],
      "source": [
        "pred.shape"
      ]
    },
    {
      "cell_type": "code",
      "execution_count": 48,
      "metadata": {
        "colab": {
          "base_uri": "https://localhost:8080/"
        },
        "id": "ZZXx11JTjq55",
        "outputId": "d2c149c0-1086-4288-bb31-ed247e92f8cd"
      },
      "outputs": [
        {
          "output_type": "stream",
          "name": "stdout",
          "text": [
            "The mean squared error (MSE) on test set: 7.1310\n",
            "The initial error of API ETA on test set: 12.5065\n",
            "The mean absolute error (MAE) on test set: 2.0132\n",
            "The initial error of API ETA on test set: 2.6242\n",
            "\n"
          ]
        }
      ],
      "source": [
        "api_eta = X_test.iloc[:,0]\n",
        "mse = mean_squared_error(Y_test, pred)\n",
        "mse_api = mean_squared_error(Y_test, api_eta)\n",
        "mse_list.append(mse)\n",
        "mse_api_list.append(mse_api)\n",
        "print( \"The mean squared error (MSE) on test set: {:.4f}\".format(mse) )\n",
        "print( \"The initial error of API ETA on test set: {:.4f}\".format(mse_api) )\n",
        "mae = mean_absolute_error(Y_test, pred)\n",
        "mae_api = mean_absolute_error(Y_test, api_eta)\n",
        "mae_list.append(mae)\n",
        "mae_api_list.append(mae_api)\n",
        "print( \"The mean absolute error (MAE) on test set: {:.4f}\".format(mae) )\n",
        "print( \"The initial error of API ETA on test set: {:.4f}\".format(mae_api) )\n",
        "print()"
      ]
    },
    {
      "cell_type": "markdown",
      "metadata": {
        "id": "ESi2PGAdlJAb"
      },
      "source": [
        "# 코드 마지막"
      ]
    }
  ],
  "metadata": {
    "celltoolbar": "Raw Cell Format",
    "colab": {
      "collapsed_sections": [],
      "name": "Assignment01(3)",
      "toc_visible": true,
      "provenance": []
    },
    "kernelspec": {
      "display_name": "Python 3",
      "language": "python",
      "name": "python3"
    },
    "language_info": {
      "codemirror_mode": {
        "name": "ipython",
        "version": 3
      },
      "file_extension": ".py",
      "mimetype": "text/x-python",
      "name": "python",
      "nbconvert_exporter": "python",
      "pygments_lexer": "ipython3",
      "version": "3.6.8"
    }
  },
  "nbformat": 4,
  "nbformat_minor": 0
}