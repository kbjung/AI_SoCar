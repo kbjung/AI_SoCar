{
  "nbformat": 4,
  "nbformat_minor": 0,
  "metadata": {
    "celltoolbar": "Raw Cell Format",
    "kernelspec": {
      "display_name": "Python 3",
      "language": "python",
      "name": "python3"
    },
    "language_info": {
      "codemirror_mode": {
        "name": "ipython",
        "version": 3
      },
      "file_extension": ".py",
      "mimetype": "text/x-python",
      "name": "python",
      "nbconvert_exporter": "python",
      "pygments_lexer": "ipython3",
      "version": "3.6.8"
    },
    "colab": {
      "name": "Lab 1-2. HW1 Answer.ipynb",
      "provenance": [],
      "collapsed_sections": [],
      "toc_visible": true
    }
  },
  "cells": [
    {
      "cell_type": "markdown",
      "metadata": {
        "id": "B34orMykk6CK"
      },
      "source": [
        "## HW1\n",
        "데이터셋의 크기가 1/10이 되었을때도 gradient descent를 이용한 linear regression이 잘 동작하는지 강의에서 배운 k-fold cross validation (k=5)을 활용해서 확인해보세요. \n",
        "그리고 데이터셋의 크기가 원래 사이즈였을 때도 똑같이 k-fold cross validation (k=5)를 진행해서 두 경우의 validation loss (k round의 평균 test loss)를 비교해보세요.\n",
        "\n",
        "###참고사항\n",
        "1.   위에 주어진 코드에서는 학습 방법에 초점이 맞춰져 test set이 따로 없었지만, 실제로 학습을 진행할때는 validation set이나 test set을 통해 성능을 확인하는 것이 필수적입니다!\n",
        "2.   전체 데이터를 k개의 부분집합으로 나누기 위해서 아래와 같은 sklearn 라이브러리의 KFold 클래스를 사용해도 되지만,\n",
        "```\n",
        "from sklearn.model_selection import KFold\n",
        "```\n",
        "연습을 위해서 Lab 1-1에서 배운 Slicing을 통해서 데이터셋을 k개로 나누고\n",
        "k round의 learning을 진행해주세요.\n",
        "\n",
        "\n",
        "\n"
      ]
    },
    {
      "cell_type": "code",
      "metadata": {
        "id": "jxJIfzq0Zwzi"
      },
      "source": [
        "import torch\n",
        "import torch.nn as nn\n",
        "import numpy as np\n"
      ],
      "execution_count": 2,
      "outputs": []
    },
    {
      "cell_type": "code",
      "metadata": {
        "colab": {
          "base_uri": "https://localhost:8080/"
        },
        "id": "CpkizQoxmE6V",
        "outputId": "e3aa03cf-7122-4ce2-e39c-4309de01d82e"
      },
      "source": [
        "# mount google drive\n",
        "from google.colab import drive\n",
        "drive.mount('/content/drive')\n"
      ],
      "execution_count": 3,
      "outputs": [
        {
          "output_type": "stream",
          "name": "stdout",
          "text": [
            "Drive already mounted at /content/drive; to attempt to forcibly remount, call drive.mount(\"/content/drive\", force_remount=True).\n"
          ]
        }
      ]
    },
    {
      "cell_type": "code",
      "metadata": {
        "id": "ENvL0yB0lEig"
      },
      "source": [
        "file = open('/content/drive/MyDrive/Colab Notebooks/data/regression_data.txt','r')  # open the file with read-only\n",
        "text = file.readlines()  # read all line texts\n",
        "file.close()  # close the file\n",
        "\n",
        "x_data = []\n",
        "y_data = []\n",
        "\n",
        "# convert to float\n",
        "for idx,s in enumerate(text):\n",
        "    if idx%10==0:\n",
        "      data = s.split()\n",
        "      x_data.append(float(data[0]))\n",
        "      y_data.append(float(data[1]))    \n",
        "\n",
        "# convert to numpy-array\n",
        "x_data = np.asarray(x_data, dtype=np.float32)\n",
        "y_data = np.asarray(y_data, dtype=np.float32)"
      ],
      "execution_count": 14,
      "outputs": []
    },
    {
      "cell_type": "code",
      "metadata": {
        "scrolled": false,
        "id": "vRQEu4LMlfYF",
        "colab": {
          "base_uri": "https://localhost:8080/",
          "height": 295
        },
        "outputId": "f0aa675d-26a5-4d5b-9730-d627a0555bf2"
      },
      "source": [
        "import matplotlib.pyplot as plt\n",
        "%matplotlib inline\n",
        "\n",
        "plt.figure(1)\n",
        "plt.plot(x_data, y_data, 'ro') # plot data\n",
        "\n",
        "plt.xlabel('x-axis')  \n",
        "plt.ylabel('y-axis')\n",
        "plt.title('My data')\n",
        "\n",
        "plt.show()"
      ],
      "execution_count": 15,
      "outputs": [
        {
          "output_type": "display_data",
          "data": {
            "image/png": "[encoded data removed]",
            "text/plain": [
              "<Figure size 432x288 with 1 Axes>"
            ]
          },
          "metadata": {
            "needs_background": "light"
          }
        }
      ]
    },
    {
      "cell_type": "markdown",
      "metadata": {
        "id": "1tkh5jXIlfYH"
      },
      "source": [
        "### Gradient Descent로 Linear Regression (K-fold cross validation)"
      ]
    },
    {
      "cell_type": "code",
      "metadata": {
        "colab": {
          "base_uri": "https://localhost:8080/"
        },
        "id": "TqJGz83SY3z1",
        "outputId": "074769a1-2df4-4245-bc53-4bcbd02fe3fb"
      },
      "source": [
        "# data shaping\n",
        "if len(x_data.shape)==1 and len(y_data.shape)==1:\n",
        "  x_data = np.expand_dims(x_data, axis=-1)\n",
        "  y_data = np.expand_dims(y_data, axis=-1)\n",
        "print(x_data.shape, y_data.shape)"
      ],
      "execution_count": 16,
      "outputs": [
        {
          "output_type": "stream",
          "name": "stdout",
          "text": [
            "(10, 1) (10, 1)\n"
          ]
        }
      ]
    },
    {
      "cell_type": "code",
      "metadata": {
        "id": "klDE7E0Pnpho",
        "colab": {
          "base_uri": "https://localhost:8080/"
        },
        "outputId": "c25fba99-3557-4601-b712-2875af437126"
      },
      "source": [
        "# Hyper-parameters\n",
        "input_size = 1\n",
        "output_size = 1\n",
        "num_epochs = 100\n",
        "learning_rate = 0.1\n",
        "K=5\n",
        "n_over_k = int(len(x_data)/K)\n",
        "\n",
        "val_losses = [] # array for saving validation losses\n",
        "\n",
        "for k in range(K):\n",
        "  # Linear regression model, y = Wx+b\n",
        "  model = nn.Linear(input_size, output_size) \n",
        "\n",
        "  # Loss and optimizer\n",
        "  criterion = nn.MSELoss()\n",
        "  optimizer = torch.optim.SGD(model.parameters(), lr=learning_rate)  \n",
        "  \n",
        "  # training / validation partition of the k-th round\n",
        "  # np.delete 함수에 slice를 넘겨주면 해당 axis의 해당 인덱스들을 array에서 제거\n",
        "  x_train = np.delete(x_data, slice(k*n_over_k,(k+1)*n_over_k), axis=0) \n",
        "  y_train = np.delete(y_data, slice(k*n_over_k,(k+1)*n_over_k), axis=0)\n",
        "\n",
        "  # 앞 뒤로 slice 한것을 첫 번째 axis를 기준으로 붙여도 됨(concatenate 함수)\n",
        "  # x_train = np.concatenate((x_data[:k*n_over_k,:],x_data[(k+1)*n_over_k:,:]), axis=0) \n",
        "  # y_train = np.concatenate((y_data[:k*n_over_k,:],y_data[(k+1)*n_over_k:,:]), axis=0) \n",
        "\n",
        "  x_valid = x_data[k*n_over_k:(k+1)*n_over_k, :]\n",
        "  y_valid = y_data[k*n_over_k:(k+1)*n_over_k, :]\n",
        "\n",
        "  # Train the model\n",
        "  for epoch in range(num_epochs):\n",
        "      # Convert numpy arrays to torch tensors\n",
        "      inputs = torch.from_numpy(x_train)\n",
        "      targets = torch.from_numpy(y_train)\n",
        "\n",
        "      # Predict outputs with the linear model.\n",
        "      outputs = model(inputs)\n",
        "      loss = criterion(outputs, targets)\n",
        "      \n",
        "      # compute gradients and update\n",
        "      optimizer.zero_grad()\n",
        "      loss.backward()\n",
        "      optimizer.step()\n",
        "      \n",
        "      if (epoch+1) % 20 == 0:\n",
        "          print ('Epoch [{}/{}], Loss: {:.4f}'.format(epoch+1, num_epochs, loss.item()))\n",
        "\n",
        "  # validation error\n",
        "  inputs = torch.from_numpy(x_valid)\n",
        "  targets = torch.from_numpy(y_valid)\n",
        "  outputs = model(inputs)\n",
        "  loss = criterion(outputs, targets)\n",
        "  print(k+1,\"-th round validation error: \",loss.item())\n",
        "  val_losses.append(loss.item())\n",
        "\n",
        "val_losses = np.asarray(val_losses)\n",
        "print(\"Final validation error: \", val_losses.mean())\n",
        "\n"
      ],
      "execution_count": 17,
      "outputs": [
        {
          "output_type": "stream",
          "name": "stdout",
          "text": [
            "Epoch [20/100], Loss: 0.0129\n",
            "Epoch [40/100], Loss: 0.0009\n",
            "Epoch [60/100], Loss: 0.0003\n",
            "Epoch [80/100], Loss: 0.0002\n",
            "Epoch [100/100], Loss: 0.0002\n",
            "1 -th round validation error:  8.737650932744145e-05\n",
            "Epoch [20/100], Loss: 0.0056\n",
            "Epoch [40/100], Loss: 0.0009\n",
            "Epoch [60/100], Loss: 0.0003\n",
            "Epoch [80/100], Loss: 0.0002\n",
            "Epoch [100/100], Loss: 0.0002\n",
            "2 -th round validation error:  9.75363036559429e-06\n",
            "Epoch [20/100], Loss: 0.0015\n",
            "Epoch [40/100], Loss: 0.0003\n",
            "Epoch [60/100], Loss: 0.0002\n",
            "Epoch [80/100], Loss: 0.0001\n",
            "Epoch [100/100], Loss: 0.0001\n",
            "3 -th round validation error:  0.00042456871597096324\n",
            "Epoch [20/100], Loss: 0.0371\n",
            "Epoch [40/100], Loss: 0.0039\n",
            "Epoch [60/100], Loss: 0.0005\n",
            "Epoch [80/100], Loss: 0.0002\n",
            "Epoch [100/100], Loss: 0.0002\n",
            "4 -th round validation error:  0.0002807899727486074\n",
            "Epoch [20/100], Loss: 0.0021\n",
            "Epoch [40/100], Loss: 0.0004\n",
            "Epoch [60/100], Loss: 0.0002\n",
            "Epoch [80/100], Loss: 0.0001\n",
            "Epoch [100/100], Loss: 0.0001\n",
            "5 -th round validation error:  0.0007952687446959317\n",
            "Final validation error:  0.0003195515146217076\n"
          ]
        }
      ]
    },
    {
      "cell_type": "code",
      "metadata": {
        "id": "40BbiXRSgnIa"
      },
      "source": [
        "file = open('/content/drive/MyDrive/Colab Notebooks/data/regression_data.txt','r')  # open the file with read-only\n",
        "text = file.readlines()  # read all line texts\n",
        "file.close()  # close the file\n",
        "\n",
        "x_data = []\n",
        "y_data = []\n",
        "\n",
        "# convert to float\n",
        "for s in text:\n",
        "    data = s.split()\n",
        "    x_data.append(float(data[0]))\n",
        "    y_data.append(float(data[1]))    \n",
        "\n",
        "# convert to numpy-array\n",
        "x_data = np.asarray(x_data, dtype=np.float32)\n",
        "y_data = np.asarray(y_data, dtype=np.float32)"
      ],
      "execution_count": 18,
      "outputs": []
    },
    {
      "cell_type": "code",
      "metadata": {
        "colab": {
          "base_uri": "https://localhost:8080/"
        },
        "id": "t5v7svQTehMU",
        "outputId": "0468ad46-eda7-4ed3-f49b-297c0a42a9b2"
      },
      "source": [
        "# data shaping\n",
        "if len(x_data.shape)==1 and len(y_data.shape)==1:\n",
        "  x_data = np.expand_dims(x_data, axis=-1)\n",
        "  y_data = np.expand_dims(y_data, axis=-1)\n",
        "print(x_data.shape, y_data.shape)"
      ],
      "execution_count": 19,
      "outputs": [
        {
          "output_type": "stream",
          "name": "stdout",
          "text": [
            "(100, 1) (100, 1)\n"
          ]
        }
      ]
    },
    {
      "cell_type": "code",
      "metadata": {
        "colab": {
          "base_uri": "https://localhost:8080/"
        },
        "id": "NB4hIS2bekTp",
        "outputId": "9718fe8f-5b64-44c0-b3ea-da572faca793"
      },
      "source": [
        "# Hyper-parameters\n",
        "input_size = 1\n",
        "output_size = 1\n",
        "num_epochs = 100\n",
        "learning_rate = 0.1\n",
        "K=5\n",
        "n_over_k = int(len(x_data)/K)\n",
        "\n",
        "val_losses = [] # array for saving validation losses\n",
        "\n",
        "for k in range(K):\n",
        "  # Linear regression model, y = Wx+b\n",
        "  model = nn.Linear(input_size, output_size) \n",
        "\n",
        "  # Loss and optimizer\n",
        "  criterion = nn.MSELoss()\n",
        "  optimizer = torch.optim.SGD(model.parameters(), lr=learning_rate)  \n",
        "  \n",
        "  # training / validation partition of the k-th round\n",
        "  # np.delete 함수에 slice를 넘겨주면 해당 axis의 해당 인덱스들을 array에서 제거\n",
        "  x_train = np.delete(x_data, slice(k*n_over_k,(k+1)*n_over_k), axis=0) \n",
        "  y_train = np.delete(y_data, slice(k*n_over_k,(k+1)*n_over_k), axis=0)\n",
        "\n",
        "  # 앞 뒤로 slice 한것을 첫 번째 axis를 기준으로 붙여도 됨(concatenate 함수)\n",
        "  # x_train = np.concatenate((x_data[:k*n_over_k,:],x_data[(k+1)*n_over_k:,:]), axis=0) \n",
        "  # y_train = np.concatenate((y_data[:k*n_over_k,:],y_data[(k+1)*n_over_k:,:]), axis=0) \n",
        "  \n",
        "  x_valid = x_data[k*n_over_k:(k+1)*n_over_k, :]\n",
        "  y_valid = y_data[k*n_over_k:(k+1)*n_over_k, :]\n",
        "\n",
        "  # Train the model\n",
        "  for epoch in range(num_epochs):\n",
        "      # Convert numpy arrays to torch tensors\n",
        "      inputs = torch.from_numpy(x_train)\n",
        "      targets = torch.from_numpy(y_train)\n",
        "\n",
        "      # Predict outputs with the linear model.\n",
        "      outputs = model(inputs)\n",
        "      loss = criterion(outputs, targets)\n",
        "      \n",
        "      # compute gradients and update\n",
        "      optimizer.zero_grad()\n",
        "      loss.backward()\n",
        "      optimizer.step()\n",
        "      \n",
        "      if (epoch+1) % 20 == 0:\n",
        "          print ('Epoch [{}/{}], Loss: {:.4f}'.format(epoch+1, num_epochs, loss.item()))\n",
        "\n",
        "  # validation error\n",
        "  inputs = torch.from_numpy(x_valid)\n",
        "  targets = torch.from_numpy(y_valid)\n",
        "  outputs = model(inputs)\n",
        "  loss = criterion(outputs, targets)\n",
        "  print(k+1,\"-th round validation error: \",loss.item())\n",
        "  val_losses.append(loss.item())\n",
        "\n",
        "val_losses = np.asarray(val_losses)\n",
        "print(\"Final validation error: \", val_losses.mean())\n",
        "\n"
      ],
      "execution_count": 20,
      "outputs": [
        {
          "output_type": "stream",
          "name": "stdout",
          "text": [
            "Epoch [20/100], Loss: 0.0148\n",
            "Epoch [40/100], Loss: 0.0018\n",
            "Epoch [60/100], Loss: 0.0003\n",
            "Epoch [80/100], Loss: 0.0001\n",
            "Epoch [100/100], Loss: 0.0001\n",
            "1 -th round validation error:  0.00021114009723532945\n",
            "Epoch [20/100], Loss: 0.0268\n",
            "Epoch [40/100], Loss: 0.0030\n",
            "Epoch [60/100], Loss: 0.0004\n",
            "Epoch [80/100], Loss: 0.0002\n",
            "Epoch [100/100], Loss: 0.0001\n",
            "2 -th round validation error:  4.0141978388419375e-05\n",
            "Epoch [20/100], Loss: 0.0249\n",
            "Epoch [40/100], Loss: 0.0022\n",
            "Epoch [60/100], Loss: 0.0003\n",
            "Epoch [80/100], Loss: 0.0001\n",
            "Epoch [100/100], Loss: 0.0001\n",
            "3 -th round validation error:  0.00016621171380393207\n",
            "Epoch [20/100], Loss: 0.0023\n",
            "Epoch [40/100], Loss: 0.0004\n",
            "Epoch [60/100], Loss: 0.0002\n",
            "Epoch [80/100], Loss: 0.0001\n",
            "Epoch [100/100], Loss: 0.0001\n",
            "4 -th round validation error:  6.833169027231634e-05\n",
            "Epoch [20/100], Loss: 0.0006\n",
            "Epoch [40/100], Loss: 0.0002\n",
            "Epoch [60/100], Loss: 0.0001\n",
            "Epoch [80/100], Loss: 0.0001\n",
            "Epoch [100/100], Loss: 0.0001\n",
            "5 -th round validation error:  0.00013786149793304503\n",
            "Final validation error:  0.00012473739552660846\n"
          ]
        }
      ]
    }
  ]
}